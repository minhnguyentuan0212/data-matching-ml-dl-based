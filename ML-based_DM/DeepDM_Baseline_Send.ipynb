{
  "nbformat": 4,
  "nbformat_minor": 0,
  "metadata": {
    "colab": {
      "provenance": [],
      "gpuType": "T4"
    },
    "kernelspec": {
      "name": "python3",
      "display_name": "Python 3"
    },
    "language_info": {
      "name": "python"
    },
    "accelerator": "GPU"
  },
  "cells": [
    {
      "cell_type": "markdown",
      "source": [
        "# 0. Set up"
      ],
      "metadata": {
        "id": "iPuTMC7QnbfN"
      }
    },
    {
      "cell_type": "code",
      "source": [
        "# import shutil\n",
        "\n",
        "# shutil.rmtree('fasttext')"
      ],
      "metadata": {
        "id": "1I2TKecdubl7"
      },
      "execution_count": null,
      "outputs": []
    },
    {
      "cell_type": "code",
      "execution_count": null,
      "metadata": {
        "id": "UYR6rbIikHMk",
        "colab": {
          "base_uri": "https://localhost:8080/"
        },
        "outputId": "153d7b78-b33b-4c48-b8cb-48ae910f334c"
      },
      "outputs": [
        {
          "output_type": "stream",
          "name": "stdout",
          "text": [
            "Cloning into 'DeepMatching'...\n",
            "remote: Enumerating objects: 726, done.\u001b[K\n",
            "remote: Counting objects: 100% (726/726), done.\u001b[K\n",
            "remote: Compressing objects: 100% (466/466), done.\u001b[K\n",
            "remote: Total 726 (delta 248), reused 725 (delta 247), pack-reused 0\u001b[K\n",
            "Receiving objects: 100% (726/726), 4.14 MiB | 22.56 MiB/s, done.\n",
            "Resolving deltas: 100% (248/248), done.\n"
          ]
        }
      ],
      "source": [
        "!git clone https://github.com/KhoaNgex/DeepMatching.git\n",
        "# remember to rename the name folder from DeepMatching to deepmatcher"
      ]
    },
    {
      "cell_type": "code",
      "source": [
        "%cd DeepMatching"
      ],
      "metadata": {
        "colab": {
          "base_uri": "https://localhost:8080/"
        },
        "id": "mi2YEfDtl-2y",
        "outputId": "ddaa0cb2-8b33-40ae-9f39-9afa50ab024b"
      },
      "execution_count": null,
      "outputs": [
        {
          "output_type": "stream",
          "name": "stdout",
          "text": [
            "/content/DeepMatching\n"
          ]
        }
      ]
    },
    {
      "cell_type": "code",
      "source": [
        "%pip install PyPrind"
      ],
      "metadata": {
        "colab": {
          "base_uri": "https://localhost:8080/"
        },
        "id": "pzdQHCA8nAjf",
        "outputId": "52b62424-8c6d-4581-cbf8-d1f8416f2e69"
      },
      "execution_count": null,
      "outputs": [
        {
          "output_type": "stream",
          "name": "stdout",
          "text": [
            "Collecting PyPrind\n",
            "  Downloading PyPrind-2.11.3-py2.py3-none-any.whl (8.4 kB)\n",
            "Installing collected packages: PyPrind\n",
            "Successfully installed PyPrind-2.11.3\n"
          ]
        }
      ]
    },
    {
      "cell_type": "code",
      "source": [
        "%pip install dill"
      ],
      "metadata": {
        "colab": {
          "base_uri": "https://localhost:8080/"
        },
        "id": "Kbgf1iTfnHhA",
        "outputId": "338fb83e-e11f-4ea2-c8d3-981e185ec0b4"
      },
      "execution_count": null,
      "outputs": [
        {
          "output_type": "stream",
          "name": "stdout",
          "text": [
            "Collecting dill\n",
            "  Downloading dill-0.3.7-py3-none-any.whl (115 kB)\n",
            "\u001b[?25l     \u001b[90m━━━━━━━━━━━━━━━━━━━━━━━━━━━━━━━━━━━━━━━━\u001b[0m \u001b[32m0.0/115.3 kB\u001b[0m \u001b[31m?\u001b[0m eta \u001b[36m-:--:--\u001b[0m\r\u001b[2K     \u001b[90m━━━━━━━━━━━━━━━━━━━━━━━━━━━━━━━━━━━━━━━━\u001b[0m \u001b[32m115.3/115.3 kB\u001b[0m \u001b[31m3.5 MB/s\u001b[0m eta \u001b[36m0:00:00\u001b[0m\n",
            "\u001b[?25hInstalling collected packages: dill\n",
            "Successfully installed dill-0.3.7\n"
          ]
        }
      ]
    },
    {
      "cell_type": "code",
      "source": [
        "%pip install fasttext"
      ],
      "metadata": {
        "colab": {
          "base_uri": "https://localhost:8080/"
        },
        "id": "LRfdjkdxw05y",
        "outputId": "32138c9a-adb5-44be-96af-dd204dd6af0e"
      },
      "execution_count": null,
      "outputs": [
        {
          "output_type": "stream",
          "name": "stdout",
          "text": [
            "Collecting fasttext\n",
            "  Downloading fasttext-0.9.2.tar.gz (68 kB)\n",
            "\u001b[?25l     \u001b[90m━━━━━━━━━━━━━━━━━━━━━━━━━━━━━━━━━━━━━━━━\u001b[0m \u001b[32m0.0/68.8 kB\u001b[0m \u001b[31m?\u001b[0m eta \u001b[36m-:--:--\u001b[0m\r\u001b[2K     \u001b[90m━━━━━━━━━━━━━━━━━━━━━━━━━━━━━━━━━━━━━━━━\u001b[0m \u001b[32m68.8/68.8 kB\u001b[0m \u001b[31m2.7 MB/s\u001b[0m eta \u001b[36m0:00:00\u001b[0m\n",
            "\u001b[?25h  Preparing metadata (setup.py) ... \u001b[?25l\u001b[?25hdone\n",
            "Collecting pybind11>=2.2 (from fasttext)\n",
            "  Using cached pybind11-2.11.1-py3-none-any.whl (227 kB)\n",
            "Requirement already satisfied: setuptools>=0.7.0 in /usr/local/lib/python3.10/dist-packages (from fasttext) (67.7.2)\n",
            "Requirement already satisfied: numpy in /usr/local/lib/python3.10/dist-packages (from fasttext) (1.23.5)\n",
            "Building wheels for collected packages: fasttext\n",
            "  Building wheel for fasttext (setup.py) ... \u001b[?25l\u001b[?25hdone\n",
            "  Created wheel for fasttext: filename=fasttext-0.9.2-cp310-cp310-linux_x86_64.whl size=4199771 sha256=9fdd3ce7bf6e468c8d8f0266cbca1e9945c7390c0c58a10f7b6b74904397d102\n",
            "  Stored in directory: /root/.cache/pip/wheels/a5/13/75/f811c84a8ab36eedbaef977a6a58a98990e8e0f1967f98f394\n",
            "Successfully built fasttext\n",
            "Installing collected packages: pybind11, fasttext\n",
            "Successfully installed fasttext-0.9.2 pybind11-2.11.1\n"
          ]
        }
      ]
    },
    {
      "cell_type": "code",
      "source": [
        "import deepmatcher as dm"
      ],
      "metadata": {
        "id": "d9Gdbi8umXPD"
      },
      "execution_count": null,
      "outputs": []
    },
    {
      "cell_type": "code",
      "source": [
        "from deepmatcher import data as dm_data"
      ],
      "metadata": {
        "id": "HZdNH3QDn3JP"
      },
      "execution_count": null,
      "outputs": []
    },
    {
      "cell_type": "code",
      "source": [
        "import torch\n",
        "torch.cuda.is_available()"
      ],
      "metadata": {
        "colab": {
          "base_uri": "https://localhost:8080/"
        },
        "id": "bdy2F3IcnKQe",
        "outputId": "bd7aa430-6f86-4fa6-9079-4f147e7d5ee6"
      },
      "execution_count": null,
      "outputs": [
        {
          "output_type": "execute_result",
          "data": {
            "text/plain": [
              "True"
            ]
          },
          "metadata": {},
          "execution_count": 9
        }
      ]
    },
    {
      "cell_type": "markdown",
      "source": [
        "## Download sample data for entity matching\n",
        "* Training Data: This is used for training our neural network model.\n",
        "* Validation Data: This is used for determining the configuration (i.e., hyperparameters) of our model in such a way that the model does not overfit to the training set.\n",
        "* Test Data: This is used to estimate the performance of our trained model on unlabeled data.\n",
        "* Unlabeled Data: The trained model is applied on this data to obtain predictions, which can then be used for downstream tasks in practical application scenarios.\n",
        "\n"
      ],
      "metadata": {
        "id": "NFkWueGEnf8Q"
      }
    },
    {
      "cell_type": "code",
      "source": [
        "!wget https://dl.fbaipublicfiles.com/fasttext/vectors-wiki/wiki.en.zip --directory-prefix=/root/.vector_cache\n",
        "!unzip /root/.vector_cache/wiki.en.zip -d /root/.vector_cache/\n",
        "!rm /root/.vector_cache/wiki.en.vec"
      ],
      "metadata": {
        "colab": {
          "base_uri": "https://localhost:8080/"
        },
        "id": "YMjikYdmo1hv",
        "outputId": "e8d160f1-ff70-491b-a469-a17c18612130"
      },
      "execution_count": null,
      "outputs": [
        {
          "output_type": "stream",
          "name": "stdout",
          "text": [
            "--2023-11-15 02:06:06--  https://dl.fbaipublicfiles.com/fasttext/vectors-wiki/wiki.en.zip\n",
            "Resolving dl.fbaipublicfiles.com (dl.fbaipublicfiles.com)... 13.227.219.10, 13.227.219.70, 13.227.219.33, ...\n",
            "Connecting to dl.fbaipublicfiles.com (dl.fbaipublicfiles.com)|13.227.219.10|:443... connected.\n",
            "HTTP request sent, awaiting response... 200 OK\n",
            "Length: 10356881291 (9.6G) [application/zip]\n",
            "Saving to: ‘/root/.vector_cache/wiki.en.zip’\n",
            "\n",
            "wiki.en.zip         100%[===================>]   9.65G  25.1MB/s    in 7m 6s   \n",
            "\n",
            "2023-11-15 02:13:13 (23.2 MB/s) - ‘/root/.vector_cache/wiki.en.zip’ saved [10356881291/10356881291]\n",
            "\n",
            "Archive:  /root/.vector_cache/wiki.en.zip\n",
            "  inflating: /root/.vector_cache/wiki.en.vec  \n",
            "  inflating: /root/.vector_cache/wiki.en.bin  \n"
          ]
        }
      ]
    },
    {
      "cell_type": "markdown",
      "source": [
        "# 1. Process labeled data"
      ],
      "metadata": {
        "id": "joQSl0hty_wc"
      }
    },
    {
      "cell_type": "markdown",
      "source": [
        "## Processing labeled data"
      ],
      "metadata": {
        "id": "Vpq3BI-AzEq-"
      }
    },
    {
      "cell_type": "code",
      "source": [
        "train, validation, test = dm_data.process(\n",
        "    path='sample_data/itunes-amazon',\n",
        "    train='train_d.csv',\n",
        "    validation='valid_d.csv',\n",
        "    test='test_d.csv')"
      ],
      "metadata": {
        "colab": {
          "base_uri": "https://localhost:8080/"
        },
        "id": "35iPNRBrnSyd",
        "outputId": "d4942e7a-477b-4b97-8d4e-52006001b933"
      },
      "execution_count": null,
      "outputs": [
        {
          "output_type": "stream",
          "name": "stderr",
          "text": [
            "\n",
            "Reading and processing data from \"sample_data/itunes-amazon/train_d.csv\"\n",
            "0% [############################# ] 100% | ETA: 00:00:00\n",
            "Reading and processing data from \"sample_data/itunes-amazon/valid_d.csv\"\n",
            "0% [############################# ] 100% | ETA: 00:00:00\n",
            "Reading and processing data from \"sample_data/itunes-amazon/test_d.csv\"\n",
            "0% [############################# ] 100% | ETA: 00:00:00Warning : `load_model` does not return WordVectorModel or SupervisedModel any more, but a `FastText` object which is very similar.\n",
            "\n",
            "Building vocabulary\n",
            "0% [#] 100% | ETA: 00:00:00\n",
            "Total time elapsed: 00:00:00\n",
            "\n",
            "Computing principal components\n",
            "0% [#] 100% | ETA: 00:00:00\n",
            "Total time elapsed: 00:00:00\n"
          ]
        }
      ]
    },
    {
      "cell_type": "code",
      "source": [
        "train_table = train.get_raw_table()\n",
        "train_table.head()"
      ],
      "metadata": {
        "colab": {
          "base_uri": "https://localhost:8080/",
          "height": 504
        },
        "id": "euqeUFeByEnh",
        "outputId": "dd7229de-2f3f-4286-d790-35652e8225ab"
      },
      "execution_count": null,
      "outputs": [
        {
          "output_type": "execute_result",
          "data": {
            "text/plain": [
              "  id  label                                     left_Song_Name  \\\n",
              "0  0      0                      illusion ( feat . echosmith )   \n",
              "1  1      0  i 'm a machine ( feat . crystal nicole and tyr...   \n",
              "2  2      1                                    silver and gold   \n",
              "3  3      0  dangerous ( feat . sam martin ) [ robin schulz...   \n",
              "4  4      0                 true colors ( feat . nicki minaj )   \n",
              "\n",
              "  left_Artist_Name            left_Album_Name  \\\n",
              "0             zedd                true colors   \n",
              "1     david guetta       nothing but the beat   \n",
              "2  little big town                pain killer   \n",
              "3     david guetta  listen ( deluxe version )   \n",
              "4      wiz khalifa            blacc hollywood   \n",
              "\n",
              "                                          left_Genre left_Price  \\\n",
              "0                         dance , music , electronic     $ 1.29   \n",
              "1          dance , music , rock , house , electronic     $ 1.29   \n",
              "2  country , music , honky tonk , contemporary co...     $ 1.29   \n",
              "3  dance , music , rock , house , electronic , fr...     $ 1.29   \n",
              "4  hip-hop/rap , music , rap , east coast rap , h...     $ 1.29   \n",
              "\n",
              "                                      left_CopyRight left_Time left_Released  \\\n",
              "0                            2015 interscope records      6:30     18-may-15   \n",
              "1  2011 what a music ltd , licence exclusive parl...      3:34     26-aug-11   \n",
              "2  2014 little big town , llc under exclusive lic...      3:33     21-oct-14   \n",
              "3  2014 what a music ltd. under exclusive license...      3:20     24-nov-14   \n",
              "4  2014 atlantic recording corporation for the un...      4:15     19-aug-14   \n",
              "\n",
              "                                     right_Song_Name right_Artist_Name  \\\n",
              "0              transmission [ feat . x ambassadors ]              zedd   \n",
              "1  i can only imagine ( feat . chris brown & lil ...      david guetta   \n",
              "2                                    silver and gold   little big town   \n",
              "3  i 'll keep loving you ( feat . birdy & jaymes ...      david guetta   \n",
              "4  still down ( feat . chevy woods & ty dolla $ i...       wiz khalifa   \n",
              "\n",
              "                        right_Album_Name         right_Genre right_Price  \\\n",
              "0                            true colors  dance & electronic      $ 1.29   \n",
              "1  nothing but the beat 2.0 [ explicit ]  dance & electronic      $ 0.99   \n",
              "2                            pain killer             country      $ 1.29   \n",
              "3                      listen ( deluxe )  dance & electronic      $ 1.29   \n",
              "4           blacc hollywood [ explicit ]       rap & hip-hop      $ 1.29   \n",
              "\n",
              "                                     right_CopyRight right_Time  \\\n",
              "0                      ( c ) 2015 interscope records       4:02   \n",
              "1                                   2015 real sounds       3:29   \n",
              "2  ( c ) 2014 little big town llc under exclusive...       3:31   \n",
              "3                           2015 if moving your mine       3:08   \n",
              "4  2014 atlantic recording corporation for the un...       4:16   \n",
              "\n",
              "       right_Released  \n",
              "0       may 18 , 2015  \n",
              "1    august 26 , 2011  \n",
              "2   october 21 , 2014  \n",
              "3  november 24 , 2014  \n",
              "4    august 19 , 2014  "
            ],
            "text/html": [
              "\n",
              "  <div id=\"df-c49d03b9-d7bd-4fda-a50a-12bc0e79a57f\" class=\"colab-df-container\">\n",
              "    <div>\n",
              "<style scoped>\n",
              "    .dataframe tbody tr th:only-of-type {\n",
              "        vertical-align: middle;\n",
              "    }\n",
              "\n",
              "    .dataframe tbody tr th {\n",
              "        vertical-align: top;\n",
              "    }\n",
              "\n",
              "    .dataframe thead th {\n",
              "        text-align: right;\n",
              "    }\n",
              "</style>\n",
              "<table border=\"1\" class=\"dataframe\">\n",
              "  <thead>\n",
              "    <tr style=\"text-align: right;\">\n",
              "      <th></th>\n",
              "      <th>id</th>\n",
              "      <th>label</th>\n",
              "      <th>left_Song_Name</th>\n",
              "      <th>left_Artist_Name</th>\n",
              "      <th>left_Album_Name</th>\n",
              "      <th>left_Genre</th>\n",
              "      <th>left_Price</th>\n",
              "      <th>left_CopyRight</th>\n",
              "      <th>left_Time</th>\n",
              "      <th>left_Released</th>\n",
              "      <th>right_Song_Name</th>\n",
              "      <th>right_Artist_Name</th>\n",
              "      <th>right_Album_Name</th>\n",
              "      <th>right_Genre</th>\n",
              "      <th>right_Price</th>\n",
              "      <th>right_CopyRight</th>\n",
              "      <th>right_Time</th>\n",
              "      <th>right_Released</th>\n",
              "    </tr>\n",
              "  </thead>\n",
              "  <tbody>\n",
              "    <tr>\n",
              "      <th>0</th>\n",
              "      <td>0</td>\n",
              "      <td>0</td>\n",
              "      <td>illusion ( feat . echosmith )</td>\n",
              "      <td>zedd</td>\n",
              "      <td>true colors</td>\n",
              "      <td>dance , music , electronic</td>\n",
              "      <td>$ 1.29</td>\n",
              "      <td>2015 interscope records</td>\n",
              "      <td>6:30</td>\n",
              "      <td>18-may-15</td>\n",
              "      <td>transmission [ feat . x ambassadors ]</td>\n",
              "      <td>zedd</td>\n",
              "      <td>true colors</td>\n",
              "      <td>dance &amp; electronic</td>\n",
              "      <td>$ 1.29</td>\n",
              "      <td>( c ) 2015 interscope records</td>\n",
              "      <td>4:02</td>\n",
              "      <td>may 18 , 2015</td>\n",
              "    </tr>\n",
              "    <tr>\n",
              "      <th>1</th>\n",
              "      <td>1</td>\n",
              "      <td>0</td>\n",
              "      <td>i 'm a machine ( feat . crystal nicole and tyr...</td>\n",
              "      <td>david guetta</td>\n",
              "      <td>nothing but the beat</td>\n",
              "      <td>dance , music , rock , house , electronic</td>\n",
              "      <td>$ 1.29</td>\n",
              "      <td>2011 what a music ltd , licence exclusive parl...</td>\n",
              "      <td>3:34</td>\n",
              "      <td>26-aug-11</td>\n",
              "      <td>i can only imagine ( feat . chris brown &amp; lil ...</td>\n",
              "      <td>david guetta</td>\n",
              "      <td>nothing but the beat 2.0 [ explicit ]</td>\n",
              "      <td>dance &amp; electronic</td>\n",
              "      <td>$ 0.99</td>\n",
              "      <td>2015 real sounds</td>\n",
              "      <td>3:29</td>\n",
              "      <td>august 26 , 2011</td>\n",
              "    </tr>\n",
              "    <tr>\n",
              "      <th>2</th>\n",
              "      <td>2</td>\n",
              "      <td>1</td>\n",
              "      <td>silver and gold</td>\n",
              "      <td>little big town</td>\n",
              "      <td>pain killer</td>\n",
              "      <td>country , music , honky tonk , contemporary co...</td>\n",
              "      <td>$ 1.29</td>\n",
              "      <td>2014 little big town , llc under exclusive lic...</td>\n",
              "      <td>3:33</td>\n",
              "      <td>21-oct-14</td>\n",
              "      <td>silver and gold</td>\n",
              "      <td>little big town</td>\n",
              "      <td>pain killer</td>\n",
              "      <td>country</td>\n",
              "      <td>$ 1.29</td>\n",
              "      <td>( c ) 2014 little big town llc under exclusive...</td>\n",
              "      <td>3:31</td>\n",
              "      <td>october 21 , 2014</td>\n",
              "    </tr>\n",
              "    <tr>\n",
              "      <th>3</th>\n",
              "      <td>3</td>\n",
              "      <td>0</td>\n",
              "      <td>dangerous ( feat . sam martin ) [ robin schulz...</td>\n",
              "      <td>david guetta</td>\n",
              "      <td>listen ( deluxe version )</td>\n",
              "      <td>dance , music , rock , house , electronic , fr...</td>\n",
              "      <td>$ 1.29</td>\n",
              "      <td>2014 what a music ltd. under exclusive license...</td>\n",
              "      <td>3:20</td>\n",
              "      <td>24-nov-14</td>\n",
              "      <td>i 'll keep loving you ( feat . birdy &amp; jaymes ...</td>\n",
              "      <td>david guetta</td>\n",
              "      <td>listen ( deluxe )</td>\n",
              "      <td>dance &amp; electronic</td>\n",
              "      <td>$ 1.29</td>\n",
              "      <td>2015 if moving your mine</td>\n",
              "      <td>3:08</td>\n",
              "      <td>november 24 , 2014</td>\n",
              "    </tr>\n",
              "    <tr>\n",
              "      <th>4</th>\n",
              "      <td>4</td>\n",
              "      <td>0</td>\n",
              "      <td>true colors ( feat . nicki minaj )</td>\n",
              "      <td>wiz khalifa</td>\n",
              "      <td>blacc hollywood</td>\n",
              "      <td>hip-hop/rap , music , rap , east coast rap , h...</td>\n",
              "      <td>$ 1.29</td>\n",
              "      <td>2014 atlantic recording corporation for the un...</td>\n",
              "      <td>4:15</td>\n",
              "      <td>19-aug-14</td>\n",
              "      <td>still down ( feat . chevy woods &amp; ty dolla $ i...</td>\n",
              "      <td>wiz khalifa</td>\n",
              "      <td>blacc hollywood [ explicit ]</td>\n",
              "      <td>rap &amp; hip-hop</td>\n",
              "      <td>$ 1.29</td>\n",
              "      <td>2014 atlantic recording corporation for the un...</td>\n",
              "      <td>4:16</td>\n",
              "      <td>august 19 , 2014</td>\n",
              "    </tr>\n",
              "  </tbody>\n",
              "</table>\n",
              "</div>\n",
              "    <div class=\"colab-df-buttons\">\n",
              "\n",
              "  <div class=\"colab-df-container\">\n",
              "    <button class=\"colab-df-convert\" onclick=\"convertToInteractive('df-c49d03b9-d7bd-4fda-a50a-12bc0e79a57f')\"\n",
              "            title=\"Convert this dataframe to an interactive table.\"\n",
              "            style=\"display:none;\">\n",
              "\n",
              "  <svg xmlns=\"http://www.w3.org/2000/svg\" height=\"24px\" viewBox=\"0 -960 960 960\">\n",
              "    <path d=\"M120-120v-720h720v720H120Zm60-500h600v-160H180v160Zm220 220h160v-160H400v160Zm0 220h160v-160H400v160ZM180-400h160v-160H180v160Zm440 0h160v-160H620v160ZM180-180h160v-160H180v160Zm440 0h160v-160H620v160Z\"/>\n",
              "  </svg>\n",
              "    </button>\n",
              "\n",
              "  <style>\n",
              "    .colab-df-container {\n",
              "      display:flex;\n",
              "      gap: 12px;\n",
              "    }\n",
              "\n",
              "    .colab-df-convert {\n",
              "      background-color: #E8F0FE;\n",
              "      border: none;\n",
              "      border-radius: 50%;\n",
              "      cursor: pointer;\n",
              "      display: none;\n",
              "      fill: #1967D2;\n",
              "      height: 32px;\n",
              "      padding: 0 0 0 0;\n",
              "      width: 32px;\n",
              "    }\n",
              "\n",
              "    .colab-df-convert:hover {\n",
              "      background-color: #E2EBFA;\n",
              "      box-shadow: 0px 1px 2px rgba(60, 64, 67, 0.3), 0px 1px 3px 1px rgba(60, 64, 67, 0.15);\n",
              "      fill: #174EA6;\n",
              "    }\n",
              "\n",
              "    .colab-df-buttons div {\n",
              "      margin-bottom: 4px;\n",
              "    }\n",
              "\n",
              "    [theme=dark] .colab-df-convert {\n",
              "      background-color: #3B4455;\n",
              "      fill: #D2E3FC;\n",
              "    }\n",
              "\n",
              "    [theme=dark] .colab-df-convert:hover {\n",
              "      background-color: #434B5C;\n",
              "      box-shadow: 0px 1px 3px 1px rgba(0, 0, 0, 0.15);\n",
              "      filter: drop-shadow(0px 1px 2px rgba(0, 0, 0, 0.3));\n",
              "      fill: #FFFFFF;\n",
              "    }\n",
              "  </style>\n",
              "\n",
              "    <script>\n",
              "      const buttonEl =\n",
              "        document.querySelector('#df-c49d03b9-d7bd-4fda-a50a-12bc0e79a57f button.colab-df-convert');\n",
              "      buttonEl.style.display =\n",
              "        google.colab.kernel.accessAllowed ? 'block' : 'none';\n",
              "\n",
              "      async function convertToInteractive(key) {\n",
              "        const element = document.querySelector('#df-c49d03b9-d7bd-4fda-a50a-12bc0e79a57f');\n",
              "        const dataTable =\n",
              "          await google.colab.kernel.invokeFunction('convertToInteractive',\n",
              "                                                    [key], {});\n",
              "        if (!dataTable) return;\n",
              "\n",
              "        const docLinkHtml = 'Like what you see? Visit the ' +\n",
              "          '<a target=\"_blank\" href=https://colab.research.google.com/notebooks/data_table.ipynb>data table notebook</a>'\n",
              "          + ' to learn more about interactive tables.';\n",
              "        element.innerHTML = '';\n",
              "        dataTable['output_type'] = 'display_data';\n",
              "        await google.colab.output.renderOutput(dataTable, element);\n",
              "        const docLink = document.createElement('div');\n",
              "        docLink.innerHTML = docLinkHtml;\n",
              "        element.appendChild(docLink);\n",
              "      }\n",
              "    </script>\n",
              "  </div>\n",
              "\n",
              "\n",
              "<div id=\"df-fce45ab6-ea17-4abc-9a73-1b778d70e99e\">\n",
              "  <button class=\"colab-df-quickchart\" onclick=\"quickchart('df-fce45ab6-ea17-4abc-9a73-1b778d70e99e')\"\n",
              "            title=\"Suggest charts\"\n",
              "            style=\"display:none;\">\n",
              "\n",
              "<svg xmlns=\"http://www.w3.org/2000/svg\" height=\"24px\"viewBox=\"0 0 24 24\"\n",
              "     width=\"24px\">\n",
              "    <g>\n",
              "        <path d=\"M19 3H5c-1.1 0-2 .9-2 2v14c0 1.1.9 2 2 2h14c1.1 0 2-.9 2-2V5c0-1.1-.9-2-2-2zM9 17H7v-7h2v7zm4 0h-2V7h2v10zm4 0h-2v-4h2v4z\"/>\n",
              "    </g>\n",
              "</svg>\n",
              "  </button>\n",
              "\n",
              "<style>\n",
              "  .colab-df-quickchart {\n",
              "      --bg-color: #E8F0FE;\n",
              "      --fill-color: #1967D2;\n",
              "      --hover-bg-color: #E2EBFA;\n",
              "      --hover-fill-color: #174EA6;\n",
              "      --disabled-fill-color: #AAA;\n",
              "      --disabled-bg-color: #DDD;\n",
              "  }\n",
              "\n",
              "  [theme=dark] .colab-df-quickchart {\n",
              "      --bg-color: #3B4455;\n",
              "      --fill-color: #D2E3FC;\n",
              "      --hover-bg-color: #434B5C;\n",
              "      --hover-fill-color: #FFFFFF;\n",
              "      --disabled-bg-color: #3B4455;\n",
              "      --disabled-fill-color: #666;\n",
              "  }\n",
              "\n",
              "  .colab-df-quickchart {\n",
              "    background-color: var(--bg-color);\n",
              "    border: none;\n",
              "    border-radius: 50%;\n",
              "    cursor: pointer;\n",
              "    display: none;\n",
              "    fill: var(--fill-color);\n",
              "    height: 32px;\n",
              "    padding: 0;\n",
              "    width: 32px;\n",
              "  }\n",
              "\n",
              "  .colab-df-quickchart:hover {\n",
              "    background-color: var(--hover-bg-color);\n",
              "    box-shadow: 0 1px 2px rgba(60, 64, 67, 0.3), 0 1px 3px 1px rgba(60, 64, 67, 0.15);\n",
              "    fill: var(--button-hover-fill-color);\n",
              "  }\n",
              "\n",
              "  .colab-df-quickchart-complete:disabled,\n",
              "  .colab-df-quickchart-complete:disabled:hover {\n",
              "    background-color: var(--disabled-bg-color);\n",
              "    fill: var(--disabled-fill-color);\n",
              "    box-shadow: none;\n",
              "  }\n",
              "\n",
              "  .colab-df-spinner {\n",
              "    border: 2px solid var(--fill-color);\n",
              "    border-color: transparent;\n",
              "    border-bottom-color: var(--fill-color);\n",
              "    animation:\n",
              "      spin 1s steps(1) infinite;\n",
              "  }\n",
              "\n",
              "  @keyframes spin {\n",
              "    0% {\n",
              "      border-color: transparent;\n",
              "      border-bottom-color: var(--fill-color);\n",
              "      border-left-color: var(--fill-color);\n",
              "    }\n",
              "    20% {\n",
              "      border-color: transparent;\n",
              "      border-left-color: var(--fill-color);\n",
              "      border-top-color: var(--fill-color);\n",
              "    }\n",
              "    30% {\n",
              "      border-color: transparent;\n",
              "      border-left-color: var(--fill-color);\n",
              "      border-top-color: var(--fill-color);\n",
              "      border-right-color: var(--fill-color);\n",
              "    }\n",
              "    40% {\n",
              "      border-color: transparent;\n",
              "      border-right-color: var(--fill-color);\n",
              "      border-top-color: var(--fill-color);\n",
              "    }\n",
              "    60% {\n",
              "      border-color: transparent;\n",
              "      border-right-color: var(--fill-color);\n",
              "    }\n",
              "    80% {\n",
              "      border-color: transparent;\n",
              "      border-right-color: var(--fill-color);\n",
              "      border-bottom-color: var(--fill-color);\n",
              "    }\n",
              "    90% {\n",
              "      border-color: transparent;\n",
              "      border-bottom-color: var(--fill-color);\n",
              "    }\n",
              "  }\n",
              "</style>\n",
              "\n",
              "  <script>\n",
              "    async function quickchart(key) {\n",
              "      const quickchartButtonEl =\n",
              "        document.querySelector('#' + key + ' button');\n",
              "      quickchartButtonEl.disabled = true;  // To prevent multiple clicks.\n",
              "      quickchartButtonEl.classList.add('colab-df-spinner');\n",
              "      try {\n",
              "        const charts = await google.colab.kernel.invokeFunction(\n",
              "            'suggestCharts', [key], {});\n",
              "      } catch (error) {\n",
              "        console.error('Error during call to suggestCharts:', error);\n",
              "      }\n",
              "      quickchartButtonEl.classList.remove('colab-df-spinner');\n",
              "      quickchartButtonEl.classList.add('colab-df-quickchart-complete');\n",
              "    }\n",
              "    (() => {\n",
              "      let quickchartButtonEl =\n",
              "        document.querySelector('#df-fce45ab6-ea17-4abc-9a73-1b778d70e99e button');\n",
              "      quickchartButtonEl.style.display =\n",
              "        google.colab.kernel.accessAllowed ? 'block' : 'none';\n",
              "    })();\n",
              "  </script>\n",
              "</div>\n",
              "    </div>\n",
              "  </div>\n"
            ]
          },
          "metadata": {},
          "execution_count": 15
        }
      ]
    },
    {
      "cell_type": "markdown",
      "source": [
        "# 2. Define neural network model"
      ],
      "metadata": {
        "id": "fPy93bZqzH5m"
      }
    },
    {
      "cell_type": "code",
      "source": [
        "sif_model = dm.MatchingModel(attr_summarizer='sif', attr_comparator='abs-diff')\n",
        "# 23s"
      ],
      "metadata": {
        "id": "ikK_1HOvysOF"
      },
      "execution_count": null,
      "outputs": []
    },
    {
      "cell_type": "code",
      "source": [
        "sif_model.run_train(\n",
        "    train,\n",
        "    validation,\n",
        "    epochs=100,\n",
        "    batch_size=16,\n",
        "    best_save_path='sif_model.pth',\n",
        "    pos_neg_ratio=3)"
      ],
      "metadata": {
        "colab": {
          "base_uri": "https://localhost:8080/"
        },
        "id": "syUdPgKZzMVF",
        "outputId": "c791468a-1f0d-4b11-9263-54002c72616d"
      },
      "execution_count": null,
      "outputs": [
        {
          "output_type": "stream",
          "name": "stdout",
          "text": [
            "* Number of trainable parameters: 662602\n",
            "===>  TRAIN Epoch 1\n"
          ]
        },
        {
          "output_type": "stream",
          "name": "stderr",
          "text": [
            "0% [████] 100% | ETA: 00:00:00\n",
            "Total time elapsed: 00:00:01\n"
          ]
        },
        {
          "output_type": "stream",
          "name": "stdout",
          "text": [
            "Finished Epoch 1 || Run Time:    0.7 | Load Time:    1.0 || F1: 100.00 | Prec: 100.00 | Rec: 100.00 || Ex/s: 180.76\n",
            "\n",
            "===>  EVAL Epoch 1\n"
          ]
        },
        {
          "output_type": "stream",
          "name": "stderr",
          "text": [
            "0% [█] 100% | ETA: 00:00:00\n",
            "Total time elapsed: 00:00:00\n"
          ]
        },
        {
          "output_type": "stream",
          "name": "stdout",
          "text": [
            "Finished Epoch 1 || Run Time:    0.1 | Load Time:    0.3 || F1:  81.25 | Prec:  70.27 | Rec:  96.30 || Ex/s: 257.18\n",
            "\n",
            "* Best F1: tensor(81.2500, device='cuda:0')\n",
            "Saving best model...\n",
            "Done.\n",
            "---------------------\n",
            "\n",
            "===>  TRAIN Epoch 2\n"
          ]
        },
        {
          "output_type": "stream",
          "name": "stderr",
          "text": [
            "0% [████] 100% | ETA: 00:00:00\n",
            "Total time elapsed: 00:00:01\n"
          ]
        },
        {
          "output_type": "stream",
          "name": "stdout",
          "text": [
            "Finished Epoch 2 || Run Time:    0.6 | Load Time:    0.8 || F1: 100.00 | Prec: 100.00 | Rec: 100.00 || Ex/s: 226.99\n",
            "\n",
            "===>  EVAL Epoch 2\n"
          ]
        },
        {
          "output_type": "stream",
          "name": "stderr",
          "text": [
            "0% [█] 100% | ETA: 00:00:00\n",
            "Total time elapsed: 00:00:00\n"
          ]
        },
        {
          "output_type": "stream",
          "name": "stdout",
          "text": [
            "Finished Epoch 2 || Run Time:    0.2 | Load Time:    0.3 || F1:  81.97 | Prec:  73.53 | Rec:  92.59 || Ex/s: 239.87\n",
            "\n",
            "* Best F1: tensor(81.9672, device='cuda:0')\n",
            "Saving best model...\n",
            "Done.\n",
            "---------------------\n",
            "\n",
            "===>  TRAIN Epoch 3\n"
          ]
        },
        {
          "output_type": "stream",
          "name": "stderr",
          "text": [
            "0% [████] 100% | ETA: 00:00:00\n",
            "Total time elapsed: 00:00:01\n"
          ]
        },
        {
          "output_type": "stream",
          "name": "stdout",
          "text": [
            "Finished Epoch 3 || Run Time:    0.6 | Load Time:    0.8 || F1: 100.00 | Prec: 100.00 | Rec: 100.00 || Ex/s: 226.98\n",
            "\n",
            "===>  EVAL Epoch 3\n"
          ]
        },
        {
          "output_type": "stream",
          "name": "stderr",
          "text": [
            "0% [█] 100% | ETA: 00:00:00\n",
            "Total time elapsed: 00:00:00\n"
          ]
        },
        {
          "output_type": "stream",
          "name": "stdout",
          "text": [
            "Finished Epoch 3 || Run Time:    0.1 | Load Time:    0.3 || F1:  83.33 | Prec:  75.76 | Rec:  92.59 || Ex/s: 260.88\n",
            "\n",
            "* Best F1: tensor(83.3333, device='cuda:0')\n",
            "Saving best model...\n",
            "Done.\n",
            "---------------------\n",
            "\n",
            "===>  TRAIN Epoch 4\n"
          ]
        },
        {
          "output_type": "stream",
          "name": "stderr",
          "text": [
            "0% [████] 100% | ETA: 00:00:00\n",
            "Total time elapsed: 00:00:01\n"
          ]
        },
        {
          "output_type": "stream",
          "name": "stdout",
          "text": [
            "Finished Epoch 4 || Run Time:    0.6 | Load Time:    0.8 || F1: 100.00 | Prec: 100.00 | Rec: 100.00 || Ex/s: 229.18\n",
            "\n",
            "===>  EVAL Epoch 4\n"
          ]
        },
        {
          "output_type": "stream",
          "name": "stderr",
          "text": [
            "0% [█] 100% | ETA: 00:00:00\n",
            "Total time elapsed: 00:00:00\n"
          ]
        },
        {
          "output_type": "stream",
          "name": "stdout",
          "text": [
            "Finished Epoch 4 || Run Time:    0.1 | Load Time:    0.3 || F1:  81.97 | Prec:  73.53 | Rec:  92.59 || Ex/s: 254.10\n",
            "\n",
            "---------------------\n",
            "\n",
            "===>  TRAIN Epoch 5\n"
          ]
        },
        {
          "output_type": "stream",
          "name": "stderr",
          "text": [
            "0% [████] 100% | ETA: 00:00:00\n",
            "Total time elapsed: 00:00:01\n"
          ]
        },
        {
          "output_type": "stream",
          "name": "stdout",
          "text": [
            "Finished Epoch 5 || Run Time:    0.6 | Load Time:    0.8 || F1: 100.00 | Prec: 100.00 | Rec: 100.00 || Ex/s: 221.34\n",
            "\n",
            "===>  EVAL Epoch 5\n"
          ]
        },
        {
          "output_type": "stream",
          "name": "stderr",
          "text": [
            "0% [█] 100% | ETA: 00:00:00\n",
            "Total time elapsed: 00:00:00\n"
          ]
        },
        {
          "output_type": "stream",
          "name": "stdout",
          "text": [
            "Finished Epoch 5 || Run Time:    0.1 | Load Time:    0.3 || F1:  81.97 | Prec:  73.53 | Rec:  92.59 || Ex/s: 257.51\n",
            "\n",
            "---------------------\n",
            "\n",
            "===>  TRAIN Epoch 6\n"
          ]
        },
        {
          "output_type": "stream",
          "name": "stderr",
          "text": [
            "0% [████] 100% | ETA: 00:00:00\n",
            "Total time elapsed: 00:00:01\n"
          ]
        },
        {
          "output_type": "stream",
          "name": "stdout",
          "text": [
            "Finished Epoch 6 || Run Time:    0.7 | Load Time:    0.9 || F1: 100.00 | Prec: 100.00 | Rec: 100.00 || Ex/s: 206.24\n",
            "\n",
            "===>  EVAL Epoch 6\n"
          ]
        },
        {
          "output_type": "stream",
          "name": "stderr",
          "text": [
            "0% [█] 100% | ETA: 00:00:00\n",
            "Total time elapsed: 00:00:00\n"
          ]
        },
        {
          "output_type": "stream",
          "name": "stdout",
          "text": [
            "Finished Epoch 6 || Run Time:    0.2 | Load Time:    0.4 || F1:  81.97 | Prec:  73.53 | Rec:  92.59 || Ex/s: 189.02\n",
            "\n",
            "---------------------\n",
            "\n",
            "===>  TRAIN Epoch 7\n"
          ]
        },
        {
          "output_type": "stream",
          "name": "stderr",
          "text": [
            "0% [████] 100% | ETA: 00:00:00\n",
            "Total time elapsed: 00:00:01\n"
          ]
        },
        {
          "output_type": "stream",
          "name": "stdout",
          "text": [
            "Finished Epoch 7 || Run Time:    0.8 | Load Time:    1.1 || F1: 100.00 | Prec: 100.00 | Rec: 100.00 || Ex/s: 167.99\n",
            "\n",
            "===>  EVAL Epoch 7\n"
          ]
        },
        {
          "output_type": "stream",
          "name": "stderr",
          "text": [
            "0% [█] 100% | ETA: 00:00:00\n",
            "Total time elapsed: 00:00:00\n"
          ]
        },
        {
          "output_type": "stream",
          "name": "stdout",
          "text": [
            "Finished Epoch 7 || Run Time:    0.2 | Load Time:    0.4 || F1:  81.97 | Prec:  73.53 | Rec:  92.59 || Ex/s: 187.49\n",
            "\n",
            "---------------------\n",
            "\n",
            "===>  TRAIN Epoch 8\n"
          ]
        },
        {
          "output_type": "stream",
          "name": "stderr",
          "text": [
            "0% [████] 100% | ETA: 00:00:00\n",
            "Total time elapsed: 00:00:01\n"
          ]
        },
        {
          "output_type": "stream",
          "name": "stdout",
          "text": [
            "Finished Epoch 8 || Run Time:    0.6 | Load Time:    0.8 || F1: 100.00 | Prec: 100.00 | Rec: 100.00 || Ex/s: 217.34\n",
            "\n",
            "===>  EVAL Epoch 8\n"
          ]
        },
        {
          "output_type": "stream",
          "name": "stderr",
          "text": [
            "0% [█] 100% | ETA: 00:00:00\n",
            "Total time elapsed: 00:00:00\n"
          ]
        },
        {
          "output_type": "stream",
          "name": "stdout",
          "text": [
            "Finished Epoch 8 || Run Time:    0.1 | Load Time:    0.3 || F1:  81.97 | Prec:  73.53 | Rec:  92.59 || Ex/s: 257.64\n",
            "\n",
            "---------------------\n",
            "\n",
            "===>  TRAIN Epoch 9\n"
          ]
        },
        {
          "output_type": "stream",
          "name": "stderr",
          "text": [
            "0% [████] 100% | ETA: 00:00:00\n",
            "Total time elapsed: 00:00:01\n"
          ]
        },
        {
          "output_type": "stream",
          "name": "stdout",
          "text": [
            "Finished Epoch 9 || Run Time:    0.6 | Load Time:    0.8 || F1: 100.00 | Prec: 100.00 | Rec: 100.00 || Ex/s: 224.77\n",
            "\n",
            "===>  EVAL Epoch 9\n"
          ]
        },
        {
          "output_type": "stream",
          "name": "stderr",
          "text": [
            "0% [█] 100% | ETA: 00:00:00\n",
            "Total time elapsed: 00:00:00\n"
          ]
        },
        {
          "output_type": "stream",
          "name": "stdout",
          "text": [
            "Finished Epoch 9 || Run Time:    0.1 | Load Time:    0.3 || F1:  81.97 | Prec:  73.53 | Rec:  92.59 || Ex/s: 253.39\n",
            "\n",
            "---------------------\n",
            "\n",
            "===>  TRAIN Epoch 10\n"
          ]
        },
        {
          "output_type": "stream",
          "name": "stderr",
          "text": [
            "0% [████] 100% | ETA: 00:00:00\n",
            "Total time elapsed: 00:00:01\n"
          ]
        },
        {
          "output_type": "stream",
          "name": "stdout",
          "text": [
            "Finished Epoch 10 || Run Time:    0.6 | Load Time:    0.8 || F1: 100.00 | Prec: 100.00 | Rec: 100.00 || Ex/s: 222.84\n",
            "\n",
            "===>  EVAL Epoch 10\n"
          ]
        },
        {
          "output_type": "stream",
          "name": "stderr",
          "text": [
            "0% [█] 100% | ETA: 00:00:00\n",
            "Total time elapsed: 00:00:00\n"
          ]
        },
        {
          "output_type": "stream",
          "name": "stdout",
          "text": [
            "Finished Epoch 10 || Run Time:    0.1 | Load Time:    0.3 || F1:  81.97 | Prec:  73.53 | Rec:  92.59 || Ex/s: 254.00\n",
            "\n",
            "---------------------\n",
            "\n",
            "===>  TRAIN Epoch 11\n"
          ]
        },
        {
          "output_type": "stream",
          "name": "stderr",
          "text": [
            "0% [████] 100% | ETA: 00:00:00\n",
            "Total time elapsed: 00:00:01\n"
          ]
        },
        {
          "output_type": "stream",
          "name": "stdout",
          "text": [
            "Finished Epoch 11 || Run Time:    0.6 | Load Time:    0.8 || F1: 100.00 | Prec: 100.00 | Rec: 100.00 || Ex/s: 229.90\n",
            "\n",
            "===>  EVAL Epoch 11\n"
          ]
        },
        {
          "output_type": "stream",
          "name": "stderr",
          "text": [
            "0% [█] 100% | ETA: 00:00:00\n",
            "Total time elapsed: 00:00:00\n"
          ]
        },
        {
          "output_type": "stream",
          "name": "stdout",
          "text": [
            "Finished Epoch 11 || Run Time:    0.2 | Load Time:    0.3 || F1:  81.97 | Prec:  73.53 | Rec:  92.59 || Ex/s: 254.67\n",
            "\n",
            "---------------------\n",
            "\n",
            "===>  TRAIN Epoch 12\n"
          ]
        },
        {
          "output_type": "stream",
          "name": "stderr",
          "text": [
            "0% [████] 100% | ETA: 00:00:00\n",
            "Total time elapsed: 00:00:01\n"
          ]
        },
        {
          "output_type": "stream",
          "name": "stdout",
          "text": [
            "Finished Epoch 12 || Run Time:    0.6 | Load Time:    0.8 || F1: 100.00 | Prec: 100.00 | Rec: 100.00 || Ex/s: 226.92\n",
            "\n",
            "===>  EVAL Epoch 12\n"
          ]
        },
        {
          "output_type": "stream",
          "name": "stderr",
          "text": [
            "0% [█] 100% | ETA: 00:00:00\n",
            "Total time elapsed: 00:00:00\n"
          ]
        },
        {
          "output_type": "stream",
          "name": "stdout",
          "text": [
            "Finished Epoch 12 || Run Time:    0.1 | Load Time:    0.3 || F1:  81.97 | Prec:  73.53 | Rec:  92.59 || Ex/s: 262.07\n",
            "\n",
            "---------------------\n",
            "\n",
            "===>  TRAIN Epoch 13\n"
          ]
        },
        {
          "output_type": "stream",
          "name": "stderr",
          "text": [
            "0% [████] 100% | ETA: 00:00:00\n",
            "Total time elapsed: 00:00:01\n"
          ]
        },
        {
          "output_type": "stream",
          "name": "stdout",
          "text": [
            "Finished Epoch 13 || Run Time:    0.7 | Load Time:    0.9 || F1: 100.00 | Prec: 100.00 | Rec: 100.00 || Ex/s: 198.41\n",
            "\n",
            "===>  EVAL Epoch 13\n"
          ]
        },
        {
          "output_type": "stream",
          "name": "stderr",
          "text": [
            "0% [█] 100% | ETA: 00:00:00\n",
            "Total time elapsed: 00:00:00\n"
          ]
        },
        {
          "output_type": "stream",
          "name": "stdout",
          "text": [
            "Finished Epoch 13 || Run Time:    0.2 | Load Time:    0.4 || F1:  81.97 | Prec:  73.53 | Rec:  92.59 || Ex/s: 201.61\n",
            "\n",
            "---------------------\n",
            "\n",
            "===>  TRAIN Epoch 14\n"
          ]
        },
        {
          "output_type": "stream",
          "name": "stderr",
          "text": [
            "0% [████] 100% | ETA: 00:00:00\n",
            "Total time elapsed: 00:00:01\n"
          ]
        },
        {
          "output_type": "stream",
          "name": "stdout",
          "text": [
            "Finished Epoch 14 || Run Time:    0.8 | Load Time:    1.1 || F1: 100.00 | Prec: 100.00 | Rec: 100.00 || Ex/s: 169.60\n",
            "\n",
            "===>  EVAL Epoch 14\n"
          ]
        },
        {
          "output_type": "stream",
          "name": "stderr",
          "text": [
            "0% [█] 100% | ETA: 00:00:00\n",
            "Total time elapsed: 00:00:00\n"
          ]
        },
        {
          "output_type": "stream",
          "name": "stdout",
          "text": [
            "Finished Epoch 14 || Run Time:    0.2 | Load Time:    0.4 || F1:  81.97 | Prec:  73.53 | Rec:  92.59 || Ex/s: 196.44\n",
            "\n",
            "---------------------\n",
            "\n",
            "===>  TRAIN Epoch 15\n"
          ]
        },
        {
          "output_type": "stream",
          "name": "stderr",
          "text": [
            "0% [████] 100% | ETA: 00:00:00\n",
            "Total time elapsed: 00:00:01\n"
          ]
        },
        {
          "output_type": "stream",
          "name": "stdout",
          "text": [
            "Finished Epoch 15 || Run Time:    0.6 | Load Time:    0.8 || F1: 100.00 | Prec: 100.00 | Rec: 100.00 || Ex/s: 226.16\n",
            "\n",
            "===>  EVAL Epoch 15\n"
          ]
        },
        {
          "output_type": "stream",
          "name": "stderr",
          "text": [
            "0% [█] 100% | ETA: 00:00:00\n",
            "Total time elapsed: 00:00:00\n"
          ]
        },
        {
          "output_type": "stream",
          "name": "stdout",
          "text": [
            "Finished Epoch 15 || Run Time:    0.2 | Load Time:    0.3 || F1:  81.97 | Prec:  73.53 | Rec:  92.59 || Ex/s: 252.55\n",
            "\n",
            "---------------------\n",
            "\n",
            "===>  TRAIN Epoch 16\n"
          ]
        },
        {
          "output_type": "stream",
          "name": "stderr",
          "text": [
            "0% [████] 100% | ETA: 00:00:00\n",
            "Total time elapsed: 00:00:01\n"
          ]
        },
        {
          "output_type": "stream",
          "name": "stdout",
          "text": [
            "Finished Epoch 16 || Run Time:    0.6 | Load Time:    0.8 || F1: 100.00 | Prec: 100.00 | Rec: 100.00 || Ex/s: 225.13\n",
            "\n",
            "===>  EVAL Epoch 16\n"
          ]
        },
        {
          "output_type": "stream",
          "name": "stderr",
          "text": [
            "0% [█] 100% | ETA: 00:00:00\n",
            "Total time elapsed: 00:00:00\n"
          ]
        },
        {
          "output_type": "stream",
          "name": "stdout",
          "text": [
            "Finished Epoch 16 || Run Time:    0.1 | Load Time:    0.3 || F1:  81.97 | Prec:  73.53 | Rec:  92.59 || Ex/s: 263.48\n",
            "\n",
            "---------------------\n",
            "\n",
            "===>  TRAIN Epoch 17\n"
          ]
        },
        {
          "output_type": "stream",
          "name": "stderr",
          "text": [
            "0% [████] 100% | ETA: 00:00:00\n",
            "Total time elapsed: 00:00:01\n"
          ]
        },
        {
          "output_type": "stream",
          "name": "stdout",
          "text": [
            "Finished Epoch 17 || Run Time:    0.6 | Load Time:    0.8 || F1: 100.00 | Prec: 100.00 | Rec: 100.00 || Ex/s: 226.99\n",
            "\n",
            "===>  EVAL Epoch 17\n"
          ]
        },
        {
          "output_type": "stream",
          "name": "stderr",
          "text": [
            "0% [█] 100% | ETA: 00:00:00\n",
            "Total time elapsed: 00:00:00\n"
          ]
        },
        {
          "output_type": "stream",
          "name": "stdout",
          "text": [
            "Finished Epoch 17 || Run Time:    0.1 | Load Time:    0.3 || F1:  81.97 | Prec:  73.53 | Rec:  92.59 || Ex/s: 263.25\n",
            "\n",
            "---------------------\n",
            "\n",
            "===>  TRAIN Epoch 18\n"
          ]
        },
        {
          "output_type": "stream",
          "name": "stderr",
          "text": [
            "0% [████] 100% | ETA: 00:00:00\n",
            "Total time elapsed: 00:00:01\n"
          ]
        },
        {
          "output_type": "stream",
          "name": "stdout",
          "text": [
            "Finished Epoch 18 || Run Time:    0.6 | Load Time:    0.8 || F1: 100.00 | Prec: 100.00 | Rec: 100.00 || Ex/s: 225.96\n",
            "\n",
            "===>  EVAL Epoch 18\n"
          ]
        },
        {
          "output_type": "stream",
          "name": "stderr",
          "text": [
            "0% [█] 100% | ETA: 00:00:00\n",
            "Total time elapsed: 00:00:00\n"
          ]
        },
        {
          "output_type": "stream",
          "name": "stdout",
          "text": [
            "Finished Epoch 18 || Run Time:    0.1 | Load Time:    0.3 || F1:  81.97 | Prec:  73.53 | Rec:  92.59 || Ex/s: 257.91\n",
            "\n",
            "---------------------\n",
            "\n",
            "===>  TRAIN Epoch 19\n"
          ]
        },
        {
          "output_type": "stream",
          "name": "stderr",
          "text": [
            "0% [████] 100% | ETA: 00:00:00\n",
            "Total time elapsed: 00:00:01\n"
          ]
        },
        {
          "output_type": "stream",
          "name": "stdout",
          "text": [
            "Finished Epoch 19 || Run Time:    0.6 | Load Time:    0.8 || F1: 100.00 | Prec: 100.00 | Rec: 100.00 || Ex/s: 227.72\n",
            "\n",
            "===>  EVAL Epoch 19\n"
          ]
        },
        {
          "output_type": "stream",
          "name": "stderr",
          "text": [
            "0% [█] 100% | ETA: 00:00:00\n",
            "Total time elapsed: 00:00:00\n"
          ]
        },
        {
          "output_type": "stream",
          "name": "stdout",
          "text": [
            "Finished Epoch 19 || Run Time:    0.1 | Load Time:    0.3 || F1:  81.97 | Prec:  73.53 | Rec:  92.59 || Ex/s: 259.40\n",
            "\n",
            "---------------------\n",
            "\n",
            "===>  TRAIN Epoch 20\n"
          ]
        },
        {
          "output_type": "stream",
          "name": "stderr",
          "text": [
            "0% [████] 100% | ETA: 00:00:00\n",
            "Total time elapsed: 00:00:01\n"
          ]
        },
        {
          "output_type": "stream",
          "name": "stdout",
          "text": [
            "Finished Epoch 20 || Run Time:    0.7 | Load Time:    1.0 || F1: 100.00 | Prec: 100.00 | Rec: 100.00 || Ex/s: 189.50\n",
            "\n",
            "===>  EVAL Epoch 20\n"
          ]
        },
        {
          "output_type": "stream",
          "name": "stderr",
          "text": [
            "0% [█] 100% | ETA: 00:00:00\n",
            "Total time elapsed: 00:00:00\n"
          ]
        },
        {
          "output_type": "stream",
          "name": "stdout",
          "text": [
            "Finished Epoch 20 || Run Time:    0.2 | Load Time:    0.4 || F1:  81.97 | Prec:  73.53 | Rec:  92.59 || Ex/s: 195.09\n",
            "\n",
            "---------------------\n",
            "\n",
            "===>  TRAIN Epoch 21\n"
          ]
        },
        {
          "output_type": "stream",
          "name": "stderr",
          "text": [
            "0% [████] 100% | ETA: 00:00:00\n",
            "Total time elapsed: 00:00:01\n"
          ]
        },
        {
          "output_type": "stream",
          "name": "stdout",
          "text": [
            "Finished Epoch 21 || Run Time:    0.8 | Load Time:    1.1 || F1: 100.00 | Prec: 100.00 | Rec: 100.00 || Ex/s: 166.51\n",
            "\n",
            "===>  EVAL Epoch 21\n"
          ]
        },
        {
          "output_type": "stream",
          "name": "stderr",
          "text": [
            "0% [█] 100% | ETA: 00:00:00\n",
            "Total time elapsed: 00:00:00\n"
          ]
        },
        {
          "output_type": "stream",
          "name": "stdout",
          "text": [
            "Finished Epoch 21 || Run Time:    0.2 | Load Time:    0.3 || F1:  81.97 | Prec:  73.53 | Rec:  92.59 || Ex/s: 242.22\n",
            "\n",
            "---------------------\n",
            "\n",
            "===>  TRAIN Epoch 22\n"
          ]
        },
        {
          "output_type": "stream",
          "name": "stderr",
          "text": [
            "0% [████] 100% | ETA: 00:00:00\n",
            "Total time elapsed: 00:00:01\n"
          ]
        },
        {
          "output_type": "stream",
          "name": "stdout",
          "text": [
            "Finished Epoch 22 || Run Time:    0.6 | Load Time:    0.8 || F1: 100.00 | Prec: 100.00 | Rec: 100.00 || Ex/s: 226.36\n",
            "\n",
            "===>  EVAL Epoch 22\n"
          ]
        },
        {
          "output_type": "stream",
          "name": "stderr",
          "text": [
            "0% [█] 100% | ETA: 00:00:00\n",
            "Total time elapsed: 00:00:00\n"
          ]
        },
        {
          "output_type": "stream",
          "name": "stdout",
          "text": [
            "Finished Epoch 22 || Run Time:    0.1 | Load Time:    0.3 || F1:  81.97 | Prec:  73.53 | Rec:  92.59 || Ex/s: 258.17\n",
            "\n",
            "---------------------\n",
            "\n",
            "===>  TRAIN Epoch 23\n"
          ]
        },
        {
          "output_type": "stream",
          "name": "stderr",
          "text": [
            "0% [████] 100% | ETA: 00:00:00\n",
            "Total time elapsed: 00:00:01\n"
          ]
        },
        {
          "output_type": "stream",
          "name": "stdout",
          "text": [
            "Finished Epoch 23 || Run Time:    0.7 | Load Time:    0.9 || F1: 100.00 | Prec: 100.00 | Rec: 100.00 || Ex/s: 202.49\n",
            "\n",
            "===>  EVAL Epoch 23\n"
          ]
        },
        {
          "output_type": "stream",
          "name": "stderr",
          "text": [
            "0% [█] 100% | ETA: 00:00:00\n",
            "Total time elapsed: 00:00:00\n"
          ]
        },
        {
          "output_type": "stream",
          "name": "stdout",
          "text": [
            "Finished Epoch 23 || Run Time:    0.2 | Load Time:    0.4 || F1:  81.97 | Prec:  73.53 | Rec:  92.59 || Ex/s: 194.57\n",
            "\n",
            "---------------------\n",
            "\n",
            "===>  TRAIN Epoch 24\n"
          ]
        },
        {
          "output_type": "stream",
          "name": "stderr",
          "text": [
            "0% [████] 100% | ETA: 00:00:00\n",
            "Total time elapsed: 00:00:01\n"
          ]
        },
        {
          "output_type": "stream",
          "name": "stdout",
          "text": [
            "Finished Epoch 24 || Run Time:    0.8 | Load Time:    1.1 || F1: 100.00 | Prec: 100.00 | Rec: 100.00 || Ex/s: 167.10\n",
            "\n",
            "===>  EVAL Epoch 24\n"
          ]
        },
        {
          "output_type": "stream",
          "name": "stderr",
          "text": [
            "0% [█] 100% | ETA: 00:00:00\n",
            "Total time elapsed: 00:00:00\n"
          ]
        },
        {
          "output_type": "stream",
          "name": "stdout",
          "text": [
            "Finished Epoch 24 || Run Time:    0.2 | Load Time:    0.4 || F1:  81.97 | Prec:  73.53 | Rec:  92.59 || Ex/s: 182.96\n",
            "\n",
            "---------------------\n",
            "\n",
            "===>  TRAIN Epoch 25\n"
          ]
        },
        {
          "output_type": "stream",
          "name": "stderr",
          "text": [
            "0% [████] 100% | ETA: 00:00:00\n",
            "Total time elapsed: 00:00:01\n"
          ]
        },
        {
          "output_type": "stream",
          "name": "stdout",
          "text": [
            "Finished Epoch 25 || Run Time:    0.6 | Load Time:    0.9 || F1: 100.00 | Prec: 100.00 | Rec: 100.00 || Ex/s: 221.04\n",
            "\n",
            "===>  EVAL Epoch 25\n"
          ]
        },
        {
          "output_type": "stream",
          "name": "stderr",
          "text": [
            "0% [█] 100% | ETA: 00:00:00\n",
            "Total time elapsed: 00:00:00\n"
          ]
        },
        {
          "output_type": "stream",
          "name": "stdout",
          "text": [
            "Finished Epoch 25 || Run Time:    0.2 | Load Time:    0.3 || F1:  81.97 | Prec:  73.53 | Rec:  92.59 || Ex/s: 255.28\n",
            "\n",
            "---------------------\n",
            "\n",
            "===>  TRAIN Epoch 26\n"
          ]
        },
        {
          "output_type": "stream",
          "name": "stderr",
          "text": [
            "0% [████] 100% | ETA: 00:00:00\n",
            "Total time elapsed: 00:00:01\n"
          ]
        },
        {
          "output_type": "stream",
          "name": "stdout",
          "text": [
            "Finished Epoch 26 || Run Time:    0.6 | Load Time:    0.9 || F1: 100.00 | Prec: 100.00 | Rec: 100.00 || Ex/s: 214.19\n",
            "\n",
            "===>  EVAL Epoch 26\n"
          ]
        },
        {
          "output_type": "stream",
          "name": "stderr",
          "text": [
            "0% [█] 100% | ETA: 00:00:00\n",
            "Total time elapsed: 00:00:00\n"
          ]
        },
        {
          "output_type": "stream",
          "name": "stdout",
          "text": [
            "Finished Epoch 26 || Run Time:    0.2 | Load Time:    0.4 || F1:  81.97 | Prec:  73.53 | Rec:  92.59 || Ex/s: 192.45\n",
            "\n",
            "---------------------\n",
            "\n",
            "===>  TRAIN Epoch 27\n"
          ]
        },
        {
          "output_type": "stream",
          "name": "stderr",
          "text": [
            "0% [████] 100% | ETA: 00:00:00\n",
            "Total time elapsed: 00:00:01\n"
          ]
        },
        {
          "output_type": "stream",
          "name": "stdout",
          "text": [
            "Finished Epoch 27 || Run Time:    0.8 | Load Time:    1.1 || F1: 100.00 | Prec: 100.00 | Rec: 100.00 || Ex/s: 171.14\n",
            "\n",
            "===>  EVAL Epoch 27\n"
          ]
        },
        {
          "output_type": "stream",
          "name": "stderr",
          "text": [
            "0% [█] 100% | ETA: 00:00:00\n",
            "Total time elapsed: 00:00:00\n"
          ]
        },
        {
          "output_type": "stream",
          "name": "stdout",
          "text": [
            "Finished Epoch 27 || Run Time:    0.2 | Load Time:    0.4 || F1:  81.97 | Prec:  73.53 | Rec:  92.59 || Ex/s: 189.43\n",
            "\n",
            "---------------------\n",
            "\n",
            "===>  TRAIN Epoch 28\n"
          ]
        },
        {
          "output_type": "stream",
          "name": "stderr",
          "text": [
            "0% [████] 100% | ETA: 00:00:00\n",
            "Total time elapsed: 00:00:01\n"
          ]
        },
        {
          "output_type": "stream",
          "name": "stdout",
          "text": [
            "Finished Epoch 28 || Run Time:    0.6 | Load Time:    0.9 || F1: 100.00 | Prec: 100.00 | Rec: 100.00 || Ex/s: 212.66\n",
            "\n",
            "===>  EVAL Epoch 28\n"
          ]
        },
        {
          "output_type": "stream",
          "name": "stderr",
          "text": [
            "0% [█] 100% | ETA: 00:00:00\n",
            "Total time elapsed: 00:00:00\n"
          ]
        },
        {
          "output_type": "stream",
          "name": "stdout",
          "text": [
            "Finished Epoch 28 || Run Time:    0.1 | Load Time:    0.3 || F1:  81.97 | Prec:  73.53 | Rec:  92.59 || Ex/s: 257.08\n",
            "\n",
            "---------------------\n",
            "\n",
            "===>  TRAIN Epoch 29\n"
          ]
        },
        {
          "output_type": "stream",
          "name": "stderr",
          "text": [
            "0% [████] 100% | ETA: 00:00:00\n",
            "Total time elapsed: 00:00:01\n"
          ]
        },
        {
          "output_type": "stream",
          "name": "stdout",
          "text": [
            "Finished Epoch 29 || Run Time:    0.6 | Load Time:    0.8 || F1: 100.00 | Prec: 100.00 | Rec: 100.00 || Ex/s: 223.93\n",
            "\n",
            "===>  EVAL Epoch 29\n"
          ]
        },
        {
          "output_type": "stream",
          "name": "stderr",
          "text": [
            "0% [█] 100% | ETA: 00:00:00\n",
            "Total time elapsed: 00:00:00\n"
          ]
        },
        {
          "output_type": "stream",
          "name": "stdout",
          "text": [
            "Finished Epoch 29 || Run Time:    0.1 | Load Time:    0.3 || F1:  81.97 | Prec:  73.53 | Rec:  92.59 || Ex/s: 260.19\n",
            "\n",
            "---------------------\n",
            "\n",
            "===>  TRAIN Epoch 30\n"
          ]
        },
        {
          "output_type": "stream",
          "name": "stderr",
          "text": [
            "0% [████] 100% | ETA: 00:00:00\n",
            "Total time elapsed: 00:00:01\n"
          ]
        },
        {
          "output_type": "stream",
          "name": "stdout",
          "text": [
            "Finished Epoch 30 || Run Time:    0.6 | Load Time:    0.8 || F1: 100.00 | Prec: 100.00 | Rec: 100.00 || Ex/s: 229.18\n",
            "\n",
            "===>  EVAL Epoch 30\n"
          ]
        },
        {
          "output_type": "stream",
          "name": "stderr",
          "text": [
            "0% [█] 100% | ETA: 00:00:00\n",
            "Total time elapsed: 00:00:00\n"
          ]
        },
        {
          "output_type": "stream",
          "name": "stdout",
          "text": [
            "Finished Epoch 30 || Run Time:    0.1 | Load Time:    0.3 || F1:  81.97 | Prec:  73.53 | Rec:  92.59 || Ex/s: 261.12\n",
            "\n",
            "---------------------\n",
            "\n",
            "===>  TRAIN Epoch 31\n"
          ]
        },
        {
          "output_type": "stream",
          "name": "stderr",
          "text": [
            "0% [████] 100% | ETA: 00:00:00\n",
            "Total time elapsed: 00:00:01\n"
          ]
        },
        {
          "output_type": "stream",
          "name": "stdout",
          "text": [
            "Finished Epoch 31 || Run Time:    0.6 | Load Time:    0.8 || F1: 100.00 | Prec: 100.00 | Rec: 100.00 || Ex/s: 223.83\n",
            "\n",
            "===>  EVAL Epoch 31\n"
          ]
        },
        {
          "output_type": "stream",
          "name": "stderr",
          "text": [
            "0% [█] 100% | ETA: 00:00:00\n",
            "Total time elapsed: 00:00:00\n"
          ]
        },
        {
          "output_type": "stream",
          "name": "stdout",
          "text": [
            "Finished Epoch 31 || Run Time:    0.1 | Load Time:    0.3 || F1:  81.97 | Prec:  73.53 | Rec:  92.59 || Ex/s: 260.35\n",
            "\n",
            "---------------------\n",
            "\n",
            "===>  TRAIN Epoch 32\n"
          ]
        },
        {
          "output_type": "stream",
          "name": "stderr",
          "text": [
            "0% [████] 100% | ETA: 00:00:00\n",
            "Total time elapsed: 00:00:01\n"
          ]
        },
        {
          "output_type": "stream",
          "name": "stdout",
          "text": [
            "Finished Epoch 32 || Run Time:    0.6 | Load Time:    0.8 || F1: 100.00 | Prec: 100.00 | Rec: 100.00 || Ex/s: 225.29\n",
            "\n",
            "===>  EVAL Epoch 32\n"
          ]
        },
        {
          "output_type": "stream",
          "name": "stderr",
          "text": [
            "0% [█] 100% | ETA: 00:00:00\n",
            "Total time elapsed: 00:00:00\n"
          ]
        },
        {
          "output_type": "stream",
          "name": "stdout",
          "text": [
            "Finished Epoch 32 || Run Time:    0.1 | Load Time:    0.3 || F1:  81.97 | Prec:  73.53 | Rec:  92.59 || Ex/s: 252.58\n",
            "\n",
            "---------------------\n",
            "\n",
            "===>  TRAIN Epoch 33\n"
          ]
        },
        {
          "output_type": "stream",
          "name": "stderr",
          "text": [
            "0% [████] 100% | ETA: 00:00:00\n",
            "Total time elapsed: 00:00:01\n"
          ]
        },
        {
          "output_type": "stream",
          "name": "stdout",
          "text": [
            "Finished Epoch 33 || Run Time:    0.7 | Load Time:    0.9 || F1: 100.00 | Prec: 100.00 | Rec: 100.00 || Ex/s: 203.18\n",
            "\n",
            "===>  EVAL Epoch 33\n"
          ]
        },
        {
          "output_type": "stream",
          "name": "stderr",
          "text": [
            "0% [█] 100% | ETA: 00:00:00\n",
            "Total time elapsed: 00:00:00\n"
          ]
        },
        {
          "output_type": "stream",
          "name": "stdout",
          "text": [
            "Finished Epoch 33 || Run Time:    0.2 | Load Time:    0.4 || F1:  81.97 | Prec:  73.53 | Rec:  92.59 || Ex/s: 188.42\n",
            "\n",
            "---------------------\n",
            "\n",
            "===>  TRAIN Epoch 34\n"
          ]
        },
        {
          "output_type": "stream",
          "name": "stderr",
          "text": [
            "0% [████] 100% | ETA: 00:00:00\n",
            "Total time elapsed: 00:00:01\n"
          ]
        },
        {
          "output_type": "stream",
          "name": "stdout",
          "text": [
            "Finished Epoch 34 || Run Time:    0.8 | Load Time:    1.1 || F1: 100.00 | Prec: 100.00 | Rec: 100.00 || Ex/s: 168.99\n",
            "\n",
            "===>  EVAL Epoch 34\n"
          ]
        },
        {
          "output_type": "stream",
          "name": "stderr",
          "text": [
            "0% [█] 100% | ETA: 00:00:00\n",
            "Total time elapsed: 00:00:00\n"
          ]
        },
        {
          "output_type": "stream",
          "name": "stdout",
          "text": [
            "Finished Epoch 34 || Run Time:    0.2 | Load Time:    0.4 || F1:  81.97 | Prec:  73.53 | Rec:  92.59 || Ex/s: 190.82\n",
            "\n",
            "---------------------\n",
            "\n",
            "===>  TRAIN Epoch 35\n"
          ]
        },
        {
          "output_type": "stream",
          "name": "stderr",
          "text": [
            "0% [████] 100% | ETA: 00:00:00\n",
            "Total time elapsed: 00:00:01\n"
          ]
        },
        {
          "output_type": "stream",
          "name": "stdout",
          "text": [
            "Finished Epoch 35 || Run Time:    0.6 | Load Time:    0.8 || F1: 100.00 | Prec: 100.00 | Rec: 100.00 || Ex/s: 224.69\n",
            "\n",
            "===>  EVAL Epoch 35\n"
          ]
        },
        {
          "output_type": "stream",
          "name": "stderr",
          "text": [
            "0% [█] 100% | ETA: 00:00:00\n",
            "Total time elapsed: 00:00:00\n"
          ]
        },
        {
          "output_type": "stream",
          "name": "stdout",
          "text": [
            "Finished Epoch 35 || Run Time:    0.1 | Load Time:    0.3 || F1:  81.97 | Prec:  73.53 | Rec:  92.59 || Ex/s: 261.41\n",
            "\n",
            "---------------------\n",
            "\n",
            "===>  TRAIN Epoch 36\n"
          ]
        },
        {
          "output_type": "stream",
          "name": "stderr",
          "text": [
            "0% [████] 100% | ETA: 00:00:00\n",
            "Total time elapsed: 00:00:01\n"
          ]
        },
        {
          "output_type": "stream",
          "name": "stdout",
          "text": [
            "Finished Epoch 36 || Run Time:    0.6 | Load Time:    0.8 || F1: 100.00 | Prec: 100.00 | Rec: 100.00 || Ex/s: 225.26\n",
            "\n",
            "===>  EVAL Epoch 36\n"
          ]
        },
        {
          "output_type": "stream",
          "name": "stderr",
          "text": [
            "0% [█] 100% | ETA: 00:00:00\n",
            "Total time elapsed: 00:00:00\n"
          ]
        },
        {
          "output_type": "stream",
          "name": "stdout",
          "text": [
            "Finished Epoch 36 || Run Time:    0.1 | Load Time:    0.3 || F1:  81.97 | Prec:  73.53 | Rec:  92.59 || Ex/s: 262.39\n",
            "\n",
            "---------------------\n",
            "\n",
            "===>  TRAIN Epoch 37\n"
          ]
        },
        {
          "output_type": "stream",
          "name": "stderr",
          "text": [
            "0% [████] 100% | ETA: 00:00:00\n",
            "Total time elapsed: 00:00:01\n"
          ]
        },
        {
          "output_type": "stream",
          "name": "stdout",
          "text": [
            "Finished Epoch 37 || Run Time:    0.6 | Load Time:    0.8 || F1: 100.00 | Prec: 100.00 | Rec: 100.00 || Ex/s: 225.99\n",
            "\n",
            "===>  EVAL Epoch 37\n"
          ]
        },
        {
          "output_type": "stream",
          "name": "stderr",
          "text": [
            "0% [█] 100% | ETA: 00:00:00\n",
            "Total time elapsed: 00:00:00\n"
          ]
        },
        {
          "output_type": "stream",
          "name": "stdout",
          "text": [
            "Finished Epoch 37 || Run Time:    0.1 | Load Time:    0.3 || F1:  81.97 | Prec:  73.53 | Rec:  92.59 || Ex/s: 264.28\n",
            "\n",
            "---------------------\n",
            "\n",
            "===>  TRAIN Epoch 38\n"
          ]
        },
        {
          "output_type": "stream",
          "name": "stderr",
          "text": [
            "0% [████] 100% | ETA: 00:00:00\n",
            "Total time elapsed: 00:00:01\n"
          ]
        },
        {
          "output_type": "stream",
          "name": "stdout",
          "text": [
            "Finished Epoch 38 || Run Time:    0.6 | Load Time:    0.8 || F1: 100.00 | Prec: 100.00 | Rec: 100.00 || Ex/s: 229.55\n",
            "\n",
            "===>  EVAL Epoch 38\n"
          ]
        },
        {
          "output_type": "stream",
          "name": "stderr",
          "text": [
            "0% [█] 100% | ETA: 00:00:00\n",
            "Total time elapsed: 00:00:00\n"
          ]
        },
        {
          "output_type": "stream",
          "name": "stdout",
          "text": [
            "Finished Epoch 38 || Run Time:    0.1 | Load Time:    0.3 || F1:  81.97 | Prec:  73.53 | Rec:  92.59 || Ex/s: 255.99\n",
            "\n",
            "---------------------\n",
            "\n",
            "===>  TRAIN Epoch 39\n"
          ]
        },
        {
          "output_type": "stream",
          "name": "stderr",
          "text": [
            "0% [████] 100% | ETA: 00:00:00\n",
            "Total time elapsed: 00:00:01\n"
          ]
        },
        {
          "output_type": "stream",
          "name": "stdout",
          "text": [
            "Finished Epoch 39 || Run Time:    0.6 | Load Time:    0.8 || F1: 100.00 | Prec: 100.00 | Rec: 100.00 || Ex/s: 226.91\n",
            "\n",
            "===>  EVAL Epoch 39\n"
          ]
        },
        {
          "output_type": "stream",
          "name": "stderr",
          "text": [
            "0% [█] 100% | ETA: 00:00:00\n",
            "Total time elapsed: 00:00:00\n"
          ]
        },
        {
          "output_type": "stream",
          "name": "stdout",
          "text": [
            "Finished Epoch 39 || Run Time:    0.1 | Load Time:    0.3 || F1:  81.97 | Prec:  73.53 | Rec:  92.59 || Ex/s: 257.99\n",
            "\n",
            "---------------------\n",
            "\n",
            "===>  TRAIN Epoch 40\n"
          ]
        },
        {
          "output_type": "stream",
          "name": "stderr",
          "text": [
            "0% [████] 100% | ETA: 00:00:00\n",
            "Total time elapsed: 00:00:01\n"
          ]
        },
        {
          "output_type": "stream",
          "name": "stdout",
          "text": [
            "Finished Epoch 40 || Run Time:    0.7 | Load Time:    0.9 || F1: 100.00 | Prec: 100.00 | Rec: 100.00 || Ex/s: 195.59\n",
            "\n",
            "===>  EVAL Epoch 40\n"
          ]
        },
        {
          "output_type": "stream",
          "name": "stderr",
          "text": [
            "0% [█] 100% | ETA: 00:00:00\n",
            "Total time elapsed: 00:00:00\n"
          ]
        },
        {
          "output_type": "stream",
          "name": "stdout",
          "text": [
            "Finished Epoch 40 || Run Time:    0.2 | Load Time:    0.4 || F1:  81.97 | Prec:  73.53 | Rec:  92.59 || Ex/s: 191.48\n",
            "\n",
            "---------------------\n",
            "\n",
            "===>  TRAIN Epoch 41\n"
          ]
        },
        {
          "output_type": "stream",
          "name": "stderr",
          "text": [
            "0% [████] 100% | ETA: 00:00:00\n",
            "Total time elapsed: 00:00:01\n"
          ]
        },
        {
          "output_type": "stream",
          "name": "stdout",
          "text": [
            "Finished Epoch 41 || Run Time:    0.8 | Load Time:    1.1 || F1: 100.00 | Prec: 100.00 | Rec: 100.00 || Ex/s: 168.59\n",
            "\n",
            "===>  EVAL Epoch 41\n"
          ]
        },
        {
          "output_type": "stream",
          "name": "stderr",
          "text": [
            "0% [█] 100% | ETA: 00:00:00\n",
            "Total time elapsed: 00:00:00\n"
          ]
        },
        {
          "output_type": "stream",
          "name": "stdout",
          "text": [
            "Finished Epoch 41 || Run Time:    0.2 | Load Time:    0.3 || F1:  81.97 | Prec:  73.53 | Rec:  92.59 || Ex/s: 216.00\n",
            "\n",
            "---------------------\n",
            "\n",
            "===>  TRAIN Epoch 42\n"
          ]
        },
        {
          "output_type": "stream",
          "name": "stderr",
          "text": [
            "0% [████] 100% | ETA: 00:00:00\n",
            "Total time elapsed: 00:00:01\n"
          ]
        },
        {
          "output_type": "stream",
          "name": "stdout",
          "text": [
            "Finished Epoch 42 || Run Time:    0.6 | Load Time:    0.8 || F1: 100.00 | Prec: 100.00 | Rec: 100.00 || Ex/s: 226.00\n",
            "\n",
            "===>  EVAL Epoch 42\n"
          ]
        },
        {
          "output_type": "stream",
          "name": "stderr",
          "text": [
            "0% [█] 100% | ETA: 00:00:00\n",
            "Total time elapsed: 00:00:00\n"
          ]
        },
        {
          "output_type": "stream",
          "name": "stdout",
          "text": [
            "Finished Epoch 42 || Run Time:    0.1 | Load Time:    0.3 || F1:  81.97 | Prec:  73.53 | Rec:  92.59 || Ex/s: 252.79\n",
            "\n",
            "---------------------\n",
            "\n",
            "===>  TRAIN Epoch 43\n"
          ]
        },
        {
          "output_type": "stream",
          "name": "stderr",
          "text": [
            "0% [████] 100% | ETA: 00:00:00\n",
            "Total time elapsed: 00:00:01\n"
          ]
        },
        {
          "output_type": "stream",
          "name": "stdout",
          "text": [
            "Finished Epoch 43 || Run Time:    0.6 | Load Time:    0.8 || F1: 100.00 | Prec: 100.00 | Rec: 100.00 || Ex/s: 224.39\n",
            "\n",
            "===>  EVAL Epoch 43\n"
          ]
        },
        {
          "output_type": "stream",
          "name": "stderr",
          "text": [
            "0% [█] 100% | ETA: 00:00:00\n",
            "Total time elapsed: 00:00:00\n"
          ]
        },
        {
          "output_type": "stream",
          "name": "stdout",
          "text": [
            "Finished Epoch 43 || Run Time:    0.2 | Load Time:    0.3 || F1:  81.97 | Prec:  73.53 | Rec:  92.59 || Ex/s: 251.74\n",
            "\n",
            "---------------------\n",
            "\n",
            "===>  TRAIN Epoch 44\n"
          ]
        },
        {
          "output_type": "stream",
          "name": "stderr",
          "text": [
            "0% [████] 100% | ETA: 00:00:00\n",
            "Total time elapsed: 00:00:01\n"
          ]
        },
        {
          "output_type": "stream",
          "name": "stdout",
          "text": [
            "Finished Epoch 44 || Run Time:    0.6 | Load Time:    0.8 || F1: 100.00 | Prec: 100.00 | Rec: 100.00 || Ex/s: 223.27\n",
            "\n",
            "===>  EVAL Epoch 44\n"
          ]
        },
        {
          "output_type": "stream",
          "name": "stderr",
          "text": [
            "0% [█] 100% | ETA: 00:00:00\n",
            "Total time elapsed: 00:00:00\n"
          ]
        },
        {
          "output_type": "stream",
          "name": "stdout",
          "text": [
            "Finished Epoch 44 || Run Time:    0.2 | Load Time:    0.3 || F1:  81.97 | Prec:  73.53 | Rec:  92.59 || Ex/s: 248.30\n",
            "\n",
            "---------------------\n",
            "\n",
            "===>  TRAIN Epoch 45\n"
          ]
        },
        {
          "output_type": "stream",
          "name": "stderr",
          "text": [
            "0% [████] 100% | ETA: 00:00:00\n",
            "Total time elapsed: 00:00:01\n"
          ]
        },
        {
          "output_type": "stream",
          "name": "stdout",
          "text": [
            "Finished Epoch 45 || Run Time:    0.6 | Load Time:    0.8 || F1: 100.00 | Prec: 100.00 | Rec: 100.00 || Ex/s: 228.25\n",
            "\n",
            "===>  EVAL Epoch 45\n"
          ]
        },
        {
          "output_type": "stream",
          "name": "stderr",
          "text": [
            "0% [█] 100% | ETA: 00:00:00\n",
            "Total time elapsed: 00:00:00\n"
          ]
        },
        {
          "output_type": "stream",
          "name": "stdout",
          "text": [
            "Finished Epoch 45 || Run Time:    0.1 | Load Time:    0.3 || F1:  81.97 | Prec:  73.53 | Rec:  92.59 || Ex/s: 257.93\n",
            "\n",
            "---------------------\n",
            "\n",
            "===>  TRAIN Epoch 46\n"
          ]
        },
        {
          "output_type": "stream",
          "name": "stderr",
          "text": [
            "0% [████] 100% | ETA: 00:00:00\n",
            "Total time elapsed: 00:00:01\n"
          ]
        },
        {
          "output_type": "stream",
          "name": "stdout",
          "text": [
            "Finished Epoch 46 || Run Time:    0.6 | Load Time:    0.8 || F1: 100.00 | Prec: 100.00 | Rec: 100.00 || Ex/s: 225.55\n",
            "\n",
            "===>  EVAL Epoch 46\n"
          ]
        },
        {
          "output_type": "stream",
          "name": "stderr",
          "text": [
            "0% [█] 100% | ETA: 00:00:00\n",
            "Total time elapsed: 00:00:00\n"
          ]
        },
        {
          "output_type": "stream",
          "name": "stdout",
          "text": [
            "Finished Epoch 46 || Run Time:    0.2 | Load Time:    0.3 || F1:  81.97 | Prec:  73.53 | Rec:  92.59 || Ex/s: 254.59\n",
            "\n",
            "---------------------\n",
            "\n",
            "===>  TRAIN Epoch 47\n"
          ]
        },
        {
          "output_type": "stream",
          "name": "stderr",
          "text": [
            "0% [████] 100% | ETA: 00:00:00\n",
            "Total time elapsed: 00:00:01\n"
          ]
        },
        {
          "output_type": "stream",
          "name": "stdout",
          "text": [
            "Finished Epoch 47 || Run Time:    0.8 | Load Time:    1.0 || F1: 100.00 | Prec: 100.00 | Rec: 100.00 || Ex/s: 178.54\n",
            "\n",
            "===>  EVAL Epoch 47\n"
          ]
        },
        {
          "output_type": "stream",
          "name": "stderr",
          "text": [
            "0% [█] 100% | ETA: 00:00:00\n",
            "Total time elapsed: 00:00:00\n"
          ]
        },
        {
          "output_type": "stream",
          "name": "stdout",
          "text": [
            "Finished Epoch 47 || Run Time:    0.2 | Load Time:    0.4 || F1:  81.97 | Prec:  73.53 | Rec:  92.59 || Ex/s: 192.45\n",
            "\n",
            "---------------------\n",
            "\n",
            "===>  TRAIN Epoch 48\n"
          ]
        },
        {
          "output_type": "stream",
          "name": "stderr",
          "text": [
            "0% [████] 100% | ETA: 00:00:00\n",
            "Total time elapsed: 00:00:01\n"
          ]
        },
        {
          "output_type": "stream",
          "name": "stdout",
          "text": [
            "Finished Epoch 48 || Run Time:    0.8 | Load Time:    1.1 || F1: 100.00 | Prec: 100.00 | Rec: 100.00 || Ex/s: 171.03\n",
            "\n",
            "===>  EVAL Epoch 48\n"
          ]
        },
        {
          "output_type": "stream",
          "name": "stderr",
          "text": [
            "0% [█] 100% | ETA: 00:00:00\n",
            "Total time elapsed: 00:00:00\n"
          ]
        },
        {
          "output_type": "stream",
          "name": "stdout",
          "text": [
            "Finished Epoch 48 || Run Time:    0.1 | Load Time:    0.3 || F1:  81.97 | Prec:  73.53 | Rec:  92.59 || Ex/s: 261.28\n",
            "\n",
            "---------------------\n",
            "\n",
            "===>  TRAIN Epoch 49\n"
          ]
        },
        {
          "output_type": "stream",
          "name": "stderr",
          "text": [
            "0% [████] 100% | ETA: 00:00:00\n",
            "Total time elapsed: 00:00:01\n"
          ]
        },
        {
          "output_type": "stream",
          "name": "stdout",
          "text": [
            "Finished Epoch 49 || Run Time:    0.6 | Load Time:    0.8 || F1: 100.00 | Prec: 100.00 | Rec: 100.00 || Ex/s: 227.76\n",
            "\n",
            "===>  EVAL Epoch 49\n"
          ]
        },
        {
          "output_type": "stream",
          "name": "stderr",
          "text": [
            "0% [█] 100% | ETA: 00:00:00\n",
            "Total time elapsed: 00:00:00\n"
          ]
        },
        {
          "output_type": "stream",
          "name": "stdout",
          "text": [
            "Finished Epoch 49 || Run Time:    0.1 | Load Time:    0.3 || F1:  81.97 | Prec:  73.53 | Rec:  92.59 || Ex/s: 254.73\n",
            "\n",
            "---------------------\n",
            "\n",
            "===>  TRAIN Epoch 50\n"
          ]
        },
        {
          "output_type": "stream",
          "name": "stderr",
          "text": [
            "0% [████] 100% | ETA: 00:00:00\n",
            "Total time elapsed: 00:00:01\n"
          ]
        },
        {
          "output_type": "stream",
          "name": "stdout",
          "text": [
            "Finished Epoch 50 || Run Time:    0.6 | Load Time:    0.8 || F1: 100.00 | Prec: 100.00 | Rec: 100.00 || Ex/s: 225.92\n",
            "\n",
            "===>  EVAL Epoch 50\n"
          ]
        },
        {
          "output_type": "stream",
          "name": "stderr",
          "text": [
            "0% [█] 100% | ETA: 00:00:00\n",
            "Total time elapsed: 00:00:00\n"
          ]
        },
        {
          "output_type": "stream",
          "name": "stdout",
          "text": [
            "Finished Epoch 50 || Run Time:    0.1 | Load Time:    0.3 || F1:  81.97 | Prec:  73.53 | Rec:  92.59 || Ex/s: 257.64\n",
            "\n",
            "---------------------\n",
            "\n",
            "Loading best model...\n",
            "Training done.\n"
          ]
        },
        {
          "output_type": "execute_result",
          "data": {
            "text/plain": [
              "tensor(83.3333, device='cuda:0')"
            ]
          },
          "metadata": {},
          "execution_count": 27
        }
      ]
    },
    {
      "cell_type": "code",
      "source": [
        "rnn_model = dm.MatchingModel(attr_summarizer='rnn')\n",
        "# 34s"
      ],
      "metadata": {
        "id": "XZt-7d7A1CC8"
      },
      "execution_count": null,
      "outputs": []
    },
    {
      "cell_type": "code",
      "source": [
        "rnn_model.run_train(\n",
        "    train,\n",
        "    validation,\n",
        "    epochs=100,\n",
        "    batch_size=16,\n",
        "    best_save_path='rnn_model.pth',\n",
        "    pos_neg_ratio=3)"
      ],
      "metadata": {
        "colab": {
          "base_uri": "https://localhost:8080/"
        },
        "id": "R6NcYTeM1nKN",
        "outputId": "ea7c25ca-ee46-4fff-866d-0d43510bd9e0"
      },
      "execution_count": null,
      "outputs": [
        {
          "output_type": "stream",
          "name": "stdout",
          "text": [
            "* Number of trainable parameters: 3917002\n",
            "===>  TRAIN Epoch 1\n"
          ]
        },
        {
          "output_type": "stream",
          "name": "stderr",
          "text": [
            "0% [████] 100% | ETA: 00:00:00\n",
            "Total time elapsed: 00:00:02\n"
          ]
        },
        {
          "output_type": "stream",
          "name": "stdout",
          "text": [
            "Finished Epoch 1 || Run Time:    1.3 | Load Time:    0.9 || F1:  99.36 | Prec:  98.73 | Rec: 100.00 || Ex/s: 141.42\n",
            "\n",
            "===>  EVAL Epoch 1\n"
          ]
        },
        {
          "output_type": "stream",
          "name": "stderr",
          "text": [
            "0% [█] 100% | ETA: 00:00:00\n",
            "Total time elapsed: 00:00:00\n"
          ]
        },
        {
          "output_type": "stream",
          "name": "stdout",
          "text": [
            "Finished Epoch 1 || Run Time:    0.2 | Load Time:    0.3 || F1:  92.59 | Prec:  92.59 | Rec:  92.59 || Ex/s: 200.30\n",
            "\n",
            "* Best F1: tensor(92.5926, device='cuda:0')\n",
            "Saving best model...\n",
            "Done.\n",
            "---------------------\n",
            "\n",
            "===>  TRAIN Epoch 2\n"
          ]
        },
        {
          "output_type": "stream",
          "name": "stderr",
          "text": [
            "0% [████] 100% | ETA: 00:00:00\n",
            "Total time elapsed: 00:00:02\n"
          ]
        },
        {
          "output_type": "stream",
          "name": "stdout",
          "text": [
            "Finished Epoch 2 || Run Time:    1.3 | Load Time:    0.9 || F1: 100.00 | Prec: 100.00 | Rec: 100.00 || Ex/s: 143.99\n",
            "\n",
            "===>  EVAL Epoch 2\n"
          ]
        },
        {
          "output_type": "stream",
          "name": "stderr",
          "text": [
            "0% [█] 100% | ETA: 00:00:00\n",
            "Total time elapsed: 00:00:00\n"
          ]
        },
        {
          "output_type": "stream",
          "name": "stdout",
          "text": [
            "Finished Epoch 2 || Run Time:    0.2 | Load Time:    0.3 || F1:  86.21 | Prec:  80.65 | Rec:  92.59 || Ex/s: 205.19\n",
            "\n",
            "---------------------\n",
            "\n",
            "===>  TRAIN Epoch 3\n"
          ]
        },
        {
          "output_type": "stream",
          "name": "stderr",
          "text": [
            "0% [████] 100% | ETA: 00:00:00\n",
            "Total time elapsed: 00:00:02\n"
          ]
        },
        {
          "output_type": "stream",
          "name": "stdout",
          "text": [
            "Finished Epoch 3 || Run Time:    1.5 | Load Time:    1.1 || F1: 100.00 | Prec: 100.00 | Rec: 100.00 || Ex/s: 126.42\n",
            "\n",
            "===>  EVAL Epoch 3\n"
          ]
        },
        {
          "output_type": "stream",
          "name": "stderr",
          "text": [
            "0% [█] 100% | ETA: 00:00:00\n",
            "Total time elapsed: 00:00:00\n"
          ]
        },
        {
          "output_type": "stream",
          "name": "stdout",
          "text": [
            "Finished Epoch 3 || Run Time:    0.3 | Load Time:    0.4 || F1:  78.12 | Prec:  67.57 | Rec:  92.59 || Ex/s: 156.68\n",
            "\n",
            "---------------------\n",
            "\n",
            "===>  TRAIN Epoch 4\n"
          ]
        },
        {
          "output_type": "stream",
          "name": "stderr",
          "text": [
            "0% [████] 100% | ETA: 00:00:00\n",
            "Total time elapsed: 00:00:02\n"
          ]
        },
        {
          "output_type": "stream",
          "name": "stdout",
          "text": [
            "Finished Epoch 4 || Run Time:    1.5 | Load Time:    1.1 || F1: 100.00 | Prec: 100.00 | Rec: 100.00 || Ex/s: 120.61\n",
            "\n",
            "===>  EVAL Epoch 4\n"
          ]
        },
        {
          "output_type": "stream",
          "name": "stderr",
          "text": [
            "0% [█] 100% | ETA: 00:00:00\n",
            "Total time elapsed: 00:00:00\n"
          ]
        },
        {
          "output_type": "stream",
          "name": "stdout",
          "text": [
            "Finished Epoch 4 || Run Time:    0.2 | Load Time:    0.3 || F1:  81.97 | Prec:  73.53 | Rec:  92.59 || Ex/s: 200.61\n",
            "\n",
            "---------------------\n",
            "\n",
            "===>  TRAIN Epoch 5\n"
          ]
        },
        {
          "output_type": "stream",
          "name": "stderr",
          "text": [
            "0% [████] 100% | ETA: 00:00:00\n",
            "Total time elapsed: 00:00:02\n"
          ]
        },
        {
          "output_type": "stream",
          "name": "stdout",
          "text": [
            "Finished Epoch 5 || Run Time:    1.3 | Load Time:    0.9 || F1: 100.00 | Prec: 100.00 | Rec: 100.00 || Ex/s: 143.93\n",
            "\n",
            "===>  EVAL Epoch 5\n"
          ]
        },
        {
          "output_type": "stream",
          "name": "stderr",
          "text": [
            "0% [█] 100% | ETA: 00:00:00\n",
            "Total time elapsed: 00:00:00\n"
          ]
        },
        {
          "output_type": "stream",
          "name": "stdout",
          "text": [
            "Finished Epoch 5 || Run Time:    0.2 | Load Time:    0.3 || F1:  81.97 | Prec:  73.53 | Rec:  92.59 || Ex/s: 199.62\n",
            "\n",
            "---------------------\n",
            "\n",
            "===>  TRAIN Epoch 6\n"
          ]
        },
        {
          "output_type": "stream",
          "name": "stderr",
          "text": [
            "0% [████] 100% | ETA: 00:00:00\n",
            "Total time elapsed: 00:00:02\n"
          ]
        },
        {
          "output_type": "stream",
          "name": "stdout",
          "text": [
            "Finished Epoch 6 || Run Time:    1.3 | Load Time:    0.9 || F1: 100.00 | Prec: 100.00 | Rec: 100.00 || Ex/s: 144.97\n",
            "\n",
            "===>  EVAL Epoch 6\n"
          ]
        },
        {
          "output_type": "stream",
          "name": "stderr",
          "text": [
            "0% [█] 100% | ETA: 00:00:00\n",
            "Total time elapsed: 00:00:00\n"
          ]
        },
        {
          "output_type": "stream",
          "name": "stdout",
          "text": [
            "Finished Epoch 6 || Run Time:    0.2 | Load Time:    0.3 || F1:  81.97 | Prec:  73.53 | Rec:  92.59 || Ex/s: 199.56\n",
            "\n",
            "---------------------\n",
            "\n",
            "===>  TRAIN Epoch 7\n"
          ]
        },
        {
          "output_type": "stream",
          "name": "stderr",
          "text": [
            "0% [████] 100% | ETA: 00:00:00\n",
            "Total time elapsed: 00:00:02\n"
          ]
        },
        {
          "output_type": "stream",
          "name": "stdout",
          "text": [
            "Finished Epoch 7 || Run Time:    1.3 | Load Time:    0.9 || F1: 100.00 | Prec: 100.00 | Rec: 100.00 || Ex/s: 144.73\n",
            "\n",
            "===>  EVAL Epoch 7\n"
          ]
        },
        {
          "output_type": "stream",
          "name": "stderr",
          "text": [
            "0% [█] 100% | ETA: 00:00:00\n",
            "Total time elapsed: 00:00:00\n"
          ]
        },
        {
          "output_type": "stream",
          "name": "stdout",
          "text": [
            "Finished Epoch 7 || Run Time:    0.2 | Load Time:    0.3 || F1:  81.97 | Prec:  73.53 | Rec:  92.59 || Ex/s: 200.71\n",
            "\n",
            "---------------------\n",
            "\n",
            "===>  TRAIN Epoch 8\n"
          ]
        },
        {
          "output_type": "stream",
          "name": "stderr",
          "text": [
            "0% [████] 100% | ETA: 00:00:00\n",
            "Total time elapsed: 00:00:02\n"
          ]
        },
        {
          "output_type": "stream",
          "name": "stdout",
          "text": [
            "Finished Epoch 8 || Run Time:    1.7 | Load Time:    1.2 || F1: 100.00 | Prec: 100.00 | Rec: 100.00 || Ex/s: 108.33\n",
            "\n",
            "===>  EVAL Epoch 8\n"
          ]
        },
        {
          "output_type": "stream",
          "name": "stderr",
          "text": [
            "0% [█] 100% | ETA: 00:00:00\n",
            "Total time elapsed: 00:00:00\n"
          ]
        },
        {
          "output_type": "stream",
          "name": "stdout",
          "text": [
            "Finished Epoch 8 || Run Time:    0.3 | Load Time:    0.4 || F1:  81.97 | Prec:  73.53 | Rec:  92.59 || Ex/s: 149.27\n",
            "\n",
            "---------------------\n",
            "\n",
            "===>  TRAIN Epoch 9\n"
          ]
        },
        {
          "output_type": "stream",
          "name": "stderr",
          "text": [
            "0% [████] 100% | ETA: 00:00:00\n",
            "Total time elapsed: 00:00:02\n"
          ]
        },
        {
          "output_type": "stream",
          "name": "stdout",
          "text": [
            "Finished Epoch 9 || Run Time:    1.3 | Load Time:    0.9 || F1: 100.00 | Prec: 100.00 | Rec: 100.00 || Ex/s: 142.99\n",
            "\n",
            "===>  EVAL Epoch 9\n"
          ]
        },
        {
          "output_type": "stream",
          "name": "stderr",
          "text": [
            "0% [█] 100% | ETA: 00:00:00\n",
            "Total time elapsed: 00:00:00\n"
          ]
        },
        {
          "output_type": "stream",
          "name": "stdout",
          "text": [
            "Finished Epoch 9 || Run Time:    0.2 | Load Time:    0.3 || F1:  81.97 | Prec:  73.53 | Rec:  92.59 || Ex/s: 196.52\n",
            "\n",
            "---------------------\n",
            "\n",
            "===>  TRAIN Epoch 10\n"
          ]
        },
        {
          "output_type": "stream",
          "name": "stderr",
          "text": [
            "0% [████] 100% | ETA: 00:00:00\n",
            "Total time elapsed: 00:00:02\n"
          ]
        },
        {
          "output_type": "stream",
          "name": "stdout",
          "text": [
            "Finished Epoch 10 || Run Time:    1.3 | Load Time:    0.9 || F1: 100.00 | Prec: 100.00 | Rec: 100.00 || Ex/s: 145.04\n",
            "\n",
            "===>  EVAL Epoch 10\n"
          ]
        },
        {
          "output_type": "stream",
          "name": "stderr",
          "text": [
            "0% [█] 100% | ETA: 00:00:00\n",
            "Total time elapsed: 00:00:00\n"
          ]
        },
        {
          "output_type": "stream",
          "name": "stdout",
          "text": [
            "Finished Epoch 10 || Run Time:    0.2 | Load Time:    0.3 || F1:  81.97 | Prec:  73.53 | Rec:  92.59 || Ex/s: 202.04\n",
            "\n",
            "---------------------\n",
            "\n",
            "===>  TRAIN Epoch 11\n"
          ]
        },
        {
          "output_type": "stream",
          "name": "stderr",
          "text": [
            "0% [████] 100% | ETA: 00:00:00\n",
            "Total time elapsed: 00:00:02\n"
          ]
        },
        {
          "output_type": "stream",
          "name": "stdout",
          "text": [
            "Finished Epoch 11 || Run Time:    1.3 | Load Time:    0.9 || F1: 100.00 | Prec: 100.00 | Rec: 100.00 || Ex/s: 144.78\n",
            "\n",
            "===>  EVAL Epoch 11\n"
          ]
        },
        {
          "output_type": "stream",
          "name": "stderr",
          "text": [
            "0% [█] 100% | ETA: 00:00:00\n",
            "Total time elapsed: 00:00:00\n"
          ]
        },
        {
          "output_type": "stream",
          "name": "stdout",
          "text": [
            "Finished Epoch 11 || Run Time:    0.2 | Load Time:    0.3 || F1:  81.97 | Prec:  73.53 | Rec:  92.59 || Ex/s: 204.02\n",
            "\n",
            "---------------------\n",
            "\n",
            "===>  TRAIN Epoch 12\n"
          ]
        },
        {
          "output_type": "stream",
          "name": "stderr",
          "text": [
            "0% [████] 100% | ETA: 00:00:00\n",
            "Total time elapsed: 00:00:02\n"
          ]
        },
        {
          "output_type": "stream",
          "name": "stdout",
          "text": [
            "Finished Epoch 12 || Run Time:    1.4 | Load Time:    1.0 || F1: 100.00 | Prec: 100.00 | Rec: 100.00 || Ex/s: 134.17\n",
            "\n",
            "===>  EVAL Epoch 12\n"
          ]
        },
        {
          "output_type": "stream",
          "name": "stderr",
          "text": [
            "0% [█] 100% | ETA: 00:00:00\n",
            "Total time elapsed: 00:00:00\n"
          ]
        },
        {
          "output_type": "stream",
          "name": "stdout",
          "text": [
            "Finished Epoch 12 || Run Time:    0.3 | Load Time:    0.4 || F1:  81.97 | Prec:  73.53 | Rec:  92.59 || Ex/s: 151.74\n",
            "\n",
            "---------------------\n",
            "\n",
            "===>  TRAIN Epoch 13\n"
          ]
        },
        {
          "output_type": "stream",
          "name": "stderr",
          "text": [
            "0% [████] 100% | ETA: 00:00:00\n",
            "Total time elapsed: 00:00:02\n"
          ]
        },
        {
          "output_type": "stream",
          "name": "stdout",
          "text": [
            "Finished Epoch 13 || Run Time:    1.6 | Load Time:    1.2 || F1: 100.00 | Prec: 100.00 | Rec: 100.00 || Ex/s: 114.63\n",
            "\n",
            "===>  EVAL Epoch 13\n"
          ]
        },
        {
          "output_type": "stream",
          "name": "stderr",
          "text": [
            "0% [█] 100% | ETA: 00:00:00\n",
            "Total time elapsed: 00:00:00\n"
          ]
        },
        {
          "output_type": "stream",
          "name": "stdout",
          "text": [
            "Finished Epoch 13 || Run Time:    0.2 | Load Time:    0.3 || F1:  81.97 | Prec:  73.53 | Rec:  92.59 || Ex/s: 200.05\n",
            "\n",
            "---------------------\n",
            "\n",
            "===>  TRAIN Epoch 14\n"
          ]
        },
        {
          "output_type": "stream",
          "name": "stderr",
          "text": [
            "0% [████] 100% | ETA: 00:00:00\n",
            "Total time elapsed: 00:00:02\n"
          ]
        },
        {
          "output_type": "stream",
          "name": "stdout",
          "text": [
            "Finished Epoch 14 || Run Time:    1.3 | Load Time:    0.9 || F1: 100.00 | Prec: 100.00 | Rec: 100.00 || Ex/s: 144.57\n",
            "\n",
            "===>  EVAL Epoch 14\n"
          ]
        },
        {
          "output_type": "stream",
          "name": "stderr",
          "text": [
            "0% [█] 100% | ETA: 00:00:00\n",
            "Total time elapsed: 00:00:00\n"
          ]
        },
        {
          "output_type": "stream",
          "name": "stdout",
          "text": [
            "Finished Epoch 14 || Run Time:    0.2 | Load Time:    0.3 || F1:  83.33 | Prec:  75.76 | Rec:  92.59 || Ex/s: 202.26\n",
            "\n",
            "---------------------\n",
            "\n",
            "===>  TRAIN Epoch 15\n"
          ]
        },
        {
          "output_type": "stream",
          "name": "stderr",
          "text": [
            "0% [████] 100% | ETA: 00:00:00\n",
            "Total time elapsed: 00:00:02\n"
          ]
        },
        {
          "output_type": "stream",
          "name": "stdout",
          "text": [
            "Finished Epoch 15 || Run Time:    1.3 | Load Time:    0.9 || F1: 100.00 | Prec: 100.00 | Rec: 100.00 || Ex/s: 146.94\n",
            "\n",
            "===>  EVAL Epoch 15\n"
          ]
        },
        {
          "output_type": "stream",
          "name": "stderr",
          "text": [
            "0% [█] 100% | ETA: 00:00:00\n",
            "Total time elapsed: 00:00:00\n"
          ]
        },
        {
          "output_type": "stream",
          "name": "stdout",
          "text": [
            "Finished Epoch 15 || Run Time:    0.2 | Load Time:    0.3 || F1:  83.33 | Prec:  75.76 | Rec:  92.59 || Ex/s: 202.74\n",
            "\n",
            "---------------------\n",
            "\n",
            "===>  TRAIN Epoch 16\n"
          ]
        },
        {
          "output_type": "stream",
          "name": "stderr",
          "text": [
            "0% [████] 100% | ETA: 00:00:00\n",
            "Total time elapsed: 00:00:02\n"
          ]
        },
        {
          "output_type": "stream",
          "name": "stdout",
          "text": [
            "Finished Epoch 16 || Run Time:    1.3 | Load Time:    0.9 || F1: 100.00 | Prec: 100.00 | Rec: 100.00 || Ex/s: 145.76\n",
            "\n",
            "===>  EVAL Epoch 16\n"
          ]
        },
        {
          "output_type": "stream",
          "name": "stderr",
          "text": [
            "0% [█] 100% | ETA: 00:00:00\n",
            "Total time elapsed: 00:00:00\n"
          ]
        },
        {
          "output_type": "stream",
          "name": "stdout",
          "text": [
            "Finished Epoch 16 || Run Time:    0.2 | Load Time:    0.3 || F1:  83.33 | Prec:  75.76 | Rec:  92.59 || Ex/s: 197.84\n",
            "\n",
            "---------------------\n",
            "\n",
            "===>  TRAIN Epoch 17\n"
          ]
        },
        {
          "output_type": "stream",
          "name": "stderr",
          "text": [
            "0% [████] 100% | ETA: 00:00:00\n",
            "Total time elapsed: 00:00:02\n"
          ]
        },
        {
          "output_type": "stream",
          "name": "stdout",
          "text": [
            "Finished Epoch 17 || Run Time:    1.6 | Load Time:    1.2 || F1: 100.00 | Prec: 100.00 | Rec: 100.00 || Ex/s: 114.91\n",
            "\n",
            "===>  EVAL Epoch 17\n"
          ]
        },
        {
          "output_type": "stream",
          "name": "stderr",
          "text": [
            "0% [█] 100% | ETA: 00:00:00\n",
            "Total time elapsed: 00:00:00\n"
          ]
        },
        {
          "output_type": "stream",
          "name": "stdout",
          "text": [
            "Finished Epoch 17 || Run Time:    0.3 | Load Time:    0.4 || F1:  83.33 | Prec:  75.76 | Rec:  92.59 || Ex/s: 155.55\n",
            "\n",
            "---------------------\n",
            "\n",
            "===>  TRAIN Epoch 18\n"
          ]
        },
        {
          "output_type": "stream",
          "name": "stderr",
          "text": [
            "0% [████] 100% | ETA: 00:00:00\n",
            "Total time elapsed: 00:00:02\n"
          ]
        },
        {
          "output_type": "stream",
          "name": "stdout",
          "text": [
            "Finished Epoch 18 || Run Time:    1.4 | Load Time:    1.0 || F1: 100.00 | Prec: 100.00 | Rec: 100.00 || Ex/s: 134.59\n",
            "\n",
            "===>  EVAL Epoch 18\n"
          ]
        },
        {
          "output_type": "stream",
          "name": "stderr",
          "text": [
            "0% [█] 100% | ETA: 00:00:00\n",
            "Total time elapsed: 00:00:00\n"
          ]
        },
        {
          "output_type": "stream",
          "name": "stdout",
          "text": [
            "Finished Epoch 18 || Run Time:    0.2 | Load Time:    0.3 || F1:  84.75 | Prec:  78.12 | Rec:  92.59 || Ex/s: 200.99\n",
            "\n",
            "---------------------\n",
            "\n",
            "===>  TRAIN Epoch 19\n"
          ]
        },
        {
          "output_type": "stream",
          "name": "stderr",
          "text": [
            "0% [████] 100% | ETA: 00:00:00\n",
            "Total time elapsed: 00:00:02\n"
          ]
        },
        {
          "output_type": "stream",
          "name": "stdout",
          "text": [
            "Finished Epoch 19 || Run Time:    1.3 | Load Time:    0.9 || F1: 100.00 | Prec: 100.00 | Rec: 100.00 || Ex/s: 143.37\n",
            "\n",
            "===>  EVAL Epoch 19\n"
          ]
        },
        {
          "output_type": "stream",
          "name": "stderr",
          "text": [
            "0% [█] 100% | ETA: 00:00:00\n",
            "Total time elapsed: 00:00:00\n"
          ]
        },
        {
          "output_type": "stream",
          "name": "stdout",
          "text": [
            "Finished Epoch 19 || Run Time:    0.2 | Load Time:    0.3 || F1:  84.75 | Prec:  78.12 | Rec:  92.59 || Ex/s: 199.73\n",
            "\n",
            "---------------------\n",
            "\n",
            "===>  TRAIN Epoch 20\n"
          ]
        },
        {
          "output_type": "stream",
          "name": "stderr",
          "text": [
            "0% [████] 100% | ETA: 00:00:00\n",
            "Total time elapsed: 00:00:02\n"
          ]
        },
        {
          "output_type": "stream",
          "name": "stdout",
          "text": [
            "Finished Epoch 20 || Run Time:    1.3 | Load Time:    0.9 || F1: 100.00 | Prec: 100.00 | Rec: 100.00 || Ex/s: 145.46\n",
            "\n",
            "===>  EVAL Epoch 20\n"
          ]
        },
        {
          "output_type": "stream",
          "name": "stderr",
          "text": [
            "0% [█] 100% | ETA: 00:00:00\n",
            "Total time elapsed: 00:00:00\n"
          ]
        },
        {
          "output_type": "stream",
          "name": "stdout",
          "text": [
            "Finished Epoch 20 || Run Time:    0.2 | Load Time:    0.3 || F1:  84.75 | Prec:  78.12 | Rec:  92.59 || Ex/s: 198.01\n",
            "\n",
            "---------------------\n",
            "\n",
            "===>  TRAIN Epoch 21\n"
          ]
        },
        {
          "output_type": "stream",
          "name": "stderr",
          "text": [
            "0% [████] 100% | ETA: 00:00:00\n",
            "Total time elapsed: 00:00:02\n"
          ]
        },
        {
          "output_type": "stream",
          "name": "stdout",
          "text": [
            "Finished Epoch 21 || Run Time:    1.3 | Load Time:    0.9 || F1: 100.00 | Prec: 100.00 | Rec: 100.00 || Ex/s: 142.22\n",
            "\n",
            "===>  EVAL Epoch 21\n"
          ]
        },
        {
          "output_type": "stream",
          "name": "stderr",
          "text": [
            "0% [█] 100% | ETA: 00:00:00\n",
            "Total time elapsed: 00:00:00\n"
          ]
        },
        {
          "output_type": "stream",
          "name": "stdout",
          "text": [
            "Finished Epoch 21 || Run Time:    0.3 | Load Time:    0.4 || F1:  84.75 | Prec:  78.12 | Rec:  92.59 || Ex/s: 152.59\n",
            "\n",
            "---------------------\n",
            "\n",
            "===>  TRAIN Epoch 22\n"
          ]
        },
        {
          "output_type": "stream",
          "name": "stderr",
          "text": [
            "0% [████] 100% | ETA: 00:00:00\n",
            "Total time elapsed: 00:00:02\n"
          ]
        },
        {
          "output_type": "stream",
          "name": "stdout",
          "text": [
            "Finished Epoch 22 || Run Time:    1.7 | Load Time:    1.3 || F1: 100.00 | Prec: 100.00 | Rec: 100.00 || Ex/s: 108.18\n",
            "\n",
            "===>  EVAL Epoch 22\n"
          ]
        },
        {
          "output_type": "stream",
          "name": "stderr",
          "text": [
            "0% [█] 100% | ETA: 00:00:00\n",
            "Total time elapsed: 00:00:00\n"
          ]
        },
        {
          "output_type": "stream",
          "name": "stdout",
          "text": [
            "Finished Epoch 22 || Run Time:    0.2 | Load Time:    0.3 || F1:  84.75 | Prec:  78.12 | Rec:  92.59 || Ex/s: 197.58\n",
            "\n",
            "---------------------\n",
            "\n",
            "===>  TRAIN Epoch 23\n"
          ]
        },
        {
          "output_type": "stream",
          "name": "stderr",
          "text": [
            "0% [████] 100% | ETA: 00:00:00\n",
            "Total time elapsed: 00:00:02\n"
          ]
        },
        {
          "output_type": "stream",
          "name": "stdout",
          "text": [
            "Finished Epoch 23 || Run Time:    1.3 | Load Time:    0.9 || F1: 100.00 | Prec: 100.00 | Rec: 100.00 || Ex/s: 144.66\n",
            "\n",
            "===>  EVAL Epoch 23\n"
          ]
        },
        {
          "output_type": "stream",
          "name": "stderr",
          "text": [
            "0% [█] 100% | ETA: 00:00:00\n",
            "Total time elapsed: 00:00:00\n"
          ]
        },
        {
          "output_type": "stream",
          "name": "stdout",
          "text": [
            "Finished Epoch 23 || Run Time:    0.2 | Load Time:    0.3 || F1:  84.75 | Prec:  78.12 | Rec:  92.59 || Ex/s: 200.14\n",
            "\n",
            "---------------------\n",
            "\n",
            "===>  TRAIN Epoch 24\n"
          ]
        },
        {
          "output_type": "stream",
          "name": "stderr",
          "text": [
            "0% [████] 100% | ETA: 00:00:00\n",
            "Total time elapsed: 00:00:02\n"
          ]
        },
        {
          "output_type": "stream",
          "name": "stdout",
          "text": [
            "Finished Epoch 24 || Run Time:    1.3 | Load Time:    1.0 || F1: 100.00 | Prec: 100.00 | Rec: 100.00 || Ex/s: 142.33\n",
            "\n",
            "===>  EVAL Epoch 24\n"
          ]
        },
        {
          "output_type": "stream",
          "name": "stderr",
          "text": [
            "0% [█] 100% | ETA: 00:00:00\n",
            "Total time elapsed: 00:00:00\n"
          ]
        },
        {
          "output_type": "stream",
          "name": "stdout",
          "text": [
            "Finished Epoch 24 || Run Time:    0.2 | Load Time:    0.3 || F1:  84.75 | Prec:  78.12 | Rec:  92.59 || Ex/s: 196.99\n",
            "\n",
            "---------------------\n",
            "\n",
            "===>  TRAIN Epoch 25\n"
          ]
        },
        {
          "output_type": "stream",
          "name": "stderr",
          "text": [
            "0% [████] 100% | ETA: 00:00:00\n",
            "Total time elapsed: 00:00:02\n"
          ]
        },
        {
          "output_type": "stream",
          "name": "stdout",
          "text": [
            "Finished Epoch 25 || Run Time:    1.4 | Load Time:    1.0 || F1: 100.00 | Prec: 100.00 | Rec: 100.00 || Ex/s: 136.06\n",
            "\n",
            "===>  EVAL Epoch 25\n"
          ]
        },
        {
          "output_type": "stream",
          "name": "stderr",
          "text": [
            "0% [█] 100% | ETA: 00:00:00\n",
            "Total time elapsed: 00:00:00\n"
          ]
        },
        {
          "output_type": "stream",
          "name": "stdout",
          "text": [
            "Finished Epoch 25 || Run Time:    0.2 | Load Time:    0.3 || F1:  84.75 | Prec:  78.12 | Rec:  92.59 || Ex/s: 195.64\n",
            "\n",
            "---------------------\n",
            "\n",
            "===>  TRAIN Epoch 26\n"
          ]
        },
        {
          "output_type": "stream",
          "name": "stderr",
          "text": [
            "0% [████] 100% | ETA: 00:00:00\n",
            "Total time elapsed: 00:00:02\n"
          ]
        },
        {
          "output_type": "stream",
          "name": "stdout",
          "text": [
            "Finished Epoch 26 || Run Time:    1.6 | Load Time:    1.1 || F1: 100.00 | Prec: 100.00 | Rec: 100.00 || Ex/s: 118.03\n",
            "\n",
            "===>  EVAL Epoch 26\n"
          ]
        },
        {
          "output_type": "stream",
          "name": "stderr",
          "text": [
            "0% [█] 100% | ETA: 00:00:00\n",
            "Total time elapsed: 00:00:00\n"
          ]
        },
        {
          "output_type": "stream",
          "name": "stdout",
          "text": [
            "Finished Epoch 26 || Run Time:    0.3 | Load Time:    0.4 || F1:  84.75 | Prec:  78.12 | Rec:  92.59 || Ex/s: 157.58\n",
            "\n",
            "---------------------\n",
            "\n",
            "===>  TRAIN Epoch 27\n"
          ]
        },
        {
          "output_type": "stream",
          "name": "stderr",
          "text": [
            "0% [████] 100% | ETA: 00:00:00\n",
            "Total time elapsed: 00:00:02\n"
          ]
        },
        {
          "output_type": "stream",
          "name": "stdout",
          "text": [
            "Finished Epoch 27 || Run Time:    1.4 | Load Time:    1.0 || F1: 100.00 | Prec: 100.00 | Rec: 100.00 || Ex/s: 130.32\n",
            "\n",
            "===>  EVAL Epoch 27\n"
          ]
        },
        {
          "output_type": "stream",
          "name": "stderr",
          "text": [
            "0% [█] 100% | ETA: 00:00:00\n",
            "Total time elapsed: 00:00:00\n"
          ]
        },
        {
          "output_type": "stream",
          "name": "stdout",
          "text": [
            "Finished Epoch 27 || Run Time:    0.2 | Load Time:    0.3 || F1:  84.75 | Prec:  78.12 | Rec:  92.59 || Ex/s: 202.04\n",
            "\n",
            "---------------------\n",
            "\n",
            "===>  TRAIN Epoch 28\n"
          ]
        },
        {
          "output_type": "stream",
          "name": "stderr",
          "text": [
            "0% [████] 100% | ETA: 00:00:00\n",
            "Total time elapsed: 00:00:02\n"
          ]
        },
        {
          "output_type": "stream",
          "name": "stdout",
          "text": [
            "Finished Epoch 28 || Run Time:    1.3 | Load Time:    0.9 || F1: 100.00 | Prec: 100.00 | Rec: 100.00 || Ex/s: 144.62\n",
            "\n",
            "===>  EVAL Epoch 28\n"
          ]
        },
        {
          "output_type": "stream",
          "name": "stderr",
          "text": [
            "0% [█] 100% | ETA: 00:00:00\n",
            "Total time elapsed: 00:00:00\n"
          ]
        },
        {
          "output_type": "stream",
          "name": "stdout",
          "text": [
            "Finished Epoch 28 || Run Time:    0.2 | Load Time:    0.3 || F1:  84.75 | Prec:  78.12 | Rec:  92.59 || Ex/s: 195.54\n",
            "\n",
            "---------------------\n",
            "\n",
            "===>  TRAIN Epoch 29\n"
          ]
        },
        {
          "output_type": "stream",
          "name": "stderr",
          "text": [
            "0% [████] 100% | ETA: 00:00:00\n",
            "Total time elapsed: 00:00:02\n"
          ]
        },
        {
          "output_type": "stream",
          "name": "stdout",
          "text": [
            "Finished Epoch 29 || Run Time:    1.3 | Load Time:    0.9 || F1: 100.00 | Prec: 100.00 | Rec: 100.00 || Ex/s: 143.54\n",
            "\n",
            "===>  EVAL Epoch 29\n"
          ]
        },
        {
          "output_type": "stream",
          "name": "stderr",
          "text": [
            "0% [█] 100% | ETA: 00:00:00\n",
            "Total time elapsed: 00:00:00\n"
          ]
        },
        {
          "output_type": "stream",
          "name": "stdout",
          "text": [
            "Finished Epoch 29 || Run Time:    0.3 | Load Time:    0.3 || F1:  84.75 | Prec:  78.12 | Rec:  92.59 || Ex/s: 175.68\n",
            "\n",
            "---------------------\n",
            "\n",
            "===>  TRAIN Epoch 30\n"
          ]
        },
        {
          "output_type": "stream",
          "name": "stderr",
          "text": [
            "0% [████] 100% | ETA: 00:00:00\n",
            "Total time elapsed: 00:00:02\n"
          ]
        },
        {
          "output_type": "stream",
          "name": "stdout",
          "text": [
            "Finished Epoch 30 || Run Time:    1.8 | Load Time:    1.3 || F1: 100.00 | Prec: 100.00 | Rec: 100.00 || Ex/s: 104.81\n",
            "\n",
            "===>  EVAL Epoch 30\n"
          ]
        },
        {
          "output_type": "stream",
          "name": "stderr",
          "text": [
            "0% [█] 100% | ETA: 00:00:00\n",
            "Total time elapsed: 00:00:00\n"
          ]
        },
        {
          "output_type": "stream",
          "name": "stdout",
          "text": [
            "Finished Epoch 30 || Run Time:    0.4 | Load Time:    0.5 || F1:  84.75 | Prec:  78.12 | Rec:  92.59 || Ex/s: 129.15\n",
            "\n",
            "---------------------\n",
            "\n",
            "===>  TRAIN Epoch 31\n"
          ]
        },
        {
          "output_type": "stream",
          "name": "stderr",
          "text": [
            "0% [████] 100% | ETA: 00:00:00\n",
            "Total time elapsed: 00:00:02\n"
          ]
        },
        {
          "output_type": "stream",
          "name": "stdout",
          "text": [
            "Finished Epoch 31 || Run Time:    1.8 | Load Time:    1.3 || F1: 100.00 | Prec: 100.00 | Rec: 100.00 || Ex/s: 105.75\n",
            "\n",
            "===>  EVAL Epoch 31\n"
          ]
        },
        {
          "output_type": "stream",
          "name": "stderr",
          "text": [
            "0% [█] 100% | ETA: 00:00:00\n",
            "Total time elapsed: 00:00:00\n"
          ]
        },
        {
          "output_type": "stream",
          "name": "stdout",
          "text": [
            "Finished Epoch 31 || Run Time:    0.2 | Load Time:    0.3 || F1:  84.75 | Prec:  78.12 | Rec:  92.59 || Ex/s: 198.99\n",
            "\n",
            "---------------------\n",
            "\n",
            "===>  TRAIN Epoch 32\n"
          ]
        },
        {
          "output_type": "stream",
          "name": "stderr",
          "text": [
            "0% [████] 100% | ETA: 00:00:00\n",
            "Total time elapsed: 00:00:02\n"
          ]
        },
        {
          "output_type": "stream",
          "name": "stdout",
          "text": [
            "Finished Epoch 32 || Run Time:    1.3 | Load Time:    0.9 || F1: 100.00 | Prec: 100.00 | Rec: 100.00 || Ex/s: 145.09\n",
            "\n",
            "===>  EVAL Epoch 32\n"
          ]
        },
        {
          "output_type": "stream",
          "name": "stderr",
          "text": [
            "0% [█] 100% | ETA: 00:00:00\n",
            "Total time elapsed: 00:00:00\n"
          ]
        },
        {
          "output_type": "stream",
          "name": "stdout",
          "text": [
            "Finished Epoch 32 || Run Time:    0.2 | Load Time:    0.3 || F1:  84.75 | Prec:  78.12 | Rec:  92.59 || Ex/s: 198.70\n",
            "\n",
            "---------------------\n",
            "\n",
            "===>  TRAIN Epoch 33\n"
          ]
        },
        {
          "output_type": "stream",
          "name": "stderr",
          "text": [
            "0% [████] 100% | ETA: 00:00:00\n",
            "Total time elapsed: 00:00:02\n"
          ]
        },
        {
          "output_type": "stream",
          "name": "stdout",
          "text": [
            "Finished Epoch 33 || Run Time:    1.3 | Load Time:    0.9 || F1: 100.00 | Prec: 100.00 | Rec: 100.00 || Ex/s: 143.26\n",
            "\n",
            "===>  EVAL Epoch 33\n"
          ]
        },
        {
          "output_type": "stream",
          "name": "stderr",
          "text": [
            "0% [█] 100% | ETA: 00:00:00\n",
            "Total time elapsed: 00:00:00\n"
          ]
        },
        {
          "output_type": "stream",
          "name": "stdout",
          "text": [
            "Finished Epoch 33 || Run Time:    0.2 | Load Time:    0.3 || F1:  84.75 | Prec:  78.12 | Rec:  92.59 || Ex/s: 203.11\n",
            "\n",
            "---------------------\n",
            "\n",
            "===>  TRAIN Epoch 34\n"
          ]
        },
        {
          "output_type": "stream",
          "name": "stderr",
          "text": [
            "0% [████] 100% | ETA: 00:00:00\n",
            "Total time elapsed: 00:00:02\n"
          ]
        },
        {
          "output_type": "stream",
          "name": "stdout",
          "text": [
            "Finished Epoch 34 || Run Time:    1.3 | Load Time:    0.9 || F1: 100.00 | Prec: 100.00 | Rec: 100.00 || Ex/s: 145.40\n",
            "\n",
            "===>  EVAL Epoch 34\n"
          ]
        },
        {
          "output_type": "stream",
          "name": "stderr",
          "text": [
            "0% [█] 100% | ETA: 00:00:00\n",
            "Total time elapsed: 00:00:00\n"
          ]
        },
        {
          "output_type": "stream",
          "name": "stdout",
          "text": [
            "Finished Epoch 34 || Run Time:    0.2 | Load Time:    0.3 || F1:  84.75 | Prec:  78.12 | Rec:  92.59 || Ex/s: 200.82\n",
            "\n",
            "---------------------\n",
            "\n",
            "===>  TRAIN Epoch 35\n"
          ]
        },
        {
          "output_type": "stream",
          "name": "stderr",
          "text": [
            "0% [████] 100% | ETA: 00:00:00\n",
            "Total time elapsed: 00:00:02\n"
          ]
        },
        {
          "output_type": "stream",
          "name": "stdout",
          "text": [
            "Finished Epoch 35 || Run Time:    1.5 | Load Time:    1.1 || F1: 100.00 | Prec: 100.00 | Rec: 100.00 || Ex/s: 122.59\n",
            "\n",
            "===>  EVAL Epoch 35\n"
          ]
        },
        {
          "output_type": "stream",
          "name": "stderr",
          "text": [
            "0% [█] 100% | ETA: 00:00:00\n",
            "Total time elapsed: 00:00:00\n"
          ]
        },
        {
          "output_type": "stream",
          "name": "stdout",
          "text": [
            "Finished Epoch 35 || Run Time:    0.3 | Load Time:    0.4 || F1:  84.75 | Prec:  78.12 | Rec:  92.59 || Ex/s: 154.57\n",
            "\n",
            "---------------------\n",
            "\n",
            "===>  TRAIN Epoch 36\n"
          ]
        },
        {
          "output_type": "stream",
          "name": "stderr",
          "text": [
            "0% [████] 100% | ETA: 00:00:00\n",
            "Total time elapsed: 00:00:02\n"
          ]
        },
        {
          "output_type": "stream",
          "name": "stdout",
          "text": [
            "Finished Epoch 36 || Run Time:    1.5 | Load Time:    1.1 || F1: 100.00 | Prec: 100.00 | Rec: 100.00 || Ex/s: 126.03\n",
            "\n",
            "===>  EVAL Epoch 36\n"
          ]
        },
        {
          "output_type": "stream",
          "name": "stderr",
          "text": [
            "0% [█] 100% | ETA: 00:00:00\n",
            "Total time elapsed: 00:00:00\n"
          ]
        },
        {
          "output_type": "stream",
          "name": "stdout",
          "text": [
            "Finished Epoch 36 || Run Time:    0.2 | Load Time:    0.3 || F1:  84.75 | Prec:  78.12 | Rec:  92.59 || Ex/s: 197.28\n",
            "\n",
            "---------------------\n",
            "\n",
            "===>  TRAIN Epoch 37\n"
          ]
        },
        {
          "output_type": "stream",
          "name": "stderr",
          "text": [
            "0% [████] 100% | ETA: 00:00:00\n",
            "Total time elapsed: 00:00:02\n"
          ]
        },
        {
          "output_type": "stream",
          "name": "stdout",
          "text": [
            "Finished Epoch 37 || Run Time:    1.3 | Load Time:    0.9 || F1: 100.00 | Prec: 100.00 | Rec: 100.00 || Ex/s: 144.15\n",
            "\n",
            "===>  EVAL Epoch 37\n"
          ]
        },
        {
          "output_type": "stream",
          "name": "stderr",
          "text": [
            "0% [█] 100% | ETA: 00:00:00\n",
            "Total time elapsed: 00:00:00\n"
          ]
        },
        {
          "output_type": "stream",
          "name": "stdout",
          "text": [
            "Finished Epoch 37 || Run Time:    0.2 | Load Time:    0.3 || F1:  84.75 | Prec:  78.12 | Rec:  92.59 || Ex/s: 198.47\n",
            "\n",
            "---------------------\n",
            "\n",
            "===>  TRAIN Epoch 38\n"
          ]
        },
        {
          "output_type": "stream",
          "name": "stderr",
          "text": [
            "0% [████] 100% | ETA: 00:00:00\n",
            "Total time elapsed: 00:00:02\n"
          ]
        },
        {
          "output_type": "stream",
          "name": "stdout",
          "text": [
            "Finished Epoch 38 || Run Time:    1.3 | Load Time:    0.9 || F1: 100.00 | Prec: 100.00 | Rec: 100.00 || Ex/s: 143.60\n",
            "\n",
            "===>  EVAL Epoch 38\n"
          ]
        },
        {
          "output_type": "stream",
          "name": "stderr",
          "text": [
            "0% [█] 100% | ETA: 00:00:00\n",
            "Total time elapsed: 00:00:00\n"
          ]
        },
        {
          "output_type": "stream",
          "name": "stdout",
          "text": [
            "Finished Epoch 38 || Run Time:    0.2 | Load Time:    0.3 || F1:  84.75 | Prec:  78.12 | Rec:  92.59 || Ex/s: 197.96\n",
            "\n",
            "---------------------\n",
            "\n",
            "===>  TRAIN Epoch 39\n"
          ]
        },
        {
          "output_type": "stream",
          "name": "stderr",
          "text": [
            "0% [████] 100% | ETA: 00:00:00\n",
            "Total time elapsed: 00:00:02\n"
          ]
        },
        {
          "output_type": "stream",
          "name": "stdout",
          "text": [
            "Finished Epoch 39 || Run Time:    1.3 | Load Time:    0.9 || F1: 100.00 | Prec: 100.00 | Rec: 100.00 || Ex/s: 145.42\n",
            "\n",
            "===>  EVAL Epoch 39\n"
          ]
        },
        {
          "output_type": "stream",
          "name": "stderr",
          "text": [
            "0% [█] 100% | ETA: 00:00:00\n",
            "Total time elapsed: 00:00:00\n"
          ]
        },
        {
          "output_type": "stream",
          "name": "stdout",
          "text": [
            "Finished Epoch 39 || Run Time:    0.3 | Load Time:    0.4 || F1:  84.75 | Prec:  78.12 | Rec:  92.59 || Ex/s: 174.20\n",
            "\n",
            "---------------------\n",
            "\n",
            "===>  TRAIN Epoch 40\n"
          ]
        },
        {
          "output_type": "stream",
          "name": "stderr",
          "text": [
            "0% [████] 100% | ETA: 00:00:00\n",
            "Total time elapsed: 00:00:02\n"
          ]
        },
        {
          "output_type": "stream",
          "name": "stdout",
          "text": [
            "Finished Epoch 40 || Run Time:    1.7 | Load Time:    1.2 || F1: 100.00 | Prec: 100.00 | Rec: 100.00 || Ex/s: 109.23\n",
            "\n",
            "===>  EVAL Epoch 40\n"
          ]
        },
        {
          "output_type": "stream",
          "name": "stderr",
          "text": [
            "0% [█] 100% | ETA: 00:00:00\n",
            "Total time elapsed: 00:00:00\n"
          ]
        },
        {
          "output_type": "stream",
          "name": "stdout",
          "text": [
            "Finished Epoch 40 || Run Time:    0.3 | Load Time:    0.4 || F1:  84.75 | Prec:  78.12 | Rec:  92.59 || Ex/s: 168.66\n",
            "\n",
            "---------------------\n",
            "\n",
            "===>  TRAIN Epoch 41\n"
          ]
        },
        {
          "output_type": "stream",
          "name": "stderr",
          "text": [
            "0% [████] 100% | ETA: 00:00:00\n",
            "Total time elapsed: 00:00:02\n"
          ]
        },
        {
          "output_type": "stream",
          "name": "stdout",
          "text": [
            "Finished Epoch 41 || Run Time:    1.3 | Load Time:    0.9 || F1: 100.00 | Prec: 100.00 | Rec: 100.00 || Ex/s: 143.03\n",
            "\n",
            "===>  EVAL Epoch 41\n"
          ]
        },
        {
          "output_type": "stream",
          "name": "stderr",
          "text": [
            "0% [█] 100% | ETA: 00:00:00\n",
            "Total time elapsed: 00:00:00\n"
          ]
        },
        {
          "output_type": "stream",
          "name": "stdout",
          "text": [
            "Finished Epoch 41 || Run Time:    0.2 | Load Time:    0.3 || F1:  84.75 | Prec:  78.12 | Rec:  92.59 || Ex/s: 198.50\n",
            "\n",
            "---------------------\n",
            "\n",
            "===>  TRAIN Epoch 42\n"
          ]
        },
        {
          "output_type": "stream",
          "name": "stderr",
          "text": [
            "0% [████] 100% | ETA: 00:00:00\n",
            "Total time elapsed: 00:00:02\n"
          ]
        },
        {
          "output_type": "stream",
          "name": "stdout",
          "text": [
            "Finished Epoch 42 || Run Time:    1.3 | Load Time:    0.9 || F1: 100.00 | Prec: 100.00 | Rec: 100.00 || Ex/s: 145.14\n",
            "\n",
            "===>  EVAL Epoch 42\n"
          ]
        },
        {
          "output_type": "stream",
          "name": "stderr",
          "text": [
            "0% [█] 100% | ETA: 00:00:00\n",
            "Total time elapsed: 00:00:00\n"
          ]
        },
        {
          "output_type": "stream",
          "name": "stdout",
          "text": [
            "Finished Epoch 42 || Run Time:    0.2 | Load Time:    0.3 || F1:  84.75 | Prec:  78.12 | Rec:  92.59 || Ex/s: 202.57\n",
            "\n",
            "---------------------\n",
            "\n",
            "===>  TRAIN Epoch 43\n"
          ]
        },
        {
          "output_type": "stream",
          "name": "stderr",
          "text": [
            "0% [████] 100% | ETA: 00:00:00\n",
            "Total time elapsed: 00:00:02\n"
          ]
        },
        {
          "output_type": "stream",
          "name": "stdout",
          "text": [
            "Finished Epoch 43 || Run Time:    1.3 | Load Time:    0.9 || F1: 100.00 | Prec: 100.00 | Rec: 100.00 || Ex/s: 145.59\n",
            "\n",
            "===>  EVAL Epoch 43\n"
          ]
        },
        {
          "output_type": "stream",
          "name": "stderr",
          "text": [
            "0% [█] 100% | ETA: 00:00:00\n",
            "Total time elapsed: 00:00:00\n"
          ]
        },
        {
          "output_type": "stream",
          "name": "stdout",
          "text": [
            "Finished Epoch 43 || Run Time:    0.2 | Load Time:    0.3 || F1:  84.75 | Prec:  78.12 | Rec:  92.59 || Ex/s: 205.29\n",
            "\n",
            "---------------------\n",
            "\n",
            "===>  TRAIN Epoch 44\n"
          ]
        },
        {
          "output_type": "stream",
          "name": "stderr",
          "text": [
            "0% [████] 100% | ETA: 00:00:00\n",
            "Total time elapsed: 00:00:02\n"
          ]
        },
        {
          "output_type": "stream",
          "name": "stdout",
          "text": [
            "Finished Epoch 44 || Run Time:    1.5 | Load Time:    1.0 || F1: 100.00 | Prec: 100.00 | Rec: 100.00 || Ex/s: 127.48\n",
            "\n",
            "===>  EVAL Epoch 44\n"
          ]
        },
        {
          "output_type": "stream",
          "name": "stderr",
          "text": [
            "0% [█] 100% | ETA: 00:00:00\n",
            "Total time elapsed: 00:00:00\n"
          ]
        },
        {
          "output_type": "stream",
          "name": "stdout",
          "text": [
            "Finished Epoch 44 || Run Time:    0.3 | Load Time:    0.4 || F1:  84.75 | Prec:  78.12 | Rec:  92.59 || Ex/s: 159.01\n",
            "\n",
            "---------------------\n",
            "\n",
            "===>  TRAIN Epoch 45\n"
          ]
        },
        {
          "output_type": "stream",
          "name": "stderr",
          "text": [
            "0% [████] 100% | ETA: 00:00:00\n",
            "Total time elapsed: 00:00:02\n"
          ]
        },
        {
          "output_type": "stream",
          "name": "stdout",
          "text": [
            "Finished Epoch 45 || Run Time:    1.5 | Load Time:    1.1 || F1: 100.00 | Prec: 100.00 | Rec: 100.00 || Ex/s: 121.94\n",
            "\n",
            "===>  EVAL Epoch 45\n"
          ]
        },
        {
          "output_type": "stream",
          "name": "stderr",
          "text": [
            "0% [█] 100% | ETA: 00:00:00\n",
            "Total time elapsed: 00:00:00\n"
          ]
        },
        {
          "output_type": "stream",
          "name": "stdout",
          "text": [
            "Finished Epoch 45 || Run Time:    0.2 | Load Time:    0.3 || F1:  84.75 | Prec:  78.12 | Rec:  92.59 || Ex/s: 200.96\n",
            "\n",
            "---------------------\n",
            "\n",
            "===>  TRAIN Epoch 46\n"
          ]
        },
        {
          "output_type": "stream",
          "name": "stderr",
          "text": [
            "0% [████] 100% | ETA: 00:00:00\n",
            "Total time elapsed: 00:00:02\n"
          ]
        },
        {
          "output_type": "stream",
          "name": "stdout",
          "text": [
            "Finished Epoch 46 || Run Time:    1.3 | Load Time:    0.9 || F1: 100.00 | Prec: 100.00 | Rec: 100.00 || Ex/s: 144.82\n",
            "\n",
            "===>  EVAL Epoch 46\n"
          ]
        },
        {
          "output_type": "stream",
          "name": "stderr",
          "text": [
            "0% [█] 100% | ETA: 00:00:00\n",
            "Total time elapsed: 00:00:00\n"
          ]
        },
        {
          "output_type": "stream",
          "name": "stdout",
          "text": [
            "Finished Epoch 46 || Run Time:    0.2 | Load Time:    0.3 || F1:  84.75 | Prec:  78.12 | Rec:  92.59 || Ex/s: 199.15\n",
            "\n",
            "---------------------\n",
            "\n",
            "===>  TRAIN Epoch 47\n"
          ]
        },
        {
          "output_type": "stream",
          "name": "stderr",
          "text": [
            "0% [████] 100% | ETA: 00:00:00\n",
            "Total time elapsed: 00:00:02\n"
          ]
        },
        {
          "output_type": "stream",
          "name": "stdout",
          "text": [
            "Finished Epoch 47 || Run Time:    1.3 | Load Time:    0.9 || F1: 100.00 | Prec: 100.00 | Rec: 100.00 || Ex/s: 145.75\n",
            "\n",
            "===>  EVAL Epoch 47\n"
          ]
        },
        {
          "output_type": "stream",
          "name": "stderr",
          "text": [
            "0% [█] 100% | ETA: 00:00:00\n",
            "Total time elapsed: 00:00:00\n"
          ]
        },
        {
          "output_type": "stream",
          "name": "stdout",
          "text": [
            "Finished Epoch 47 || Run Time:    0.2 | Load Time:    0.3 || F1:  84.75 | Prec:  78.12 | Rec:  92.59 || Ex/s: 203.29\n",
            "\n",
            "---------------------\n",
            "\n",
            "===>  TRAIN Epoch 48\n"
          ]
        },
        {
          "output_type": "stream",
          "name": "stderr",
          "text": [
            "0% [████] 100% | ETA: 00:00:00\n",
            "Total time elapsed: 00:00:02\n"
          ]
        },
        {
          "output_type": "stream",
          "name": "stdout",
          "text": [
            "Finished Epoch 48 || Run Time:    1.3 | Load Time:    0.9 || F1: 100.00 | Prec: 100.00 | Rec: 100.00 || Ex/s: 144.64\n",
            "\n",
            "===>  EVAL Epoch 48\n"
          ]
        },
        {
          "output_type": "stream",
          "name": "stderr",
          "text": [
            "0% [█] 100% | ETA: 00:00:00\n",
            "Total time elapsed: 00:00:00\n"
          ]
        },
        {
          "output_type": "stream",
          "name": "stdout",
          "text": [
            "Finished Epoch 48 || Run Time:    0.2 | Load Time:    0.3 || F1:  84.75 | Prec:  78.12 | Rec:  92.59 || Ex/s: 197.19\n",
            "\n",
            "---------------------\n",
            "\n",
            "===>  TRAIN Epoch 49\n"
          ]
        },
        {
          "output_type": "stream",
          "name": "stderr",
          "text": [
            "0% [████] 100% | ETA: 00:00:00\n",
            "Total time elapsed: 00:00:03\n"
          ]
        },
        {
          "output_type": "stream",
          "name": "stdout",
          "text": [
            "Finished Epoch 49 || Run Time:    2.3 | Load Time:    1.7 || F1: 100.00 | Prec: 100.00 | Rec: 100.00 || Ex/s:  81.30\n",
            "\n",
            "===>  EVAL Epoch 49\n"
          ]
        },
        {
          "output_type": "stream",
          "name": "stderr",
          "text": [
            "0% [█] 100% | ETA: 00:00:00\n",
            "Total time elapsed: 00:00:00\n"
          ]
        },
        {
          "output_type": "stream",
          "name": "stdout",
          "text": [
            "Finished Epoch 49 || Run Time:    0.4 | Load Time:    0.6 || F1:  84.75 | Prec:  78.12 | Rec:  92.59 || Ex/s: 107.37\n",
            "\n",
            "---------------------\n",
            "\n",
            "===>  TRAIN Epoch 50\n"
          ]
        },
        {
          "output_type": "stream",
          "name": "stderr",
          "text": [
            "0% [████] 100% | ETA: 00:00:00\n",
            "Total time elapsed: 00:00:02\n"
          ]
        },
        {
          "output_type": "stream",
          "name": "stdout",
          "text": [
            "Finished Epoch 50 || Run Time:    1.4 | Load Time:    1.1 || F1: 100.00 | Prec: 100.00 | Rec: 100.00 || Ex/s: 129.55\n",
            "\n",
            "===>  EVAL Epoch 50\n"
          ]
        },
        {
          "output_type": "stream",
          "name": "stderr",
          "text": [
            "0% [█] 100% | ETA: 00:00:00\n",
            "Total time elapsed: 00:00:00\n"
          ]
        },
        {
          "output_type": "stream",
          "name": "stdout",
          "text": [
            "Finished Epoch 50 || Run Time:    0.2 | Load Time:    0.3 || F1:  84.75 | Prec:  78.12 | Rec:  92.59 || Ex/s: 201.21\n",
            "\n",
            "---------------------\n",
            "\n",
            "===>  TRAIN Epoch 51\n"
          ]
        },
        {
          "output_type": "stream",
          "name": "stderr",
          "text": [
            "0% [████] 100% | ETA: 00:00:00\n",
            "Total time elapsed: 00:00:02\n"
          ]
        },
        {
          "output_type": "stream",
          "name": "stdout",
          "text": [
            "Finished Epoch 51 || Run Time:    1.3 | Load Time:    0.9 || F1: 100.00 | Prec: 100.00 | Rec: 100.00 || Ex/s: 144.36\n",
            "\n",
            "===>  EVAL Epoch 51\n"
          ]
        },
        {
          "output_type": "stream",
          "name": "stderr",
          "text": [
            "0% [█] 100% | ETA: 00:00:00\n",
            "Total time elapsed: 00:00:00\n"
          ]
        },
        {
          "output_type": "stream",
          "name": "stdout",
          "text": [
            "Finished Epoch 51 || Run Time:    0.2 | Load Time:    0.3 || F1:  84.75 | Prec:  78.12 | Rec:  92.59 || Ex/s: 204.06\n",
            "\n",
            "---------------------\n",
            "\n",
            "===>  TRAIN Epoch 52\n"
          ]
        },
        {
          "output_type": "stream",
          "name": "stderr",
          "text": [
            "0% [████] 100% | ETA: 00:00:00\n",
            "Total time elapsed: 00:00:02\n"
          ]
        },
        {
          "output_type": "stream",
          "name": "stdout",
          "text": [
            "Finished Epoch 52 || Run Time:    1.3 | Load Time:    0.9 || F1: 100.00 | Prec: 100.00 | Rec: 100.00 || Ex/s: 147.39\n",
            "\n",
            "===>  EVAL Epoch 52\n"
          ]
        },
        {
          "output_type": "stream",
          "name": "stderr",
          "text": [
            "0% [█] 100% | ETA: 00:00:00\n",
            "Total time elapsed: 00:00:00\n"
          ]
        },
        {
          "output_type": "stream",
          "name": "stdout",
          "text": [
            "Finished Epoch 52 || Run Time:    0.2 | Load Time:    0.3 || F1:  84.75 | Prec:  78.12 | Rec:  92.59 || Ex/s: 199.05\n",
            "\n",
            "---------------------\n",
            "\n",
            "===>  TRAIN Epoch 53\n"
          ]
        },
        {
          "output_type": "stream",
          "name": "stderr",
          "text": [
            "0% [████] 100% | ETA: 00:00:00\n",
            "Total time elapsed: 00:00:02\n"
          ]
        },
        {
          "output_type": "stream",
          "name": "stdout",
          "text": [
            "Finished Epoch 53 || Run Time:    1.7 | Load Time:    1.2 || F1: 100.00 | Prec: 100.00 | Rec: 100.00 || Ex/s: 110.37\n",
            "\n",
            "===>  EVAL Epoch 53\n"
          ]
        },
        {
          "output_type": "stream",
          "name": "stderr",
          "text": [
            "0% [█] 100% | ETA: 00:00:00\n",
            "Total time elapsed: 00:00:00\n"
          ]
        },
        {
          "output_type": "stream",
          "name": "stdout",
          "text": [
            "Finished Epoch 53 || Run Time:    0.3 | Load Time:    0.4 || F1:  84.75 | Prec:  78.12 | Rec:  92.59 || Ex/s: 148.38\n",
            "\n",
            "---------------------\n",
            "\n",
            "===>  TRAIN Epoch 54\n"
          ]
        },
        {
          "output_type": "stream",
          "name": "stderr",
          "text": [
            "0% [████] 100% | ETA: 00:00:00\n",
            "Total time elapsed: 00:00:02\n"
          ]
        },
        {
          "output_type": "stream",
          "name": "stdout",
          "text": [
            "Finished Epoch 54 || Run Time:    1.8 | Load Time:    1.3 || F1: 100.00 | Prec: 100.00 | Rec: 100.00 || Ex/s: 104.21\n",
            "\n",
            "===>  EVAL Epoch 54\n"
          ]
        },
        {
          "output_type": "stream",
          "name": "stderr",
          "text": [
            "0% [█] 100% | ETA: 00:00:00\n",
            "Total time elapsed: 00:00:00\n"
          ]
        },
        {
          "output_type": "stream",
          "name": "stdout",
          "text": [
            "Finished Epoch 54 || Run Time:    0.3 | Load Time:    0.4 || F1:  84.75 | Prec:  78.12 | Rec:  92.59 || Ex/s: 147.69\n",
            "\n",
            "---------------------\n",
            "\n",
            "===>  TRAIN Epoch 55\n"
          ]
        },
        {
          "output_type": "stream",
          "name": "stderr",
          "text": [
            "0% [████] 100% | ETA: 00:00:00\n",
            "Total time elapsed: 00:00:02\n"
          ]
        },
        {
          "output_type": "stream",
          "name": "stdout",
          "text": [
            "Finished Epoch 55 || Run Time:    1.3 | Load Time:    0.9 || F1: 100.00 | Prec: 100.00 | Rec: 100.00 || Ex/s: 143.31\n",
            "\n",
            "===>  EVAL Epoch 55\n"
          ]
        },
        {
          "output_type": "stream",
          "name": "stderr",
          "text": [
            "0% [█] 100% | ETA: 00:00:00\n",
            "Total time elapsed: 00:00:00\n"
          ]
        },
        {
          "output_type": "stream",
          "name": "stdout",
          "text": [
            "Finished Epoch 55 || Run Time:    0.2 | Load Time:    0.3 || F1:  84.75 | Prec:  78.12 | Rec:  92.59 || Ex/s: 195.24\n",
            "\n",
            "---------------------\n",
            "\n",
            "===>  TRAIN Epoch 56\n"
          ]
        },
        {
          "output_type": "stream",
          "name": "stderr",
          "text": [
            "0% [████] 100% | ETA: 00:00:00\n",
            "Total time elapsed: 00:00:02\n"
          ]
        },
        {
          "output_type": "stream",
          "name": "stdout",
          "text": [
            "Finished Epoch 56 || Run Time:    1.3 | Load Time:    0.9 || F1: 100.00 | Prec: 100.00 | Rec: 100.00 || Ex/s: 144.16\n",
            "\n",
            "===>  EVAL Epoch 56\n"
          ]
        },
        {
          "output_type": "stream",
          "name": "stderr",
          "text": [
            "0% [█] 100% | ETA: 00:00:00\n",
            "Total time elapsed: 00:00:00\n"
          ]
        },
        {
          "output_type": "stream",
          "name": "stdout",
          "text": [
            "Finished Epoch 56 || Run Time:    0.2 | Load Time:    0.3 || F1:  84.75 | Prec:  78.12 | Rec:  92.59 || Ex/s: 202.18\n",
            "\n",
            "---------------------\n",
            "\n",
            "===>  TRAIN Epoch 57\n"
          ]
        },
        {
          "output_type": "stream",
          "name": "stderr",
          "text": [
            "0% [████] 100% | ETA: 00:00:00\n",
            "Total time elapsed: 00:00:02\n"
          ]
        },
        {
          "output_type": "stream",
          "name": "stdout",
          "text": [
            "Finished Epoch 57 || Run Time:    1.3 | Load Time:    0.9 || F1: 100.00 | Prec: 100.00 | Rec: 100.00 || Ex/s: 142.76\n",
            "\n",
            "===>  EVAL Epoch 57\n"
          ]
        },
        {
          "output_type": "stream",
          "name": "stderr",
          "text": [
            "0% [█] 100% | ETA: 00:00:00\n",
            "Total time elapsed: 00:00:00\n"
          ]
        },
        {
          "output_type": "stream",
          "name": "stdout",
          "text": [
            "Finished Epoch 57 || Run Time:    0.2 | Load Time:    0.3 || F1:  84.75 | Prec:  78.12 | Rec:  92.59 || Ex/s: 202.19\n",
            "\n",
            "---------------------\n",
            "\n",
            "===>  TRAIN Epoch 58\n"
          ]
        },
        {
          "output_type": "stream",
          "name": "stderr",
          "text": [
            "0% [████] 100% | ETA: 00:00:00\n",
            "Total time elapsed: 00:00:02\n"
          ]
        },
        {
          "output_type": "stream",
          "name": "stdout",
          "text": [
            "Finished Epoch 58 || Run Time:    1.6 | Load Time:    1.1 || F1: 100.00 | Prec: 100.00 | Rec: 100.00 || Ex/s: 118.44\n",
            "\n",
            "===>  EVAL Epoch 58\n"
          ]
        },
        {
          "output_type": "stream",
          "name": "stderr",
          "text": [
            "0% [█] 100% | ETA: 00:00:00\n",
            "Total time elapsed: 00:00:00\n"
          ]
        },
        {
          "output_type": "stream",
          "name": "stdout",
          "text": [
            "Finished Epoch 58 || Run Time:    0.3 | Load Time:    0.4 || F1:  84.75 | Prec:  78.12 | Rec:  92.59 || Ex/s: 155.36\n",
            "\n",
            "---------------------\n",
            "\n",
            "===>  TRAIN Epoch 59\n"
          ]
        },
        {
          "output_type": "stream",
          "name": "stderr",
          "text": [
            "0% [████] 100% | ETA: 00:00:00\n",
            "Total time elapsed: 00:00:02\n"
          ]
        },
        {
          "output_type": "stream",
          "name": "stdout",
          "text": [
            "Finished Epoch 59 || Run Time:    1.5 | Load Time:    1.1 || F1: 100.00 | Prec: 100.00 | Rec: 100.00 || Ex/s: 126.39\n",
            "\n",
            "===>  EVAL Epoch 59\n"
          ]
        },
        {
          "output_type": "stream",
          "name": "stderr",
          "text": [
            "0% [█] 100% | ETA: 00:00:00\n",
            "Total time elapsed: 00:00:00\n"
          ]
        },
        {
          "output_type": "stream",
          "name": "stdout",
          "text": [
            "Finished Epoch 59 || Run Time:    0.2 | Load Time:    0.3 || F1:  84.75 | Prec:  78.12 | Rec:  92.59 || Ex/s: 202.63\n",
            "\n",
            "---------------------\n",
            "\n",
            "===>  TRAIN Epoch 60\n"
          ]
        },
        {
          "output_type": "stream",
          "name": "stderr",
          "text": [
            "0% [████] 100% | ETA: 00:00:00\n",
            "Total time elapsed: 00:00:02\n"
          ]
        },
        {
          "output_type": "stream",
          "name": "stdout",
          "text": [
            "Finished Epoch 60 || Run Time:    1.3 | Load Time:    0.9 || F1: 100.00 | Prec: 100.00 | Rec: 100.00 || Ex/s: 145.90\n",
            "\n",
            "===>  EVAL Epoch 60\n"
          ]
        },
        {
          "output_type": "stream",
          "name": "stderr",
          "text": [
            "0% [█] 100% | ETA: 00:00:00\n",
            "Total time elapsed: 00:00:00\n"
          ]
        },
        {
          "output_type": "stream",
          "name": "stdout",
          "text": [
            "Finished Epoch 60 || Run Time:    0.2 | Load Time:    0.3 || F1:  84.75 | Prec:  78.12 | Rec:  92.59 || Ex/s: 197.75\n",
            "\n",
            "---------------------\n",
            "\n",
            "===>  TRAIN Epoch 61\n"
          ]
        },
        {
          "output_type": "stream",
          "name": "stderr",
          "text": [
            "0% [████] 100% | ETA: 00:00:00\n",
            "Total time elapsed: 00:00:02\n"
          ]
        },
        {
          "output_type": "stream",
          "name": "stdout",
          "text": [
            "Finished Epoch 61 || Run Time:    1.3 | Load Time:    0.9 || F1: 100.00 | Prec: 100.00 | Rec: 100.00 || Ex/s: 143.33\n",
            "\n",
            "===>  EVAL Epoch 61\n"
          ]
        },
        {
          "output_type": "stream",
          "name": "stderr",
          "text": [
            "0% [█] 100% | ETA: 00:00:00\n",
            "Total time elapsed: 00:00:00\n"
          ]
        },
        {
          "output_type": "stream",
          "name": "stdout",
          "text": [
            "Finished Epoch 61 || Run Time:    0.2 | Load Time:    0.3 || F1:  84.75 | Prec:  78.12 | Rec:  92.59 || Ex/s: 200.12\n",
            "\n",
            "---------------------\n",
            "\n",
            "===>  TRAIN Epoch 62\n"
          ]
        },
        {
          "output_type": "stream",
          "name": "stderr",
          "text": [
            "0% [████] 100% | ETA: 00:00:00\n",
            "Total time elapsed: 00:00:02\n"
          ]
        },
        {
          "output_type": "stream",
          "name": "stdout",
          "text": [
            "Finished Epoch 62 || Run Time:    1.3 | Load Time:    0.9 || F1: 100.00 | Prec: 100.00 | Rec: 100.00 || Ex/s: 146.07\n",
            "\n",
            "===>  EVAL Epoch 62\n"
          ]
        },
        {
          "output_type": "stream",
          "name": "stderr",
          "text": [
            "0% [█] 100% | ETA: 00:00:00\n",
            "Total time elapsed: 00:00:00\n"
          ]
        },
        {
          "output_type": "stream",
          "name": "stdout",
          "text": [
            "Finished Epoch 62 || Run Time:    0.3 | Load Time:    0.4 || F1:  84.75 | Prec:  78.12 | Rec:  92.59 || Ex/s: 173.55\n",
            "\n",
            "---------------------\n",
            "\n",
            "===>  TRAIN Epoch 63\n"
          ]
        },
        {
          "output_type": "stream",
          "name": "stderr",
          "text": [
            "0% [████] 100% | ETA: 00:00:00\n",
            "Total time elapsed: 00:00:02\n"
          ]
        },
        {
          "output_type": "stream",
          "name": "stdout",
          "text": [
            "Finished Epoch 63 || Run Time:    1.7 | Load Time:    1.2 || F1: 100.00 | Prec: 100.00 | Rec: 100.00 || Ex/s: 109.03\n",
            "\n",
            "===>  EVAL Epoch 63\n"
          ]
        },
        {
          "output_type": "stream",
          "name": "stderr",
          "text": [
            "0% [█] 100% | ETA: 00:00:00\n",
            "Total time elapsed: 00:00:00\n"
          ]
        },
        {
          "output_type": "stream",
          "name": "stdout",
          "text": [
            "Finished Epoch 63 || Run Time:    0.3 | Load Time:    0.4 || F1:  84.75 | Prec:  78.12 | Rec:  92.59 || Ex/s: 164.58\n",
            "\n",
            "---------------------\n",
            "\n",
            "===>  TRAIN Epoch 64\n"
          ]
        },
        {
          "output_type": "stream",
          "name": "stderr",
          "text": [
            "0% [████] 100% | ETA: 00:00:00\n",
            "Total time elapsed: 00:00:02\n"
          ]
        },
        {
          "output_type": "stream",
          "name": "stdout",
          "text": [
            "Finished Epoch 64 || Run Time:    1.3 | Load Time:    0.9 || F1: 100.00 | Prec: 100.00 | Rec: 100.00 || Ex/s: 145.49\n",
            "\n",
            "===>  EVAL Epoch 64\n"
          ]
        },
        {
          "output_type": "stream",
          "name": "stderr",
          "text": [
            "0% [█] 100% | ETA: 00:00:00\n",
            "Total time elapsed: 00:00:00\n"
          ]
        },
        {
          "output_type": "stream",
          "name": "stdout",
          "text": [
            "Finished Epoch 64 || Run Time:    0.2 | Load Time:    0.3 || F1:  84.75 | Prec:  78.12 | Rec:  92.59 || Ex/s: 201.88\n",
            "\n",
            "---------------------\n",
            "\n",
            "===>  TRAIN Epoch 65\n"
          ]
        },
        {
          "output_type": "stream",
          "name": "stderr",
          "text": [
            "0% [████] 100% | ETA: 00:00:00\n",
            "Total time elapsed: 00:00:02\n"
          ]
        },
        {
          "output_type": "stream",
          "name": "stdout",
          "text": [
            "Finished Epoch 65 || Run Time:    1.3 | Load Time:    0.9 || F1: 100.00 | Prec: 100.00 | Rec: 100.00 || Ex/s: 146.40\n",
            "\n",
            "===>  EVAL Epoch 65\n"
          ]
        },
        {
          "output_type": "stream",
          "name": "stderr",
          "text": [
            "0% [█] 100% | ETA: 00:00:00\n",
            "Total time elapsed: 00:00:00\n"
          ]
        },
        {
          "output_type": "stream",
          "name": "stdout",
          "text": [
            "Finished Epoch 65 || Run Time:    0.2 | Load Time:    0.3 || F1:  84.75 | Prec:  78.12 | Rec:  92.59 || Ex/s: 204.51\n",
            "\n",
            "---------------------\n",
            "\n",
            "===>  TRAIN Epoch 66\n"
          ]
        },
        {
          "output_type": "stream",
          "name": "stderr",
          "text": [
            "0% [████] 100% | ETA: 00:00:00\n",
            "Total time elapsed: 00:00:02\n"
          ]
        },
        {
          "output_type": "stream",
          "name": "stdout",
          "text": [
            "Finished Epoch 66 || Run Time:    1.5 | Load Time:    0.9 || F1: 100.00 | Prec: 100.00 | Rec: 100.00 || Ex/s: 133.77\n",
            "\n",
            "===>  EVAL Epoch 66\n"
          ]
        },
        {
          "output_type": "stream",
          "name": "stderr",
          "text": [
            "0% [█] 100% | ETA: 00:00:00\n",
            "Total time elapsed: 00:00:00\n"
          ]
        },
        {
          "output_type": "stream",
          "name": "stdout",
          "text": [
            "Finished Epoch 66 || Run Time:    0.2 | Load Time:    0.3 || F1:  84.75 | Prec:  78.12 | Rec:  92.59 || Ex/s: 206.04\n",
            "\n",
            "---------------------\n",
            "\n",
            "===>  TRAIN Epoch 67\n"
          ]
        },
        {
          "output_type": "stream",
          "name": "stderr",
          "text": [
            "0% [████] 100% | ETA: 00:00:00\n",
            "Total time elapsed: 00:00:02\n"
          ]
        },
        {
          "output_type": "stream",
          "name": "stdout",
          "text": [
            "Finished Epoch 67 || Run Time:    1.5 | Load Time:    1.0 || F1: 100.00 | Prec: 100.00 | Rec: 100.00 || Ex/s: 125.42\n",
            "\n",
            "===>  EVAL Epoch 67\n"
          ]
        },
        {
          "output_type": "stream",
          "name": "stderr",
          "text": [
            "0% [█] 100% | ETA: 00:00:00\n",
            "Total time elapsed: 00:00:00\n"
          ]
        },
        {
          "output_type": "stream",
          "name": "stdout",
          "text": [
            "Finished Epoch 67 || Run Time:    0.3 | Load Time:    0.4 || F1:  84.75 | Prec:  78.12 | Rec:  92.59 || Ex/s: 153.71\n",
            "\n",
            "---------------------\n",
            "\n",
            "===>  TRAIN Epoch 68\n"
          ]
        },
        {
          "output_type": "stream",
          "name": "stderr",
          "text": [
            "0% [████] 100% | ETA: 00:00:00\n",
            "Total time elapsed: 00:00:02\n"
          ]
        },
        {
          "output_type": "stream",
          "name": "stdout",
          "text": [
            "Finished Epoch 68 || Run Time:    1.5 | Load Time:    1.1 || F1: 100.00 | Prec: 100.00 | Rec: 100.00 || Ex/s: 119.69\n",
            "\n",
            "===>  EVAL Epoch 68\n"
          ]
        },
        {
          "output_type": "stream",
          "name": "stderr",
          "text": [
            "0% [█] 100% | ETA: 00:00:00\n",
            "Total time elapsed: 00:00:00\n"
          ]
        },
        {
          "output_type": "stream",
          "name": "stdout",
          "text": [
            "Finished Epoch 68 || Run Time:    0.2 | Load Time:    0.3 || F1:  84.75 | Prec:  78.12 | Rec:  92.59 || Ex/s: 195.61\n",
            "\n",
            "---------------------\n",
            "\n",
            "===>  TRAIN Epoch 69\n"
          ]
        },
        {
          "output_type": "stream",
          "name": "stderr",
          "text": [
            "0% [████] 100% | ETA: 00:00:00\n",
            "Total time elapsed: 00:00:02\n"
          ]
        },
        {
          "output_type": "stream",
          "name": "stdout",
          "text": [
            "Finished Epoch 69 || Run Time:    1.3 | Load Time:    0.9 || F1: 100.00 | Prec: 100.00 | Rec: 100.00 || Ex/s: 144.53\n",
            "\n",
            "===>  EVAL Epoch 69\n"
          ]
        },
        {
          "output_type": "stream",
          "name": "stderr",
          "text": [
            "0% [█] 100% | ETA: 00:00:00\n",
            "Total time elapsed: 00:00:00\n"
          ]
        },
        {
          "output_type": "stream",
          "name": "stdout",
          "text": [
            "Finished Epoch 69 || Run Time:    0.2 | Load Time:    0.3 || F1:  84.75 | Prec:  78.12 | Rec:  92.59 || Ex/s: 199.98\n",
            "\n",
            "---------------------\n",
            "\n",
            "===>  TRAIN Epoch 70\n"
          ]
        },
        {
          "output_type": "stream",
          "name": "stderr",
          "text": [
            "0% [████] 100% | ETA: 00:00:00\n",
            "Total time elapsed: 00:00:02\n"
          ]
        },
        {
          "output_type": "stream",
          "name": "stdout",
          "text": [
            "Finished Epoch 70 || Run Time:    1.3 | Load Time:    0.9 || F1: 100.00 | Prec: 100.00 | Rec: 100.00 || Ex/s: 143.98\n",
            "\n",
            "===>  EVAL Epoch 70\n"
          ]
        },
        {
          "output_type": "stream",
          "name": "stderr",
          "text": [
            "0% [█] 100% | ETA: 00:00:00\n",
            "Total time elapsed: 00:00:00\n"
          ]
        },
        {
          "output_type": "stream",
          "name": "stdout",
          "text": [
            "Finished Epoch 70 || Run Time:    0.2 | Load Time:    0.3 || F1:  84.75 | Prec:  78.12 | Rec:  92.59 || Ex/s: 201.46\n",
            "\n",
            "---------------------\n",
            "\n",
            "===>  TRAIN Epoch 71\n"
          ]
        },
        {
          "output_type": "stream",
          "name": "stderr",
          "text": [
            "0% [████] 100% | ETA: 00:00:00\n",
            "Total time elapsed: 00:00:02\n"
          ]
        },
        {
          "output_type": "stream",
          "name": "stdout",
          "text": [
            "Finished Epoch 71 || Run Time:    1.3 | Load Time:    0.9 || F1: 100.00 | Prec: 100.00 | Rec: 100.00 || Ex/s: 143.82\n",
            "\n",
            "===>  EVAL Epoch 71\n"
          ]
        },
        {
          "output_type": "stream",
          "name": "stderr",
          "text": [
            "0% [█] 100% | ETA: 00:00:00\n",
            "Total time elapsed: 00:00:00\n"
          ]
        },
        {
          "output_type": "stream",
          "name": "stdout",
          "text": [
            "Finished Epoch 71 || Run Time:    0.2 | Load Time:    0.3 || F1:  84.75 | Prec:  78.12 | Rec:  92.59 || Ex/s: 202.99\n",
            "\n",
            "---------------------\n",
            "\n",
            "===>  TRAIN Epoch 72\n"
          ]
        },
        {
          "output_type": "stream",
          "name": "stderr",
          "text": [
            "0% [████] 100% | ETA: 00:00:00\n",
            "Total time elapsed: 00:00:02\n"
          ]
        },
        {
          "output_type": "stream",
          "name": "stdout",
          "text": [
            "Finished Epoch 72 || Run Time:    1.7 | Load Time:    1.2 || F1: 100.00 | Prec: 100.00 | Rec: 100.00 || Ex/s: 109.80\n",
            "\n",
            "===>  EVAL Epoch 72\n"
          ]
        },
        {
          "output_type": "stream",
          "name": "stderr",
          "text": [
            "0% [█] 100% | ETA: 00:00:00\n",
            "Total time elapsed: 00:00:00\n"
          ]
        },
        {
          "output_type": "stream",
          "name": "stdout",
          "text": [
            "Finished Epoch 72 || Run Time:    0.3 | Load Time:    0.4 || F1:  84.75 | Prec:  78.12 | Rec:  92.59 || Ex/s: 149.24\n",
            "\n",
            "---------------------\n",
            "\n",
            "===>  TRAIN Epoch 73\n"
          ]
        },
        {
          "output_type": "stream",
          "name": "stderr",
          "text": [
            "0% [████] 100% | ETA: 00:00:00\n",
            "Total time elapsed: 00:00:02\n"
          ]
        },
        {
          "output_type": "stream",
          "name": "stdout",
          "text": [
            "Finished Epoch 73 || Run Time:    1.3 | Load Time:    1.0 || F1: 100.00 | Prec: 100.00 | Rec: 100.00 || Ex/s: 140.47\n",
            "\n",
            "===>  EVAL Epoch 73\n"
          ]
        },
        {
          "output_type": "stream",
          "name": "stderr",
          "text": [
            "0% [█] 100% | ETA: 00:00:00\n",
            "Total time elapsed: 00:00:00\n"
          ]
        },
        {
          "output_type": "stream",
          "name": "stdout",
          "text": [
            "Finished Epoch 73 || Run Time:    0.2 | Load Time:    0.3 || F1:  84.75 | Prec:  78.12 | Rec:  92.59 || Ex/s: 200.22\n",
            "\n",
            "---------------------\n",
            "\n",
            "===>  TRAIN Epoch 74\n"
          ]
        },
        {
          "output_type": "stream",
          "name": "stderr",
          "text": [
            "0% [████] 100% | ETA: 00:00:00\n",
            "Total time elapsed: 00:00:02\n"
          ]
        },
        {
          "output_type": "stream",
          "name": "stdout",
          "text": [
            "Finished Epoch 74 || Run Time:    1.3 | Load Time:    0.9 || F1: 100.00 | Prec: 100.00 | Rec: 100.00 || Ex/s: 145.49\n",
            "\n",
            "===>  EVAL Epoch 74\n"
          ]
        },
        {
          "output_type": "stream",
          "name": "stderr",
          "text": [
            "0% [█] 100% | ETA: 00:00:00\n",
            "Total time elapsed: 00:00:00\n"
          ]
        },
        {
          "output_type": "stream",
          "name": "stdout",
          "text": [
            "Finished Epoch 74 || Run Time:    0.2 | Load Time:    0.3 || F1:  84.75 | Prec:  78.12 | Rec:  92.59 || Ex/s: 199.77\n",
            "\n",
            "---------------------\n",
            "\n",
            "===>  TRAIN Epoch 75\n"
          ]
        },
        {
          "output_type": "stream",
          "name": "stderr",
          "text": [
            "0% [████] 100% | ETA: 00:00:00\n",
            "Total time elapsed: 00:00:02\n"
          ]
        },
        {
          "output_type": "stream",
          "name": "stdout",
          "text": [
            "Finished Epoch 75 || Run Time:    1.3 | Load Time:    0.9 || F1: 100.00 | Prec: 100.00 | Rec: 100.00 || Ex/s: 145.76\n",
            "\n",
            "===>  EVAL Epoch 75\n"
          ]
        },
        {
          "output_type": "stream",
          "name": "stderr",
          "text": [
            "0% [█] 100% | ETA: 00:00:00\n",
            "Total time elapsed: 00:00:00\n"
          ]
        },
        {
          "output_type": "stream",
          "name": "stdout",
          "text": [
            "Finished Epoch 75 || Run Time:    0.2 | Load Time:    0.3 || F1:  84.75 | Prec:  78.12 | Rec:  92.59 || Ex/s: 191.64\n",
            "\n",
            "---------------------\n",
            "\n",
            "===>  TRAIN Epoch 76\n"
          ]
        },
        {
          "output_type": "stream",
          "name": "stderr",
          "text": [
            "0% [████] 100% | ETA: 00:00:00\n",
            "Total time elapsed: 00:00:02\n"
          ]
        },
        {
          "output_type": "stream",
          "name": "stdout",
          "text": [
            "Finished Epoch 76 || Run Time:    1.4 | Load Time:    1.0 || F1: 100.00 | Prec: 100.00 | Rec: 100.00 || Ex/s: 136.16\n",
            "\n",
            "===>  EVAL Epoch 76\n"
          ]
        },
        {
          "output_type": "stream",
          "name": "stderr",
          "text": [
            "0% [█] 100% | ETA: 00:00:00\n",
            "Total time elapsed: 00:00:00\n"
          ]
        },
        {
          "output_type": "stream",
          "name": "stdout",
          "text": [
            "Finished Epoch 76 || Run Time:    0.3 | Load Time:    0.4 || F1:  84.75 | Prec:  78.12 | Rec:  92.59 || Ex/s: 156.64\n",
            "\n",
            "---------------------\n",
            "\n",
            "===>  TRAIN Epoch 77\n"
          ]
        },
        {
          "output_type": "stream",
          "name": "stderr",
          "text": [
            "0% [████] 100% | ETA: 00:00:00\n",
            "Total time elapsed: 00:00:02\n"
          ]
        },
        {
          "output_type": "stream",
          "name": "stdout",
          "text": [
            "Finished Epoch 77 || Run Time:    1.6 | Load Time:    1.2 || F1: 100.00 | Prec: 100.00 | Rec: 100.00 || Ex/s: 116.56\n",
            "\n",
            "===>  EVAL Epoch 77\n"
          ]
        },
        {
          "output_type": "stream",
          "name": "stderr",
          "text": [
            "0% [█] 100% | ETA: 00:00:00\n",
            "Total time elapsed: 00:00:00\n"
          ]
        },
        {
          "output_type": "stream",
          "name": "stdout",
          "text": [
            "Finished Epoch 77 || Run Time:    0.2 | Load Time:    0.3 || F1:  84.75 | Prec:  78.12 | Rec:  92.59 || Ex/s: 198.82\n",
            "\n",
            "---------------------\n",
            "\n",
            "===>  TRAIN Epoch 78\n"
          ]
        },
        {
          "output_type": "stream",
          "name": "stderr",
          "text": [
            "0% [████] 100% | ETA: 00:00:00\n",
            "Total time elapsed: 00:00:02\n"
          ]
        },
        {
          "output_type": "stream",
          "name": "stdout",
          "text": [
            "Finished Epoch 78 || Run Time:    1.3 | Load Time:    0.9 || F1: 100.00 | Prec: 100.00 | Rec: 100.00 || Ex/s: 144.81\n",
            "\n",
            "===>  EVAL Epoch 78\n"
          ]
        },
        {
          "output_type": "stream",
          "name": "stderr",
          "text": [
            "0% [█] 100% | ETA: 00:00:00\n",
            "Total time elapsed: 00:00:00\n"
          ]
        },
        {
          "output_type": "stream",
          "name": "stdout",
          "text": [
            "Finished Epoch 78 || Run Time:    0.2 | Load Time:    0.3 || F1:  84.75 | Prec:  78.12 | Rec:  92.59 || Ex/s: 196.64\n",
            "\n",
            "---------------------\n",
            "\n",
            "===>  TRAIN Epoch 79\n"
          ]
        },
        {
          "output_type": "stream",
          "name": "stderr",
          "text": [
            "0% [████] 100% | ETA: 00:00:00\n",
            "Total time elapsed: 00:00:02\n"
          ]
        },
        {
          "output_type": "stream",
          "name": "stdout",
          "text": [
            "Finished Epoch 79 || Run Time:    1.3 | Load Time:    0.9 || F1: 100.00 | Prec: 100.00 | Rec: 100.00 || Ex/s: 144.89\n",
            "\n",
            "===>  EVAL Epoch 79\n"
          ]
        },
        {
          "output_type": "stream",
          "name": "stderr",
          "text": [
            "0% [█] 100% | ETA: 00:00:00\n",
            "Total time elapsed: 00:00:00\n"
          ]
        },
        {
          "output_type": "stream",
          "name": "stdout",
          "text": [
            "Finished Epoch 79 || Run Time:    0.2 | Load Time:    0.3 || F1:  84.75 | Prec:  78.12 | Rec:  92.59 || Ex/s: 198.62\n",
            "\n",
            "---------------------\n",
            "\n",
            "===>  TRAIN Epoch 80\n"
          ]
        },
        {
          "output_type": "stream",
          "name": "stderr",
          "text": [
            "0% [████] 100% | ETA: 00:00:00\n",
            "Total time elapsed: 00:00:02\n"
          ]
        },
        {
          "output_type": "stream",
          "name": "stdout",
          "text": [
            "Finished Epoch 80 || Run Time:    1.3 | Load Time:    0.9 || F1: 100.00 | Prec: 100.00 | Rec: 100.00 || Ex/s: 145.05\n",
            "\n",
            "===>  EVAL Epoch 80\n"
          ]
        },
        {
          "output_type": "stream",
          "name": "stderr",
          "text": [
            "0% [█] 100% | ETA: 00:00:00\n",
            "Total time elapsed: 00:00:00\n"
          ]
        },
        {
          "output_type": "stream",
          "name": "stdout",
          "text": [
            "Finished Epoch 80 || Run Time:    0.2 | Load Time:    0.3 || F1:  84.75 | Prec:  78.12 | Rec:  92.59 || Ex/s: 201.23\n",
            "\n",
            "---------------------\n",
            "\n",
            "===>  TRAIN Epoch 81\n"
          ]
        },
        {
          "output_type": "stream",
          "name": "stderr",
          "text": [
            "0% [████] 100% | ETA: 00:00:00\n",
            "Total time elapsed: 00:00:02\n"
          ]
        },
        {
          "output_type": "stream",
          "name": "stdout",
          "text": [
            "Finished Epoch 81 || Run Time:    1.7 | Load Time:    1.2 || F1: 100.00 | Prec: 100.00 | Rec: 100.00 || Ex/s: 112.53\n",
            "\n",
            "===>  EVAL Epoch 81\n"
          ]
        },
        {
          "output_type": "stream",
          "name": "stderr",
          "text": [
            "0% [█] 100% | ETA: 00:00:00\n",
            "Total time elapsed: 00:00:00\n"
          ]
        },
        {
          "output_type": "stream",
          "name": "stdout",
          "text": [
            "Finished Epoch 81 || Run Time:    0.3 | Load Time:    0.4 || F1:  84.75 | Prec:  78.12 | Rec:  92.59 || Ex/s: 154.14\n",
            "\n",
            "---------------------\n",
            "\n",
            "===>  TRAIN Epoch 82\n"
          ]
        },
        {
          "output_type": "stream",
          "name": "stderr",
          "text": [
            "0% [████] 100% | ETA: 00:00:00\n",
            "Total time elapsed: 00:00:02\n"
          ]
        },
        {
          "output_type": "stream",
          "name": "stdout",
          "text": [
            "Finished Epoch 82 || Run Time:    1.4 | Load Time:    1.0 || F1: 100.00 | Prec: 100.00 | Rec: 100.00 || Ex/s: 132.56\n",
            "\n",
            "===>  EVAL Epoch 82\n"
          ]
        },
        {
          "output_type": "stream",
          "name": "stderr",
          "text": [
            "0% [█] 100% | ETA: 00:00:00\n",
            "Total time elapsed: 00:00:00\n"
          ]
        },
        {
          "output_type": "stream",
          "name": "stdout",
          "text": [
            "Finished Epoch 82 || Run Time:    0.2 | Load Time:    0.3 || F1:  84.75 | Prec:  78.12 | Rec:  92.59 || Ex/s: 199.06\n",
            "\n",
            "---------------------\n",
            "\n",
            "===>  TRAIN Epoch 83\n"
          ]
        },
        {
          "output_type": "stream",
          "name": "stderr",
          "text": [
            "0% [████] 100% | ETA: 00:00:00\n",
            "Total time elapsed: 00:00:02\n"
          ]
        },
        {
          "output_type": "stream",
          "name": "stdout",
          "text": [
            "Finished Epoch 83 || Run Time:    1.3 | Load Time:    1.0 || F1: 100.00 | Prec: 100.00 | Rec: 100.00 || Ex/s: 142.77\n",
            "\n",
            "===>  EVAL Epoch 83\n"
          ]
        },
        {
          "output_type": "stream",
          "name": "stderr",
          "text": [
            "0% [█] 100% | ETA: 00:00:00\n",
            "Total time elapsed: 00:00:00\n"
          ]
        },
        {
          "output_type": "stream",
          "name": "stdout",
          "text": [
            "Finished Epoch 83 || Run Time:    0.2 | Load Time:    0.3 || F1:  84.75 | Prec:  78.12 | Rec:  92.59 || Ex/s: 201.18\n",
            "\n",
            "---------------------\n",
            "\n",
            "===>  TRAIN Epoch 84\n"
          ]
        },
        {
          "output_type": "stream",
          "name": "stderr",
          "text": [
            "0% [████] 100% | ETA: 00:00:00\n",
            "Total time elapsed: 00:00:02\n"
          ]
        },
        {
          "output_type": "stream",
          "name": "stdout",
          "text": [
            "Finished Epoch 84 || Run Time:    1.3 | Load Time:    0.9 || F1: 100.00 | Prec: 100.00 | Rec: 100.00 || Ex/s: 144.56\n",
            "\n",
            "===>  EVAL Epoch 84\n"
          ]
        },
        {
          "output_type": "stream",
          "name": "stderr",
          "text": [
            "0% [█] 100% | ETA: 00:00:00\n",
            "Total time elapsed: 00:00:00\n"
          ]
        },
        {
          "output_type": "stream",
          "name": "stdout",
          "text": [
            "Finished Epoch 84 || Run Time:    0.2 | Load Time:    0.3 || F1:  84.75 | Prec:  78.12 | Rec:  92.59 || Ex/s: 195.81\n",
            "\n",
            "---------------------\n",
            "\n",
            "===>  TRAIN Epoch 85\n"
          ]
        },
        {
          "output_type": "stream",
          "name": "stderr",
          "text": [
            "0% [████] 100% | ETA: 00:00:00\n",
            "Total time elapsed: 00:00:02\n"
          ]
        },
        {
          "output_type": "stream",
          "name": "stdout",
          "text": [
            "Finished Epoch 85 || Run Time:    1.5 | Load Time:    1.0 || F1: 100.00 | Prec: 100.00 | Rec: 100.00 || Ex/s: 127.27\n",
            "\n",
            "===>  EVAL Epoch 85\n"
          ]
        },
        {
          "output_type": "stream",
          "name": "stderr",
          "text": [
            "0% [█] 100% | ETA: 00:00:00\n",
            "Total time elapsed: 00:00:00\n"
          ]
        },
        {
          "output_type": "stream",
          "name": "stdout",
          "text": [
            "Finished Epoch 85 || Run Time:    0.3 | Load Time:    0.4 || F1:  84.75 | Prec:  78.12 | Rec:  92.59 || Ex/s: 153.81\n",
            "\n",
            "---------------------\n",
            "\n",
            "===>  TRAIN Epoch 86\n"
          ]
        },
        {
          "output_type": "stream",
          "name": "stderr",
          "text": [
            "0% [████] 100% | ETA: 00:00:00\n",
            "Total time elapsed: 00:00:02\n"
          ]
        },
        {
          "output_type": "stream",
          "name": "stdout",
          "text": [
            "Finished Epoch 86 || Run Time:    1.7 | Load Time:    1.2 || F1: 100.00 | Prec: 100.00 | Rec: 100.00 || Ex/s: 112.83\n",
            "\n",
            "===>  EVAL Epoch 86\n"
          ]
        },
        {
          "output_type": "stream",
          "name": "stderr",
          "text": [
            "0% [█] 100% | ETA: 00:00:00\n",
            "Total time elapsed: 00:00:00\n"
          ]
        },
        {
          "output_type": "stream",
          "name": "stdout",
          "text": [
            "Finished Epoch 86 || Run Time:    0.2 | Load Time:    0.3 || F1:  84.75 | Prec:  78.12 | Rec:  92.59 || Ex/s: 197.94\n",
            "\n",
            "---------------------\n",
            "\n",
            "===>  TRAIN Epoch 87\n"
          ]
        },
        {
          "output_type": "stream",
          "name": "stderr",
          "text": [
            "0% [████] 100% | ETA: 00:00:00\n",
            "Total time elapsed: 00:00:02\n"
          ]
        },
        {
          "output_type": "stream",
          "name": "stdout",
          "text": [
            "Finished Epoch 87 || Run Time:    1.3 | Load Time:    0.9 || F1: 100.00 | Prec: 100.00 | Rec: 100.00 || Ex/s: 143.59\n",
            "\n",
            "===>  EVAL Epoch 87\n"
          ]
        },
        {
          "output_type": "stream",
          "name": "stderr",
          "text": [
            "0% [█] 100% | ETA: 00:00:00\n",
            "Total time elapsed: 00:00:00\n"
          ]
        },
        {
          "output_type": "stream",
          "name": "stdout",
          "text": [
            "Finished Epoch 87 || Run Time:    0.2 | Load Time:    0.3 || F1:  84.75 | Prec:  78.12 | Rec:  92.59 || Ex/s: 202.38\n",
            "\n",
            "---------------------\n",
            "\n",
            "===>  TRAIN Epoch 88\n"
          ]
        },
        {
          "output_type": "stream",
          "name": "stderr",
          "text": [
            "0% [████] 100% | ETA: 00:00:00\n",
            "Total time elapsed: 00:00:02\n"
          ]
        },
        {
          "output_type": "stream",
          "name": "stdout",
          "text": [
            "Finished Epoch 88 || Run Time:    1.3 | Load Time:    0.9 || F1: 100.00 | Prec: 100.00 | Rec: 100.00 || Ex/s: 144.85\n",
            "\n",
            "===>  EVAL Epoch 88\n"
          ]
        },
        {
          "output_type": "stream",
          "name": "stderr",
          "text": [
            "0% [█] 100% | ETA: 00:00:00\n",
            "Total time elapsed: 00:00:00\n"
          ]
        },
        {
          "output_type": "stream",
          "name": "stdout",
          "text": [
            "Finished Epoch 88 || Run Time:    0.2 | Load Time:    0.3 || F1:  84.75 | Prec:  78.12 | Rec:  92.59 || Ex/s: 203.52\n",
            "\n",
            "---------------------\n",
            "\n",
            "===>  TRAIN Epoch 89\n"
          ]
        },
        {
          "output_type": "stream",
          "name": "stderr",
          "text": [
            "0% [████] 100% | ETA: 00:00:00\n",
            "Total time elapsed: 00:00:02\n"
          ]
        },
        {
          "output_type": "stream",
          "name": "stdout",
          "text": [
            "Finished Epoch 89 || Run Time:    1.3 | Load Time:    0.9 || F1: 100.00 | Prec: 100.00 | Rec: 100.00 || Ex/s: 145.20\n",
            "\n",
            "===>  EVAL Epoch 89\n"
          ]
        },
        {
          "output_type": "stream",
          "name": "stderr",
          "text": [
            "0% [█] 100% | ETA: 00:00:00\n",
            "Total time elapsed: 00:00:00\n"
          ]
        },
        {
          "output_type": "stream",
          "name": "stdout",
          "text": [
            "Finished Epoch 89 || Run Time:    0.2 | Load Time:    0.3 || F1:  84.75 | Prec:  78.12 | Rec:  92.59 || Ex/s: 195.25\n",
            "\n",
            "---------------------\n",
            "\n",
            "===>  TRAIN Epoch 90\n"
          ]
        },
        {
          "output_type": "stream",
          "name": "stderr",
          "text": [
            "0% [████] 100% | ETA: 00:00:00\n",
            "Total time elapsed: 00:00:02\n"
          ]
        },
        {
          "output_type": "stream",
          "name": "stdout",
          "text": [
            "Finished Epoch 90 || Run Time:    1.6 | Load Time:    1.1 || F1: 100.00 | Prec: 100.00 | Rec: 100.00 || Ex/s: 118.05\n",
            "\n",
            "===>  EVAL Epoch 90\n"
          ]
        },
        {
          "output_type": "stream",
          "name": "stderr",
          "text": [
            "0% [█] 100% | ETA: 00:00:00\n",
            "Total time elapsed: 00:00:00\n"
          ]
        },
        {
          "output_type": "stream",
          "name": "stdout",
          "text": [
            "Finished Epoch 90 || Run Time:    0.3 | Load Time:    0.4 || F1:  84.75 | Prec:  78.12 | Rec:  92.59 || Ex/s: 152.61\n",
            "\n",
            "---------------------\n",
            "\n",
            "===>  TRAIN Epoch 91\n"
          ]
        },
        {
          "output_type": "stream",
          "name": "stderr",
          "text": [
            "0% [████] 100% | ETA: 00:00:00\n",
            "Total time elapsed: 00:00:02\n"
          ]
        },
        {
          "output_type": "stream",
          "name": "stdout",
          "text": [
            "Finished Epoch 91 || Run Time:    1.5 | Load Time:    1.1 || F1: 100.00 | Prec: 100.00 | Rec: 100.00 || Ex/s: 127.17\n",
            "\n",
            "===>  EVAL Epoch 91\n"
          ]
        },
        {
          "output_type": "stream",
          "name": "stderr",
          "text": [
            "0% [█] 100% | ETA: 00:00:00\n",
            "Total time elapsed: 00:00:00\n"
          ]
        },
        {
          "output_type": "stream",
          "name": "stdout",
          "text": [
            "Finished Epoch 91 || Run Time:    0.2 | Load Time:    0.3 || F1:  84.75 | Prec:  78.12 | Rec:  92.59 || Ex/s: 198.58\n",
            "\n",
            "---------------------\n",
            "\n",
            "===>  TRAIN Epoch 92\n"
          ]
        },
        {
          "output_type": "stream",
          "name": "stderr",
          "text": [
            "0% [████] 100% | ETA: 00:00:00\n",
            "Total time elapsed: 00:00:02\n"
          ]
        },
        {
          "output_type": "stream",
          "name": "stdout",
          "text": [
            "Finished Epoch 92 || Run Time:    1.3 | Load Time:    0.9 || F1: 100.00 | Prec: 100.00 | Rec: 100.00 || Ex/s: 146.32\n",
            "\n",
            "===>  EVAL Epoch 92\n"
          ]
        },
        {
          "output_type": "stream",
          "name": "stderr",
          "text": [
            "0% [█] 100% | ETA: 00:00:00\n",
            "Total time elapsed: 00:00:00\n"
          ]
        },
        {
          "output_type": "stream",
          "name": "stdout",
          "text": [
            "Finished Epoch 92 || Run Time:    0.2 | Load Time:    0.3 || F1:  84.75 | Prec:  78.12 | Rec:  92.59 || Ex/s: 200.28\n",
            "\n",
            "---------------------\n",
            "\n",
            "===>  TRAIN Epoch 93\n"
          ]
        },
        {
          "output_type": "stream",
          "name": "stderr",
          "text": [
            "0% [████] 100% | ETA: 00:00:00\n",
            "Total time elapsed: 00:00:02\n"
          ]
        },
        {
          "output_type": "stream",
          "name": "stdout",
          "text": [
            "Finished Epoch 93 || Run Time:    1.3 | Load Time:    0.9 || F1: 100.00 | Prec: 100.00 | Rec: 100.00 || Ex/s: 144.66\n",
            "\n",
            "===>  EVAL Epoch 93\n"
          ]
        },
        {
          "output_type": "stream",
          "name": "stderr",
          "text": [
            "0% [█] 100% | ETA: 00:00:00\n",
            "Total time elapsed: 00:00:00\n"
          ]
        },
        {
          "output_type": "stream",
          "name": "stdout",
          "text": [
            "Finished Epoch 93 || Run Time:    0.2 | Load Time:    0.3 || F1:  84.75 | Prec:  78.12 | Rec:  92.59 || Ex/s: 204.02\n",
            "\n",
            "---------------------\n",
            "\n",
            "===>  TRAIN Epoch 94\n"
          ]
        },
        {
          "output_type": "stream",
          "name": "stderr",
          "text": [
            "0% [████] 100% | ETA: 00:00:00\n",
            "Total time elapsed: 00:00:02\n"
          ]
        },
        {
          "output_type": "stream",
          "name": "stdout",
          "text": [
            "Finished Epoch 94 || Run Time:    1.3 | Load Time:    0.9 || F1: 100.00 | Prec: 100.00 | Rec: 100.00 || Ex/s: 147.43\n",
            "\n",
            "===>  EVAL Epoch 94\n"
          ]
        },
        {
          "output_type": "stream",
          "name": "stderr",
          "text": [
            "0% [█] 100% | ETA: 00:00:00\n",
            "Total time elapsed: 00:00:00\n"
          ]
        },
        {
          "output_type": "stream",
          "name": "stdout",
          "text": [
            "Finished Epoch 94 || Run Time:    0.3 | Load Time:    0.4 || F1:  84.75 | Prec:  78.12 | Rec:  92.59 || Ex/s: 162.62\n",
            "\n",
            "---------------------\n",
            "\n",
            "===>  TRAIN Epoch 95\n"
          ]
        },
        {
          "output_type": "stream",
          "name": "stderr",
          "text": [
            "0% [████] 100% | ETA: 00:00:00\n",
            "Total time elapsed: 00:00:02\n"
          ]
        },
        {
          "output_type": "stream",
          "name": "stdout",
          "text": [
            "Finished Epoch 95 || Run Time:    1.7 | Load Time:    1.2 || F1: 100.00 | Prec: 100.00 | Rec: 100.00 || Ex/s: 108.94\n",
            "\n",
            "===>  EVAL Epoch 95\n"
          ]
        },
        {
          "output_type": "stream",
          "name": "stderr",
          "text": [
            "0% [█] 100% | ETA: 00:00:00\n",
            "Total time elapsed: 00:00:00\n"
          ]
        },
        {
          "output_type": "stream",
          "name": "stdout",
          "text": [
            "Finished Epoch 95 || Run Time:    0.2 | Load Time:    0.3 || F1:  84.75 | Prec:  78.12 | Rec:  92.59 || Ex/s: 182.58\n",
            "\n",
            "---------------------\n",
            "\n",
            "===>  TRAIN Epoch 96\n"
          ]
        },
        {
          "output_type": "stream",
          "name": "stderr",
          "text": [
            "0% [████] 100% | ETA: 00:00:00\n",
            "Total time elapsed: 00:00:02\n"
          ]
        },
        {
          "output_type": "stream",
          "name": "stdout",
          "text": [
            "Finished Epoch 96 || Run Time:    1.3 | Load Time:    0.9 || F1: 100.00 | Prec: 100.00 | Rec: 100.00 || Ex/s: 145.39\n",
            "\n",
            "===>  EVAL Epoch 96\n"
          ]
        },
        {
          "output_type": "stream",
          "name": "stderr",
          "text": [
            "0% [█] 100% | ETA: 00:00:00\n",
            "Total time elapsed: 00:00:00\n"
          ]
        },
        {
          "output_type": "stream",
          "name": "stdout",
          "text": [
            "Finished Epoch 96 || Run Time:    0.2 | Load Time:    0.3 || F1:  84.75 | Prec:  78.12 | Rec:  92.59 || Ex/s: 200.45\n",
            "\n",
            "---------------------\n",
            "\n",
            "===>  TRAIN Epoch 97\n"
          ]
        },
        {
          "output_type": "stream",
          "name": "stderr",
          "text": [
            "0% [████] 100% | ETA: 00:00:00\n",
            "Total time elapsed: 00:00:02\n"
          ]
        },
        {
          "output_type": "stream",
          "name": "stdout",
          "text": [
            "Finished Epoch 97 || Run Time:    1.3 | Load Time:    0.9 || F1: 100.00 | Prec: 100.00 | Rec: 100.00 || Ex/s: 145.24\n",
            "\n",
            "===>  EVAL Epoch 97\n"
          ]
        },
        {
          "output_type": "stream",
          "name": "stderr",
          "text": [
            "0% [█] 100% | ETA: 00:00:00\n",
            "Total time elapsed: 00:00:00\n"
          ]
        },
        {
          "output_type": "stream",
          "name": "stdout",
          "text": [
            "Finished Epoch 97 || Run Time:    0.2 | Load Time:    0.3 || F1:  84.75 | Prec:  78.12 | Rec:  92.59 || Ex/s: 198.14\n",
            "\n",
            "---------------------\n",
            "\n",
            "===>  TRAIN Epoch 98\n"
          ]
        },
        {
          "output_type": "stream",
          "name": "stderr",
          "text": [
            "0% [████] 100% | ETA: 00:00:00\n",
            "Total time elapsed: 00:00:02\n"
          ]
        },
        {
          "output_type": "stream",
          "name": "stdout",
          "text": [
            "Finished Epoch 98 || Run Time:    1.3 | Load Time:    0.9 || F1: 100.00 | Prec: 100.00 | Rec: 100.00 || Ex/s: 144.56\n",
            "\n",
            "===>  EVAL Epoch 98\n"
          ]
        },
        {
          "output_type": "stream",
          "name": "stderr",
          "text": [
            "0% [█] 100% | ETA: 00:00:00\n",
            "Total time elapsed: 00:00:00\n"
          ]
        },
        {
          "output_type": "stream",
          "name": "stdout",
          "text": [
            "Finished Epoch 98 || Run Time:    0.2 | Load Time:    0.3 || F1:  84.75 | Prec:  78.12 | Rec:  92.59 || Ex/s: 193.85\n",
            "\n",
            "---------------------\n",
            "\n",
            "===>  TRAIN Epoch 99\n"
          ]
        },
        {
          "output_type": "stream",
          "name": "stderr",
          "text": [
            "0% [████] 100% | ETA: 00:00:00\n",
            "Total time elapsed: 00:00:02\n"
          ]
        },
        {
          "output_type": "stream",
          "name": "stdout",
          "text": [
            "Finished Epoch 99 || Run Time:    1.5 | Load Time:    1.1 || F1: 100.00 | Prec: 100.00 | Rec: 100.00 || Ex/s: 125.85\n",
            "\n",
            "===>  EVAL Epoch 99\n"
          ]
        },
        {
          "output_type": "stream",
          "name": "stderr",
          "text": [
            "0% [█] 100% | ETA: 00:00:00\n",
            "Total time elapsed: 00:00:00\n"
          ]
        },
        {
          "output_type": "stream",
          "name": "stdout",
          "text": [
            "Finished Epoch 99 || Run Time:    0.3 | Load Time:    0.4 || F1:  84.75 | Prec:  78.12 | Rec:  92.59 || Ex/s: 152.43\n",
            "\n",
            "---------------------\n",
            "\n",
            "===>  TRAIN Epoch 100\n"
          ]
        },
        {
          "output_type": "stream",
          "name": "stderr",
          "text": [
            "0% [████] 100% | ETA: 00:00:00\n",
            "Total time elapsed: 00:00:02\n"
          ]
        },
        {
          "output_type": "stream",
          "name": "stdout",
          "text": [
            "Finished Epoch 100 || Run Time:    1.5 | Load Time:    1.1 || F1: 100.00 | Prec: 100.00 | Rec: 100.00 || Ex/s: 122.28\n",
            "\n",
            "===>  EVAL Epoch 100\n"
          ]
        },
        {
          "output_type": "stream",
          "name": "stderr",
          "text": [
            "0% [█] 100% | ETA: 00:00:00\n",
            "Total time elapsed: 00:00:00\n"
          ]
        },
        {
          "output_type": "stream",
          "name": "stdout",
          "text": [
            "Finished Epoch 100 || Run Time:    0.2 | Load Time:    0.3 || F1:  84.75 | Prec:  78.12 | Rec:  92.59 || Ex/s: 196.63\n",
            "\n",
            "---------------------\n",
            "\n",
            "Loading best model...\n",
            "Training done.\n"
          ]
        },
        {
          "output_type": "execute_result",
          "data": {
            "text/plain": [
              "tensor(92.5926, device='cuda:0')"
            ]
          },
          "metadata": {},
          "execution_count": 46
        }
      ]
    },
    {
      "cell_type": "code",
      "source": [
        "attention_model = dm.MatchingModel(attr_summarizer='attention')\n",
        "# 73s"
      ],
      "metadata": {
        "id": "ZVgTSimK12fC"
      },
      "execution_count": null,
      "outputs": []
    },
    {
      "cell_type": "code",
      "source": [
        "attention_model.run_train(\n",
        "    train,\n",
        "    validation,\n",
        "    epochs=100,\n",
        "    batch_size=16,\n",
        "    best_save_path='attention_model.pth',\n",
        "    pos_neg_ratio=3)"
      ],
      "metadata": {
        "colab": {
          "base_uri": "https://localhost:8080/"
        },
        "id": "XH8tAYhh2F6i",
        "outputId": "98e83a61-1ffc-42a2-b6d6-ed27f6cc81e4"
      },
      "execution_count": null,
      "outputs": [
        {
          "output_type": "stream",
          "name": "stdout",
          "text": [
            "* Number of trainable parameters: 8121802\n",
            "===>  TRAIN Epoch 1\n"
          ]
        },
        {
          "output_type": "stream",
          "name": "stderr",
          "text": [
            "0% [████] 100% | ETA: 00:00:00\n",
            "Total time elapsed: 00:00:03\n"
          ]
        },
        {
          "output_type": "stream",
          "name": "stdout",
          "text": [
            "Finished Epoch 1 || Run Time:    3.3 | Load Time:    1.0 || F1:  40.95 | Prec:  32.58 | Rec:  55.13 || Ex/s:  73.93\n",
            "\n",
            "===>  EVAL Epoch 1\n"
          ]
        },
        {
          "output_type": "stream",
          "name": "stderr",
          "text": [
            "0% [█] 100% | ETA: 00:00:00\n",
            "Total time elapsed: 00:00:00\n"
          ]
        },
        {
          "output_type": "stream",
          "name": "stdout",
          "text": [
            "Finished Epoch 1 || Run Time:    0.9 | Load Time:    0.4 || F1:  53.49 | Prec:  38.98 | Rec:  85.19 || Ex/s:  82.24\n",
            "\n",
            "* Best F1: tensor(53.4884, device='cuda:0')\n",
            "Saving best model...\n",
            "Done.\n",
            "---------------------\n",
            "\n",
            "===>  TRAIN Epoch 2\n"
          ]
        },
        {
          "output_type": "stream",
          "name": "stderr",
          "text": [
            "0% [████] 100% | ETA: 00:00:00\n",
            "Total time elapsed: 00:00:05\n"
          ]
        },
        {
          "output_type": "stream",
          "name": "stdout",
          "text": [
            "Finished Epoch 2 || Run Time:    4.4 | Load Time:    1.3 || F1:  62.39 | Prec:  48.57 | Rec:  87.18 || Ex/s:  55.57\n",
            "\n",
            "===>  EVAL Epoch 2\n"
          ]
        },
        {
          "output_type": "stream",
          "name": "stderr",
          "text": [
            "0% [█] 100% | ETA: 00:00:00\n",
            "Total time elapsed: 00:00:00\n"
          ]
        },
        {
          "output_type": "stream",
          "name": "stdout",
          "text": [
            "Finished Epoch 2 || Run Time:    0.7 | Load Time:    0.3 || F1:  63.77 | Prec:  52.38 | Rec:  81.48 || Ex/s: 109.42\n",
            "\n",
            "* Best F1: tensor(63.7681, device='cuda:0')\n",
            "Saving best model...\n",
            "Done.\n",
            "---------------------\n",
            "\n",
            "===>  TRAIN Epoch 3\n"
          ]
        },
        {
          "output_type": "stream",
          "name": "stderr",
          "text": [
            "0% [████] 100% | ETA: 00:00:00\n",
            "Total time elapsed: 00:00:03\n"
          ]
        },
        {
          "output_type": "stream",
          "name": "stdout",
          "text": [
            "Finished Epoch 3 || Run Time:    3.1 | Load Time:    0.9 || F1:  75.27 | Prec:  64.81 | Rec:  89.74 || Ex/s:  79.04\n",
            "\n",
            "===>  EVAL Epoch 3\n"
          ]
        },
        {
          "output_type": "stream",
          "name": "stderr",
          "text": [
            "0% [█] 100% | ETA: 00:00:00\n",
            "Total time elapsed: 00:00:00\n"
          ]
        },
        {
          "output_type": "stream",
          "name": "stdout",
          "text": [
            "Finished Epoch 3 || Run Time:    0.8 | Load Time:    0.4 || F1:  70.77 | Prec:  60.53 | Rec:  85.19 || Ex/s:  94.38\n",
            "\n",
            "* Best F1: tensor(70.7692, device='cuda:0')\n",
            "Saving best model...\n",
            "Done.\n",
            "---------------------\n",
            "\n",
            "===>  TRAIN Epoch 4\n"
          ]
        },
        {
          "output_type": "stream",
          "name": "stderr",
          "text": [
            "0% [████] 100% | ETA: 00:00:00\n",
            "Total time elapsed: 00:00:03\n"
          ]
        },
        {
          "output_type": "stream",
          "name": "stdout",
          "text": [
            "Finished Epoch 4 || Run Time:    3.2 | Load Time:    1.0 || F1:  82.95 | Prec:  74.49 | Rec:  93.59 || Ex/s:  76.36\n",
            "\n",
            "===>  EVAL Epoch 4\n"
          ]
        },
        {
          "output_type": "stream",
          "name": "stderr",
          "text": [
            "0% [█] 100% | ETA: 00:00:00\n",
            "Total time elapsed: 00:00:00\n"
          ]
        },
        {
          "output_type": "stream",
          "name": "stdout",
          "text": [
            "Finished Epoch 4 || Run Time:    0.7 | Load Time:    0.3 || F1:  78.12 | Prec:  67.57 | Rec:  92.59 || Ex/s: 110.49\n",
            "\n",
            "* Best F1: tensor(78.1250, device='cuda:0')\n",
            "Saving best model...\n",
            "Done.\n",
            "---------------------\n",
            "\n",
            "===>  TRAIN Epoch 5\n"
          ]
        },
        {
          "output_type": "stream",
          "name": "stderr",
          "text": [
            "0% [████] 100% | ETA: 00:00:00\n",
            "Total time elapsed: 00:00:04\n"
          ]
        },
        {
          "output_type": "stream",
          "name": "stdout",
          "text": [
            "Finished Epoch 5 || Run Time:    3.5 | Load Time:    1.0 || F1:  89.94 | Prec:  83.52 | Rec:  97.44 || Ex/s:  70.13\n",
            "\n",
            "===>  EVAL Epoch 5\n"
          ]
        },
        {
          "output_type": "stream",
          "name": "stderr",
          "text": [
            "0% [█] 100% | ETA: 00:00:00\n",
            "Total time elapsed: 00:00:00\n"
          ]
        },
        {
          "output_type": "stream",
          "name": "stdout",
          "text": [
            "Finished Epoch 5 || Run Time:    0.9 | Load Time:    0.4 || F1:  88.14 | Prec:  81.25 | Rec:  96.30 || Ex/s:  83.04\n",
            "\n",
            "* Best F1: tensor(88.1356, device='cuda:0')\n",
            "Saving best model...\n",
            "Done.\n",
            "---------------------\n",
            "\n",
            "===>  TRAIN Epoch 6\n"
          ]
        },
        {
          "output_type": "stream",
          "name": "stderr",
          "text": [
            "0% [████] 100% | ETA: 00:00:00\n",
            "Total time elapsed: 00:00:03\n"
          ]
        },
        {
          "output_type": "stream",
          "name": "stdout",
          "text": [
            "Finished Epoch 6 || Run Time:    3.2 | Load Time:    1.0 || F1:  95.00 | Prec:  92.68 | Rec:  97.44 || Ex/s:  78.18\n",
            "\n",
            "===>  EVAL Epoch 6\n"
          ]
        },
        {
          "output_type": "stream",
          "name": "stderr",
          "text": [
            "0% [█] 100% | ETA: 00:00:00\n",
            "Total time elapsed: 00:00:00\n"
          ]
        },
        {
          "output_type": "stream",
          "name": "stdout",
          "text": [
            "Finished Epoch 6 || Run Time:    0.8 | Load Time:    0.3 || F1:  90.20 | Prec:  95.83 | Rec:  85.19 || Ex/s:  94.42\n",
            "\n",
            "* Best F1: tensor(90.1961, device='cuda:0')\n",
            "Saving best model...\n",
            "Done.\n",
            "---------------------\n",
            "\n",
            "===>  TRAIN Epoch 7\n"
          ]
        },
        {
          "output_type": "stream",
          "name": "stderr",
          "text": [
            "0% [████] 100% | ETA: 00:00:00\n",
            "Total time elapsed: 00:00:03\n"
          ]
        },
        {
          "output_type": "stream",
          "name": "stdout",
          "text": [
            "Finished Epoch 7 || Run Time:    3.1 | Load Time:    0.9 || F1:  93.25 | Prec:  89.41 | Rec:  97.44 || Ex/s:  78.57\n",
            "\n",
            "===>  EVAL Epoch 7\n"
          ]
        },
        {
          "output_type": "stream",
          "name": "stderr",
          "text": [
            "0% [█] 100% | ETA: 00:00:00\n",
            "Total time elapsed: 00:00:00\n"
          ]
        },
        {
          "output_type": "stream",
          "name": "stdout",
          "text": [
            "Finished Epoch 7 || Run Time:    0.7 | Load Time:    0.3 || F1:  87.50 | Prec: 100.00 | Rec:  77.78 || Ex/s: 110.91\n",
            "\n",
            "---------------------\n",
            "\n",
            "===>  TRAIN Epoch 8\n"
          ]
        },
        {
          "output_type": "stream",
          "name": "stderr",
          "text": [
            "0% [████] 100% | ETA: 00:00:00\n",
            "Total time elapsed: 00:00:04\n"
          ]
        },
        {
          "output_type": "stream",
          "name": "stdout",
          "text": [
            "Finished Epoch 8 || Run Time:    3.5 | Load Time:    1.0 || F1:  96.20 | Prec:  95.00 | Rec:  97.44 || Ex/s:  71.31\n",
            "\n",
            "===>  EVAL Epoch 8\n"
          ]
        },
        {
          "output_type": "stream",
          "name": "stderr",
          "text": [
            "0% [█] 100% | ETA: 00:00:00\n",
            "Total time elapsed: 00:00:00\n"
          ]
        },
        {
          "output_type": "stream",
          "name": "stdout",
          "text": [
            "Finished Epoch 8 || Run Time:    0.9 | Load Time:    0.4 || F1:  85.71 | Prec:  82.76 | Rec:  88.89 || Ex/s:  82.56\n",
            "\n",
            "---------------------\n",
            "\n",
            "===>  TRAIN Epoch 9\n"
          ]
        },
        {
          "output_type": "stream",
          "name": "stderr",
          "text": [
            "0% [████] 100% | ETA: 00:00:00\n",
            "Total time elapsed: 00:00:04\n"
          ]
        },
        {
          "output_type": "stream",
          "name": "stdout",
          "text": [
            "Finished Epoch 9 || Run Time:    3.3 | Load Time:    1.0 || F1:  99.35 | Prec: 100.00 | Rec:  98.72 || Ex/s:  73.58\n",
            "\n",
            "===>  EVAL Epoch 9\n"
          ]
        },
        {
          "output_type": "stream",
          "name": "stderr",
          "text": [
            "0% [█] 100% | ETA: 00:00:00\n",
            "Total time elapsed: 00:00:00\n"
          ]
        },
        {
          "output_type": "stream",
          "name": "stdout",
          "text": [
            "Finished Epoch 9 || Run Time:    0.7 | Load Time:    0.3 || F1:  85.71 | Prec:  82.76 | Rec:  88.89 || Ex/s: 109.43\n",
            "\n",
            "---------------------\n",
            "\n",
            "===>  TRAIN Epoch 10\n"
          ]
        },
        {
          "output_type": "stream",
          "name": "stderr",
          "text": [
            "0% [████] 100% | ETA: 00:00:00\n",
            "Total time elapsed: 00:00:03\n"
          ]
        },
        {
          "output_type": "stream",
          "name": "stdout",
          "text": [
            "Finished Epoch 10 || Run Time:    3.1 | Load Time:    0.9 || F1: 100.00 | Prec: 100.00 | Rec: 100.00 || Ex/s:  79.88\n",
            "\n",
            "===>  EVAL Epoch 10\n"
          ]
        },
        {
          "output_type": "stream",
          "name": "stderr",
          "text": [
            "0% [█] 100% | ETA: 00:00:00\n",
            "Total time elapsed: 00:00:00\n"
          ]
        },
        {
          "output_type": "stream",
          "name": "stdout",
          "text": [
            "Finished Epoch 10 || Run Time:    0.7 | Load Time:    0.3 || F1:  85.71 | Prec:  82.76 | Rec:  88.89 || Ex/s: 110.70\n",
            "\n",
            "---------------------\n",
            "\n",
            "===>  TRAIN Epoch 11\n"
          ]
        },
        {
          "output_type": "stream",
          "name": "stderr",
          "text": [
            "0% [████] 100% | ETA: 00:00:00\n",
            "Total time elapsed: 00:00:05\n"
          ]
        },
        {
          "output_type": "stream",
          "name": "stdout",
          "text": [
            "Finished Epoch 11 || Run Time:    4.6 | Load Time:    1.4 || F1: 100.00 | Prec: 100.00 | Rec: 100.00 || Ex/s:  53.11\n",
            "\n",
            "===>  EVAL Epoch 11\n"
          ]
        },
        {
          "output_type": "stream",
          "name": "stderr",
          "text": [
            "0% [█] 100% | ETA: 00:00:00\n",
            "Total time elapsed: 00:00:01\n"
          ]
        },
        {
          "output_type": "stream",
          "name": "stdout",
          "text": [
            "Finished Epoch 11 || Run Time:    1.0 | Load Time:    0.5 || F1:  85.71 | Prec:  82.76 | Rec:  88.89 || Ex/s:  70.79\n",
            "\n",
            "---------------------\n",
            "\n",
            "===>  TRAIN Epoch 12\n"
          ]
        },
        {
          "output_type": "stream",
          "name": "stderr",
          "text": [
            "0% [████] 100% | ETA: 00:00:00\n",
            "Total time elapsed: 00:00:03\n"
          ]
        },
        {
          "output_type": "stream",
          "name": "stdout",
          "text": [
            "Finished Epoch 12 || Run Time:    3.1 | Load Time:    1.0 || F1: 100.00 | Prec: 100.00 | Rec: 100.00 || Ex/s:  79.31\n",
            "\n",
            "===>  EVAL Epoch 12\n"
          ]
        },
        {
          "output_type": "stream",
          "name": "stderr",
          "text": [
            "0% [█] 100% | ETA: 00:00:00\n",
            "Total time elapsed: 00:00:00\n"
          ]
        },
        {
          "output_type": "stream",
          "name": "stdout",
          "text": [
            "Finished Epoch 12 || Run Time:    0.7 | Load Time:    0.3 || F1:  85.71 | Prec:  82.76 | Rec:  88.89 || Ex/s: 110.31\n",
            "\n",
            "---------------------\n",
            "\n",
            "===>  TRAIN Epoch 13\n"
          ]
        },
        {
          "output_type": "stream",
          "name": "stderr",
          "text": [
            "0% [████] 100% | ETA: 00:00:00\n",
            "Total time elapsed: 00:00:03\n"
          ]
        },
        {
          "output_type": "stream",
          "name": "stdout",
          "text": [
            "Finished Epoch 13 || Run Time:    3.1 | Load Time:    1.0 || F1: 100.00 | Prec: 100.00 | Rec: 100.00 || Ex/s:  78.41\n",
            "\n",
            "===>  EVAL Epoch 13\n"
          ]
        },
        {
          "output_type": "stream",
          "name": "stderr",
          "text": [
            "0% [█] 100% | ETA: 00:00:00\n",
            "Total time elapsed: 00:00:00\n"
          ]
        },
        {
          "output_type": "stream",
          "name": "stdout",
          "text": [
            "Finished Epoch 13 || Run Time:    0.7 | Load Time:    0.3 || F1:  85.71 | Prec:  82.76 | Rec:  88.89 || Ex/s: 100.77\n",
            "\n",
            "---------------------\n",
            "\n",
            "===>  TRAIN Epoch 14\n"
          ]
        },
        {
          "output_type": "stream",
          "name": "stderr",
          "text": [
            "0% [████] 100% | ETA: 00:00:00\n",
            "Total time elapsed: 00:00:04\n"
          ]
        },
        {
          "output_type": "stream",
          "name": "stdout",
          "text": [
            "Finished Epoch 14 || Run Time:    3.8 | Load Time:    1.1 || F1: 100.00 | Prec: 100.00 | Rec: 100.00 || Ex/s:  65.28\n",
            "\n",
            "===>  EVAL Epoch 14\n"
          ]
        },
        {
          "output_type": "stream",
          "name": "stderr",
          "text": [
            "0% [█] 100% | ETA: 00:00:00\n",
            "Total time elapsed: 00:00:00\n"
          ]
        },
        {
          "output_type": "stream",
          "name": "stdout",
          "text": [
            "Finished Epoch 14 || Run Time:    0.7 | Load Time:    0.3 || F1:  85.71 | Prec:  82.76 | Rec:  88.89 || Ex/s: 112.03\n",
            "\n",
            "---------------------\n",
            "\n",
            "===>  TRAIN Epoch 15\n"
          ]
        },
        {
          "output_type": "stream",
          "name": "stderr",
          "text": [
            "0% [████] 100% | ETA: 00:00:00\n",
            "Total time elapsed: 00:00:03\n"
          ]
        },
        {
          "output_type": "stream",
          "name": "stdout",
          "text": [
            "Finished Epoch 15 || Run Time:    3.1 | Load Time:    0.9 || F1: 100.00 | Prec: 100.00 | Rec: 100.00 || Ex/s:  80.52\n",
            "\n",
            "===>  EVAL Epoch 15\n"
          ]
        },
        {
          "output_type": "stream",
          "name": "stderr",
          "text": [
            "0% [█] 100% | ETA: 00:00:00\n",
            "Total time elapsed: 00:00:00\n"
          ]
        },
        {
          "output_type": "stream",
          "name": "stdout",
          "text": [
            "Finished Epoch 15 || Run Time:    0.7 | Load Time:    0.3 || F1:  85.71 | Prec:  82.76 | Rec:  88.89 || Ex/s: 108.85\n",
            "\n",
            "---------------------\n",
            "\n",
            "===>  TRAIN Epoch 16\n"
          ]
        },
        {
          "output_type": "stream",
          "name": "stderr",
          "text": [
            "0% [████] 100% | ETA: 00:00:00\n",
            "Total time elapsed: 00:00:04\n"
          ]
        },
        {
          "output_type": "stream",
          "name": "stdout",
          "text": [
            "Finished Epoch 16 || Run Time:    3.7 | Load Time:    1.1 || F1: 100.00 | Prec: 100.00 | Rec: 100.00 || Ex/s:  68.17\n",
            "\n",
            "===>  EVAL Epoch 16\n"
          ]
        },
        {
          "output_type": "stream",
          "name": "stderr",
          "text": [
            "0% [█] 100% | ETA: 00:00:00\n",
            "Total time elapsed: 00:00:00\n"
          ]
        },
        {
          "output_type": "stream",
          "name": "stdout",
          "text": [
            "Finished Epoch 16 || Run Time:    0.9 | Load Time:    0.4 || F1:  85.71 | Prec:  82.76 | Rec:  88.89 || Ex/s:  84.57\n",
            "\n",
            "---------------------\n",
            "\n",
            "===>  TRAIN Epoch 17\n"
          ]
        },
        {
          "output_type": "stream",
          "name": "stderr",
          "text": [
            "0% [████] 100% | ETA: 00:00:00\n",
            "Total time elapsed: 00:00:03\n"
          ]
        },
        {
          "output_type": "stream",
          "name": "stdout",
          "text": [
            "Finished Epoch 17 || Run Time:    3.2 | Load Time:    1.0 || F1: 100.00 | Prec: 100.00 | Rec: 100.00 || Ex/s:  76.38\n",
            "\n",
            "===>  EVAL Epoch 17\n"
          ]
        },
        {
          "output_type": "stream",
          "name": "stderr",
          "text": [
            "0% [█] 100% | ETA: 00:00:00\n",
            "Total time elapsed: 00:00:00\n"
          ]
        },
        {
          "output_type": "stream",
          "name": "stdout",
          "text": [
            "Finished Epoch 17 || Run Time:    0.7 | Load Time:    0.3 || F1:  85.71 | Prec:  82.76 | Rec:  88.89 || Ex/s: 109.95\n",
            "\n",
            "---------------------\n",
            "\n",
            "===>  TRAIN Epoch 18\n"
          ]
        },
        {
          "output_type": "stream",
          "name": "stderr",
          "text": [
            "0% [████] 100% | ETA: 00:00:00\n",
            "Total time elapsed: 00:00:03\n"
          ]
        },
        {
          "output_type": "stream",
          "name": "stdout",
          "text": [
            "Finished Epoch 18 || Run Time:    3.3 | Load Time:    0.9 || F1: 100.00 | Prec: 100.00 | Rec: 100.00 || Ex/s:  75.70\n",
            "\n",
            "===>  EVAL Epoch 18\n"
          ]
        },
        {
          "output_type": "stream",
          "name": "stderr",
          "text": [
            "0% [█] 100% | ETA: 00:00:00\n",
            "Total time elapsed: 00:00:00\n"
          ]
        },
        {
          "output_type": "stream",
          "name": "stdout",
          "text": [
            "Finished Epoch 18 || Run Time:    0.7 | Load Time:    0.3 || F1:  85.71 | Prec:  82.76 | Rec:  88.89 || Ex/s: 105.20\n",
            "\n",
            "---------------------\n",
            "\n",
            "===>  TRAIN Epoch 19\n"
          ]
        },
        {
          "output_type": "stream",
          "name": "stderr",
          "text": [
            "0% [████] 100% | ETA: 00:00:00\n",
            "Total time elapsed: 00:00:04\n"
          ]
        },
        {
          "output_type": "stream",
          "name": "stdout",
          "text": [
            "Finished Epoch 19 || Run Time:    3.9 | Load Time:    1.2 || F1: 100.00 | Prec: 100.00 | Rec: 100.00 || Ex/s:  62.65\n",
            "\n",
            "===>  EVAL Epoch 19\n"
          ]
        },
        {
          "output_type": "stream",
          "name": "stderr",
          "text": [
            "0% [█] 100% | ETA: 00:00:00\n",
            "Total time elapsed: 00:00:00\n"
          ]
        },
        {
          "output_type": "stream",
          "name": "stdout",
          "text": [
            "Finished Epoch 19 || Run Time:    0.7 | Load Time:    0.3 || F1:  85.71 | Prec:  82.76 | Rec:  88.89 || Ex/s: 109.34\n",
            "\n",
            "---------------------\n",
            "\n",
            "===>  TRAIN Epoch 20\n"
          ]
        },
        {
          "output_type": "stream",
          "name": "stderr",
          "text": [
            "0% [████] 100% | ETA: 00:00:00\n",
            "Total time elapsed: 00:00:03\n"
          ]
        },
        {
          "output_type": "stream",
          "name": "stdout",
          "text": [
            "Finished Epoch 20 || Run Time:    3.1 | Load Time:    0.9 || F1: 100.00 | Prec: 100.00 | Rec: 100.00 || Ex/s:  79.98\n",
            "\n",
            "===>  EVAL Epoch 20\n"
          ]
        },
        {
          "output_type": "stream",
          "name": "stderr",
          "text": [
            "0% [█] 100% | ETA: 00:00:00\n",
            "Total time elapsed: 00:00:00\n"
          ]
        },
        {
          "output_type": "stream",
          "name": "stdout",
          "text": [
            "Finished Epoch 20 || Run Time:    0.7 | Load Time:    0.3 || F1:  85.71 | Prec:  82.76 | Rec:  88.89 || Ex/s: 112.52\n",
            "\n",
            "---------------------\n",
            "\n",
            "===>  TRAIN Epoch 21\n"
          ]
        },
        {
          "output_type": "stream",
          "name": "stderr",
          "text": [
            "0% [████] 100% | ETA: 00:00:00\n",
            "Total time elapsed: 00:00:04\n"
          ]
        },
        {
          "output_type": "stream",
          "name": "stdout",
          "text": [
            "Finished Epoch 21 || Run Time:    3.5 | Load Time:    1.1 || F1: 100.00 | Prec: 100.00 | Rec: 100.00 || Ex/s:  70.12\n",
            "\n",
            "===>  EVAL Epoch 21\n"
          ]
        },
        {
          "output_type": "stream",
          "name": "stderr",
          "text": [
            "0% [█] 100% | ETA: 00:00:00\n",
            "Total time elapsed: 00:00:00\n"
          ]
        },
        {
          "output_type": "stream",
          "name": "stdout",
          "text": [
            "Finished Epoch 21 || Run Time:    0.9 | Load Time:    0.4 || F1:  85.71 | Prec:  82.76 | Rec:  88.89 || Ex/s:  83.07\n",
            "\n",
            "---------------------\n",
            "\n",
            "===>  TRAIN Epoch 22\n"
          ]
        },
        {
          "output_type": "stream",
          "name": "stderr",
          "text": [
            "0% [████] 100% | ETA: 00:00:00\n",
            "Total time elapsed: 00:00:03\n"
          ]
        },
        {
          "output_type": "stream",
          "name": "stdout",
          "text": [
            "Finished Epoch 22 || Run Time:    3.2 | Load Time:    1.0 || F1: 100.00 | Prec: 100.00 | Rec: 100.00 || Ex/s:  75.36\n",
            "\n",
            "===>  EVAL Epoch 22\n"
          ]
        },
        {
          "output_type": "stream",
          "name": "stderr",
          "text": [
            "0% [█] 100% | ETA: 00:00:00\n",
            "Total time elapsed: 00:00:00\n"
          ]
        },
        {
          "output_type": "stream",
          "name": "stdout",
          "text": [
            "Finished Epoch 22 || Run Time:    0.7 | Load Time:    0.3 || F1:  85.71 | Prec:  82.76 | Rec:  88.89 || Ex/s: 111.14\n",
            "\n",
            "---------------------\n",
            "\n",
            "===>  TRAIN Epoch 23\n"
          ]
        },
        {
          "output_type": "stream",
          "name": "stderr",
          "text": [
            "0% [████] 100% | ETA: 00:00:00\n",
            "Total time elapsed: 00:00:03\n"
          ]
        },
        {
          "output_type": "stream",
          "name": "stdout",
          "text": [
            "Finished Epoch 23 || Run Time:    3.1 | Load Time:    0.9 || F1: 100.00 | Prec: 100.00 | Rec: 100.00 || Ex/s:  80.43\n",
            "\n",
            "===>  EVAL Epoch 23\n"
          ]
        },
        {
          "output_type": "stream",
          "name": "stderr",
          "text": [
            "0% [█] 100% | ETA: 00:00:00\n",
            "Total time elapsed: 00:00:00\n"
          ]
        },
        {
          "output_type": "stream",
          "name": "stdout",
          "text": [
            "Finished Epoch 23 || Run Time:    0.7 | Load Time:    0.3 || F1:  85.71 | Prec:  82.76 | Rec:  88.89 || Ex/s: 111.73\n",
            "\n",
            "---------------------\n",
            "\n",
            "===>  TRAIN Epoch 24\n"
          ]
        },
        {
          "output_type": "stream",
          "name": "stderr",
          "text": [
            "0% [████] 100% | ETA: 00:00:00\n",
            "Total time elapsed: 00:00:04\n"
          ]
        },
        {
          "output_type": "stream",
          "name": "stdout",
          "text": [
            "Finished Epoch 24 || Run Time:    3.9 | Load Time:    1.2 || F1: 100.00 | Prec: 100.00 | Rec: 100.00 || Ex/s:  63.65\n",
            "\n",
            "===>  EVAL Epoch 24\n"
          ]
        },
        {
          "output_type": "stream",
          "name": "stderr",
          "text": [
            "0% [█] 100% | ETA: 00:00:00\n",
            "Total time elapsed: 00:00:00\n"
          ]
        },
        {
          "output_type": "stream",
          "name": "stdout",
          "text": [
            "Finished Epoch 24 || Run Time:    0.7 | Load Time:    0.3 || F1:  85.71 | Prec:  82.76 | Rec:  88.89 || Ex/s: 112.65\n",
            "\n",
            "---------------------\n",
            "\n",
            "===>  TRAIN Epoch 25\n"
          ]
        },
        {
          "output_type": "stream",
          "name": "stderr",
          "text": [
            "0% [████] 100% | ETA: 00:00:00\n",
            "Total time elapsed: 00:00:03\n"
          ]
        },
        {
          "output_type": "stream",
          "name": "stdout",
          "text": [
            "Finished Epoch 25 || Run Time:    3.1 | Load Time:    1.0 || F1: 100.00 | Prec: 100.00 | Rec: 100.00 || Ex/s:  78.56\n",
            "\n",
            "===>  EVAL Epoch 25\n"
          ]
        },
        {
          "output_type": "stream",
          "name": "stderr",
          "text": [
            "0% [█] 100% | ETA: 00:00:00\n",
            "Total time elapsed: 00:00:00\n"
          ]
        },
        {
          "output_type": "stream",
          "name": "stdout",
          "text": [
            "Finished Epoch 25 || Run Time:    0.7 | Load Time:    0.3 || F1:  85.71 | Prec:  82.76 | Rec:  88.89 || Ex/s: 111.53\n",
            "\n",
            "---------------------\n",
            "\n",
            "===>  TRAIN Epoch 26\n"
          ]
        },
        {
          "output_type": "stream",
          "name": "stderr",
          "text": [
            "0% [████] 100% | ETA: 00:00:00\n",
            "Total time elapsed: 00:00:03\n"
          ]
        },
        {
          "output_type": "stream",
          "name": "stdout",
          "text": [
            "Finished Epoch 26 || Run Time:    3.3 | Load Time:    1.0 || F1: 100.00 | Prec: 100.00 | Rec: 100.00 || Ex/s:  74.03\n",
            "\n",
            "===>  EVAL Epoch 26\n"
          ]
        },
        {
          "output_type": "stream",
          "name": "stderr",
          "text": [
            "0% [█] 100% | ETA: 00:00:00\n",
            "Total time elapsed: 00:00:00\n"
          ]
        },
        {
          "output_type": "stream",
          "name": "stdout",
          "text": [
            "Finished Epoch 26 || Run Time:    0.9 | Load Time:    0.4 || F1:  85.71 | Prec:  82.76 | Rec:  88.89 || Ex/s:  85.29\n",
            "\n",
            "---------------------\n",
            "\n",
            "===>  TRAIN Epoch 27\n"
          ]
        },
        {
          "output_type": "stream",
          "name": "stderr",
          "text": [
            "0% [████] 100% | ETA: 00:00:00\n",
            "Total time elapsed: 00:00:04\n"
          ]
        },
        {
          "output_type": "stream",
          "name": "stdout",
          "text": [
            "Finished Epoch 27 || Run Time:    3.4 | Load Time:    1.1 || F1: 100.00 | Prec: 100.00 | Rec: 100.00 || Ex/s:  71.50\n",
            "\n",
            "===>  EVAL Epoch 27\n"
          ]
        },
        {
          "output_type": "stream",
          "name": "stderr",
          "text": [
            "0% [█] 100% | ETA: 00:00:00\n",
            "Total time elapsed: 00:00:00\n"
          ]
        },
        {
          "output_type": "stream",
          "name": "stdout",
          "text": [
            "Finished Epoch 27 || Run Time:    0.7 | Load Time:    0.3 || F1:  85.71 | Prec:  82.76 | Rec:  88.89 || Ex/s: 110.15\n",
            "\n",
            "---------------------\n",
            "\n",
            "===>  TRAIN Epoch 28\n"
          ]
        },
        {
          "output_type": "stream",
          "name": "stderr",
          "text": [
            "0% [████] 100% | ETA: 00:00:00\n",
            "Total time elapsed: 00:00:03\n"
          ]
        },
        {
          "output_type": "stream",
          "name": "stdout",
          "text": [
            "Finished Epoch 28 || Run Time:    3.3 | Load Time:    1.0 || F1: 100.00 | Prec: 100.00 | Rec: 100.00 || Ex/s:  76.10\n",
            "\n",
            "===>  EVAL Epoch 28\n"
          ]
        },
        {
          "output_type": "stream",
          "name": "stderr",
          "text": [
            "0% [█] 100% | ETA: 00:00:00\n",
            "Total time elapsed: 00:00:00\n"
          ]
        },
        {
          "output_type": "stream",
          "name": "stdout",
          "text": [
            "Finished Epoch 28 || Run Time:    0.7 | Load Time:    0.3 || F1:  85.71 | Prec:  82.76 | Rec:  88.89 || Ex/s: 112.73\n",
            "\n",
            "---------------------\n",
            "\n",
            "===>  TRAIN Epoch 29\n"
          ]
        },
        {
          "output_type": "stream",
          "name": "stderr",
          "text": [
            "0% [████] 100% | ETA: 00:00:00\n",
            "Total time elapsed: 00:00:04\n"
          ]
        },
        {
          "output_type": "stream",
          "name": "stdout",
          "text": [
            "Finished Epoch 29 || Run Time:    3.9 | Load Time:    1.2 || F1: 100.00 | Prec: 100.00 | Rec: 100.00 || Ex/s:  62.77\n",
            "\n",
            "===>  EVAL Epoch 29\n"
          ]
        },
        {
          "output_type": "stream",
          "name": "stderr",
          "text": [
            "0% [█] 100% | ETA: 00:00:00\n",
            "Total time elapsed: 00:00:00\n"
          ]
        },
        {
          "output_type": "stream",
          "name": "stdout",
          "text": [
            "Finished Epoch 29 || Run Time:    0.7 | Load Time:    0.3 || F1:  85.71 | Prec:  82.76 | Rec:  88.89 || Ex/s: 109.78\n",
            "\n",
            "---------------------\n",
            "\n",
            "===>  TRAIN Epoch 30\n"
          ]
        },
        {
          "output_type": "stream",
          "name": "stderr",
          "text": [
            "0% [████] 100% | ETA: 00:00:00\n",
            "Total time elapsed: 00:00:03\n"
          ]
        },
        {
          "output_type": "stream",
          "name": "stdout",
          "text": [
            "Finished Epoch 30 || Run Time:    3.1 | Load Time:    1.0 || F1: 100.00 | Prec: 100.00 | Rec: 100.00 || Ex/s:  78.48\n",
            "\n",
            "===>  EVAL Epoch 30\n"
          ]
        },
        {
          "output_type": "stream",
          "name": "stderr",
          "text": [
            "0% [█] 100% | ETA: 00:00:00\n",
            "Total time elapsed: 00:00:00\n"
          ]
        },
        {
          "output_type": "stream",
          "name": "stdout",
          "text": [
            "Finished Epoch 30 || Run Time:    0.7 | Load Time:    0.3 || F1:  85.71 | Prec:  82.76 | Rec:  88.89 || Ex/s: 113.14\n",
            "\n",
            "---------------------\n",
            "\n",
            "===>  TRAIN Epoch 31\n"
          ]
        },
        {
          "output_type": "stream",
          "name": "stderr",
          "text": [
            "0% [████] 100% | ETA: 00:00:00\n",
            "Total time elapsed: 00:00:03\n"
          ]
        },
        {
          "output_type": "stream",
          "name": "stdout",
          "text": [
            "Finished Epoch 31 || Run Time:    3.3 | Load Time:    1.0 || F1: 100.00 | Prec: 100.00 | Rec: 100.00 || Ex/s:  75.27\n",
            "\n",
            "===>  EVAL Epoch 31\n"
          ]
        },
        {
          "output_type": "stream",
          "name": "stderr",
          "text": [
            "0% [█] 100% | ETA: 00:00:00\n",
            "Total time elapsed: 00:00:00\n"
          ]
        },
        {
          "output_type": "stream",
          "name": "stdout",
          "text": [
            "Finished Epoch 31 || Run Time:    0.9 | Load Time:    0.4 || F1:  85.71 | Prec:  82.76 | Rec:  88.89 || Ex/s:  83.90\n",
            "\n",
            "---------------------\n",
            "\n",
            "===>  TRAIN Epoch 32\n"
          ]
        },
        {
          "output_type": "stream",
          "name": "stderr",
          "text": [
            "0% [████] 100% | ETA: 00:00:00\n",
            "Total time elapsed: 00:00:04\n"
          ]
        },
        {
          "output_type": "stream",
          "name": "stdout",
          "text": [
            "Finished Epoch 32 || Run Time:    3.5 | Load Time:    1.1 || F1: 100.00 | Prec: 100.00 | Rec: 100.00 || Ex/s:  70.27\n",
            "\n",
            "===>  EVAL Epoch 32\n"
          ]
        },
        {
          "output_type": "stream",
          "name": "stderr",
          "text": [
            "0% [█] 100% | ETA: 00:00:00\n",
            "Total time elapsed: 00:00:00\n"
          ]
        },
        {
          "output_type": "stream",
          "name": "stdout",
          "text": [
            "Finished Epoch 32 || Run Time:    0.7 | Load Time:    0.3 || F1:  85.71 | Prec:  82.76 | Rec:  88.89 || Ex/s: 111.03\n",
            "\n",
            "---------------------\n",
            "\n",
            "===>  TRAIN Epoch 33\n"
          ]
        },
        {
          "output_type": "stream",
          "name": "stderr",
          "text": [
            "0% [████] 100% | ETA: 00:00:00\n",
            "Total time elapsed: 00:00:03\n"
          ]
        },
        {
          "output_type": "stream",
          "name": "stdout",
          "text": [
            "Finished Epoch 33 || Run Time:    3.1 | Load Time:    0.9 || F1: 100.00 | Prec: 100.00 | Rec: 100.00 || Ex/s:  79.83\n",
            "\n",
            "===>  EVAL Epoch 33\n"
          ]
        },
        {
          "output_type": "stream",
          "name": "stderr",
          "text": [
            "0% [█] 100% | ETA: 00:00:00\n",
            "Total time elapsed: 00:00:00\n"
          ]
        },
        {
          "output_type": "stream",
          "name": "stdout",
          "text": [
            "Finished Epoch 33 || Run Time:    0.8 | Load Time:    0.4 || F1:  85.71 | Prec:  82.76 | Rec:  88.89 || Ex/s:  94.88\n",
            "\n",
            "---------------------\n",
            "\n",
            "===>  TRAIN Epoch 34\n"
          ]
        },
        {
          "output_type": "stream",
          "name": "stderr",
          "text": [
            "0% [████] 100% | ETA: 00:00:00\n",
            "Total time elapsed: 00:00:04\n"
          ]
        },
        {
          "output_type": "stream",
          "name": "stdout",
          "text": [
            "Finished Epoch 34 || Run Time:    3.9 | Load Time:    1.2 || F1: 100.00 | Prec: 100.00 | Rec: 100.00 || Ex/s:  63.32\n",
            "\n",
            "===>  EVAL Epoch 34\n"
          ]
        },
        {
          "output_type": "stream",
          "name": "stderr",
          "text": [
            "0% [█] 100% | ETA: 00:00:00\n",
            "Total time elapsed: 00:00:00\n"
          ]
        },
        {
          "output_type": "stream",
          "name": "stdout",
          "text": [
            "Finished Epoch 34 || Run Time:    0.7 | Load Time:    0.3 || F1:  85.71 | Prec:  82.76 | Rec:  88.89 || Ex/s: 110.27\n",
            "\n",
            "---------------------\n",
            "\n",
            "===>  TRAIN Epoch 35\n"
          ]
        },
        {
          "output_type": "stream",
          "name": "stderr",
          "text": [
            "0% [████] 100% | ETA: 00:00:00\n",
            "Total time elapsed: 00:00:03\n"
          ]
        },
        {
          "output_type": "stream",
          "name": "stdout",
          "text": [
            "Finished Epoch 35 || Run Time:    3.1 | Load Time:    1.0 || F1: 100.00 | Prec: 100.00 | Rec: 100.00 || Ex/s:  78.81\n",
            "\n",
            "===>  EVAL Epoch 35\n"
          ]
        },
        {
          "output_type": "stream",
          "name": "stderr",
          "text": [
            "0% [█] 100% | ETA: 00:00:00\n",
            "Total time elapsed: 00:00:00\n"
          ]
        },
        {
          "output_type": "stream",
          "name": "stdout",
          "text": [
            "Finished Epoch 35 || Run Time:    0.7 | Load Time:    0.3 || F1:  85.71 | Prec:  82.76 | Rec:  88.89 || Ex/s: 111.67\n",
            "\n",
            "---------------------\n",
            "\n",
            "===>  TRAIN Epoch 36\n"
          ]
        },
        {
          "output_type": "stream",
          "name": "stderr",
          "text": [
            "0% [████] 100% | ETA: 00:00:00\n",
            "Total time elapsed: 00:00:03\n"
          ]
        },
        {
          "output_type": "stream",
          "name": "stdout",
          "text": [
            "Finished Epoch 36 || Run Time:    3.3 | Load Time:    1.0 || F1: 100.00 | Prec: 100.00 | Rec: 100.00 || Ex/s:  75.50\n",
            "\n",
            "===>  EVAL Epoch 36\n"
          ]
        },
        {
          "output_type": "stream",
          "name": "stderr",
          "text": [
            "0% [█] 100% | ETA: 00:00:00\n",
            "Total time elapsed: 00:00:00\n"
          ]
        },
        {
          "output_type": "stream",
          "name": "stdout",
          "text": [
            "Finished Epoch 36 || Run Time:    0.9 | Load Time:    0.4 || F1:  85.71 | Prec:  82.76 | Rec:  88.89 || Ex/s:  82.90\n",
            "\n",
            "---------------------\n",
            "\n",
            "===>  TRAIN Epoch 37\n"
          ]
        },
        {
          "output_type": "stream",
          "name": "stderr",
          "text": [
            "0% [████] 100% | ETA: 00:00:00\n",
            "Total time elapsed: 00:00:04\n"
          ]
        },
        {
          "output_type": "stream",
          "name": "stdout",
          "text": [
            "Finished Epoch 37 || Run Time:    3.5 | Load Time:    1.1 || F1: 100.00 | Prec: 100.00 | Rec: 100.00 || Ex/s:  69.86\n",
            "\n",
            "===>  EVAL Epoch 37\n"
          ]
        },
        {
          "output_type": "stream",
          "name": "stderr",
          "text": [
            "0% [█] 100% | ETA: 00:00:00\n",
            "Total time elapsed: 00:00:00\n"
          ]
        },
        {
          "output_type": "stream",
          "name": "stdout",
          "text": [
            "Finished Epoch 37 || Run Time:    0.7 | Load Time:    0.3 || F1:  85.71 | Prec:  82.76 | Rec:  88.89 || Ex/s: 111.79\n",
            "\n",
            "---------------------\n",
            "\n",
            "===>  TRAIN Epoch 38\n"
          ]
        },
        {
          "output_type": "stream",
          "name": "stderr",
          "text": [
            "0% [████] 100% | ETA: 00:00:00\n",
            "Total time elapsed: 00:00:03\n"
          ]
        },
        {
          "output_type": "stream",
          "name": "stdout",
          "text": [
            "Finished Epoch 38 || Run Time:    3.1 | Load Time:    0.9 || F1: 100.00 | Prec: 100.00 | Rec: 100.00 || Ex/s:  79.65\n",
            "\n",
            "===>  EVAL Epoch 38\n"
          ]
        },
        {
          "output_type": "stream",
          "name": "stderr",
          "text": [
            "0% [█] 100% | ETA: 00:00:00\n",
            "Total time elapsed: 00:00:00\n"
          ]
        },
        {
          "output_type": "stream",
          "name": "stdout",
          "text": [
            "Finished Epoch 38 || Run Time:    0.7 | Load Time:    0.3 || F1:  85.71 | Prec:  82.76 | Rec:  88.89 || Ex/s: 113.94\n",
            "\n",
            "---------------------\n",
            "\n",
            "===>  TRAIN Epoch 39\n"
          ]
        },
        {
          "output_type": "stream",
          "name": "stderr",
          "text": [
            "0% [████] 100% | ETA: 00:00:00\n",
            "Total time elapsed: 00:00:04\n"
          ]
        },
        {
          "output_type": "stream",
          "name": "stdout",
          "text": [
            "Finished Epoch 39 || Run Time:    3.8 | Load Time:    1.1 || F1: 100.00 | Prec: 100.00 | Rec: 100.00 || Ex/s:  65.44\n",
            "\n",
            "===>  EVAL Epoch 39\n"
          ]
        },
        {
          "output_type": "stream",
          "name": "stderr",
          "text": [
            "0% [█] 100% | ETA: 00:00:00\n",
            "Total time elapsed: 00:00:00\n"
          ]
        },
        {
          "output_type": "stream",
          "name": "stdout",
          "text": [
            "Finished Epoch 39 || Run Time:    0.8 | Load Time:    0.3 || F1:  85.71 | Prec:  82.76 | Rec:  88.89 || Ex/s:  98.92\n",
            "\n",
            "---------------------\n",
            "\n",
            "===>  TRAIN Epoch 40\n"
          ]
        },
        {
          "output_type": "stream",
          "name": "stderr",
          "text": [
            "0% [████] 100% | ETA: 00:00:00\n",
            "Total time elapsed: 00:00:03\n"
          ]
        },
        {
          "output_type": "stream",
          "name": "stdout",
          "text": [
            "Finished Epoch 40 || Run Time:    3.2 | Load Time:    0.9 || F1: 100.00 | Prec: 100.00 | Rec: 100.00 || Ex/s:  76.98\n",
            "\n",
            "===>  EVAL Epoch 40\n"
          ]
        },
        {
          "output_type": "stream",
          "name": "stderr",
          "text": [
            "0% [█] 100% | ETA: 00:00:00\n",
            "Total time elapsed: 00:00:00\n"
          ]
        },
        {
          "output_type": "stream",
          "name": "stdout",
          "text": [
            "Finished Epoch 40 || Run Time:    0.7 | Load Time:    0.3 || F1:  85.71 | Prec:  82.76 | Rec:  88.89 || Ex/s: 113.31\n",
            "\n",
            "---------------------\n",
            "\n",
            "===>  TRAIN Epoch 41\n"
          ]
        },
        {
          "output_type": "stream",
          "name": "stderr",
          "text": [
            "0% [████] 100% | ETA: 00:00:00\n",
            "Total time elapsed: 00:00:03\n"
          ]
        },
        {
          "output_type": "stream",
          "name": "stdout",
          "text": [
            "Finished Epoch 41 || Run Time:    3.1 | Load Time:    0.9 || F1: 100.00 | Prec: 100.00 | Rec: 100.00 || Ex/s:  79.27\n",
            "\n",
            "===>  EVAL Epoch 41\n"
          ]
        },
        {
          "output_type": "stream",
          "name": "stderr",
          "text": [
            "0% [█] 100% | ETA: 00:00:00\n",
            "Total time elapsed: 00:00:00\n"
          ]
        },
        {
          "output_type": "stream",
          "name": "stdout",
          "text": [
            "Finished Epoch 41 || Run Time:    0.9 | Load Time:    0.4 || F1:  85.71 | Prec:  82.76 | Rec:  88.89 || Ex/s:  83.58\n",
            "\n",
            "---------------------\n",
            "\n",
            "===>  TRAIN Epoch 42\n"
          ]
        },
        {
          "output_type": "stream",
          "name": "stderr",
          "text": [
            "0% [████] 100% | ETA: 00:00:00\n",
            "Total time elapsed: 00:00:04\n"
          ]
        },
        {
          "output_type": "stream",
          "name": "stdout",
          "text": [
            "Finished Epoch 42 || Run Time:    3.6 | Load Time:    1.1 || F1: 100.00 | Prec: 100.00 | Rec: 100.00 || Ex/s:  67.32\n",
            "\n",
            "===>  EVAL Epoch 42\n"
          ]
        },
        {
          "output_type": "stream",
          "name": "stderr",
          "text": [
            "0% [█] 100% | ETA: 00:00:00\n",
            "Total time elapsed: 00:00:00\n"
          ]
        },
        {
          "output_type": "stream",
          "name": "stdout",
          "text": [
            "Finished Epoch 42 || Run Time:    0.7 | Load Time:    0.3 || F1:  85.71 | Prec:  82.76 | Rec:  88.89 || Ex/s: 111.88\n",
            "\n",
            "---------------------\n",
            "\n",
            "===>  TRAIN Epoch 43\n"
          ]
        },
        {
          "output_type": "stream",
          "name": "stderr",
          "text": [
            "0% [████] 100% | ETA: 00:00:00\n",
            "Total time elapsed: 00:00:03\n"
          ]
        },
        {
          "output_type": "stream",
          "name": "stdout",
          "text": [
            "Finished Epoch 43 || Run Time:    3.1 | Load Time:    1.0 || F1: 100.00 | Prec: 100.00 | Rec: 100.00 || Ex/s:  80.06\n",
            "\n",
            "===>  EVAL Epoch 43\n"
          ]
        },
        {
          "output_type": "stream",
          "name": "stderr",
          "text": [
            "0% [█] 100% | ETA: 00:00:00\n",
            "Total time elapsed: 00:00:00\n"
          ]
        },
        {
          "output_type": "stream",
          "name": "stdout",
          "text": [
            "Finished Epoch 43 || Run Time:    0.7 | Load Time:    0.3 || F1:  85.71 | Prec:  82.76 | Rec:  88.89 || Ex/s: 108.11\n",
            "\n",
            "---------------------\n",
            "\n",
            "===>  TRAIN Epoch 44\n"
          ]
        },
        {
          "output_type": "stream",
          "name": "stderr",
          "text": [
            "0% [████] 100% | ETA: 00:00:00\n",
            "Total time elapsed: 00:00:04\n"
          ]
        },
        {
          "output_type": "stream",
          "name": "stdout",
          "text": [
            "Finished Epoch 44 || Run Time:    3.7 | Load Time:    1.1 || F1: 100.00 | Prec: 100.00 | Rec: 100.00 || Ex/s:  67.27\n",
            "\n",
            "===>  EVAL Epoch 44\n"
          ]
        },
        {
          "output_type": "stream",
          "name": "stderr",
          "text": [
            "0% [█] 100% | ETA: 00:00:00\n",
            "Total time elapsed: 00:00:00\n"
          ]
        },
        {
          "output_type": "stream",
          "name": "stdout",
          "text": [
            "Finished Epoch 44 || Run Time:    0.8 | Load Time:    0.4 || F1:  85.71 | Prec:  82.76 | Rec:  88.89 || Ex/s:  87.44\n",
            "\n",
            "---------------------\n",
            "\n",
            "===>  TRAIN Epoch 45\n"
          ]
        },
        {
          "output_type": "stream",
          "name": "stderr",
          "text": [
            "0% [████] 100% | ETA: 00:00:00\n",
            "Total time elapsed: 00:00:03\n"
          ]
        },
        {
          "output_type": "stream",
          "name": "stdout",
          "text": [
            "Finished Epoch 45 || Run Time:    3.1 | Load Time:    0.9 || F1: 100.00 | Prec: 100.00 | Rec: 100.00 || Ex/s:  79.19\n",
            "\n",
            "===>  EVAL Epoch 45\n"
          ]
        },
        {
          "output_type": "stream",
          "name": "stderr",
          "text": [
            "0% [█] 100% | ETA: 00:00:00\n",
            "Total time elapsed: 00:00:00\n"
          ]
        },
        {
          "output_type": "stream",
          "name": "stdout",
          "text": [
            "Finished Epoch 45 || Run Time:    0.7 | Load Time:    0.3 || F1:  85.71 | Prec:  82.76 | Rec:  88.89 || Ex/s: 112.12\n",
            "\n",
            "---------------------\n",
            "\n",
            "===>  TRAIN Epoch 46\n"
          ]
        },
        {
          "output_type": "stream",
          "name": "stderr",
          "text": [
            "0% [████] 100% | ETA: 00:00:00\n",
            "Total time elapsed: 00:00:03\n"
          ]
        },
        {
          "output_type": "stream",
          "name": "stdout",
          "text": [
            "Finished Epoch 46 || Run Time:    3.1 | Load Time:    0.9 || F1: 100.00 | Prec: 100.00 | Rec: 100.00 || Ex/s:  79.63\n",
            "\n",
            "===>  EVAL Epoch 46\n"
          ]
        },
        {
          "output_type": "stream",
          "name": "stderr",
          "text": [
            "0% [█] 100% | ETA: 00:00:00\n",
            "Total time elapsed: 00:00:00\n"
          ]
        },
        {
          "output_type": "stream",
          "name": "stdout",
          "text": [
            "Finished Epoch 46 || Run Time:    0.8 | Load Time:    0.3 || F1:  85.71 | Prec:  82.76 | Rec:  88.89 || Ex/s:  95.55\n",
            "\n",
            "---------------------\n",
            "\n",
            "===>  TRAIN Epoch 47\n"
          ]
        },
        {
          "output_type": "stream",
          "name": "stderr",
          "text": [
            "0% [████] 100% | ETA: 00:00:00\n",
            "Total time elapsed: 00:00:04\n"
          ]
        },
        {
          "output_type": "stream",
          "name": "stdout",
          "text": [
            "Finished Epoch 47 || Run Time:    3.8 | Load Time:    1.2 || F1: 100.00 | Prec: 100.00 | Rec: 100.00 || Ex/s:  64.36\n",
            "\n",
            "===>  EVAL Epoch 47\n"
          ]
        },
        {
          "output_type": "stream",
          "name": "stderr",
          "text": [
            "0% [█] 100% | ETA: 00:00:00\n",
            "Total time elapsed: 00:00:00\n"
          ]
        },
        {
          "output_type": "stream",
          "name": "stdout",
          "text": [
            "Finished Epoch 47 || Run Time:    0.7 | Load Time:    0.3 || F1:  85.71 | Prec:  82.76 | Rec:  88.89 || Ex/s: 110.90\n",
            "\n",
            "---------------------\n",
            "\n",
            "===>  TRAIN Epoch 48\n"
          ]
        },
        {
          "output_type": "stream",
          "name": "stderr",
          "text": [
            "0% [████] 100% | ETA: 00:00:00\n",
            "Total time elapsed: 00:00:03\n"
          ]
        },
        {
          "output_type": "stream",
          "name": "stdout",
          "text": [
            "Finished Epoch 48 || Run Time:    3.1 | Load Time:    1.0 || F1: 100.00 | Prec: 100.00 | Rec: 100.00 || Ex/s:  78.58\n",
            "\n",
            "===>  EVAL Epoch 48\n"
          ]
        },
        {
          "output_type": "stream",
          "name": "stderr",
          "text": [
            "0% [█] 100% | ETA: 00:00:00\n",
            "Total time elapsed: 00:00:00\n"
          ]
        },
        {
          "output_type": "stream",
          "name": "stdout",
          "text": [
            "Finished Epoch 48 || Run Time:    0.7 | Load Time:    0.3 || F1:  85.71 | Prec:  82.76 | Rec:  88.89 || Ex/s: 108.92\n",
            "\n",
            "---------------------\n",
            "\n",
            "===>  TRAIN Epoch 49\n"
          ]
        },
        {
          "output_type": "stream",
          "name": "stderr",
          "text": [
            "0% [████] 100% | ETA: 00:00:00\n",
            "Total time elapsed: 00:00:04\n"
          ]
        },
        {
          "output_type": "stream",
          "name": "stdout",
          "text": [
            "Finished Epoch 49 || Run Time:    3.6 | Load Time:    1.1 || F1: 100.00 | Prec: 100.00 | Rec: 100.00 || Ex/s:  68.72\n",
            "\n",
            "===>  EVAL Epoch 49\n"
          ]
        },
        {
          "output_type": "stream",
          "name": "stderr",
          "text": [
            "0% [█] 100% | ETA: 00:00:00\n",
            "Total time elapsed: 00:00:00\n"
          ]
        },
        {
          "output_type": "stream",
          "name": "stdout",
          "text": [
            "Finished Epoch 49 || Run Time:    0.8 | Load Time:    0.4 || F1:  85.71 | Prec:  82.76 | Rec:  88.89 || Ex/s:  87.36\n",
            "\n",
            "---------------------\n",
            "\n",
            "===>  TRAIN Epoch 50\n"
          ]
        },
        {
          "output_type": "stream",
          "name": "stderr",
          "text": [
            "0% [████] 100% | ETA: 00:00:00\n",
            "Total time elapsed: 00:00:03\n"
          ]
        },
        {
          "output_type": "stream",
          "name": "stdout",
          "text": [
            "Finished Epoch 50 || Run Time:    3.2 | Load Time:    1.0 || F1: 100.00 | Prec: 100.00 | Rec: 100.00 || Ex/s:  76.84\n",
            "\n",
            "===>  EVAL Epoch 50\n"
          ]
        },
        {
          "output_type": "stream",
          "name": "stderr",
          "text": [
            "0% [█] 100% | ETA: 00:00:00\n",
            "Total time elapsed: 00:00:00\n"
          ]
        },
        {
          "output_type": "stream",
          "name": "stdout",
          "text": [
            "Finished Epoch 50 || Run Time:    0.8 | Load Time:    0.3 || F1:  85.71 | Prec:  82.76 | Rec:  88.89 || Ex/s:  95.17\n",
            "\n",
            "---------------------\n",
            "\n",
            "===>  TRAIN Epoch 51\n"
          ]
        },
        {
          "output_type": "stream",
          "name": "stderr",
          "text": [
            "0% [████] 100% | ETA: 00:00:00\n",
            "Total time elapsed: 00:00:03\n"
          ]
        },
        {
          "output_type": "stream",
          "name": "stdout",
          "text": [
            "Finished Epoch 51 || Run Time:    3.1 | Load Time:    1.0 || F1: 100.00 | Prec: 100.00 | Rec: 100.00 || Ex/s:  78.75\n",
            "\n",
            "===>  EVAL Epoch 51\n"
          ]
        },
        {
          "output_type": "stream",
          "name": "stderr",
          "text": [
            "0% [█] 100% | ETA: 00:00:00\n",
            "Total time elapsed: 00:00:00\n"
          ]
        },
        {
          "output_type": "stream",
          "name": "stdout",
          "text": [
            "Finished Epoch 51 || Run Time:    0.7 | Load Time:    0.3 || F1:  85.71 | Prec:  82.76 | Rec:  88.89 || Ex/s: 108.86\n",
            "\n",
            "---------------------\n",
            "\n",
            "===>  TRAIN Epoch 52\n"
          ]
        },
        {
          "output_type": "stream",
          "name": "stderr",
          "text": [
            "0% [████] 100% | ETA: 00:00:00\n",
            "Total time elapsed: 00:00:04\n"
          ]
        },
        {
          "output_type": "stream",
          "name": "stdout",
          "text": [
            "Finished Epoch 52 || Run Time:    3.8 | Load Time:    1.2 || F1: 100.00 | Prec: 100.00 | Rec: 100.00 || Ex/s:  64.43\n",
            "\n",
            "===>  EVAL Epoch 52\n"
          ]
        },
        {
          "output_type": "stream",
          "name": "stderr",
          "text": [
            "0% [█] 100% | ETA: 00:00:00\n",
            "Total time elapsed: 00:00:00\n"
          ]
        },
        {
          "output_type": "stream",
          "name": "stdout",
          "text": [
            "Finished Epoch 52 || Run Time:    0.7 | Load Time:    0.3 || F1:  85.71 | Prec:  82.76 | Rec:  88.89 || Ex/s: 109.44\n",
            "\n",
            "---------------------\n",
            "\n",
            "===>  TRAIN Epoch 53\n"
          ]
        },
        {
          "output_type": "stream",
          "name": "stderr",
          "text": [
            "0% [████] 100% | ETA: 00:00:00\n",
            "Total time elapsed: 00:00:03\n"
          ]
        },
        {
          "output_type": "stream",
          "name": "stdout",
          "text": [
            "Finished Epoch 53 || Run Time:    3.1 | Load Time:    1.0 || F1: 100.00 | Prec: 100.00 | Rec: 100.00 || Ex/s:  79.57\n",
            "\n",
            "===>  EVAL Epoch 53\n"
          ]
        },
        {
          "output_type": "stream",
          "name": "stderr",
          "text": [
            "0% [█] 100% | ETA: 00:00:00\n",
            "Total time elapsed: 00:00:00\n"
          ]
        },
        {
          "output_type": "stream",
          "name": "stdout",
          "text": [
            "Finished Epoch 53 || Run Time:    0.7 | Load Time:    0.3 || F1:  85.71 | Prec:  82.76 | Rec:  88.89 || Ex/s: 111.70\n",
            "\n",
            "---------------------\n",
            "\n",
            "===>  TRAIN Epoch 54\n"
          ]
        },
        {
          "output_type": "stream",
          "name": "stderr",
          "text": [
            "0% [████] 100% | ETA: 00:00:00\n",
            "Total time elapsed: 00:00:04\n"
          ]
        },
        {
          "output_type": "stream",
          "name": "stdout",
          "text": [
            "Finished Epoch 54 || Run Time:    3.5 | Load Time:    1.0 || F1: 100.00 | Prec: 100.00 | Rec: 100.00 || Ex/s:  71.45\n",
            "\n",
            "===>  EVAL Epoch 54\n"
          ]
        },
        {
          "output_type": "stream",
          "name": "stderr",
          "text": [
            "0% [█] 100% | ETA: 00:00:00\n",
            "Total time elapsed: 00:00:00\n"
          ]
        },
        {
          "output_type": "stream",
          "name": "stdout",
          "text": [
            "Finished Epoch 54 || Run Time:    0.9 | Load Time:    0.4 || F1:  85.71 | Prec:  82.76 | Rec:  88.89 || Ex/s:  85.01\n",
            "\n",
            "---------------------\n",
            "\n",
            "===>  TRAIN Epoch 55\n"
          ]
        },
        {
          "output_type": "stream",
          "name": "stderr",
          "text": [
            "0% [████] 100% | ETA: 00:00:00\n",
            "Total time elapsed: 00:00:04\n"
          ]
        },
        {
          "output_type": "stream",
          "name": "stdout",
          "text": [
            "Finished Epoch 55 || Run Time:    3.3 | Load Time:    1.0 || F1: 100.00 | Prec: 100.00 | Rec: 100.00 || Ex/s:  75.04\n",
            "\n",
            "===>  EVAL Epoch 55\n"
          ]
        },
        {
          "output_type": "stream",
          "name": "stderr",
          "text": [
            "0% [█] 100% | ETA: 00:00:00\n",
            "Total time elapsed: 00:00:00\n"
          ]
        },
        {
          "output_type": "stream",
          "name": "stdout",
          "text": [
            "Finished Epoch 55 || Run Time:    0.7 | Load Time:    0.3 || F1:  85.71 | Prec:  82.76 | Rec:  88.89 || Ex/s: 109.92\n",
            "\n",
            "---------------------\n",
            "\n",
            "===>  TRAIN Epoch 56\n"
          ]
        },
        {
          "output_type": "stream",
          "name": "stderr",
          "text": [
            "0% [████] 100% | ETA: 00:00:00\n",
            "Total time elapsed: 00:00:03\n"
          ]
        },
        {
          "output_type": "stream",
          "name": "stdout",
          "text": [
            "Finished Epoch 56 || Run Time:    3.1 | Load Time:    0.9 || F1: 100.00 | Prec: 100.00 | Rec: 100.00 || Ex/s:  79.30\n",
            "\n",
            "===>  EVAL Epoch 56\n"
          ]
        },
        {
          "output_type": "stream",
          "name": "stderr",
          "text": [
            "0% [█] 100% | ETA: 00:00:00\n",
            "Total time elapsed: 00:00:00\n"
          ]
        },
        {
          "output_type": "stream",
          "name": "stdout",
          "text": [
            "Finished Epoch 56 || Run Time:    0.7 | Load Time:    0.3 || F1:  85.71 | Prec:  82.76 | Rec:  88.89 || Ex/s: 110.36\n",
            "\n",
            "---------------------\n",
            "\n",
            "===>  TRAIN Epoch 57\n"
          ]
        },
        {
          "output_type": "stream",
          "name": "stderr",
          "text": [
            "0% [████] 100% | ETA: 00:00:00\n",
            "Total time elapsed: 00:00:04\n"
          ]
        },
        {
          "output_type": "stream",
          "name": "stdout",
          "text": [
            "Finished Epoch 57 || Run Time:    3.8 | Load Time:    1.2 || F1: 100.00 | Prec: 100.00 | Rec: 100.00 || Ex/s:  63.82\n",
            "\n",
            "===>  EVAL Epoch 57\n"
          ]
        },
        {
          "output_type": "stream",
          "name": "stderr",
          "text": [
            "0% [█] 100% | ETA: 00:00:00\n",
            "Total time elapsed: 00:00:00\n"
          ]
        },
        {
          "output_type": "stream",
          "name": "stdout",
          "text": [
            "Finished Epoch 57 || Run Time:    0.7 | Load Time:    0.3 || F1:  85.71 | Prec:  82.76 | Rec:  88.89 || Ex/s: 112.70\n",
            "\n",
            "---------------------\n",
            "\n",
            "===>  TRAIN Epoch 58\n"
          ]
        },
        {
          "output_type": "stream",
          "name": "stderr",
          "text": [
            "0% [████] 100% | ETA: 00:00:00\n",
            "Total time elapsed: 00:00:03\n"
          ]
        },
        {
          "output_type": "stream",
          "name": "stdout",
          "text": [
            "Finished Epoch 58 || Run Time:    3.2 | Load Time:    1.0 || F1: 100.00 | Prec: 100.00 | Rec: 100.00 || Ex/s:  77.85\n",
            "\n",
            "===>  EVAL Epoch 58\n"
          ]
        },
        {
          "output_type": "stream",
          "name": "stderr",
          "text": [
            "0% [█] 100% | ETA: 00:00:00\n",
            "Total time elapsed: 00:00:00\n"
          ]
        },
        {
          "output_type": "stream",
          "name": "stdout",
          "text": [
            "Finished Epoch 58 || Run Time:    0.7 | Load Time:    0.3 || F1:  85.71 | Prec:  82.76 | Rec:  88.89 || Ex/s: 108.85\n",
            "\n",
            "---------------------\n",
            "\n",
            "===>  TRAIN Epoch 59\n"
          ]
        },
        {
          "output_type": "stream",
          "name": "stderr",
          "text": [
            "0% [████] 100% | ETA: 00:00:00\n",
            "Total time elapsed: 00:00:04\n"
          ]
        },
        {
          "output_type": "stream",
          "name": "stdout",
          "text": [
            "Finished Epoch 59 || Run Time:    3.4 | Load Time:    1.0 || F1: 100.00 | Prec: 100.00 | Rec: 100.00 || Ex/s:  73.54\n",
            "\n",
            "===>  EVAL Epoch 59\n"
          ]
        },
        {
          "output_type": "stream",
          "name": "stderr",
          "text": [
            "0% [█] 100% | ETA: 00:00:00\n",
            "Total time elapsed: 00:00:00\n"
          ]
        },
        {
          "output_type": "stream",
          "name": "stdout",
          "text": [
            "Finished Epoch 59 || Run Time:    0.8 | Load Time:    0.4 || F1:  85.71 | Prec:  82.76 | Rec:  88.89 || Ex/s:  86.40\n",
            "\n",
            "---------------------\n",
            "\n",
            "===>  TRAIN Epoch 60\n"
          ]
        },
        {
          "output_type": "stream",
          "name": "stderr",
          "text": [
            "0% [████] 100% | ETA: 00:00:00\n",
            "Total time elapsed: 00:00:04\n"
          ]
        },
        {
          "output_type": "stream",
          "name": "stdout",
          "text": [
            "Finished Epoch 60 || Run Time:    3.5 | Load Time:    1.0 || F1: 100.00 | Prec: 100.00 | Rec: 100.00 || Ex/s:  70.56\n",
            "\n",
            "===>  EVAL Epoch 60\n"
          ]
        },
        {
          "output_type": "stream",
          "name": "stderr",
          "text": [
            "0% [█] 100% | ETA: 00:00:00\n",
            "Total time elapsed: 00:00:00\n"
          ]
        },
        {
          "output_type": "stream",
          "name": "stdout",
          "text": [
            "Finished Epoch 60 || Run Time:    0.7 | Load Time:    0.3 || F1:  85.71 | Prec:  82.76 | Rec:  88.89 || Ex/s: 111.33\n",
            "\n",
            "---------------------\n",
            "\n",
            "===>  TRAIN Epoch 61\n"
          ]
        },
        {
          "output_type": "stream",
          "name": "stderr",
          "text": [
            "0% [████] 100% | ETA: 00:00:00\n",
            "Total time elapsed: 00:00:03\n"
          ]
        },
        {
          "output_type": "stream",
          "name": "stdout",
          "text": [
            "Finished Epoch 61 || Run Time:    3.1 | Load Time:    0.9 || F1: 100.00 | Prec: 100.00 | Rec: 100.00 || Ex/s:  78.91\n",
            "\n",
            "===>  EVAL Epoch 61\n"
          ]
        },
        {
          "output_type": "stream",
          "name": "stderr",
          "text": [
            "0% [█] 100% | ETA: 00:00:00\n",
            "Total time elapsed: 00:00:00\n"
          ]
        },
        {
          "output_type": "stream",
          "name": "stdout",
          "text": [
            "Finished Epoch 61 || Run Time:    0.7 | Load Time:    0.3 || F1:  85.71 | Prec:  82.76 | Rec:  88.89 || Ex/s: 111.04\n",
            "\n",
            "---------------------\n",
            "\n",
            "===>  TRAIN Epoch 62\n"
          ]
        },
        {
          "output_type": "stream",
          "name": "stderr",
          "text": [
            "0% [████] 100% | ETA: 00:00:00\n",
            "Total time elapsed: 00:00:04\n"
          ]
        },
        {
          "output_type": "stream",
          "name": "stdout",
          "text": [
            "Finished Epoch 62 || Run Time:    3.9 | Load Time:    1.2 || F1: 100.00 | Prec: 100.00 | Rec: 100.00 || Ex/s:  63.82\n",
            "\n",
            "===>  EVAL Epoch 62\n"
          ]
        },
        {
          "output_type": "stream",
          "name": "stderr",
          "text": [
            "0% [█] 100% | ETA: 00:00:00\n",
            "Total time elapsed: 00:00:00\n"
          ]
        },
        {
          "output_type": "stream",
          "name": "stdout",
          "text": [
            "Finished Epoch 62 || Run Time:    0.7 | Load Time:    0.3 || F1:  85.71 | Prec:  82.76 | Rec:  88.89 || Ex/s: 113.89\n",
            "\n",
            "---------------------\n",
            "\n",
            "===>  TRAIN Epoch 63\n"
          ]
        },
        {
          "output_type": "stream",
          "name": "stderr",
          "text": [
            "0% [████] 100% | ETA: 00:00:00\n",
            "Total time elapsed: 00:00:04\n"
          ]
        },
        {
          "output_type": "stream",
          "name": "stdout",
          "text": [
            "Finished Epoch 63 || Run Time:    3.7 | Load Time:    1.1 || F1: 100.00 | Prec: 100.00 | Rec: 100.00 || Ex/s:  67.30\n",
            "\n",
            "===>  EVAL Epoch 63\n"
          ]
        },
        {
          "output_type": "stream",
          "name": "stderr",
          "text": [
            "0% [█] 100% | ETA: 00:00:00\n",
            "Total time elapsed: 00:00:00\n"
          ]
        },
        {
          "output_type": "stream",
          "name": "stdout",
          "text": [
            "Finished Epoch 63 || Run Time:    0.9 | Load Time:    0.4 || F1:  85.71 | Prec:  82.76 | Rec:  88.89 || Ex/s:  83.44\n",
            "\n",
            "---------------------\n",
            "\n",
            "===>  TRAIN Epoch 64\n"
          ]
        },
        {
          "output_type": "stream",
          "name": "stderr",
          "text": [
            "0% [████] 100% | ETA: 00:00:00\n",
            "Total time elapsed: 00:00:04\n"
          ]
        },
        {
          "output_type": "stream",
          "name": "stdout",
          "text": [
            "Finished Epoch 64 || Run Time:    3.6 | Load Time:    1.0 || F1: 100.00 | Prec: 100.00 | Rec: 100.00 || Ex/s:  69.84\n",
            "\n",
            "===>  EVAL Epoch 64\n"
          ]
        },
        {
          "output_type": "stream",
          "name": "stderr",
          "text": [
            "0% [█] 100% | ETA: 00:00:00\n",
            "Total time elapsed: 00:00:00\n"
          ]
        },
        {
          "output_type": "stream",
          "name": "stdout",
          "text": [
            "Finished Epoch 64 || Run Time:    0.9 | Load Time:    0.4 || F1:  85.71 | Prec:  82.76 | Rec:  88.89 || Ex/s:  85.26\n",
            "\n",
            "---------------------\n",
            "\n",
            "===>  TRAIN Epoch 65\n"
          ]
        },
        {
          "output_type": "stream",
          "name": "stderr",
          "text": [
            "0% [████] 100% | ETA: 00:00:00\n",
            "Total time elapsed: 00:00:03\n"
          ]
        },
        {
          "output_type": "stream",
          "name": "stdout",
          "text": [
            "Finished Epoch 65 || Run Time:    3.2 | Load Time:    1.0 || F1: 100.00 | Prec: 100.00 | Rec: 100.00 || Ex/s:  77.07\n",
            "\n",
            "===>  EVAL Epoch 65\n"
          ]
        },
        {
          "output_type": "stream",
          "name": "stderr",
          "text": [
            "0% [█] 100% | ETA: 00:00:00\n",
            "Total time elapsed: 00:00:00\n"
          ]
        },
        {
          "output_type": "stream",
          "name": "stdout",
          "text": [
            "Finished Epoch 65 || Run Time:    0.7 | Load Time:    0.3 || F1:  85.71 | Prec:  82.76 | Rec:  88.89 || Ex/s: 110.68\n",
            "\n",
            "---------------------\n",
            "\n",
            "===>  TRAIN Epoch 66\n"
          ]
        },
        {
          "output_type": "stream",
          "name": "stderr",
          "text": [
            "0% [████] 100% | ETA: 00:00:00\n",
            "Total time elapsed: 00:00:03\n"
          ]
        },
        {
          "output_type": "stream",
          "name": "stdout",
          "text": [
            "Finished Epoch 66 || Run Time:    3.2 | Load Time:    1.0 || F1: 100.00 | Prec: 100.00 | Rec: 100.00 || Ex/s:  76.15\n",
            "\n",
            "===>  EVAL Epoch 66\n"
          ]
        },
        {
          "output_type": "stream",
          "name": "stderr",
          "text": [
            "0% [█] 100% | ETA: 00:00:00\n",
            "Total time elapsed: 00:00:00\n"
          ]
        },
        {
          "output_type": "stream",
          "name": "stdout",
          "text": [
            "Finished Epoch 66 || Run Time:    0.7 | Load Time:    0.3 || F1:  85.71 | Prec:  82.76 | Rec:  88.89 || Ex/s: 112.34\n",
            "\n",
            "---------------------\n",
            "\n",
            "===>  TRAIN Epoch 67\n"
          ]
        },
        {
          "output_type": "stream",
          "name": "stderr",
          "text": [
            "0% [████] 100% | ETA: 00:00:00\n",
            "Total time elapsed: 00:00:04\n"
          ]
        },
        {
          "output_type": "stream",
          "name": "stdout",
          "text": [
            "Finished Epoch 67 || Run Time:    3.7 | Load Time:    1.2 || F1: 100.00 | Prec: 100.00 | Rec: 100.00 || Ex/s:  65.09\n",
            "\n",
            "===>  EVAL Epoch 67\n"
          ]
        },
        {
          "output_type": "stream",
          "name": "stderr",
          "text": [
            "0% [█] 100% | ETA: 00:00:00\n",
            "Total time elapsed: 00:00:00\n"
          ]
        },
        {
          "output_type": "stream",
          "name": "stdout",
          "text": [
            "Finished Epoch 67 || Run Time:    0.7 | Load Time:    0.3 || F1:  85.71 | Prec:  82.76 | Rec:  88.89 || Ex/s: 111.40\n",
            "\n",
            "---------------------\n",
            "\n",
            "===>  TRAIN Epoch 68\n"
          ]
        },
        {
          "output_type": "stream",
          "name": "stderr",
          "text": [
            "0% [████] 100% | ETA: 00:00:00\n",
            "Total time elapsed: 00:00:03\n"
          ]
        },
        {
          "output_type": "stream",
          "name": "stdout",
          "text": [
            "Finished Epoch 68 || Run Time:    3.1 | Load Time:    0.9 || F1: 100.00 | Prec: 100.00 | Rec: 100.00 || Ex/s:  80.01\n",
            "\n",
            "===>  EVAL Epoch 68\n"
          ]
        },
        {
          "output_type": "stream",
          "name": "stderr",
          "text": [
            "0% [█] 100% | ETA: 00:00:00\n",
            "Total time elapsed: 00:00:00\n"
          ]
        },
        {
          "output_type": "stream",
          "name": "stdout",
          "text": [
            "Finished Epoch 68 || Run Time:    0.7 | Load Time:    0.3 || F1:  85.71 | Prec:  82.76 | Rec:  88.89 || Ex/s: 112.21\n",
            "\n",
            "---------------------\n",
            "\n",
            "===>  TRAIN Epoch 69\n"
          ]
        },
        {
          "output_type": "stream",
          "name": "stderr",
          "text": [
            "0% [████] 100% | ETA: 00:00:00\n",
            "Total time elapsed: 00:00:04\n"
          ]
        },
        {
          "output_type": "stream",
          "name": "stdout",
          "text": [
            "Finished Epoch 69 || Run Time:    3.5 | Load Time:    1.0 || F1: 100.00 | Prec: 100.00 | Rec: 100.00 || Ex/s:  70.76\n",
            "\n",
            "===>  EVAL Epoch 69\n"
          ]
        },
        {
          "output_type": "stream",
          "name": "stderr",
          "text": [
            "0% [█] 100% | ETA: 00:00:00\n",
            "Total time elapsed: 00:00:00\n"
          ]
        },
        {
          "output_type": "stream",
          "name": "stdout",
          "text": [
            "Finished Epoch 69 || Run Time:    0.9 | Load Time:    0.4 || F1:  85.71 | Prec:  82.76 | Rec:  88.89 || Ex/s:  84.90\n",
            "\n",
            "---------------------\n",
            "\n",
            "===>  TRAIN Epoch 70\n"
          ]
        },
        {
          "output_type": "stream",
          "name": "stderr",
          "text": [
            "0% [████] 100% | ETA: 00:00:00\n",
            "Total time elapsed: 00:00:04\n"
          ]
        },
        {
          "output_type": "stream",
          "name": "stdout",
          "text": [
            "Finished Epoch 70 || Run Time:    3.4 | Load Time:    1.0 || F1: 100.00 | Prec: 100.00 | Rec: 100.00 || Ex/s:  73.28\n",
            "\n",
            "===>  EVAL Epoch 70\n"
          ]
        },
        {
          "output_type": "stream",
          "name": "stderr",
          "text": [
            "0% [█] 100% | ETA: 00:00:00\n",
            "Total time elapsed: 00:00:00\n"
          ]
        },
        {
          "output_type": "stream",
          "name": "stdout",
          "text": [
            "Finished Epoch 70 || Run Time:    0.7 | Load Time:    0.3 || F1:  85.71 | Prec:  82.76 | Rec:  88.89 || Ex/s: 111.74\n",
            "\n",
            "---------------------\n",
            "\n",
            "===>  TRAIN Epoch 71\n"
          ]
        },
        {
          "output_type": "stream",
          "name": "stderr",
          "text": [
            "0% [████] 100% | ETA: 00:00:00\n",
            "Total time elapsed: 00:00:03\n"
          ]
        },
        {
          "output_type": "stream",
          "name": "stdout",
          "text": [
            "Finished Epoch 71 || Run Time:    3.1 | Load Time:    0.9 || F1: 100.00 | Prec: 100.00 | Rec: 100.00 || Ex/s:  79.51\n",
            "\n",
            "===>  EVAL Epoch 71\n"
          ]
        },
        {
          "output_type": "stream",
          "name": "stderr",
          "text": [
            "0% [█] 100% | ETA: 00:00:00\n",
            "Total time elapsed: 00:00:00\n"
          ]
        },
        {
          "output_type": "stream",
          "name": "stdout",
          "text": [
            "Finished Epoch 71 || Run Time:    0.7 | Load Time:    0.3 || F1:  85.71 | Prec:  82.76 | Rec:  88.89 || Ex/s: 109.26\n",
            "\n",
            "---------------------\n",
            "\n",
            "===>  TRAIN Epoch 72\n"
          ]
        },
        {
          "output_type": "stream",
          "name": "stderr",
          "text": [
            "0% [████] 100% | ETA: 00:00:00\n",
            "Total time elapsed: 00:00:04\n"
          ]
        },
        {
          "output_type": "stream",
          "name": "stdout",
          "text": [
            "Finished Epoch 72 || Run Time:    3.8 | Load Time:    1.2 || F1: 100.00 | Prec: 100.00 | Rec: 100.00 || Ex/s:  64.17\n",
            "\n",
            "===>  EVAL Epoch 72\n"
          ]
        },
        {
          "output_type": "stream",
          "name": "stderr",
          "text": [
            "0% [█] 100% | ETA: 00:00:00\n",
            "Total time elapsed: 00:00:00\n"
          ]
        },
        {
          "output_type": "stream",
          "name": "stdout",
          "text": [
            "Finished Epoch 72 || Run Time:    0.7 | Load Time:    0.3 || F1:  85.71 | Prec:  82.76 | Rec:  88.89 || Ex/s: 111.66\n",
            "\n",
            "---------------------\n",
            "\n",
            "===>  TRAIN Epoch 73\n"
          ]
        },
        {
          "output_type": "stream",
          "name": "stderr",
          "text": [
            "0% [████] 100% | ETA: 00:00:00\n",
            "Total time elapsed: 00:00:03\n"
          ]
        },
        {
          "output_type": "stream",
          "name": "stdout",
          "text": [
            "Finished Epoch 73 || Run Time:    3.3 | Load Time:    1.0 || F1: 100.00 | Prec: 100.00 | Rec: 100.00 || Ex/s:  73.70\n",
            "\n",
            "===>  EVAL Epoch 73\n"
          ]
        },
        {
          "output_type": "stream",
          "name": "stderr",
          "text": [
            "0% [█] 100% | ETA: 00:00:00\n",
            "Total time elapsed: 00:00:00\n"
          ]
        },
        {
          "output_type": "stream",
          "name": "stdout",
          "text": [
            "Finished Epoch 73 || Run Time:    0.8 | Load Time:    0.4 || F1:  85.71 | Prec:  82.76 | Rec:  88.89 || Ex/s:  85.91\n",
            "\n",
            "---------------------\n",
            "\n",
            "===>  TRAIN Epoch 74\n"
          ]
        },
        {
          "output_type": "stream",
          "name": "stderr",
          "text": [
            "0% [████] 100% | ETA: 00:00:00\n",
            "Total time elapsed: 00:00:04\n"
          ]
        },
        {
          "output_type": "stream",
          "name": "stdout",
          "text": [
            "Finished Epoch 74 || Run Time:    3.8 | Load Time:    1.2 || F1: 100.00 | Prec: 100.00 | Rec: 100.00 || Ex/s:  64.27\n",
            "\n",
            "===>  EVAL Epoch 74\n"
          ]
        },
        {
          "output_type": "stream",
          "name": "stderr",
          "text": [
            "0% [█] 100% | ETA: 00:00:00\n",
            "Total time elapsed: 00:00:00\n"
          ]
        },
        {
          "output_type": "stream",
          "name": "stdout",
          "text": [
            "Finished Epoch 74 || Run Time:    0.9 | Load Time:    0.4 || F1:  85.71 | Prec:  82.76 | Rec:  88.89 || Ex/s:  82.98\n",
            "\n",
            "---------------------\n",
            "\n",
            "===>  TRAIN Epoch 75\n"
          ]
        },
        {
          "output_type": "stream",
          "name": "stderr",
          "text": [
            "0% [████] 100% | ETA: 00:00:00\n",
            "Total time elapsed: 00:00:03\n"
          ]
        },
        {
          "output_type": "stream",
          "name": "stdout",
          "text": [
            "Finished Epoch 75 || Run Time:    3.1 | Load Time:    1.0 || F1: 100.00 | Prec: 100.00 | Rec: 100.00 || Ex/s:  79.59\n",
            "\n",
            "===>  EVAL Epoch 75\n"
          ]
        },
        {
          "output_type": "stream",
          "name": "stderr",
          "text": [
            "0% [█] 100% | ETA: 00:00:00\n",
            "Total time elapsed: 00:00:00\n"
          ]
        },
        {
          "output_type": "stream",
          "name": "stdout",
          "text": [
            "Finished Epoch 75 || Run Time:    0.7 | Load Time:    0.3 || F1:  85.71 | Prec:  82.76 | Rec:  88.89 || Ex/s: 110.50\n",
            "\n",
            "---------------------\n",
            "\n",
            "===>  TRAIN Epoch 76\n"
          ]
        },
        {
          "output_type": "stream",
          "name": "stderr",
          "text": [
            "0% [████] 100% | ETA: 00:00:00\n",
            "Total time elapsed: 00:00:03\n"
          ]
        },
        {
          "output_type": "stream",
          "name": "stdout",
          "text": [
            "Finished Epoch 76 || Run Time:    3.1 | Load Time:    0.9 || F1: 100.00 | Prec: 100.00 | Rec: 100.00 || Ex/s:  79.48\n",
            "\n",
            "===>  EVAL Epoch 76\n"
          ]
        },
        {
          "output_type": "stream",
          "name": "stderr",
          "text": [
            "0% [█] 100% | ETA: 00:00:00\n",
            "Total time elapsed: 00:00:00\n"
          ]
        },
        {
          "output_type": "stream",
          "name": "stdout",
          "text": [
            "Finished Epoch 76 || Run Time:    0.7 | Load Time:    0.3 || F1:  85.71 | Prec:  82.76 | Rec:  88.89 || Ex/s: 112.41\n",
            "\n",
            "---------------------\n",
            "\n",
            "===>  TRAIN Epoch 77\n"
          ]
        },
        {
          "output_type": "stream",
          "name": "stderr",
          "text": [
            "0% [████] 100% | ETA: 00:00:00\n",
            "Total time elapsed: 00:00:04\n"
          ]
        },
        {
          "output_type": "stream",
          "name": "stdout",
          "text": [
            "Finished Epoch 77 || Run Time:    3.8 | Load Time:    1.2 || F1: 100.00 | Prec: 100.00 | Rec: 100.00 || Ex/s:  64.24\n",
            "\n",
            "===>  EVAL Epoch 77\n"
          ]
        },
        {
          "output_type": "stream",
          "name": "stderr",
          "text": [
            "0% [█] 100% | ETA: 00:00:00\n",
            "Total time elapsed: 00:00:00\n"
          ]
        },
        {
          "output_type": "stream",
          "name": "stdout",
          "text": [
            "Finished Epoch 77 || Run Time:    0.7 | Load Time:    0.3 || F1:  85.71 | Prec:  82.76 | Rec:  88.89 || Ex/s: 111.67\n",
            "\n",
            "---------------------\n",
            "\n",
            "===>  TRAIN Epoch 78\n"
          ]
        },
        {
          "output_type": "stream",
          "name": "stderr",
          "text": [
            "0% [████] 100% | ETA: 00:00:00\n",
            "Total time elapsed: 00:00:03\n"
          ]
        },
        {
          "output_type": "stream",
          "name": "stdout",
          "text": [
            "Finished Epoch 78 || Run Time:    3.1 | Load Time:    0.9 || F1: 100.00 | Prec: 100.00 | Rec: 100.00 || Ex/s:  79.27\n",
            "\n",
            "===>  EVAL Epoch 78\n"
          ]
        },
        {
          "output_type": "stream",
          "name": "stderr",
          "text": [
            "0% [█] 100% | ETA: 00:00:00\n",
            "Total time elapsed: 00:00:00\n"
          ]
        },
        {
          "output_type": "stream",
          "name": "stdout",
          "text": [
            "Finished Epoch 78 || Run Time:    0.7 | Load Time:    0.3 || F1:  85.71 | Prec:  82.76 | Rec:  88.89 || Ex/s: 110.91\n",
            "\n",
            "---------------------\n",
            "\n",
            "===>  TRAIN Epoch 79\n"
          ]
        },
        {
          "output_type": "stream",
          "name": "stderr",
          "text": [
            "0% [████] 100% | ETA: 00:00:00\n",
            "Total time elapsed: 00:00:04\n"
          ]
        },
        {
          "output_type": "stream",
          "name": "stdout",
          "text": [
            "Finished Epoch 79 || Run Time:    3.4 | Load Time:    1.0 || F1: 100.00 | Prec: 100.00 | Rec: 100.00 || Ex/s:  72.46\n",
            "\n",
            "===>  EVAL Epoch 79\n"
          ]
        },
        {
          "output_type": "stream",
          "name": "stderr",
          "text": [
            "0% [█] 100% | ETA: 00:00:00\n",
            "Total time elapsed: 00:00:00\n"
          ]
        },
        {
          "output_type": "stream",
          "name": "stdout",
          "text": [
            "Finished Epoch 79 || Run Time:    0.8 | Load Time:    0.4 || F1:  85.71 | Prec:  82.76 | Rec:  88.89 || Ex/s:  86.70\n",
            "\n",
            "---------------------\n",
            "\n",
            "===>  TRAIN Epoch 80\n"
          ]
        },
        {
          "output_type": "stream",
          "name": "stderr",
          "text": [
            "0% [████] 100% | ETA: 00:00:00\n",
            "Total time elapsed: 00:00:04\n"
          ]
        },
        {
          "output_type": "stream",
          "name": "stdout",
          "text": [
            "Finished Epoch 80 || Run Time:    3.3 | Load Time:    1.0 || F1: 100.00 | Prec: 100.00 | Rec: 100.00 || Ex/s:  73.65\n",
            "\n",
            "===>  EVAL Epoch 80\n"
          ]
        },
        {
          "output_type": "stream",
          "name": "stderr",
          "text": [
            "0% [█] 100% | ETA: 00:00:00\n",
            "Total time elapsed: 00:00:00\n"
          ]
        },
        {
          "output_type": "stream",
          "name": "stdout",
          "text": [
            "Finished Epoch 80 || Run Time:    0.7 | Load Time:    0.3 || F1:  85.71 | Prec:  82.76 | Rec:  88.89 || Ex/s: 110.62\n",
            "\n",
            "---------------------\n",
            "\n",
            "===>  TRAIN Epoch 81\n"
          ]
        },
        {
          "output_type": "stream",
          "name": "stderr",
          "text": [
            "0% [████] 100% | ETA: 00:00:00\n",
            "Total time elapsed: 00:00:03\n"
          ]
        },
        {
          "output_type": "stream",
          "name": "stdout",
          "text": [
            "Finished Epoch 81 || Run Time:    3.2 | Load Time:    0.9 || F1: 100.00 | Prec: 100.00 | Rec: 100.00 || Ex/s:  77.03\n",
            "\n",
            "===>  EVAL Epoch 81\n"
          ]
        },
        {
          "output_type": "stream",
          "name": "stderr",
          "text": [
            "0% [█] 100% | ETA: 00:00:00\n",
            "Total time elapsed: 00:00:00\n"
          ]
        },
        {
          "output_type": "stream",
          "name": "stdout",
          "text": [
            "Finished Epoch 81 || Run Time:    0.7 | Load Time:    0.3 || F1:  85.71 | Prec:  82.76 | Rec:  88.89 || Ex/s: 112.10\n",
            "\n",
            "---------------------\n",
            "\n",
            "===>  TRAIN Epoch 82\n"
          ]
        },
        {
          "output_type": "stream",
          "name": "stderr",
          "text": [
            "0% [████] 100% | ETA: 00:00:00\n",
            "Total time elapsed: 00:00:04\n"
          ]
        },
        {
          "output_type": "stream",
          "name": "stdout",
          "text": [
            "Finished Epoch 82 || Run Time:    3.8 | Load Time:    1.2 || F1: 100.00 | Prec: 100.00 | Rec: 100.00 || Ex/s:  64.41\n",
            "\n",
            "===>  EVAL Epoch 82\n"
          ]
        },
        {
          "output_type": "stream",
          "name": "stderr",
          "text": [
            "0% [█] 100% | ETA: 00:00:00\n",
            "Total time elapsed: 00:00:00\n"
          ]
        },
        {
          "output_type": "stream",
          "name": "stdout",
          "text": [
            "Finished Epoch 82 || Run Time:    0.7 | Load Time:    0.3 || F1:  85.71 | Prec:  82.76 | Rec:  88.89 || Ex/s: 109.05\n",
            "\n",
            "---------------------\n",
            "\n",
            "===>  TRAIN Epoch 83\n"
          ]
        },
        {
          "output_type": "stream",
          "name": "stderr",
          "text": [
            "0% [████] 100% | ETA: 00:00:00\n",
            "Total time elapsed: 00:00:03\n"
          ]
        },
        {
          "output_type": "stream",
          "name": "stdout",
          "text": [
            "Finished Epoch 83 || Run Time:    3.1 | Load Time:    1.0 || F1: 100.00 | Prec: 100.00 | Rec: 100.00 || Ex/s:  79.39\n",
            "\n",
            "===>  EVAL Epoch 83\n"
          ]
        },
        {
          "output_type": "stream",
          "name": "stderr",
          "text": [
            "0% [█] 100% | ETA: 00:00:00\n",
            "Total time elapsed: 00:00:00\n"
          ]
        },
        {
          "output_type": "stream",
          "name": "stdout",
          "text": [
            "Finished Epoch 83 || Run Time:    0.7 | Load Time:    0.3 || F1:  85.71 | Prec:  82.76 | Rec:  88.89 || Ex/s: 109.45\n",
            "\n",
            "---------------------\n",
            "\n",
            "===>  TRAIN Epoch 84\n"
          ]
        },
        {
          "output_type": "stream",
          "name": "stderr",
          "text": [
            "0% [████] 100% | ETA: 00:00:00\n",
            "Total time elapsed: 00:00:03\n"
          ]
        },
        {
          "output_type": "stream",
          "name": "stdout",
          "text": [
            "Finished Epoch 84 || Run Time:    3.3 | Load Time:    1.0 || F1: 100.00 | Prec: 100.00 | Rec: 100.00 || Ex/s:  74.86\n",
            "\n",
            "===>  EVAL Epoch 84\n"
          ]
        },
        {
          "output_type": "stream",
          "name": "stderr",
          "text": [
            "0% [█] 100% | ETA: 00:00:00\n",
            "Total time elapsed: 00:00:00\n"
          ]
        },
        {
          "output_type": "stream",
          "name": "stdout",
          "text": [
            "Finished Epoch 84 || Run Time:    0.9 | Load Time:    0.4 || F1:  85.71 | Prec:  82.76 | Rec:  88.89 || Ex/s:  83.98\n",
            "\n",
            "---------------------\n",
            "\n",
            "===>  TRAIN Epoch 85\n"
          ]
        },
        {
          "output_type": "stream",
          "name": "stderr",
          "text": [
            "0% [████] 100% | ETA: 00:00:00\n",
            "Total time elapsed: 00:00:04\n"
          ]
        },
        {
          "output_type": "stream",
          "name": "stdout",
          "text": [
            "Finished Epoch 85 || Run Time:    3.4 | Load Time:    1.0 || F1: 100.00 | Prec: 100.00 | Rec: 100.00 || Ex/s:  72.36\n",
            "\n",
            "===>  EVAL Epoch 85\n"
          ]
        },
        {
          "output_type": "stream",
          "name": "stderr",
          "text": [
            "0% [█] 100% | ETA: 00:00:00\n",
            "Total time elapsed: 00:00:00\n"
          ]
        },
        {
          "output_type": "stream",
          "name": "stdout",
          "text": [
            "Finished Epoch 85 || Run Time:    0.7 | Load Time:    0.3 || F1:  85.71 | Prec:  82.76 | Rec:  88.89 || Ex/s: 110.78\n",
            "\n",
            "---------------------\n",
            "\n",
            "===>  TRAIN Epoch 86\n"
          ]
        },
        {
          "output_type": "stream",
          "name": "stderr",
          "text": [
            "0% [████] 100% | ETA: 00:00:00\n",
            "Total time elapsed: 00:00:03\n"
          ]
        },
        {
          "output_type": "stream",
          "name": "stdout",
          "text": [
            "Finished Epoch 86 || Run Time:    3.1 | Load Time:    1.0 || F1: 100.00 | Prec: 100.00 | Rec: 100.00 || Ex/s:  78.39\n",
            "\n",
            "===>  EVAL Epoch 86\n"
          ]
        },
        {
          "output_type": "stream",
          "name": "stderr",
          "text": [
            "0% [█] 100% | ETA: 00:00:00\n",
            "Total time elapsed: 00:00:00\n"
          ]
        },
        {
          "output_type": "stream",
          "name": "stdout",
          "text": [
            "Finished Epoch 86 || Run Time:    0.7 | Load Time:    0.3 || F1:  85.71 | Prec:  82.76 | Rec:  88.89 || Ex/s: 110.03\n",
            "\n",
            "---------------------\n",
            "\n",
            "===>  TRAIN Epoch 87\n"
          ]
        },
        {
          "output_type": "stream",
          "name": "stderr",
          "text": [
            "0% [████] 100% | ETA: 00:00:00\n",
            "Total time elapsed: 00:00:04\n"
          ]
        },
        {
          "output_type": "stream",
          "name": "stdout",
          "text": [
            "Finished Epoch 87 || Run Time:    3.9 | Load Time:    1.2 || F1: 100.00 | Prec: 100.00 | Rec: 100.00 || Ex/s:  63.26\n",
            "\n",
            "===>  EVAL Epoch 87\n"
          ]
        },
        {
          "output_type": "stream",
          "name": "stderr",
          "text": [
            "0% [█] 100% | ETA: 00:00:00\n",
            "Total time elapsed: 00:00:00\n"
          ]
        },
        {
          "output_type": "stream",
          "name": "stdout",
          "text": [
            "Finished Epoch 87 || Run Time:    0.7 | Load Time:    0.3 || F1:  85.71 | Prec:  82.76 | Rec:  88.89 || Ex/s: 112.78\n",
            "\n",
            "---------------------\n",
            "\n",
            "===>  TRAIN Epoch 88\n"
          ]
        },
        {
          "output_type": "stream",
          "name": "stderr",
          "text": [
            "0% [████] 100% | ETA: 00:00:00\n",
            "Total time elapsed: 00:00:03\n"
          ]
        },
        {
          "output_type": "stream",
          "name": "stdout",
          "text": [
            "Finished Epoch 88 || Run Time:    3.1 | Load Time:    0.9 || F1: 100.00 | Prec: 100.00 | Rec: 100.00 || Ex/s:  78.55\n",
            "\n",
            "===>  EVAL Epoch 88\n"
          ]
        },
        {
          "output_type": "stream",
          "name": "stderr",
          "text": [
            "0% [█] 100% | ETA: 00:00:00\n",
            "Total time elapsed: 00:00:00\n"
          ]
        },
        {
          "output_type": "stream",
          "name": "stdout",
          "text": [
            "Finished Epoch 88 || Run Time:    0.7 | Load Time:    0.3 || F1:  85.71 | Prec:  82.76 | Rec:  88.89 || Ex/s: 110.96\n",
            "\n",
            "---------------------\n",
            "\n",
            "===>  TRAIN Epoch 89\n"
          ]
        },
        {
          "output_type": "stream",
          "name": "stderr",
          "text": [
            "0% [████] 100% | ETA: 00:00:00\n",
            "Total time elapsed: 00:00:03\n"
          ]
        },
        {
          "output_type": "stream",
          "name": "stdout",
          "text": [
            "Finished Epoch 89 || Run Time:    3.1 | Load Time:    1.0 || F1: 100.00 | Prec: 100.00 | Rec: 100.00 || Ex/s:  78.05\n",
            "\n",
            "===>  EVAL Epoch 89\n"
          ]
        },
        {
          "output_type": "stream",
          "name": "stderr",
          "text": [
            "0% [█] 100% | ETA: 00:00:00\n",
            "Total time elapsed: 00:00:00\n"
          ]
        },
        {
          "output_type": "stream",
          "name": "stdout",
          "text": [
            "Finished Epoch 89 || Run Time:    0.8 | Load Time:    0.4 || F1:  85.71 | Prec:  82.76 | Rec:  88.89 || Ex/s:  87.03\n",
            "\n",
            "---------------------\n",
            "\n",
            "===>  TRAIN Epoch 90\n"
          ]
        },
        {
          "output_type": "stream",
          "name": "stderr",
          "text": [
            "0% [████] 100% | ETA: 00:00:00\n",
            "Total time elapsed: 00:00:04\n"
          ]
        },
        {
          "output_type": "stream",
          "name": "stdout",
          "text": [
            "Finished Epoch 90 || Run Time:    3.5 | Load Time:    1.1 || F1: 100.00 | Prec: 100.00 | Rec: 100.00 || Ex/s:  69.76\n",
            "\n",
            "===>  EVAL Epoch 90\n"
          ]
        },
        {
          "output_type": "stream",
          "name": "stderr",
          "text": [
            "0% [█] 100% | ETA: 00:00:00\n",
            "Total time elapsed: 00:00:00\n"
          ]
        },
        {
          "output_type": "stream",
          "name": "stdout",
          "text": [
            "Finished Epoch 90 || Run Time:    0.6 | Load Time:    0.3 || F1:  85.71 | Prec:  82.76 | Rec:  88.89 || Ex/s: 113.20\n",
            "\n",
            "---------------------\n",
            "\n",
            "===>  TRAIN Epoch 91\n"
          ]
        },
        {
          "output_type": "stream",
          "name": "stderr",
          "text": [
            "0% [████] 100% | ETA: 00:00:00\n",
            "Total time elapsed: 00:00:03\n"
          ]
        },
        {
          "output_type": "stream",
          "name": "stdout",
          "text": [
            "Finished Epoch 91 || Run Time:    3.2 | Load Time:    0.9 || F1: 100.00 | Prec: 100.00 | Rec: 100.00 || Ex/s:  78.39\n",
            "\n",
            "===>  EVAL Epoch 91\n"
          ]
        },
        {
          "output_type": "stream",
          "name": "stderr",
          "text": [
            "0% [█] 100% | ETA: 00:00:00\n",
            "Total time elapsed: 00:00:00\n"
          ]
        },
        {
          "output_type": "stream",
          "name": "stdout",
          "text": [
            "Finished Epoch 91 || Run Time:    0.7 | Load Time:    0.3 || F1:  85.71 | Prec:  82.76 | Rec:  88.89 || Ex/s: 110.04\n",
            "\n",
            "---------------------\n",
            "\n",
            "===>  TRAIN Epoch 92\n"
          ]
        },
        {
          "output_type": "stream",
          "name": "stderr",
          "text": [
            "0% [████] 100% | ETA: 00:00:00\n",
            "Total time elapsed: 00:00:04\n"
          ]
        },
        {
          "output_type": "stream",
          "name": "stdout",
          "text": [
            "Finished Epoch 92 || Run Time:    3.7 | Load Time:    1.1 || F1: 100.00 | Prec: 100.00 | Rec: 100.00 || Ex/s:  65.79\n",
            "\n",
            "===>  EVAL Epoch 92\n"
          ]
        },
        {
          "output_type": "stream",
          "name": "stderr",
          "text": [
            "0% [█] 100% | ETA: 00:00:00\n",
            "Total time elapsed: 00:00:00\n"
          ]
        },
        {
          "output_type": "stream",
          "name": "stdout",
          "text": [
            "Finished Epoch 92 || Run Time:    0.9 | Load Time:    0.3 || F1:  85.71 | Prec:  82.76 | Rec:  88.89 || Ex/s:  88.16\n",
            "\n",
            "---------------------\n",
            "\n",
            "===>  TRAIN Epoch 93\n"
          ]
        },
        {
          "output_type": "stream",
          "name": "stderr",
          "text": [
            "0% [████] 100% | ETA: 00:00:00\n",
            "Total time elapsed: 00:00:03\n"
          ]
        },
        {
          "output_type": "stream",
          "name": "stdout",
          "text": [
            "Finished Epoch 93 || Run Time:    3.1 | Load Time:    0.9 || F1: 100.00 | Prec: 100.00 | Rec: 100.00 || Ex/s:  79.45\n",
            "\n",
            "===>  EVAL Epoch 93\n"
          ]
        },
        {
          "output_type": "stream",
          "name": "stderr",
          "text": [
            "0% [█] 100% | ETA: 00:00:00\n",
            "Total time elapsed: 00:00:00\n"
          ]
        },
        {
          "output_type": "stream",
          "name": "stdout",
          "text": [
            "Finished Epoch 93 || Run Time:    0.7 | Load Time:    0.3 || F1:  85.71 | Prec:  82.76 | Rec:  88.89 || Ex/s: 108.63\n",
            "\n",
            "---------------------\n",
            "\n",
            "===>  TRAIN Epoch 94\n"
          ]
        },
        {
          "output_type": "stream",
          "name": "stderr",
          "text": [
            "0% [████] 100% | ETA: 00:00:00\n",
            "Total time elapsed: 00:00:03\n"
          ]
        },
        {
          "output_type": "stream",
          "name": "stdout",
          "text": [
            "Finished Epoch 94 || Run Time:    3.1 | Load Time:    1.0 || F1: 100.00 | Prec: 100.00 | Rec: 100.00 || Ex/s:  80.05\n",
            "\n",
            "===>  EVAL Epoch 94\n"
          ]
        },
        {
          "output_type": "stream",
          "name": "stderr",
          "text": [
            "0% [█] 100% | ETA: 00:00:00\n",
            "Total time elapsed: 00:00:00\n"
          ]
        },
        {
          "output_type": "stream",
          "name": "stdout",
          "text": [
            "Finished Epoch 94 || Run Time:    0.9 | Load Time:    0.4 || F1:  85.71 | Prec:  82.76 | Rec:  88.89 || Ex/s:  84.40\n",
            "\n",
            "---------------------\n",
            "\n",
            "===>  TRAIN Epoch 95\n"
          ]
        },
        {
          "output_type": "stream",
          "name": "stderr",
          "text": [
            "0% [████] 100% | ETA: 00:00:00\n",
            "Total time elapsed: 00:00:04\n"
          ]
        },
        {
          "output_type": "stream",
          "name": "stdout",
          "text": [
            "Finished Epoch 95 || Run Time:    3.6 | Load Time:    1.1 || F1: 100.00 | Prec: 100.00 | Rec: 100.00 || Ex/s:  68.59\n",
            "\n",
            "===>  EVAL Epoch 95\n"
          ]
        },
        {
          "output_type": "stream",
          "name": "stderr",
          "text": [
            "0% [█] 100% | ETA: 00:00:00\n",
            "Total time elapsed: 00:00:00\n"
          ]
        },
        {
          "output_type": "stream",
          "name": "stdout",
          "text": [
            "Finished Epoch 95 || Run Time:    0.7 | Load Time:    0.3 || F1:  85.71 | Prec:  82.76 | Rec:  88.89 || Ex/s: 110.67\n",
            "\n",
            "---------------------\n",
            "\n",
            "===>  TRAIN Epoch 96\n"
          ]
        },
        {
          "output_type": "stream",
          "name": "stderr",
          "text": [
            "0% [████] 100% | ETA: 00:00:00\n",
            "Total time elapsed: 00:00:03\n"
          ]
        },
        {
          "output_type": "stream",
          "name": "stdout",
          "text": [
            "Finished Epoch 96 || Run Time:    3.1 | Load Time:    0.9 || F1: 100.00 | Prec: 100.00 | Rec: 100.00 || Ex/s:  78.58\n",
            "\n",
            "===>  EVAL Epoch 96\n"
          ]
        },
        {
          "output_type": "stream",
          "name": "stderr",
          "text": [
            "0% [█] 100% | ETA: 00:00:00\n",
            "Total time elapsed: 00:00:00\n"
          ]
        },
        {
          "output_type": "stream",
          "name": "stdout",
          "text": [
            "Finished Epoch 96 || Run Time:    0.7 | Load Time:    0.3 || F1:  85.71 | Prec:  82.76 | Rec:  88.89 || Ex/s: 110.79\n",
            "\n",
            "---------------------\n",
            "\n",
            "===>  TRAIN Epoch 97\n"
          ]
        },
        {
          "output_type": "stream",
          "name": "stderr",
          "text": [
            "0% [████] 100% | ETA: 00:00:00\n",
            "Total time elapsed: 00:00:04\n"
          ]
        },
        {
          "output_type": "stream",
          "name": "stdout",
          "text": [
            "Finished Epoch 97 || Run Time:    3.7 | Load Time:    1.1 || F1: 100.00 | Prec: 100.00 | Rec: 100.00 || Ex/s:  66.15\n",
            "\n",
            "===>  EVAL Epoch 97\n"
          ]
        },
        {
          "output_type": "stream",
          "name": "stderr",
          "text": [
            "0% [█] 100% | ETA: 00:00:00\n",
            "Total time elapsed: 00:00:00\n"
          ]
        },
        {
          "output_type": "stream",
          "name": "stdout",
          "text": [
            "Finished Epoch 97 || Run Time:    0.8 | Load Time:    0.4 || F1:  85.71 | Prec:  82.76 | Rec:  88.89 || Ex/s:  93.29\n",
            "\n",
            "---------------------\n",
            "\n",
            "===>  TRAIN Epoch 98\n"
          ]
        },
        {
          "output_type": "stream",
          "name": "stderr",
          "text": [
            "0% [████] 100% | ETA: 00:00:00\n",
            "Total time elapsed: 00:00:03\n"
          ]
        },
        {
          "output_type": "stream",
          "name": "stdout",
          "text": [
            "Finished Epoch 98 || Run Time:    3.2 | Load Time:    1.0 || F1: 100.00 | Prec: 100.00 | Rec: 100.00 || Ex/s:  77.48\n",
            "\n",
            "===>  EVAL Epoch 98\n"
          ]
        },
        {
          "output_type": "stream",
          "name": "stderr",
          "text": [
            "0% [█] 100% | ETA: 00:00:00\n",
            "Total time elapsed: 00:00:00\n"
          ]
        },
        {
          "output_type": "stream",
          "name": "stdout",
          "text": [
            "Finished Epoch 98 || Run Time:    0.7 | Load Time:    0.3 || F1:  85.71 | Prec:  82.76 | Rec:  88.89 || Ex/s: 108.90\n",
            "\n",
            "---------------------\n",
            "\n",
            "===>  TRAIN Epoch 99\n"
          ]
        },
        {
          "output_type": "stream",
          "name": "stderr",
          "text": [
            "0% [████] 100% | ETA: 00:00:00\n",
            "Total time elapsed: 00:00:03\n"
          ]
        },
        {
          "output_type": "stream",
          "name": "stdout",
          "text": [
            "Finished Epoch 99 || Run Time:    3.1 | Load Time:    0.9 || F1: 100.00 | Prec: 100.00 | Rec: 100.00 || Ex/s:  79.91\n",
            "\n",
            "===>  EVAL Epoch 99\n"
          ]
        },
        {
          "output_type": "stream",
          "name": "stderr",
          "text": [
            "0% [█] 100% | ETA: 00:00:00\n",
            "Total time elapsed: 00:00:00\n"
          ]
        },
        {
          "output_type": "stream",
          "name": "stdout",
          "text": [
            "Finished Epoch 99 || Run Time:    0.8 | Load Time:    0.4 || F1:  85.71 | Prec:  82.76 | Rec:  88.89 || Ex/s:  90.35\n",
            "\n",
            "---------------------\n",
            "\n",
            "===>  TRAIN Epoch 100\n"
          ]
        },
        {
          "output_type": "stream",
          "name": "stderr",
          "text": [
            "0% [████] 100% | ETA: 00:00:00\n",
            "Total time elapsed: 00:00:04\n"
          ]
        },
        {
          "output_type": "stream",
          "name": "stdout",
          "text": [
            "Finished Epoch 100 || Run Time:    3.9 | Load Time:    1.2 || F1: 100.00 | Prec: 100.00 | Rec: 100.00 || Ex/s:  63.70\n",
            "\n",
            "===>  EVAL Epoch 100\n"
          ]
        },
        {
          "output_type": "stream",
          "name": "stderr",
          "text": [
            "0% [█] 100% | ETA: 00:00:00\n",
            "Total time elapsed: 00:00:00\n"
          ]
        },
        {
          "output_type": "stream",
          "name": "stdout",
          "text": [
            "Finished Epoch 100 || Run Time:    0.7 | Load Time:    0.3 || F1:  85.71 | Prec:  82.76 | Rec:  88.89 || Ex/s: 110.45\n",
            "\n",
            "---------------------\n",
            "\n",
            "Loading best model...\n",
            "Training done.\n"
          ]
        },
        {
          "output_type": "execute_result",
          "data": {
            "text/plain": [
              "tensor(90.1961, device='cuda:0')"
            ]
          },
          "metadata": {},
          "execution_count": 49
        }
      ]
    },
    {
      "cell_type": "code",
      "source": [
        "hybrid_model = dm.MatchingModel(attr_summarizer='hybrid')\n",
        "# 430s"
      ],
      "metadata": {
        "id": "B3aOndvC6IAP"
      },
      "execution_count": null,
      "outputs": []
    },
    {
      "cell_type": "code",
      "source": [
        "hybrid_model.run_train(\n",
        "    train,\n",
        "    validation,\n",
        "    epochs=100,\n",
        "    batch_size=16,\n",
        "    best_save_path='hybrid_model.pth',\n",
        "    pos_neg_ratio=3)"
      ],
      "metadata": {
        "colab": {
          "base_uri": "https://localhost:8080/"
        },
        "id": "gMQBSrOS6QE8",
        "outputId": "c0c2cd17-63d6-4096-89d1-7aa3900e653e"
      },
      "execution_count": null,
      "outputs": [
        {
          "metadata": {
            "tags": null
          },
          "name": "stdout",
          "output_type": "stream",
          "text": [
            "* Number of trainable parameters: 17757810\n",
            "===>  TRAIN Epoch 1\n"
          ]
        },
        {
          "metadata": {
            "tags": null
          },
          "name": "stderr",
          "output_type": "stream",
          "text": [
            "0% [████] 100% | ETA: 00:00:00\n",
            "Total time elapsed: 00:00:05\n"
          ]
        },
        {
          "metadata": {
            "tags": null
          },
          "name": "stdout",
          "output_type": "stream",
          "text": [
            "Finished Epoch 1 || Run Time:    5.3 | Load Time:    1.0 || F1:  38.39 | Prec:  29.45 | Rec:  55.13 || Ex/s:  50.86\n",
            "\n",
            "===>  EVAL Epoch 1\n"
          ]
        },
        {
          "metadata": {
            "tags": null
          },
          "name": "stderr",
          "output_type": "stream",
          "text": [
            "0% [█] 100% | ETA: 00:00:00\n",
            "Total time elapsed: 00:00:01\n"
          ]
        },
        {
          "metadata": {
            "tags": null
          },
          "name": "stdout",
          "output_type": "stream",
          "text": [
            "Finished Epoch 1 || Run Time:    1.3 | Load Time:    0.3 || F1:  63.01 | Prec:  50.00 | Rec:  85.19 || Ex/s:  67.16\n",
            "\n",
            "* Best F1: tensor(63.0137, device='cuda:0')\n",
            "Saving best model...\n",
            "Done.\n",
            "---------------------\n",
            "\n",
            "===>  TRAIN Epoch 2\n"
          ]
        },
        {
          "metadata": {
            "tags": null
          },
          "name": "stderr",
          "output_type": "stream",
          "text": [
            "0% [████] 100% | ETA: 00:00:00\n",
            "Total time elapsed: 00:00:05\n"
          ]
        },
        {
          "metadata": {
            "tags": null
          },
          "name": "stdout",
          "output_type": "stream",
          "text": [
            "Finished Epoch 2 || Run Time:    5.2 | Load Time:    1.0 || F1:  69.47 | Prec:  58.93 | Rec:  84.62 || Ex/s:  51.89\n",
            "\n",
            "===>  EVAL Epoch 2\n"
          ]
        },
        {
          "metadata": {
            "tags": null
          },
          "name": "stderr",
          "output_type": "stream",
          "text": [
            "0% [█] 100% | ETA: 00:00:00\n",
            "Total time elapsed: 00:00:00\n"
          ]
        },
        {
          "metadata": {
            "tags": null
          },
          "name": "stdout",
          "output_type": "stream",
          "text": [
            "Finished Epoch 2 || Run Time:    1.0 | Load Time:    0.3 || F1:  68.49 | Prec:  54.35 | Rec:  92.59 || Ex/s:  81.91\n",
            "\n",
            "* Best F1: tensor(68.4931, device='cuda:0')\n",
            "Saving best model...\n",
            "Done.\n",
            "---------------------\n",
            "\n",
            "===>  TRAIN Epoch 3\n"
          ]
        },
        {
          "metadata": {
            "tags": null
          },
          "name": "stderr",
          "output_type": "stream",
          "text": [
            "0% [████] 100% | ETA: 00:00:00\n",
            "Total time elapsed: 00:00:06\n"
          ]
        },
        {
          "metadata": {
            "tags": null
          },
          "name": "stdout",
          "output_type": "stream",
          "text": [
            "Finished Epoch 3 || Run Time:    6.0 | Load Time:    1.1 || F1:  85.06 | Prec:  77.08 | Rec:  94.87 || Ex/s:  45.36\n",
            "\n",
            "===>  EVAL Epoch 3\n"
          ]
        },
        {
          "metadata": {
            "tags": null
          },
          "name": "stderr",
          "output_type": "stream",
          "text": [
            "0% [█] 100% | ETA: 00:00:00\n",
            "Total time elapsed: 00:00:00\n"
          ]
        },
        {
          "metadata": {
            "tags": null
          },
          "name": "stdout",
          "output_type": "stream",
          "text": [
            "Finished Epoch 3 || Run Time:    1.0 | Load Time:    0.3 || F1:  76.47 | Prec:  63.41 | Rec:  96.30 || Ex/s:  81.40\n",
            "\n",
            "* Best F1: tensor(76.4706, device='cuda:0')\n",
            "Saving best model...\n",
            "Done.\n",
            "---------------------\n",
            "\n",
            "===>  TRAIN Epoch 4\n"
          ]
        },
        {
          "metadata": {
            "tags": null
          },
          "name": "stderr",
          "output_type": "stream",
          "text": [
            "0% [████] 100% | ETA: 00:00:00\n",
            "Total time elapsed: 00:00:08\n"
          ]
        },
        {
          "metadata": {
            "tags": null
          },
          "name": "stdout",
          "output_type": "stream",
          "text": [
            "Finished Epoch 4 || Run Time:    7.1 | Load Time:    1.5 || F1:  94.34 | Prec:  92.59 | Rec:  96.15 || Ex/s:  37.16\n",
            "\n",
            "===>  EVAL Epoch 4\n"
          ]
        },
        {
          "metadata": {
            "tags": null
          },
          "name": "stderr",
          "output_type": "stream",
          "text": [
            "0% [█] 100% | ETA: 00:00:00\n",
            "Total time elapsed: 00:00:00\n"
          ]
        },
        {
          "metadata": {
            "tags": null
          },
          "name": "stdout",
          "output_type": "stream",
          "text": [
            "Finished Epoch 4 || Run Time:    1.0 | Load Time:    0.3 || F1:  83.87 | Prec:  74.29 | Rec:  96.30 || Ex/s:  82.45\n",
            "\n",
            "* Best F1: tensor(83.8710, device='cuda:0')\n",
            "Saving best model...\n",
            "Done.\n",
            "---------------------\n",
            "\n",
            "===>  TRAIN Epoch 5\n"
          ]
        },
        {
          "metadata": {
            "tags": null
          },
          "name": "stderr",
          "output_type": "stream",
          "text": [
            "0% [████] 100% | ETA: 00:00:00\n",
            "Total time elapsed: 00:00:05\n"
          ]
        },
        {
          "metadata": {
            "tags": null
          },
          "name": "stdout",
          "output_type": "stream",
          "text": [
            "Finished Epoch 5 || Run Time:    5.2 | Load Time:    1.0 || F1:  93.75 | Prec:  91.46 | Rec:  96.15 || Ex/s:  52.37\n",
            "\n",
            "===>  EVAL Epoch 5\n"
          ]
        },
        {
          "metadata": {
            "tags": null
          },
          "name": "stderr",
          "output_type": "stream",
          "text": [
            "0% [█] 100% | ETA: 00:00:00\n",
            "Total time elapsed: 00:00:01\n"
          ]
        },
        {
          "metadata": {
            "tags": null
          },
          "name": "stdout",
          "output_type": "stream",
          "text": [
            "Finished Epoch 5 || Run Time:    1.3 | Load Time:    0.4 || F1:  92.86 | Prec:  89.66 | Rec:  96.30 || Ex/s:  64.77\n",
            "\n",
            "* Best F1: tensor(92.8571, device='cuda:0')\n",
            "Saving best model...\n",
            "Done.\n",
            "---------------------\n",
            "\n",
            "===>  TRAIN Epoch 6\n"
          ]
        },
        {
          "metadata": {
            "tags": null
          },
          "name": "stderr",
          "output_type": "stream",
          "text": [
            "0% [████] 100% | ETA: 00:00:00\n",
            "Total time elapsed: 00:00:05\n"
          ]
        },
        {
          "metadata": {
            "tags": null
          },
          "name": "stdout",
          "output_type": "stream",
          "text": [
            "Finished Epoch 6 || Run Time:    5.2 | Load Time:    1.0 || F1:  96.82 | Prec:  96.20 | Rec:  97.44 || Ex/s:  51.90\n",
            "\n",
            "===>  EVAL Epoch 6\n"
          ]
        },
        {
          "metadata": {
            "tags": null
          },
          "name": "stderr",
          "output_type": "stream",
          "text": [
            "0% [█] 100% | ETA: 00:00:00\n",
            "Total time elapsed: 00:00:00\n"
          ]
        },
        {
          "metadata": {
            "tags": null
          },
          "name": "stdout",
          "output_type": "stream",
          "text": [
            "Finished Epoch 6 || Run Time:    1.0 | Load Time:    0.3 || F1:  88.14 | Prec:  81.25 | Rec:  96.30 || Ex/s:  80.59\n",
            "\n",
            "---------------------\n",
            "\n",
            "===>  TRAIN Epoch 7\n"
          ]
        },
        {
          "metadata": {
            "tags": null
          },
          "name": "stderr",
          "output_type": "stream",
          "text": [
            "0% [████] 100% | ETA: 00:00:00\n",
            "Total time elapsed: 00:00:06\n"
          ]
        },
        {
          "metadata": {
            "tags": null
          },
          "name": "stdout",
          "output_type": "stream",
          "text": [
            "Finished Epoch 7 || Run Time:    5.9 | Load Time:    1.1 || F1:  98.72 | Prec:  98.72 | Rec:  98.72 || Ex/s:  45.95\n",
            "\n",
            "===>  EVAL Epoch 7\n"
          ]
        },
        {
          "metadata": {
            "tags": null
          },
          "name": "stderr",
          "output_type": "stream",
          "text": [
            "0% [█] 100% | ETA: 00:00:00\n",
            "Total time elapsed: 00:00:00\n"
          ]
        },
        {
          "metadata": {
            "tags": null
          },
          "name": "stdout",
          "output_type": "stream",
          "text": [
            "Finished Epoch 7 || Run Time:    1.0 | Load Time:    0.3 || F1:  85.25 | Prec:  76.47 | Rec:  96.30 || Ex/s:  81.65\n",
            "\n",
            "---------------------\n",
            "\n",
            "===>  TRAIN Epoch 8\n"
          ]
        },
        {
          "metadata": {
            "tags": null
          },
          "name": "stderr",
          "output_type": "stream",
          "text": [
            "0% [████] 100% | ETA: 00:00:00\n",
            "Total time elapsed: 00:00:05\n"
          ]
        },
        {
          "metadata": {
            "tags": null
          },
          "name": "stdout",
          "output_type": "stream",
          "text": [
            "Finished Epoch 8 || Run Time:    5.1 | Load Time:    1.0 || F1:  98.72 | Prec:  98.72 | Rec:  98.72 || Ex/s:  52.43\n",
            "\n",
            "===>  EVAL Epoch 8\n"
          ]
        },
        {
          "metadata": {
            "tags": null
          },
          "name": "stderr",
          "output_type": "stream",
          "text": [
            "0% [█] 100% | ETA: 00:00:00\n",
            "Total time elapsed: 00:00:00\n"
          ]
        },
        {
          "metadata": {
            "tags": null
          },
          "name": "stdout",
          "output_type": "stream",
          "text": [
            "Finished Epoch 8 || Run Time:    1.0 | Load Time:    0.3 || F1:  85.25 | Prec:  76.47 | Rec:  96.30 || Ex/s:  82.95\n",
            "\n",
            "---------------------\n",
            "\n",
            "===>  TRAIN Epoch 9\n"
          ]
        },
        {
          "metadata": {
            "tags": null
          },
          "name": "stderr",
          "output_type": "stream",
          "text": [
            "0% [████] 100% | ETA: 00:00:00\n",
            "Total time elapsed: 00:00:06\n"
          ]
        },
        {
          "metadata": {
            "tags": null
          },
          "name": "stdout",
          "output_type": "stream",
          "text": [
            "Finished Epoch 9 || Run Time:    5.9 | Load Time:    1.1 || F1: 100.00 | Prec: 100.00 | Rec: 100.00 || Ex/s:  45.30\n",
            "\n",
            "===>  EVAL Epoch 9\n"
          ]
        },
        {
          "metadata": {
            "tags": null
          },
          "name": "stderr",
          "output_type": "stream",
          "text": [
            "0% [█] 100% | ETA: 00:00:00\n",
            "Total time elapsed: 00:00:00\n"
          ]
        },
        {
          "metadata": {
            "tags": null
          },
          "name": "stdout",
          "output_type": "stream",
          "text": [
            "Finished Epoch 9 || Run Time:    1.0 | Load Time:    0.3 || F1:  85.25 | Prec:  76.47 | Rec:  96.30 || Ex/s:  83.19\n",
            "\n",
            "---------------------\n",
            "\n",
            "===>  TRAIN Epoch 10\n"
          ]
        },
        {
          "metadata": {
            "tags": null
          },
          "name": "stderr",
          "output_type": "stream",
          "text": [
            "0% [████] 100% | ETA: 00:00:00\n",
            "Total time elapsed: 00:00:05\n"
          ]
        },
        {
          "metadata": {
            "tags": null
          },
          "name": "stdout",
          "output_type": "stream",
          "text": [
            "Finished Epoch 10 || Run Time:    5.5 | Load Time:    1.0 || F1: 100.00 | Prec: 100.00 | Rec: 100.00 || Ex/s:  49.56\n",
            "\n",
            "===>  EVAL Epoch 10\n"
          ]
        },
        {
          "metadata": {
            "tags": null
          },
          "name": "stderr",
          "output_type": "stream",
          "text": [
            "0% [█] 100% | ETA: 00:00:00\n",
            "Total time elapsed: 00:00:01\n"
          ]
        },
        {
          "metadata": {
            "tags": null
          },
          "name": "stdout",
          "output_type": "stream",
          "text": [
            "Finished Epoch 10 || Run Time:    1.3 | Load Time:    0.4 || F1:  83.87 | Prec:  74.29 | Rec:  96.30 || Ex/s:  63.97\n",
            "\n",
            "---------------------\n",
            "\n",
            "===>  TRAIN Epoch 11\n"
          ]
        },
        {
          "metadata": {
            "tags": null
          },
          "name": "stderr",
          "output_type": "stream",
          "text": [
            "0% [████] 100% | ETA: 00:00:00\n",
            "Total time elapsed: 00:00:06\n"
          ]
        },
        {
          "metadata": {
            "tags": null
          },
          "name": "stdout",
          "output_type": "stream",
          "text": [
            "Finished Epoch 11 || Run Time:    5.5 | Load Time:    1.0 || F1: 100.00 | Prec: 100.00 | Rec: 100.00 || Ex/s:  49.11\n",
            "\n",
            "===>  EVAL Epoch 11\n"
          ]
        },
        {
          "metadata": {
            "tags": null
          },
          "name": "stderr",
          "output_type": "stream",
          "text": [
            "0% [█] 100% | ETA: 00:00:00\n",
            "Total time elapsed: 00:00:00\n"
          ]
        },
        {
          "metadata": {
            "tags": null
          },
          "name": "stdout",
          "output_type": "stream",
          "text": [
            "Finished Epoch 11 || Run Time:    1.0 | Load Time:    0.3 || F1:  83.87 | Prec:  74.29 | Rec:  96.30 || Ex/s:  80.16\n",
            "\n",
            "---------------------\n",
            "\n",
            "===>  TRAIN Epoch 12\n"
          ]
        },
        {
          "metadata": {
            "tags": null
          },
          "name": "stderr",
          "output_type": "stream",
          "text": [
            "0% [████] 100% | ETA: 00:00:00\n",
            "Total time elapsed: 00:00:06\n"
          ]
        },
        {
          "metadata": {
            "tags": null
          },
          "name": "stdout",
          "output_type": "stream",
          "text": [
            "Finished Epoch 12 || Run Time:    5.9 | Load Time:    1.1 || F1: 100.00 | Prec: 100.00 | Rec: 100.00 || Ex/s:  46.24\n",
            "\n",
            "===>  EVAL Epoch 12\n"
          ]
        },
        {
          "metadata": {
            "tags": null
          },
          "name": "stderr",
          "output_type": "stream",
          "text": [
            "0% [█] 100% | ETA: 00:00:00\n",
            "Total time elapsed: 00:00:01\n"
          ]
        },
        {
          "metadata": {
            "tags": null
          },
          "name": "stdout",
          "output_type": "stream",
          "text": [
            "Finished Epoch 12 || Run Time:    1.1 | Load Time:    0.3 || F1:  83.87 | Prec:  74.29 | Rec:  96.30 || Ex/s:  76.21\n",
            "\n",
            "---------------------\n",
            "\n",
            "===>  TRAIN Epoch 13\n"
          ]
        },
        {
          "metadata": {
            "tags": null
          },
          "name": "stderr",
          "output_type": "stream",
          "text": [
            "0% [████] 100% | ETA: 00:00:00\n",
            "Total time elapsed: 00:00:05\n"
          ]
        },
        {
          "metadata": {
            "tags": null
          },
          "name": "stdout",
          "output_type": "stream",
          "text": [
            "Finished Epoch 13 || Run Time:    5.2 | Load Time:    1.0 || F1: 100.00 | Prec: 100.00 | Rec: 100.00 || Ex/s:  51.91\n",
            "\n",
            "===>  EVAL Epoch 13\n"
          ]
        },
        {
          "metadata": {
            "tags": null
          },
          "name": "stderr",
          "output_type": "stream",
          "text": [
            "0% [█] 100% | ETA: 00:00:00\n",
            "Total time elapsed: 00:00:00\n"
          ]
        },
        {
          "metadata": {
            "tags": null
          },
          "name": "stdout",
          "output_type": "stream",
          "text": [
            "Finished Epoch 13 || Run Time:    1.0 | Load Time:    0.3 || F1:  83.87 | Prec:  74.29 | Rec:  96.30 || Ex/s:  81.52\n",
            "\n",
            "---------------------\n",
            "\n",
            "===>  TRAIN Epoch 14\n"
          ]
        },
        {
          "metadata": {
            "tags": null
          },
          "name": "stderr",
          "output_type": "stream",
          "text": [
            "0% [████] 100% | ETA: 00:00:00\n",
            "Total time elapsed: 00:00:06\n"
          ]
        },
        {
          "metadata": {
            "tags": null
          },
          "name": "stdout",
          "output_type": "stream",
          "text": [
            "Finished Epoch 14 || Run Time:    6.0 | Load Time:    1.1 || F1: 100.00 | Prec: 100.00 | Rec: 100.00 || Ex/s:  45.07\n",
            "\n",
            "===>  EVAL Epoch 14\n"
          ]
        },
        {
          "metadata": {
            "tags": null
          },
          "name": "stderr",
          "output_type": "stream",
          "text": [
            "0% [█] 100% | ETA: 00:00:00\n",
            "Total time elapsed: 00:00:00\n"
          ]
        },
        {
          "metadata": {
            "tags": null
          },
          "name": "stdout",
          "output_type": "stream",
          "text": [
            "Finished Epoch 14 || Run Time:    1.0 | Load Time:    0.3 || F1:  83.87 | Prec:  74.29 | Rec:  96.30 || Ex/s:  81.34\n",
            "\n",
            "---------------------\n",
            "\n",
            "===>  TRAIN Epoch 15\n"
          ]
        },
        {
          "metadata": {
            "tags": null
          },
          "name": "stderr",
          "output_type": "stream",
          "text": [
            "0% [████] 100% | ETA: 00:00:00\n",
            "Total time elapsed: 00:00:05\n"
          ]
        },
        {
          "metadata": {
            "tags": null
          },
          "name": "stdout",
          "output_type": "stream",
          "text": [
            "Finished Epoch 15 || Run Time:    5.2 | Load Time:    1.0 || F1: 100.00 | Prec: 100.00 | Rec: 100.00 || Ex/s:  52.34\n",
            "\n",
            "===>  EVAL Epoch 15\n"
          ]
        },
        {
          "metadata": {
            "tags": null
          },
          "name": "stderr",
          "output_type": "stream",
          "text": [
            "0% [█] 100% | ETA: 00:00:00\n",
            "Total time elapsed: 00:00:01\n"
          ]
        },
        {
          "metadata": {
            "tags": null
          },
          "name": "stdout",
          "output_type": "stream",
          "text": [
            "Finished Epoch 15 || Run Time:    1.4 | Load Time:    0.4 || F1:  83.87 | Prec:  74.29 | Rec:  96.30 || Ex/s:  61.89\n",
            "\n",
            "---------------------\n",
            "\n",
            "===>  TRAIN Epoch 16\n"
          ]
        },
        {
          "metadata": {
            "tags": null
          },
          "name": "stderr",
          "output_type": "stream",
          "text": [
            "0% [████] 100% | ETA: 00:00:00\n",
            "Total time elapsed: 00:00:06\n"
          ]
        },
        {
          "metadata": {
            "tags": null
          },
          "name": "stdout",
          "output_type": "stream",
          "text": [
            "Finished Epoch 16 || Run Time:    5.6 | Load Time:    1.1 || F1: 100.00 | Prec: 100.00 | Rec: 100.00 || Ex/s:  48.16\n",
            "\n",
            "===>  EVAL Epoch 16\n"
          ]
        },
        {
          "metadata": {
            "tags": null
          },
          "name": "stderr",
          "output_type": "stream",
          "text": [
            "0% [█] 100% | ETA: 00:00:00\n",
            "Total time elapsed: 00:00:00\n"
          ]
        },
        {
          "metadata": {
            "tags": null
          },
          "name": "stdout",
          "output_type": "stream",
          "text": [
            "Finished Epoch 16 || Run Time:    1.0 | Load Time:    0.3 || F1:  83.87 | Prec:  74.29 | Rec:  96.30 || Ex/s:  80.47\n",
            "\n",
            "---------------------\n",
            "\n",
            "===>  TRAIN Epoch 17\n"
          ]
        },
        {
          "metadata": {
            "tags": null
          },
          "name": "stderr",
          "output_type": "stream",
          "text": [
            "0% [████] 100% | ETA: 00:00:00\n",
            "Total time elapsed: 00:00:06\n"
          ]
        },
        {
          "metadata": {
            "tags": null
          },
          "name": "stdout",
          "output_type": "stream",
          "text": [
            "Finished Epoch 17 || Run Time:    5.7 | Load Time:    1.1 || F1: 100.00 | Prec: 100.00 | Rec: 100.00 || Ex/s:  47.57\n",
            "\n",
            "===>  EVAL Epoch 17\n"
          ]
        },
        {
          "metadata": {
            "tags": null
          },
          "name": "stderr",
          "output_type": "stream",
          "text": [
            "0% [█] 100% | ETA: 00:00:00\n",
            "Total time elapsed: 00:00:01\n"
          ]
        },
        {
          "metadata": {
            "tags": null
          },
          "name": "stdout",
          "output_type": "stream",
          "text": [
            "Finished Epoch 17 || Run Time:    1.3 | Load Time:    0.4 || F1:  83.87 | Prec:  74.29 | Rec:  96.30 || Ex/s:  64.64\n",
            "\n",
            "---------------------\n",
            "\n",
            "===>  TRAIN Epoch 18\n"
          ]
        },
        {
          "metadata": {
            "tags": null
          },
          "name": "stderr",
          "output_type": "stream",
          "text": [
            "0% [████] 100% | ETA: 00:00:00\n",
            "Total time elapsed: 00:00:05\n"
          ]
        },
        {
          "metadata": {
            "tags": null
          },
          "name": "stdout",
          "output_type": "stream",
          "text": [
            "Finished Epoch 18 || Run Time:    5.2 | Load Time:    1.0 || F1: 100.00 | Prec: 100.00 | Rec: 100.00 || Ex/s:  52.35\n",
            "\n",
            "===>  EVAL Epoch 18\n"
          ]
        },
        {
          "metadata": {
            "tags": null
          },
          "name": "stderr",
          "output_type": "stream",
          "text": [
            "0% [█] 100% | ETA: 00:00:00\n",
            "Total time elapsed: 00:00:00\n"
          ]
        },
        {
          "metadata": {
            "tags": null
          },
          "name": "stdout",
          "output_type": "stream",
          "text": [
            "Finished Epoch 18 || Run Time:    1.0 | Load Time:    0.3 || F1:  83.87 | Prec:  74.29 | Rec:  96.30 || Ex/s:  82.09\n",
            "\n",
            "---------------------\n",
            "\n",
            "===>  TRAIN Epoch 19\n"
          ]
        },
        {
          "metadata": {
            "tags": null
          },
          "name": "stderr",
          "output_type": "stream",
          "text": [
            "0% [████] 100% | ETA: 00:00:00\n",
            "Total time elapsed: 00:00:06\n"
          ]
        },
        {
          "metadata": {
            "tags": null
          },
          "name": "stdout",
          "output_type": "stream",
          "text": [
            "Finished Epoch 19 || Run Time:    5.9 | Load Time:    1.1 || F1: 100.00 | Prec: 100.00 | Rec: 100.00 || Ex/s:  45.86\n",
            "\n",
            "===>  EVAL Epoch 19\n"
          ]
        },
        {
          "metadata": {
            "tags": null
          },
          "name": "stderr",
          "output_type": "stream",
          "text": [
            "0% [█] 100% | ETA: 00:00:00\n",
            "Total time elapsed: 00:00:01\n"
          ]
        },
        {
          "metadata": {
            "tags": null
          },
          "name": "stdout",
          "output_type": "stream",
          "text": [
            "Finished Epoch 19 || Run Time:    1.1 | Load Time:    0.4 || F1:  83.87 | Prec:  74.29 | Rec:  96.30 || Ex/s:  74.27\n",
            "\n",
            "---------------------\n",
            "\n",
            "===>  TRAIN Epoch 20\n"
          ]
        },
        {
          "metadata": {
            "tags": null
          },
          "name": "stderr",
          "output_type": "stream",
          "text": [
            "0% [████] 100% | ETA: 00:00:00\n",
            "Total time elapsed: 00:00:05\n"
          ]
        },
        {
          "metadata": {
            "tags": null
          },
          "name": "stdout",
          "output_type": "stream",
          "text": [
            "Finished Epoch 20 || Run Time:    5.1 | Load Time:    1.0 || F1: 100.00 | Prec: 100.00 | Rec: 100.00 || Ex/s:  52.41\n",
            "\n",
            "===>  EVAL Epoch 20\n"
          ]
        },
        {
          "metadata": {
            "tags": null
          },
          "name": "stderr",
          "output_type": "stream",
          "text": [
            "0% [█] 100% | ETA: 00:00:00\n",
            "Total time elapsed: 00:00:00\n"
          ]
        },
        {
          "metadata": {
            "tags": null
          },
          "name": "stdout",
          "output_type": "stream",
          "text": [
            "Finished Epoch 20 || Run Time:    1.0 | Load Time:    0.3 || F1:  83.87 | Prec:  74.29 | Rec:  96.30 || Ex/s:  79.80\n",
            "\n",
            "---------------------\n",
            "\n",
            "===>  TRAIN Epoch 21\n"
          ]
        },
        {
          "metadata": {
            "tags": null
          },
          "name": "stderr",
          "output_type": "stream",
          "text": [
            "0% [████] 100% | ETA: 00:00:00\n",
            "Total time elapsed: 00:00:06\n"
          ]
        },
        {
          "metadata": {
            "tags": null
          },
          "name": "stdout",
          "output_type": "stream",
          "text": [
            "Finished Epoch 21 || Run Time:    5.8 | Load Time:    1.1 || F1: 100.00 | Prec: 100.00 | Rec: 100.00 || Ex/s:  46.12\n",
            "\n",
            "===>  EVAL Epoch 21\n"
          ]
        },
        {
          "metadata": {
            "tags": null
          },
          "name": "stderr",
          "output_type": "stream",
          "text": [
            "0% [█] 100% | ETA: 00:00:00\n",
            "Total time elapsed: 00:00:01\n"
          ]
        },
        {
          "metadata": {
            "tags": null
          },
          "name": "stdout",
          "output_type": "stream",
          "text": [
            "Finished Epoch 21 || Run Time:    1.2 | Load Time:    0.3 || F1:  83.87 | Prec:  74.29 | Rec:  96.30 || Ex/s:  69.76\n",
            "\n",
            "---------------------\n",
            "\n",
            "===>  TRAIN Epoch 22\n"
          ]
        },
        {
          "metadata": {
            "tags": null
          },
          "name": "stderr",
          "output_type": "stream",
          "text": [
            "0% [████] 100% | ETA: 00:00:00\n",
            "Total time elapsed: 00:00:05\n"
          ]
        },
        {
          "metadata": {
            "tags": null
          },
          "name": "stdout",
          "output_type": "stream",
          "text": [
            "Finished Epoch 22 || Run Time:    5.4 | Load Time:    1.1 || F1: 100.00 | Prec: 100.00 | Rec: 100.00 || Ex/s:  49.45\n",
            "\n",
            "===>  EVAL Epoch 22\n"
          ]
        },
        {
          "metadata": {
            "tags": null
          },
          "name": "stderr",
          "output_type": "stream",
          "text": [
            "0% [█] 100% | ETA: 00:00:00\n",
            "Total time elapsed: 00:00:01\n"
          ]
        },
        {
          "metadata": {
            "tags": null
          },
          "name": "stdout",
          "output_type": "stream",
          "text": [
            "Finished Epoch 22 || Run Time:    1.3 | Load Time:    0.4 || F1:  83.87 | Prec:  74.29 | Rec:  96.30 || Ex/s:  61.84\n",
            "\n",
            "---------------------\n",
            "\n",
            "===>  TRAIN Epoch 23\n"
          ]
        },
        {
          "metadata": {
            "tags": null
          },
          "name": "stderr",
          "output_type": "stream",
          "text": [
            "0% [████] 100% | ETA: 00:00:00\n",
            "Total time elapsed: 00:00:05\n"
          ]
        },
        {
          "metadata": {
            "tags": null
          },
          "name": "stdout",
          "output_type": "stream",
          "text": [
            "Finished Epoch 23 || Run Time:    5.2 | Load Time:    1.0 || F1: 100.00 | Prec: 100.00 | Rec: 100.00 || Ex/s:  51.61\n",
            "\n",
            "===>  EVAL Epoch 23\n"
          ]
        },
        {
          "metadata": {
            "tags": null
          },
          "name": "stderr",
          "output_type": "stream",
          "text": [
            "0% [█] 100% | ETA: 00:00:00\n",
            "Total time elapsed: 00:00:00\n"
          ]
        },
        {
          "metadata": {
            "tags": null
          },
          "name": "stdout",
          "output_type": "stream",
          "text": [
            "Finished Epoch 23 || Run Time:    1.0 | Load Time:    0.3 || F1:  83.87 | Prec:  74.29 | Rec:  96.30 || Ex/s:  82.38\n",
            "\n",
            "---------------------\n",
            "\n",
            "===>  TRAIN Epoch 24\n"
          ]
        },
        {
          "metadata": {
            "tags": null
          },
          "name": "stderr",
          "output_type": "stream",
          "text": [
            "0% [████] 100% | ETA: 00:00:00\n",
            "Total time elapsed: 00:00:06\n"
          ]
        },
        {
          "metadata": {
            "tags": null
          },
          "name": "stdout",
          "output_type": "stream",
          "text": [
            "Finished Epoch 24 || Run Time:    6.0 | Load Time:    1.1 || F1: 100.00 | Prec: 100.00 | Rec: 100.00 || Ex/s:  45.17\n",
            "\n",
            "===>  EVAL Epoch 24\n"
          ]
        },
        {
          "metadata": {
            "tags": null
          },
          "name": "stderr",
          "output_type": "stream",
          "text": [
            "0% [█] 100% | ETA: 00:00:00\n",
            "Total time elapsed: 00:00:00\n"
          ]
        },
        {
          "metadata": {
            "tags": null
          },
          "name": "stdout",
          "output_type": "stream",
          "text": [
            "Finished Epoch 24 || Run Time:    1.0 | Load Time:    0.3 || F1:  83.87 | Prec:  74.29 | Rec:  96.30 || Ex/s:  81.54\n",
            "\n",
            "---------------------\n",
            "\n",
            "===>  TRAIN Epoch 25\n"
          ]
        },
        {
          "metadata": {
            "tags": null
          },
          "name": "stderr",
          "output_type": "stream",
          "text": [
            "0% [████] 100% | ETA: 00:00:00\n",
            "Total time elapsed: 00:00:05\n"
          ]
        },
        {
          "metadata": {
            "tags": null
          },
          "name": "stdout",
          "output_type": "stream",
          "text": [
            "Finished Epoch 25 || Run Time:    5.2 | Load Time:    1.0 || F1: 100.00 | Prec: 100.00 | Rec: 100.00 || Ex/s:  52.17\n",
            "\n",
            "===>  EVAL Epoch 25\n"
          ]
        },
        {
          "metadata": {
            "tags": null
          },
          "name": "stderr",
          "output_type": "stream",
          "text": [
            "0% [█] 100% | ETA: 00:00:00\n",
            "Total time elapsed: 00:00:00\n"
          ]
        },
        {
          "metadata": {
            "tags": null
          },
          "name": "stdout",
          "output_type": "stream",
          "text": [
            "Finished Epoch 25 || Run Time:    1.0 | Load Time:    0.3 || F1:  83.87 | Prec:  74.29 | Rec:  96.30 || Ex/s:  82.16\n",
            "\n",
            "---------------------\n",
            "\n",
            "===>  TRAIN Epoch 26\n"
          ]
        },
        {
          "metadata": {
            "tags": null
          },
          "name": "stderr",
          "output_type": "stream",
          "text": [
            "0% [████] 100% | ETA: 00:00:00\n",
            "Total time elapsed: 00:00:06\n"
          ]
        },
        {
          "metadata": {
            "tags": null
          },
          "name": "stdout",
          "output_type": "stream",
          "text": [
            "Finished Epoch 26 || Run Time:    5.9 | Load Time:    1.1 || F1: 100.00 | Prec: 100.00 | Rec: 100.00 || Ex/s:  45.55\n",
            "\n",
            "===>  EVAL Epoch 26\n"
          ]
        },
        {
          "metadata": {
            "tags": null
          },
          "name": "stderr",
          "output_type": "stream",
          "text": [
            "0% [█] 100% | ETA: 00:00:00\n",
            "Total time elapsed: 00:00:00\n"
          ]
        },
        {
          "metadata": {
            "tags": null
          },
          "name": "stdout",
          "output_type": "stream",
          "text": [
            "Finished Epoch 26 || Run Time:    1.0 | Load Time:    0.3 || F1:  83.87 | Prec:  74.29 | Rec:  96.30 || Ex/s:  82.37\n",
            "\n",
            "---------------------\n",
            "\n",
            "===>  TRAIN Epoch 27\n"
          ]
        },
        {
          "metadata": {
            "tags": null
          },
          "name": "stderr",
          "output_type": "stream",
          "text": [
            "0% [████] 100% | ETA: 00:00:00\n",
            "Total time elapsed: 00:00:05\n"
          ]
        },
        {
          "metadata": {
            "tags": null
          },
          "name": "stdout",
          "output_type": "stream",
          "text": [
            "Finished Epoch 27 || Run Time:    5.2 | Load Time:    1.0 || F1: 100.00 | Prec: 100.00 | Rec: 100.00 || Ex/s:  52.09\n",
            "\n",
            "===>  EVAL Epoch 27\n"
          ]
        },
        {
          "metadata": {
            "tags": null
          },
          "name": "stderr",
          "output_type": "stream",
          "text": [
            "0% [█] 100% | ETA: 00:00:00\n",
            "Total time elapsed: 00:00:01\n"
          ]
        },
        {
          "metadata": {
            "tags": null
          },
          "name": "stdout",
          "output_type": "stream",
          "text": [
            "Finished Epoch 27 || Run Time:    1.5 | Load Time:    0.4 || F1:  83.87 | Prec:  74.29 | Rec:  96.30 || Ex/s:  57.30\n",
            "\n",
            "---------------------\n",
            "\n",
            "===>  TRAIN Epoch 28\n"
          ]
        },
        {
          "metadata": {
            "tags": null
          },
          "name": "stderr",
          "output_type": "stream",
          "text": [
            "0% [████] 100% | ETA: 00:00:00\n",
            "Total time elapsed: 00:00:06\n"
          ]
        },
        {
          "metadata": {
            "tags": null
          },
          "name": "stdout",
          "output_type": "stream",
          "text": [
            "Finished Epoch 28 || Run Time:    5.4 | Load Time:    1.0 || F1: 100.00 | Prec: 100.00 | Rec: 100.00 || Ex/s:  49.51\n",
            "\n",
            "===>  EVAL Epoch 28\n"
          ]
        },
        {
          "metadata": {
            "tags": null
          },
          "name": "stderr",
          "output_type": "stream",
          "text": [
            "0% [█] 100% | ETA: 00:00:00\n",
            "Total time elapsed: 00:00:00\n"
          ]
        },
        {
          "metadata": {
            "tags": null
          },
          "name": "stdout",
          "output_type": "stream",
          "text": [
            "Finished Epoch 28 || Run Time:    1.0 | Load Time:    0.3 || F1:  83.87 | Prec:  74.29 | Rec:  96.30 || Ex/s:  83.14\n",
            "\n",
            "---------------------\n",
            "\n",
            "===>  TRAIN Epoch 29\n"
          ]
        },
        {
          "metadata": {
            "tags": null
          },
          "name": "stderr",
          "output_type": "stream",
          "text": [
            "0% [████] 100% | ETA: 00:00:00\n",
            "Total time elapsed: 00:00:06\n"
          ]
        },
        {
          "metadata": {
            "tags": null
          },
          "name": "stdout",
          "output_type": "stream",
          "text": [
            "Finished Epoch 29 || Run Time:    5.9 | Load Time:    1.1 || F1: 100.00 | Prec: 100.00 | Rec: 100.00 || Ex/s:  46.04\n",
            "\n",
            "===>  EVAL Epoch 29\n"
          ]
        },
        {
          "metadata": {
            "tags": null
          },
          "name": "stderr",
          "output_type": "stream",
          "text": [
            "0% [█] 100% | ETA: 00:00:00\n",
            "Total time elapsed: 00:00:01\n"
          ]
        },
        {
          "metadata": {
            "tags": null
          },
          "name": "stdout",
          "output_type": "stream",
          "text": [
            "Finished Epoch 29 || Run Time:    1.1 | Load Time:    0.4 || F1:  83.87 | Prec:  74.29 | Rec:  96.30 || Ex/s:  75.12\n",
            "\n",
            "---------------------\n",
            "\n",
            "===>  TRAIN Epoch 30\n"
          ]
        },
        {
          "metadata": {
            "tags": null
          },
          "name": "stderr",
          "output_type": "stream",
          "text": [
            "0% [████] 100% | ETA: 00:00:00\n",
            "Total time elapsed: 00:00:05\n"
          ]
        },
        {
          "metadata": {
            "tags": null
          },
          "name": "stdout",
          "output_type": "stream",
          "text": [
            "Finished Epoch 30 || Run Time:    5.1 | Load Time:    1.0 || F1: 100.00 | Prec: 100.00 | Rec: 100.00 || Ex/s:  53.08\n",
            "\n",
            "===>  EVAL Epoch 30\n"
          ]
        },
        {
          "metadata": {
            "tags": null
          },
          "name": "stderr",
          "output_type": "stream",
          "text": [
            "0% [█] 100% | ETA: 00:00:00\n",
            "Total time elapsed: 00:00:00\n"
          ]
        },
        {
          "metadata": {
            "tags": null
          },
          "name": "stdout",
          "output_type": "stream",
          "text": [
            "Finished Epoch 30 || Run Time:    1.0 | Load Time:    0.3 || F1:  83.87 | Prec:  74.29 | Rec:  96.30 || Ex/s:  81.45\n",
            "\n",
            "---------------------\n",
            "\n",
            "===>  TRAIN Epoch 31\n"
          ]
        },
        {
          "metadata": {
            "tags": null
          },
          "name": "stderr",
          "output_type": "stream",
          "text": [
            "0% [████] 100% | ETA: 00:00:00\n",
            "Total time elapsed: 00:00:06\n"
          ]
        },
        {
          "metadata": {
            "tags": null
          },
          "name": "stdout",
          "output_type": "stream",
          "text": [
            "Finished Epoch 31 || Run Time:    6.0 | Load Time:    1.1 || F1: 100.00 | Prec: 100.00 | Rec: 100.00 || Ex/s:  45.29\n",
            "\n",
            "===>  EVAL Epoch 31\n"
          ]
        },
        {
          "metadata": {
            "tags": null
          },
          "name": "stderr",
          "output_type": "stream",
          "text": [
            "0% [█] 100% | ETA: 00:00:00\n",
            "Total time elapsed: 00:00:00\n"
          ]
        },
        {
          "metadata": {
            "tags": null
          },
          "name": "stdout",
          "output_type": "stream",
          "text": [
            "Finished Epoch 31 || Run Time:    1.0 | Load Time:    0.3 || F1:  83.87 | Prec:  74.29 | Rec:  96.30 || Ex/s:  81.76\n",
            "\n",
            "---------------------\n",
            "\n",
            "===>  TRAIN Epoch 32\n"
          ]
        },
        {
          "metadata": {
            "tags": null
          },
          "name": "stderr",
          "output_type": "stream",
          "text": [
            "0% [████] 100% | ETA: 00:00:00\n",
            "Total time elapsed: 00:00:05\n"
          ]
        },
        {
          "metadata": {
            "tags": null
          },
          "name": "stdout",
          "output_type": "stream",
          "text": [
            "Finished Epoch 32 || Run Time:    5.1 | Load Time:    1.0 || F1: 100.00 | Prec: 100.00 | Rec: 100.00 || Ex/s:  53.24\n",
            "\n",
            "===>  EVAL Epoch 32\n"
          ]
        },
        {
          "metadata": {
            "tags": null
          },
          "name": "stderr",
          "output_type": "stream",
          "text": [
            "0% [█] 100% | ETA: 00:00:00\n",
            "Total time elapsed: 00:00:01\n"
          ]
        },
        {
          "metadata": {
            "tags": null
          },
          "name": "stdout",
          "output_type": "stream",
          "text": [
            "Finished Epoch 32 || Run Time:    1.2 | Load Time:    0.4 || F1:  83.87 | Prec:  74.29 | Rec:  96.30 || Ex/s:  70.25\n",
            "\n",
            "---------------------\n",
            "\n",
            "===>  TRAIN Epoch 33\n"
          ]
        },
        {
          "metadata": {
            "tags": null
          },
          "name": "stderr",
          "output_type": "stream",
          "text": [
            "0% [████] 100% | ETA: 00:00:00\n",
            "Total time elapsed: 00:00:06\n"
          ]
        },
        {
          "metadata": {
            "tags": null
          },
          "name": "stdout",
          "output_type": "stream",
          "text": [
            "Finished Epoch 33 || Run Time:    5.8 | Load Time:    1.1 || F1: 100.00 | Prec: 100.00 | Rec: 100.00 || Ex/s:  46.67\n",
            "\n",
            "===>  EVAL Epoch 33\n"
          ]
        },
        {
          "metadata": {
            "tags": null
          },
          "name": "stderr",
          "output_type": "stream",
          "text": [
            "0% [█] 100% | ETA: 00:00:00\n",
            "Total time elapsed: 00:00:00\n"
          ]
        },
        {
          "metadata": {
            "tags": null
          },
          "name": "stdout",
          "output_type": "stream",
          "text": [
            "Finished Epoch 33 || Run Time:    1.0 | Load Time:    0.3 || F1:  83.87 | Prec:  74.29 | Rec:  96.30 || Ex/s:  81.41\n",
            "\n",
            "---------------------\n",
            "\n",
            "===>  TRAIN Epoch 34\n"
          ]
        },
        {
          "metadata": {
            "tags": null
          },
          "name": "stderr",
          "output_type": "stream",
          "text": [
            "0% [████] 100% | ETA: 00:00:00\n",
            "Total time elapsed: 00:00:06\n"
          ]
        },
        {
          "metadata": {
            "tags": null
          },
          "name": "stdout",
          "output_type": "stream",
          "text": [
            "Finished Epoch 34 || Run Time:    5.8 | Load Time:    1.1 || F1: 100.00 | Prec: 100.00 | Rec: 100.00 || Ex/s:  47.10\n",
            "\n",
            "===>  EVAL Epoch 34\n"
          ]
        },
        {
          "metadata": {
            "tags": null
          },
          "name": "stderr",
          "output_type": "stream",
          "text": [
            "0% [█] 100% | ETA: 00:00:00\n",
            "Total time elapsed: 00:00:01\n"
          ]
        },
        {
          "metadata": {
            "tags": null
          },
          "name": "stdout",
          "output_type": "stream",
          "text": [
            "Finished Epoch 34 || Run Time:    1.3 | Load Time:    0.4 || F1:  83.87 | Prec:  74.29 | Rec:  96.30 || Ex/s:  64.39\n",
            "\n",
            "---------------------\n",
            "\n",
            "===>  TRAIN Epoch 35\n"
          ]
        },
        {
          "metadata": {
            "tags": null
          },
          "name": "stderr",
          "output_type": "stream",
          "text": [
            "0% [████] 100% | ETA: 00:00:00\n",
            "Total time elapsed: 00:00:05\n"
          ]
        },
        {
          "metadata": {
            "tags": null
          },
          "name": "stdout",
          "output_type": "stream",
          "text": [
            "Finished Epoch 35 || Run Time:    5.1 | Load Time:    1.0 || F1: 100.00 | Prec: 100.00 | Rec: 100.00 || Ex/s:  52.64\n",
            "\n",
            "===>  EVAL Epoch 35\n"
          ]
        },
        {
          "metadata": {
            "tags": null
          },
          "name": "stderr",
          "output_type": "stream",
          "text": [
            "0% [█] 100% | ETA: 00:00:00\n",
            "Total time elapsed: 00:00:00\n"
          ]
        },
        {
          "metadata": {
            "tags": null
          },
          "name": "stdout",
          "output_type": "stream",
          "text": [
            "Finished Epoch 35 || Run Time:    1.0 | Load Time:    0.3 || F1:  83.87 | Prec:  74.29 | Rec:  96.30 || Ex/s:  83.88\n",
            "\n",
            "---------------------\n",
            "\n",
            "===>  TRAIN Epoch 36\n"
          ]
        },
        {
          "metadata": {
            "tags": null
          },
          "name": "stderr",
          "output_type": "stream",
          "text": [
            "0% [████] 100% | ETA: 00:00:00\n",
            "Total time elapsed: 00:00:06\n"
          ]
        },
        {
          "metadata": {
            "tags": null
          },
          "name": "stdout",
          "output_type": "stream",
          "text": [
            "Finished Epoch 36 || Run Time:    6.0 | Load Time:    1.1 || F1: 100.00 | Prec: 100.00 | Rec: 100.00 || Ex/s:  45.08\n",
            "\n",
            "===>  EVAL Epoch 36\n"
          ]
        },
        {
          "metadata": {
            "tags": null
          },
          "name": "stderr",
          "output_type": "stream",
          "text": [
            "0% [█] 100% | ETA: 00:00:00\n",
            "Total time elapsed: 00:00:01\n"
          ]
        },
        {
          "metadata": {
            "tags": null
          },
          "name": "stdout",
          "output_type": "stream",
          "text": [
            "Finished Epoch 36 || Run Time:    1.3 | Load Time:    0.4 || F1:  83.87 | Prec:  74.29 | Rec:  96.30 || Ex/s:  62.73\n",
            "\n",
            "---------------------\n",
            "\n",
            "===>  TRAIN Epoch 37\n"
          ]
        },
        {
          "metadata": {
            "tags": null
          },
          "name": "stderr",
          "output_type": "stream",
          "text": [
            "0% [████] 100% | ETA: 00:00:00\n",
            "Total time elapsed: 00:00:06\n"
          ]
        },
        {
          "metadata": {
            "tags": null
          },
          "name": "stdout",
          "output_type": "stream",
          "text": [
            "Finished Epoch 37 || Run Time:    5.7 | Load Time:    1.1 || F1: 100.00 | Prec: 100.00 | Rec: 100.00 || Ex/s:  47.54\n",
            "\n",
            "===>  EVAL Epoch 37\n"
          ]
        },
        {
          "metadata": {
            "tags": null
          },
          "name": "stderr",
          "output_type": "stream",
          "text": [
            "0% [█] 100% | ETA: 00:00:00\n",
            "Total time elapsed: 00:00:01\n"
          ]
        },
        {
          "metadata": {
            "tags": null
          },
          "name": "stdout",
          "output_type": "stream",
          "text": [
            "Finished Epoch 37 || Run Time:    1.2 | Load Time:    0.4 || F1:  83.87 | Prec:  74.29 | Rec:  96.30 || Ex/s:  69.12\n",
            "\n",
            "---------------------\n",
            "\n",
            "===>  TRAIN Epoch 38\n"
          ]
        },
        {
          "metadata": {
            "tags": null
          },
          "name": "stderr",
          "output_type": "stream",
          "text": [
            "0% [████] 100% | ETA: 00:00:00\n",
            "Total time elapsed: 00:00:06\n"
          ]
        },
        {
          "metadata": {
            "tags": null
          },
          "name": "stdout",
          "output_type": "stream",
          "text": [
            "Finished Epoch 38 || Run Time:    5.6 | Load Time:    1.1 || F1: 100.00 | Prec: 100.00 | Rec: 100.00 || Ex/s:  47.85\n",
            "\n",
            "===>  EVAL Epoch 38\n"
          ]
        },
        {
          "metadata": {
            "tags": null
          },
          "name": "stderr",
          "output_type": "stream",
          "text": [
            "0% [█] 100% | ETA: 00:00:00\n",
            "Total time elapsed: 00:00:00\n"
          ]
        },
        {
          "metadata": {
            "tags": null
          },
          "name": "stdout",
          "output_type": "stream",
          "text": [
            "Finished Epoch 38 || Run Time:    1.0 | Load Time:    0.3 || F1:  83.87 | Prec:  74.29 | Rec:  96.30 || Ex/s:  80.76\n",
            "\n",
            "---------------------\n",
            "\n",
            "===>  TRAIN Epoch 39\n"
          ]
        },
        {
          "metadata": {
            "tags": null
          },
          "name": "stderr",
          "output_type": "stream",
          "text": [
            "0% [████] 100% | ETA: 00:00:00\n",
            "Total time elapsed: 00:00:06\n"
          ]
        },
        {
          "metadata": {
            "tags": null
          },
          "name": "stdout",
          "output_type": "stream",
          "text": [
            "Finished Epoch 39 || Run Time:    5.6 | Load Time:    1.1 || F1: 100.00 | Prec: 100.00 | Rec: 100.00 || Ex/s:  48.05\n",
            "\n",
            "===>  EVAL Epoch 39\n"
          ]
        },
        {
          "metadata": {
            "tags": null
          },
          "name": "stderr",
          "output_type": "stream",
          "text": [
            "0% [█] 100% | ETA: 00:00:00\n",
            "Total time elapsed: 00:00:01\n"
          ]
        },
        {
          "metadata": {
            "tags": null
          },
          "name": "stdout",
          "output_type": "stream",
          "text": [
            "Finished Epoch 39 || Run Time:    1.3 | Load Time:    0.4 || F1:  83.87 | Prec:  74.29 | Rec:  96.30 || Ex/s:  64.54\n",
            "\n",
            "---------------------\n",
            "\n",
            "===>  TRAIN Epoch 40\n"
          ]
        },
        {
          "metadata": {
            "tags": null
          },
          "name": "stderr",
          "output_type": "stream",
          "text": [
            "0% [████] 100% | ETA: 00:00:00\n",
            "Total time elapsed: 00:00:05\n"
          ]
        },
        {
          "metadata": {
            "tags": null
          },
          "name": "stdout",
          "output_type": "stream",
          "text": [
            "Finished Epoch 40 || Run Time:    5.3 | Load Time:    1.0 || F1: 100.00 | Prec: 100.00 | Rec: 100.00 || Ex/s:  51.16\n",
            "\n",
            "===>  EVAL Epoch 40\n"
          ]
        },
        {
          "metadata": {
            "tags": null
          },
          "name": "stderr",
          "output_type": "stream",
          "text": [
            "0% [█] 100% | ETA: 00:00:00\n",
            "Total time elapsed: 00:00:00\n"
          ]
        },
        {
          "metadata": {
            "tags": null
          },
          "name": "stdout",
          "output_type": "stream",
          "text": [
            "Finished Epoch 40 || Run Time:    1.0 | Load Time:    0.3 || F1:  83.87 | Prec:  74.29 | Rec:  96.30 || Ex/s:  82.07\n",
            "\n",
            "---------------------\n",
            "\n",
            "===>  TRAIN Epoch 41\n"
          ]
        },
        {
          "metadata": {
            "tags": null
          },
          "name": "stderr",
          "output_type": "stream",
          "text": [
            "0% [████] 100% | ETA: 00:00:00\n",
            "Total time elapsed: 00:00:07\n"
          ]
        },
        {
          "metadata": {
            "tags": null
          },
          "name": "stdout",
          "output_type": "stream",
          "text": [
            "Finished Epoch 41 || Run Time:    6.4 | Load Time:    1.1 || F1: 100.00 | Prec: 100.00 | Rec: 100.00 || Ex/s:  42.36\n",
            "\n",
            "===>  EVAL Epoch 41\n"
          ]
        },
        {
          "metadata": {
            "tags": null
          },
          "name": "stderr",
          "output_type": "stream",
          "text": [
            "0% [█] 100% | ETA: 00:00:00\n",
            "Total time elapsed: 00:00:01\n"
          ]
        },
        {
          "metadata": {
            "tags": null
          },
          "name": "stdout",
          "output_type": "stream",
          "text": [
            "Finished Epoch 41 || Run Time:    1.3 | Load Time:    0.4 || F1:  83.87 | Prec:  74.29 | Rec:  96.30 || Ex/s:  62.76\n",
            "\n",
            "---------------------\n",
            "\n",
            "===>  TRAIN Epoch 42\n"
          ]
        },
        {
          "metadata": {
            "tags": null
          },
          "name": "stderr",
          "output_type": "stream",
          "text": [
            "0% [████] 100% | ETA: 00:00:00\n",
            "Total time elapsed: 00:00:05\n"
          ]
        },
        {
          "metadata": {
            "tags": null
          },
          "name": "stdout",
          "output_type": "stream",
          "text": [
            "Finished Epoch 42 || Run Time:    5.3 | Load Time:    1.0 || F1: 100.00 | Prec: 100.00 | Rec: 100.00 || Ex/s:  51.16\n",
            "\n",
            "===>  EVAL Epoch 42\n"
          ]
        },
        {
          "metadata": {
            "tags": null
          },
          "name": "stderr",
          "output_type": "stream",
          "text": [
            "0% [█] 100% | ETA: 00:00:00\n",
            "Total time elapsed: 00:00:01\n"
          ]
        },
        {
          "metadata": {
            "tags": null
          },
          "name": "stdout",
          "output_type": "stream",
          "text": [
            "Finished Epoch 42 || Run Time:    1.2 | Load Time:    0.4 || F1:  83.87 | Prec:  74.29 | Rec:  96.30 || Ex/s:  71.46\n",
            "\n",
            "---------------------\n",
            "\n",
            "===>  TRAIN Epoch 43\n"
          ]
        },
        {
          "metadata": {
            "tags": null
          },
          "name": "stderr",
          "output_type": "stream",
          "text": [
            "0% [████] 100% | ETA: 00:00:00\n",
            "Total time elapsed: 00:00:06\n"
          ]
        },
        {
          "metadata": {
            "tags": null
          },
          "name": "stdout",
          "output_type": "stream",
          "text": [
            "Finished Epoch 43 || Run Time:    5.8 | Load Time:    1.1 || F1: 100.00 | Prec: 100.00 | Rec: 100.00 || Ex/s:  46.66\n",
            "\n",
            "===>  EVAL Epoch 43\n"
          ]
        },
        {
          "metadata": {
            "tags": null
          },
          "name": "stderr",
          "output_type": "stream",
          "text": [
            "0% [█] 100% | ETA: 00:00:00\n",
            "Total time elapsed: 00:00:00\n"
          ]
        },
        {
          "metadata": {
            "tags": null
          },
          "name": "stdout",
          "output_type": "stream",
          "text": [
            "Finished Epoch 43 || Run Time:    1.0 | Load Time:    0.3 || F1:  83.87 | Prec:  74.29 | Rec:  96.30 || Ex/s:  82.91\n",
            "\n",
            "---------------------\n",
            "\n",
            "===>  TRAIN Epoch 44\n"
          ]
        },
        {
          "metadata": {
            "tags": null
          },
          "name": "stderr",
          "output_type": "stream",
          "text": [
            "0% [████] 100% | ETA: 00:00:00\n",
            "Total time elapsed: 00:00:06\n"
          ]
        },
        {
          "metadata": {
            "tags": null
          },
          "name": "stdout",
          "output_type": "stream",
          "text": [
            "Finished Epoch 44 || Run Time:    5.5 | Load Time:    1.0 || F1: 100.00 | Prec: 100.00 | Rec: 100.00 || Ex/s:  48.78\n",
            "\n",
            "===>  EVAL Epoch 44\n"
          ]
        },
        {
          "metadata": {
            "tags": null
          },
          "name": "stderr",
          "output_type": "stream",
          "text": [
            "0% [█] 100% | ETA: 00:00:00\n",
            "Total time elapsed: 00:00:01\n"
          ]
        },
        {
          "metadata": {
            "tags": null
          },
          "name": "stdout",
          "output_type": "stream",
          "text": [
            "Finished Epoch 44 || Run Time:    1.3 | Load Time:    0.4 || F1:  83.87 | Prec:  74.29 | Rec:  96.30 || Ex/s:  61.97\n",
            "\n",
            "---------------------\n",
            "\n",
            "===>  TRAIN Epoch 45\n"
          ]
        },
        {
          "metadata": {
            "tags": null
          },
          "name": "stderr",
          "output_type": "stream",
          "text": [
            "0% [████] 100% | ETA: 00:00:00\n",
            "Total time elapsed: 00:00:05\n"
          ]
        },
        {
          "metadata": {
            "tags": null
          },
          "name": "stdout",
          "output_type": "stream",
          "text": [
            "Finished Epoch 45 || Run Time:    5.2 | Load Time:    1.0 || F1: 100.00 | Prec: 100.00 | Rec: 100.00 || Ex/s:  52.04\n",
            "\n",
            "===>  EVAL Epoch 45\n"
          ]
        },
        {
          "metadata": {
            "tags": null
          },
          "name": "stderr",
          "output_type": "stream",
          "text": [
            "0% [█] 100% | ETA: 00:00:00\n",
            "Total time elapsed: 00:00:00\n"
          ]
        },
        {
          "metadata": {
            "tags": null
          },
          "name": "stdout",
          "output_type": "stream",
          "text": [
            "Finished Epoch 45 || Run Time:    1.0 | Load Time:    0.3 || F1:  83.87 | Prec:  74.29 | Rec:  96.30 || Ex/s:  82.19\n",
            "\n",
            "---------------------\n",
            "\n",
            "===>  TRAIN Epoch 46\n"
          ]
        },
        {
          "metadata": {
            "tags": null
          },
          "name": "stderr",
          "output_type": "stream",
          "text": [
            "0% [████] 100% | ETA: 00:00:00\n",
            "Total time elapsed: 00:00:06\n"
          ]
        },
        {
          "metadata": {
            "tags": null
          },
          "name": "stdout",
          "output_type": "stream",
          "text": [
            "Finished Epoch 46 || Run Time:    6.2 | Load Time:    1.1 || F1: 100.00 | Prec: 100.00 | Rec: 100.00 || Ex/s:  43.99\n",
            "\n",
            "===>  EVAL Epoch 46\n"
          ]
        },
        {
          "metadata": {
            "tags": null
          },
          "name": "stderr",
          "output_type": "stream",
          "text": [
            "0% [█] 100% | ETA: 00:00:00\n",
            "Total time elapsed: 00:00:00\n"
          ]
        },
        {
          "metadata": {
            "tags": null
          },
          "name": "stdout",
          "output_type": "stream",
          "text": [
            "Finished Epoch 46 || Run Time:    1.0 | Load Time:    0.3 || F1:  83.87 | Prec:  74.29 | Rec:  96.30 || Ex/s:  80.81\n",
            "\n",
            "---------------------\n",
            "\n",
            "===>  TRAIN Epoch 47\n"
          ]
        },
        {
          "metadata": {
            "tags": null
          },
          "name": "stderr",
          "output_type": "stream",
          "text": [
            "0% [████] 100% | ETA: 00:00:00\n",
            "Total time elapsed: 00:00:05\n"
          ]
        },
        {
          "metadata": {
            "tags": null
          },
          "name": "stdout",
          "output_type": "stream",
          "text": [
            "Finished Epoch 47 || Run Time:    5.1 | Load Time:    1.0 || F1: 100.00 | Prec: 100.00 | Rec: 100.00 || Ex/s:  52.66\n",
            "\n",
            "===>  EVAL Epoch 47\n"
          ]
        },
        {
          "metadata": {
            "tags": null
          },
          "name": "stderr",
          "output_type": "stream",
          "text": [
            "0% [█] 100% | ETA: 00:00:00\n",
            "Total time elapsed: 00:00:00\n"
          ]
        },
        {
          "metadata": {
            "tags": null
          },
          "name": "stdout",
          "output_type": "stream",
          "text": [
            "Finished Epoch 47 || Run Time:    1.0 | Load Time:    0.3 || F1:  83.87 | Prec:  74.29 | Rec:  96.30 || Ex/s:  82.65\n",
            "\n",
            "---------------------\n",
            "\n",
            "===>  TRAIN Epoch 48\n"
          ]
        },
        {
          "metadata": {
            "tags": null
          },
          "name": "stderr",
          "output_type": "stream",
          "text": [
            "0% [████] 100% | ETA: 00:00:00\n",
            "Total time elapsed: 00:00:06\n"
          ]
        },
        {
          "metadata": {
            "tags": null
          },
          "name": "stdout",
          "output_type": "stream",
          "text": [
            "Finished Epoch 48 || Run Time:    6.1 | Load Time:    1.1 || F1: 100.00 | Prec: 100.00 | Rec: 100.00 || Ex/s:  44.77\n",
            "\n",
            "===>  EVAL Epoch 48\n"
          ]
        },
        {
          "metadata": {
            "tags": null
          },
          "name": "stderr",
          "output_type": "stream",
          "text": [
            "0% [█] 100% | ETA: 00:00:00\n",
            "Total time elapsed: 00:00:00\n"
          ]
        },
        {
          "metadata": {
            "tags": null
          },
          "name": "stdout",
          "output_type": "stream",
          "text": [
            "Finished Epoch 48 || Run Time:    1.0 | Load Time:    0.3 || F1:  83.87 | Prec:  74.29 | Rec:  96.30 || Ex/s:  82.85\n",
            "\n",
            "---------------------\n",
            "\n",
            "===>  TRAIN Epoch 49\n"
          ]
        },
        {
          "metadata": {
            "tags": null
          },
          "name": "stderr",
          "output_type": "stream",
          "text": [
            "0% [████] 100% | ETA: 00:00:00\n",
            "Total time elapsed: 00:00:05\n"
          ]
        },
        {
          "metadata": {
            "tags": null
          },
          "name": "stdout",
          "output_type": "stream",
          "text": [
            "Finished Epoch 49 || Run Time:    5.2 | Load Time:    1.0 || F1: 100.00 | Prec: 100.00 | Rec: 100.00 || Ex/s:  51.64\n",
            "\n",
            "===>  EVAL Epoch 49\n"
          ]
        },
        {
          "metadata": {
            "tags": null
          },
          "name": "stderr",
          "output_type": "stream",
          "text": [
            "0% [█] 100% | ETA: 00:00:00\n",
            "Total time elapsed: 00:00:01\n"
          ]
        },
        {
          "metadata": {
            "tags": null
          },
          "name": "stdout",
          "output_type": "stream",
          "text": [
            "Finished Epoch 49 || Run Time:    1.3 | Load Time:    0.4 || F1:  83.87 | Prec:  74.29 | Rec:  96.30 || Ex/s:  64.41\n",
            "\n",
            "---------------------\n",
            "\n",
            "===>  TRAIN Epoch 50\n"
          ]
        },
        {
          "metadata": {
            "tags": null
          },
          "name": "stderr",
          "output_type": "stream",
          "text": [
            "0% [████] 100% | ETA: 00:00:00\n",
            "Total time elapsed: 00:00:06\n"
          ]
        },
        {
          "metadata": {
            "tags": null
          },
          "name": "stdout",
          "output_type": "stream",
          "text": [
            "Finished Epoch 50 || Run Time:    5.5 | Load Time:    1.0 || F1: 100.00 | Prec: 100.00 | Rec: 100.00 || Ex/s:  49.51\n",
            "\n",
            "===>  EVAL Epoch 50\n"
          ]
        },
        {
          "metadata": {
            "tags": null
          },
          "name": "stderr",
          "output_type": "stream",
          "text": [
            "0% [█] 100% | ETA: 00:00:00\n",
            "Total time elapsed: 00:00:00\n"
          ]
        },
        {
          "metadata": {
            "tags": null
          },
          "name": "stdout",
          "output_type": "stream",
          "text": [
            "Finished Epoch 50 || Run Time:    1.0 | Load Time:    0.3 || F1:  83.87 | Prec:  74.29 | Rec:  96.30 || Ex/s:  83.28\n",
            "\n",
            "---------------------\n",
            "\n",
            "===>  TRAIN Epoch 51\n"
          ]
        },
        {
          "metadata": {
            "tags": null
          },
          "name": "stderr",
          "output_type": "stream",
          "text": [
            "0% [████] 100% | ETA: 00:00:00\n",
            "Total time elapsed: 00:00:06\n"
          ]
        },
        {
          "metadata": {
            "tags": null
          },
          "name": "stdout",
          "output_type": "stream",
          "text": [
            "Finished Epoch 51 || Run Time:    5.9 | Load Time:    1.1 || F1: 100.00 | Prec: 100.00 | Rec: 100.00 || Ex/s:  45.48\n",
            "\n",
            "===>  EVAL Epoch 51\n"
          ]
        },
        {
          "metadata": {
            "tags": null
          },
          "name": "stderr",
          "output_type": "stream",
          "text": [
            "0% [█] 100% | ETA: 00:00:00\n",
            "Total time elapsed: 00:00:00\n"
          ]
        },
        {
          "metadata": {
            "tags": null
          },
          "name": "stdout",
          "output_type": "stream",
          "text": [
            "Finished Epoch 51 || Run Time:    1.0 | Load Time:    0.3 || F1:  83.87 | Prec:  74.29 | Rec:  96.30 || Ex/s:  81.02\n",
            "\n",
            "---------------------\n",
            "\n",
            "===>  TRAIN Epoch 52\n"
          ]
        },
        {
          "metadata": {
            "tags": null
          },
          "name": "stderr",
          "output_type": "stream",
          "text": [
            "0% [████] 100% | ETA: 00:00:00\n",
            "Total time elapsed: 00:00:05\n"
          ]
        },
        {
          "metadata": {
            "tags": null
          },
          "name": "stdout",
          "output_type": "stream",
          "text": [
            "Finished Epoch 52 || Run Time:    5.3 | Load Time:    1.0 || F1: 100.00 | Prec: 100.00 | Rec: 100.00 || Ex/s:  51.34\n",
            "\n",
            "===>  EVAL Epoch 52\n"
          ]
        },
        {
          "metadata": {
            "tags": null
          },
          "name": "stderr",
          "output_type": "stream",
          "text": [
            "0% [█] 100% | ETA: 00:00:00\n",
            "Total time elapsed: 00:00:00\n"
          ]
        },
        {
          "metadata": {
            "tags": null
          },
          "name": "stdout",
          "output_type": "stream",
          "text": [
            "Finished Epoch 52 || Run Time:    1.0 | Load Time:    0.3 || F1:  83.87 | Prec:  74.29 | Rec:  96.30 || Ex/s:  82.97\n",
            "\n",
            "---------------------\n",
            "\n",
            "===>  TRAIN Epoch 53\n"
          ]
        },
        {
          "metadata": {
            "tags": null
          },
          "name": "stderr",
          "output_type": "stream",
          "text": [
            "0% [████] 100% | ETA: 00:00:00\n",
            "Total time elapsed: 00:00:06\n"
          ]
        },
        {
          "metadata": {
            "tags": null
          },
          "name": "stdout",
          "output_type": "stream",
          "text": [
            "Finished Epoch 53 || Run Time:    5.9 | Load Time:    1.1 || F1: 100.00 | Prec: 100.00 | Rec: 100.00 || Ex/s:  45.61\n",
            "\n",
            "===>  EVAL Epoch 53\n"
          ]
        },
        {
          "metadata": {
            "tags": null
          },
          "name": "stderr",
          "output_type": "stream",
          "text": [
            "0% [█] 100% | ETA: 00:00:00\n",
            "Total time elapsed: 00:00:00\n"
          ]
        },
        {
          "metadata": {
            "tags": null
          },
          "name": "stdout",
          "output_type": "stream",
          "text": [
            "Finished Epoch 53 || Run Time:    1.0 | Load Time:    0.3 || F1:  83.87 | Prec:  74.29 | Rec:  96.30 || Ex/s:  81.77\n",
            "\n",
            "---------------------\n",
            "\n",
            "===>  TRAIN Epoch 54\n"
          ]
        },
        {
          "metadata": {
            "tags": null
          },
          "name": "stderr",
          "output_type": "stream",
          "text": [
            "0% [████] 100% | ETA: 00:00:00\n",
            "Total time elapsed: 00:00:05\n"
          ]
        },
        {
          "metadata": {
            "tags": null
          },
          "name": "stdout",
          "output_type": "stream",
          "text": [
            "Finished Epoch 54 || Run Time:    5.1 | Load Time:    1.0 || F1: 100.00 | Prec: 100.00 | Rec: 100.00 || Ex/s:  53.04\n",
            "\n",
            "===>  EVAL Epoch 54\n"
          ]
        },
        {
          "metadata": {
            "tags": null
          },
          "name": "stderr",
          "output_type": "stream",
          "text": [
            "0% [█] 100% | ETA: 00:00:00\n",
            "Total time elapsed: 00:00:01\n"
          ]
        },
        {
          "metadata": {
            "tags": null
          },
          "name": "stdout",
          "output_type": "stream",
          "text": [
            "Finished Epoch 54 || Run Time:    1.3 | Load Time:    0.4 || F1:  83.87 | Prec:  74.29 | Rec:  96.30 || Ex/s:  65.77\n",
            "\n",
            "---------------------\n",
            "\n",
            "===>  TRAIN Epoch 55\n"
          ]
        },
        {
          "metadata": {
            "tags": null
          },
          "name": "stderr",
          "output_type": "stream",
          "text": [
            "0% [████] 100% | ETA: 00:00:00\n",
            "Total time elapsed: 00:00:06\n"
          ]
        },
        {
          "metadata": {
            "tags": null
          },
          "name": "stdout",
          "output_type": "stream",
          "text": [
            "Finished Epoch 55 || Run Time:    5.7 | Load Time:    1.1 || F1: 100.00 | Prec: 100.00 | Rec: 100.00 || Ex/s:  47.31\n",
            "\n",
            "===>  EVAL Epoch 55\n"
          ]
        },
        {
          "metadata": {
            "tags": null
          },
          "name": "stderr",
          "output_type": "stream",
          "text": [
            "0% [█] 100% | ETA: 00:00:00\n",
            "Total time elapsed: 00:00:00\n"
          ]
        },
        {
          "metadata": {
            "tags": null
          },
          "name": "stdout",
          "output_type": "stream",
          "text": [
            "Finished Epoch 55 || Run Time:    1.0 | Load Time:    0.3 || F1:  83.87 | Prec:  74.29 | Rec:  96.30 || Ex/s:  84.13\n",
            "\n",
            "---------------------\n",
            "\n",
            "===>  TRAIN Epoch 56\n"
          ]
        },
        {
          "metadata": {
            "tags": null
          },
          "name": "stderr",
          "output_type": "stream",
          "text": [
            "0% [████] 100% | ETA: 00:00:00\n",
            "Total time elapsed: 00:00:06\n"
          ]
        },
        {
          "metadata": {
            "tags": null
          },
          "name": "stdout",
          "output_type": "stream",
          "text": [
            "Finished Epoch 56 || Run Time:    5.6 | Load Time:    1.1 || F1: 100.00 | Prec: 100.00 | Rec: 100.00 || Ex/s:  48.30\n",
            "\n",
            "===>  EVAL Epoch 56\n"
          ]
        },
        {
          "metadata": {
            "tags": null
          },
          "name": "stderr",
          "output_type": "stream",
          "text": [
            "0% [█] 100% | ETA: 00:00:00\n",
            "Total time elapsed: 00:00:01\n"
          ]
        },
        {
          "metadata": {
            "tags": null
          },
          "name": "stdout",
          "output_type": "stream",
          "text": [
            "Finished Epoch 56 || Run Time:    1.2 | Load Time:    0.4 || F1:  83.87 | Prec:  74.29 | Rec:  96.30 || Ex/s:  66.42\n",
            "\n",
            "---------------------\n",
            "\n",
            "===>  TRAIN Epoch 57\n"
          ]
        },
        {
          "metadata": {
            "tags": null
          },
          "name": "stderr",
          "output_type": "stream",
          "text": [
            "0% [████] 100% | ETA: 00:00:00\n",
            "Total time elapsed: 00:00:05\n"
          ]
        },
        {
          "metadata": {
            "tags": null
          },
          "name": "stdout",
          "output_type": "stream",
          "text": [
            "Finished Epoch 57 || Run Time:    5.1 | Load Time:    1.0 || F1: 100.00 | Prec: 100.00 | Rec: 100.00 || Ex/s:  53.36\n",
            "\n",
            "===>  EVAL Epoch 57\n"
          ]
        },
        {
          "metadata": {
            "tags": null
          },
          "name": "stderr",
          "output_type": "stream",
          "text": [
            "0% [█] 100% | ETA: 00:00:00\n",
            "Total time elapsed: 00:00:00\n"
          ]
        },
        {
          "metadata": {
            "tags": null
          },
          "name": "stdout",
          "output_type": "stream",
          "text": [
            "Finished Epoch 57 || Run Time:    1.0 | Load Time:    0.3 || F1:  83.87 | Prec:  74.29 | Rec:  96.30 || Ex/s:  85.36\n",
            "\n",
            "---------------------\n",
            "\n",
            "===>  TRAIN Epoch 58\n"
          ]
        },
        {
          "metadata": {
            "tags": null
          },
          "name": "stderr",
          "output_type": "stream",
          "text": [
            "0% [████] 100% | ETA: 00:00:00\n",
            "Total time elapsed: 00:00:06\n"
          ]
        },
        {
          "metadata": {
            "tags": null
          },
          "name": "stdout",
          "output_type": "stream",
          "text": [
            "Finished Epoch 58 || Run Time:    6.1 | Load Time:    1.1 || F1: 100.00 | Prec: 100.00 | Rec: 100.00 || Ex/s:  44.81\n",
            "\n",
            "===>  EVAL Epoch 58\n"
          ]
        },
        {
          "metadata": {
            "tags": null
          },
          "name": "stderr",
          "output_type": "stream",
          "text": [
            "0% [█] 100% | ETA: 00:00:00\n",
            "Total time elapsed: 00:00:00\n"
          ]
        },
        {
          "metadata": {
            "tags": null
          },
          "name": "stdout",
          "output_type": "stream",
          "text": [
            "Finished Epoch 58 || Run Time:    1.0 | Load Time:    0.3 || F1:  83.87 | Prec:  74.29 | Rec:  96.30 || Ex/s:  82.94\n",
            "\n",
            "---------------------\n",
            "\n",
            "===>  TRAIN Epoch 59\n"
          ]
        },
        {
          "metadata": {
            "tags": null
          },
          "name": "stderr",
          "output_type": "stream",
          "text": [
            "0% [████] 100% | ETA: 00:00:00\n",
            "Total time elapsed: 00:00:05\n"
          ]
        },
        {
          "metadata": {
            "tags": null
          },
          "name": "stdout",
          "output_type": "stream",
          "text": [
            "Finished Epoch 59 || Run Time:    5.1 | Load Time:    1.0 || F1: 100.00 | Prec: 100.00 | Rec: 100.00 || Ex/s:  52.75\n",
            "\n",
            "===>  EVAL Epoch 59\n"
          ]
        },
        {
          "metadata": {
            "tags": null
          },
          "name": "stderr",
          "output_type": "stream",
          "text": [
            "0% [█] 100% | ETA: 00:00:00\n",
            "Total time elapsed: 00:00:00\n"
          ]
        },
        {
          "metadata": {
            "tags": null
          },
          "name": "stdout",
          "output_type": "stream",
          "text": [
            "Finished Epoch 59 || Run Time:    1.0 | Load Time:    0.3 || F1:  83.87 | Prec:  74.29 | Rec:  96.30 || Ex/s:  80.45\n",
            "\n",
            "---------------------\n",
            "\n",
            "===>  TRAIN Epoch 60\n"
          ]
        },
        {
          "metadata": {
            "tags": null
          },
          "name": "stderr",
          "output_type": "stream",
          "text": [
            "0% [████] 100% | ETA: 00:00:00\n",
            "Total time elapsed: 00:00:06\n"
          ]
        },
        {
          "metadata": {
            "tags": null
          },
          "name": "stdout",
          "output_type": "stream",
          "text": [
            "Finished Epoch 60 || Run Time:    5.9 | Load Time:    1.1 || F1: 100.00 | Prec: 100.00 | Rec: 100.00 || Ex/s:  45.74\n",
            "\n",
            "===>  EVAL Epoch 60\n"
          ]
        },
        {
          "metadata": {
            "tags": null
          },
          "name": "stderr",
          "output_type": "stream",
          "text": [
            "0% [█] 100% | ETA: 00:00:00\n",
            "Total time elapsed: 00:00:00\n"
          ]
        },
        {
          "metadata": {
            "tags": null
          },
          "name": "stdout",
          "output_type": "stream",
          "text": [
            "Finished Epoch 60 || Run Time:    1.0 | Load Time:    0.3 || F1:  83.87 | Prec:  74.29 | Rec:  96.30 || Ex/s:  83.18\n",
            "\n",
            "---------------------\n",
            "\n",
            "===>  TRAIN Epoch 61\n"
          ]
        },
        {
          "metadata": {
            "tags": null
          },
          "name": "stderr",
          "output_type": "stream",
          "text": [
            "0% [████] 100% | ETA: 00:00:00\n",
            "Total time elapsed: 00:00:05\n"
          ]
        },
        {
          "metadata": {
            "tags": null
          },
          "name": "stdout",
          "output_type": "stream",
          "text": [
            "Finished Epoch 61 || Run Time:    5.4 | Load Time:    1.0 || F1: 100.00 | Prec: 100.00 | Rec: 100.00 || Ex/s:  49.84\n",
            "\n",
            "===>  EVAL Epoch 61\n"
          ]
        },
        {
          "metadata": {
            "tags": null
          },
          "name": "stderr",
          "output_type": "stream",
          "text": [
            "0% [█] 100% | ETA: 00:00:00\n",
            "Total time elapsed: 00:00:01\n"
          ]
        },
        {
          "metadata": {
            "tags": null
          },
          "name": "stdout",
          "output_type": "stream",
          "text": [
            "Finished Epoch 61 || Run Time:    1.3 | Load Time:    0.4 || F1:  83.87 | Prec:  74.29 | Rec:  96.30 || Ex/s:  64.27\n",
            "\n",
            "---------------------\n",
            "\n",
            "===>  TRAIN Epoch 62\n"
          ]
        },
        {
          "metadata": {
            "tags": null
          },
          "name": "stderr",
          "output_type": "stream",
          "text": [
            "0% [████] 100% | ETA: 00:00:00\n",
            "Total time elapsed: 00:00:05\n"
          ]
        },
        {
          "metadata": {
            "tags": null
          },
          "name": "stdout",
          "output_type": "stream",
          "text": [
            "Finished Epoch 62 || Run Time:    5.4 | Load Time:    1.0 || F1: 100.00 | Prec: 100.00 | Rec: 100.00 || Ex/s:  50.12\n",
            "\n",
            "===>  EVAL Epoch 62\n"
          ]
        },
        {
          "metadata": {
            "tags": null
          },
          "name": "stderr",
          "output_type": "stream",
          "text": [
            "0% [█] 100% | ETA: 00:00:00\n",
            "Total time elapsed: 00:00:00\n"
          ]
        },
        {
          "metadata": {
            "tags": null
          },
          "name": "stdout",
          "output_type": "stream",
          "text": [
            "Finished Epoch 62 || Run Time:    1.0 | Load Time:    0.3 || F1:  83.87 | Prec:  74.29 | Rec:  96.30 || Ex/s:  83.24\n",
            "\n",
            "---------------------\n",
            "\n",
            "===>  TRAIN Epoch 63\n"
          ]
        },
        {
          "metadata": {
            "tags": null
          },
          "name": "stderr",
          "output_type": "stream",
          "text": [
            "0% [████] 100% | ETA: 00:00:00\n",
            "Total time elapsed: 00:00:06\n"
          ]
        },
        {
          "metadata": {
            "tags": null
          },
          "name": "stdout",
          "output_type": "stream",
          "text": [
            "Finished Epoch 63 || Run Time:    6.0 | Load Time:    1.1 || F1: 100.00 | Prec: 100.00 | Rec: 100.00 || Ex/s:  45.11\n",
            "\n",
            "===>  EVAL Epoch 63\n"
          ]
        },
        {
          "metadata": {
            "tags": null
          },
          "name": "stderr",
          "output_type": "stream",
          "text": [
            "0% [█] 100% | ETA: 00:00:00\n",
            "Total time elapsed: 00:00:00\n"
          ]
        },
        {
          "metadata": {
            "tags": null
          },
          "name": "stdout",
          "output_type": "stream",
          "text": [
            "Finished Epoch 63 || Run Time:    1.0 | Load Time:    0.3 || F1:  83.87 | Prec:  74.29 | Rec:  96.30 || Ex/s:  81.18\n",
            "\n",
            "---------------------\n",
            "\n",
            "===>  TRAIN Epoch 64\n"
          ]
        },
        {
          "metadata": {
            "tags": null
          },
          "name": "stderr",
          "output_type": "stream",
          "text": [
            "0% [████] 100% | ETA: 00:00:00\n",
            "Total time elapsed: 00:00:05\n"
          ]
        },
        {
          "metadata": {
            "tags": null
          },
          "name": "stdout",
          "output_type": "stream",
          "text": [
            "Finished Epoch 64 || Run Time:    5.3 | Load Time:    1.0 || F1: 100.00 | Prec: 100.00 | Rec: 100.00 || Ex/s:  51.17\n",
            "\n",
            "===>  EVAL Epoch 64\n"
          ]
        },
        {
          "metadata": {
            "tags": null
          },
          "name": "stderr",
          "output_type": "stream",
          "text": [
            "0% [█] 100% | ETA: 00:00:00\n",
            "Total time elapsed: 00:00:00\n"
          ]
        },
        {
          "metadata": {
            "tags": null
          },
          "name": "stdout",
          "output_type": "stream",
          "text": [
            "Finished Epoch 64 || Run Time:    1.0 | Load Time:    0.3 || F1:  83.87 | Prec:  74.29 | Rec:  96.30 || Ex/s:  82.61\n",
            "\n",
            "---------------------\n",
            "\n",
            "===>  TRAIN Epoch 65\n"
          ]
        },
        {
          "metadata": {
            "tags": null
          },
          "name": "stderr",
          "output_type": "stream",
          "text": [
            "0% [████] 100% | ETA: 00:00:00\n",
            "Total time elapsed: 00:00:06\n"
          ]
        },
        {
          "metadata": {
            "tags": null
          },
          "name": "stdout",
          "output_type": "stream",
          "text": [
            "Finished Epoch 65 || Run Time:    6.2 | Load Time:    1.2 || F1: 100.00 | Prec: 100.00 | Rec: 100.00 || Ex/s:  43.59\n",
            "\n",
            "===>  EVAL Epoch 65\n"
          ]
        },
        {
          "metadata": {
            "tags": null
          },
          "name": "stderr",
          "output_type": "stream",
          "text": [
            "0% [█] 100% | ETA: 00:00:00\n",
            "Total time elapsed: 00:00:00\n"
          ]
        },
        {
          "metadata": {
            "tags": null
          },
          "name": "stdout",
          "output_type": "stream",
          "text": [
            "Finished Epoch 65 || Run Time:    1.0 | Load Time:    0.3 || F1:  83.87 | Prec:  74.29 | Rec:  96.30 || Ex/s:  81.42\n",
            "\n",
            "---------------------\n",
            "\n",
            "===>  TRAIN Epoch 66\n"
          ]
        },
        {
          "metadata": {
            "tags": null
          },
          "name": "stderr",
          "output_type": "stream",
          "text": [
            "0% [████] 100% | ETA: 00:00:00\n",
            "Total time elapsed: 00:00:05\n"
          ]
        },
        {
          "metadata": {
            "tags": null
          },
          "name": "stdout",
          "output_type": "stream",
          "text": [
            "Finished Epoch 66 || Run Time:    5.1 | Load Time:    1.0 || F1: 100.00 | Prec: 100.00 | Rec: 100.00 || Ex/s:  52.68\n",
            "\n",
            "===>  EVAL Epoch 66\n"
          ]
        },
        {
          "metadata": {
            "tags": null
          },
          "name": "stderr",
          "output_type": "stream",
          "text": [
            "0% [█] 100% | ETA: 00:00:00\n",
            "Total time elapsed: 00:00:01\n"
          ]
        },
        {
          "metadata": {
            "tags": null
          },
          "name": "stdout",
          "output_type": "stream",
          "text": [
            "Finished Epoch 66 || Run Time:    1.3 | Load Time:    0.4 || F1:  83.87 | Prec:  74.29 | Rec:  96.30 || Ex/s:  65.39\n",
            "\n",
            "---------------------\n",
            "\n",
            "===>  TRAIN Epoch 67\n"
          ]
        },
        {
          "metadata": {
            "tags": null
          },
          "name": "stderr",
          "output_type": "stream",
          "text": [
            "0% [████] 100% | ETA: 00:00:00\n",
            "Total time elapsed: 00:00:06\n"
          ]
        },
        {
          "metadata": {
            "tags": null
          },
          "name": "stdout",
          "output_type": "stream",
          "text": [
            "Finished Epoch 67 || Run Time:    5.7 | Load Time:    1.1 || F1: 100.00 | Prec: 100.00 | Rec: 100.00 || Ex/s:  47.74\n",
            "\n",
            "===>  EVAL Epoch 67\n"
          ]
        },
        {
          "metadata": {
            "tags": null
          },
          "name": "stderr",
          "output_type": "stream",
          "text": [
            "0% [█] 100% | ETA: 00:00:00\n",
            "Total time elapsed: 00:00:00\n"
          ]
        },
        {
          "metadata": {
            "tags": null
          },
          "name": "stdout",
          "output_type": "stream",
          "text": [
            "Finished Epoch 67 || Run Time:    1.0 | Load Time:    0.3 || F1:  83.87 | Prec:  74.29 | Rec:  96.30 || Ex/s:  82.77\n",
            "\n",
            "---------------------\n",
            "\n",
            "===>  TRAIN Epoch 68\n"
          ]
        },
        {
          "metadata": {
            "tags": null
          },
          "name": "stderr",
          "output_type": "stream",
          "text": [
            "0% [████] 100% | ETA: 00:00:00\n",
            "Total time elapsed: 00:00:06\n"
          ]
        },
        {
          "metadata": {
            "tags": null
          },
          "name": "stdout",
          "output_type": "stream",
          "text": [
            "Finished Epoch 68 || Run Time:    5.7 | Load Time:    1.1 || F1: 100.00 | Prec: 100.00 | Rec: 100.00 || Ex/s:  47.33\n",
            "\n",
            "===>  EVAL Epoch 68\n"
          ]
        },
        {
          "metadata": {
            "tags": null
          },
          "name": "stderr",
          "output_type": "stream",
          "text": [
            "0% [█] 100% | ETA: 00:00:00\n",
            "Total time elapsed: 00:00:01\n"
          ]
        },
        {
          "metadata": {
            "tags": null
          },
          "name": "stdout",
          "output_type": "stream",
          "text": [
            "Finished Epoch 68 || Run Time:    1.2 | Load Time:    0.4 || F1:  83.87 | Prec:  74.29 | Rec:  96.30 || Ex/s:  66.56\n",
            "\n",
            "---------------------\n",
            "\n",
            "===>  TRAIN Epoch 69\n"
          ]
        },
        {
          "metadata": {
            "tags": null
          },
          "name": "stderr",
          "output_type": "stream",
          "text": [
            "0% [████] 100% | ETA: 00:00:00\n",
            "Total time elapsed: 00:00:05\n"
          ]
        },
        {
          "metadata": {
            "tags": null
          },
          "name": "stdout",
          "output_type": "stream",
          "text": [
            "Finished Epoch 69 || Run Time:    5.1 | Load Time:    1.0 || F1: 100.00 | Prec: 100.00 | Rec: 100.00 || Ex/s:  52.44\n",
            "\n",
            "===>  EVAL Epoch 69\n"
          ]
        },
        {
          "metadata": {
            "tags": null
          },
          "name": "stderr",
          "output_type": "stream",
          "text": [
            "0% [█] 100% | ETA: 00:00:00\n",
            "Total time elapsed: 00:00:00\n"
          ]
        },
        {
          "metadata": {
            "tags": null
          },
          "name": "stdout",
          "output_type": "stream",
          "text": [
            "Finished Epoch 69 || Run Time:    1.0 | Load Time:    0.3 || F1:  83.87 | Prec:  74.29 | Rec:  96.30 || Ex/s:  81.69\n",
            "\n",
            "---------------------\n",
            "\n",
            "===>  TRAIN Epoch 70\n"
          ]
        },
        {
          "metadata": {
            "tags": null
          },
          "name": "stderr",
          "output_type": "stream",
          "text": [
            "0% [████] 100% | ETA: 00:00:00\n",
            "Total time elapsed: 00:00:06\n"
          ]
        },
        {
          "metadata": {
            "tags": null
          },
          "name": "stdout",
          "output_type": "stream",
          "text": [
            "Finished Epoch 70 || Run Time:    6.1 | Load Time:    1.1 || F1: 100.00 | Prec: 100.00 | Rec: 100.00 || Ex/s:  44.45\n",
            "\n",
            "===>  EVAL Epoch 70\n"
          ]
        },
        {
          "metadata": {
            "tags": null
          },
          "name": "stderr",
          "output_type": "stream",
          "text": [
            "0% [█] 100% | ETA: 00:00:00\n",
            "Total time elapsed: 00:00:00\n"
          ]
        },
        {
          "metadata": {
            "tags": null
          },
          "name": "stdout",
          "output_type": "stream",
          "text": [
            "Finished Epoch 70 || Run Time:    1.0 | Load Time:    0.3 || F1:  83.87 | Prec:  74.29 | Rec:  96.30 || Ex/s:  81.90\n",
            "\n",
            "---------------------\n",
            "\n",
            "===>  TRAIN Epoch 71\n"
          ]
        },
        {
          "metadata": {
            "tags": null
          },
          "name": "stderr",
          "output_type": "stream",
          "text": [
            "0% [████] 100% | ETA: 00:00:00\n",
            "Total time elapsed: 00:00:05\n"
          ]
        },
        {
          "metadata": {
            "tags": null
          },
          "name": "stdout",
          "output_type": "stream",
          "text": [
            "Finished Epoch 71 || Run Time:    5.0 | Load Time:    0.9 || F1: 100.00 | Prec: 100.00 | Rec: 100.00 || Ex/s:  53.50\n",
            "\n",
            "===>  EVAL Epoch 71\n"
          ]
        },
        {
          "metadata": {
            "tags": null
          },
          "name": "stderr",
          "output_type": "stream",
          "text": [
            "0% [█] 100% | ETA: 00:00:00\n",
            "Total time elapsed: 00:00:00\n"
          ]
        },
        {
          "metadata": {
            "tags": null
          },
          "name": "stdout",
          "output_type": "stream",
          "text": [
            "Finished Epoch 71 || Run Time:    1.1 | Load Time:    0.3 || F1:  83.87 | Prec:  74.29 | Rec:  96.30 || Ex/s:  77.85\n",
            "\n",
            "---------------------\n",
            "\n",
            "===>  TRAIN Epoch 72\n"
          ]
        },
        {
          "metadata": {
            "tags": null
          },
          "name": "stderr",
          "output_type": "stream",
          "text": [
            "0% [████] 100% | ETA: 00:00:00\n",
            "Total time elapsed: 00:00:06\n"
          ]
        },
        {
          "metadata": {
            "tags": null
          },
          "name": "stdout",
          "output_type": "stream",
          "text": [
            "Finished Epoch 72 || Run Time:    5.8 | Load Time:    1.1 || F1: 100.00 | Prec: 100.00 | Rec: 100.00 || Ex/s:  46.21\n",
            "\n",
            "===>  EVAL Epoch 72\n"
          ]
        },
        {
          "metadata": {
            "tags": null
          },
          "name": "stderr",
          "output_type": "stream",
          "text": [
            "0% [█] 100% | ETA: 00:00:00\n",
            "Total time elapsed: 00:00:00\n"
          ]
        },
        {
          "metadata": {
            "tags": null
          },
          "name": "stdout",
          "output_type": "stream",
          "text": [
            "Finished Epoch 72 || Run Time:    1.0 | Load Time:    0.3 || F1:  83.87 | Prec:  74.29 | Rec:  96.30 || Ex/s:  83.23\n",
            "\n",
            "---------------------\n",
            "\n",
            "===>  TRAIN Epoch 73\n"
          ]
        },
        {
          "metadata": {
            "tags": null
          },
          "name": "stderr",
          "output_type": "stream",
          "text": [
            "0% [████] 100% | ETA: 00:00:00\n",
            "Total time elapsed: 00:00:05\n"
          ]
        },
        {
          "metadata": {
            "tags": null
          },
          "name": "stdout",
          "output_type": "stream",
          "text": [
            "Finished Epoch 73 || Run Time:    5.4 | Load Time:    1.0 || F1: 100.00 | Prec: 100.00 | Rec: 100.00 || Ex/s:  50.01\n",
            "\n",
            "===>  EVAL Epoch 73\n"
          ]
        },
        {
          "metadata": {
            "tags": null
          },
          "name": "stderr",
          "output_type": "stream",
          "text": [
            "0% [█] 100% | ETA: 00:00:00\n",
            "Total time elapsed: 00:00:01\n"
          ]
        },
        {
          "metadata": {
            "tags": null
          },
          "name": "stdout",
          "output_type": "stream",
          "text": [
            "Finished Epoch 73 || Run Time:    1.3 | Load Time:    0.4 || F1:  83.87 | Prec:  74.29 | Rec:  96.30 || Ex/s:  63.06\n",
            "\n",
            "---------------------\n",
            "\n",
            "===>  TRAIN Epoch 74\n"
          ]
        },
        {
          "metadata": {
            "tags": null
          },
          "name": "stderr",
          "output_type": "stream",
          "text": [
            "0% [████] 100% | ETA: 00:00:00\n",
            "Total time elapsed: 00:00:05\n"
          ]
        },
        {
          "metadata": {
            "tags": null
          },
          "name": "stdout",
          "output_type": "stream",
          "text": [
            "Finished Epoch 74 || Run Time:    5.2 | Load Time:    1.0 || F1: 100.00 | Prec: 100.00 | Rec: 100.00 || Ex/s:  51.35\n",
            "\n",
            "===>  EVAL Epoch 74\n"
          ]
        },
        {
          "metadata": {
            "tags": null
          },
          "name": "stderr",
          "output_type": "stream",
          "text": [
            "0% [█] 100% | ETA: 00:00:00\n",
            "Total time elapsed: 00:00:00\n"
          ]
        },
        {
          "metadata": {
            "tags": null
          },
          "name": "stdout",
          "output_type": "stream",
          "text": [
            "Finished Epoch 74 || Run Time:    1.0 | Load Time:    0.3 || F1:  83.87 | Prec:  74.29 | Rec:  96.30 || Ex/s:  80.16\n",
            "\n",
            "---------------------\n",
            "\n",
            "===>  TRAIN Epoch 75\n"
          ]
        },
        {
          "metadata": {
            "tags": null
          },
          "name": "stderr",
          "output_type": "stream",
          "text": [
            "0% [████] 100% | ETA: 00:00:00\n",
            "Total time elapsed: 00:00:06\n"
          ]
        },
        {
          "metadata": {
            "tags": null
          },
          "name": "stdout",
          "output_type": "stream",
          "text": [
            "Finished Epoch 75 || Run Time:    6.1 | Load Time:    1.1 || F1: 100.00 | Prec: 100.00 | Rec: 100.00 || Ex/s:  44.57\n",
            "\n",
            "===>  EVAL Epoch 75\n"
          ]
        },
        {
          "metadata": {
            "tags": null
          },
          "name": "stderr",
          "output_type": "stream",
          "text": [
            "0% [█] 100% | ETA: 00:00:00\n",
            "Total time elapsed: 00:00:00\n"
          ]
        },
        {
          "metadata": {
            "tags": null
          },
          "name": "stdout",
          "output_type": "stream",
          "text": [
            "Finished Epoch 75 || Run Time:    1.0 | Load Time:    0.3 || F1:  83.87 | Prec:  74.29 | Rec:  96.30 || Ex/s:  82.92\n",
            "\n",
            "---------------------\n",
            "\n",
            "===>  TRAIN Epoch 76\n"
          ]
        },
        {
          "output_type": "stream",
          "name": "stderr",
          "text": [
            "0% [████] 100% | ETA: 00:00:00\n",
            "Total time elapsed: 00:00:05\n"
          ]
        },
        {
          "output_type": "stream",
          "name": "stdout",
          "text": [
            "Finished Epoch 76 || Run Time:    5.3 | Load Time:    1.0 || F1: 100.00 | Prec: 100.00 | Rec: 100.00 || Ex/s:  51.08\n",
            "\n",
            "===>  EVAL Epoch 76\n"
          ]
        },
        {
          "output_type": "stream",
          "name": "stderr",
          "text": [
            "0% [█] 100% | ETA: 00:00:00\n",
            "Total time elapsed: 00:00:00\n"
          ]
        },
        {
          "output_type": "stream",
          "name": "stdout",
          "text": [
            "Finished Epoch 76 || Run Time:    1.0 | Load Time:    0.3 || F1:  83.87 | Prec:  74.29 | Rec:  96.30 || Ex/s:  83.06\n",
            "\n",
            "---------------------\n",
            "\n",
            "===>  TRAIN Epoch 77\n"
          ]
        },
        {
          "output_type": "stream",
          "name": "stderr",
          "text": [
            "0% [████] 100% | ETA: 00:00:00\n",
            "Total time elapsed: 00:00:06\n"
          ]
        },
        {
          "output_type": "stream",
          "name": "stdout",
          "text": [
            "Finished Epoch 77 || Run Time:    5.6 | Load Time:    1.1 || F1: 100.00 | Prec: 100.00 | Rec: 100.00 || Ex/s:  47.86\n",
            "\n",
            "===>  EVAL Epoch 77\n"
          ]
        },
        {
          "output_type": "stream",
          "name": "stderr",
          "text": [
            "0% [█] 100% | ETA: 00:00:00\n",
            "Total time elapsed: 00:00:00\n"
          ]
        },
        {
          "output_type": "stream",
          "name": "stdout",
          "text": [
            "Finished Epoch 77 || Run Time:    1.0 | Load Time:    0.3 || F1:  83.87 | Prec:  74.29 | Rec:  96.30 || Ex/s:  83.47\n",
            "\n",
            "---------------------\n",
            "\n",
            "===>  TRAIN Epoch 78\n"
          ]
        },
        {
          "output_type": "stream",
          "name": "stderr",
          "text": [
            "0% [████] 100% | ETA: 00:00:00\n",
            "Total time elapsed: 00:00:05\n"
          ]
        },
        {
          "output_type": "stream",
          "name": "stdout",
          "text": [
            "Finished Epoch 78 || Run Time:    5.4 | Load Time:    1.0 || F1: 100.00 | Prec: 100.00 | Rec: 100.00 || Ex/s:  49.99\n",
            "\n",
            "===>  EVAL Epoch 78\n"
          ]
        },
        {
          "output_type": "stream",
          "name": "stderr",
          "text": [
            "0% [█] 100% | ETA: 00:00:00\n",
            "Total time elapsed: 00:00:01\n"
          ]
        },
        {
          "output_type": "stream",
          "name": "stdout",
          "text": [
            "Finished Epoch 78 || Run Time:    1.2 | Load Time:    0.4 || F1:  83.87 | Prec:  74.29 | Rec:  96.30 || Ex/s:  69.17\n",
            "\n",
            "---------------------\n",
            "\n",
            "===>  TRAIN Epoch 79\n"
          ]
        },
        {
          "output_type": "stream",
          "name": "stderr",
          "text": [
            "0% [████] 100% | ETA: 00:00:00\n",
            "Total time elapsed: 00:00:05\n"
          ]
        },
        {
          "output_type": "stream",
          "name": "stdout",
          "text": [
            "Finished Epoch 79 || Run Time:    5.1 | Load Time:    1.0 || F1: 100.00 | Prec: 100.00 | Rec: 100.00 || Ex/s:  52.99\n",
            "\n",
            "===>  EVAL Epoch 79\n"
          ]
        },
        {
          "output_type": "stream",
          "name": "stderr",
          "text": [
            "0% [█] 100% | ETA: 00:00:00\n",
            "Total time elapsed: 00:00:00\n"
          ]
        },
        {
          "output_type": "stream",
          "name": "stdout",
          "text": [
            "Finished Epoch 79 || Run Time:    1.0 | Load Time:    0.3 || F1:  83.87 | Prec:  74.29 | Rec:  96.30 || Ex/s:  83.42\n",
            "\n",
            "---------------------\n",
            "\n",
            "===>  TRAIN Epoch 80\n"
          ]
        },
        {
          "output_type": "stream",
          "name": "stderr",
          "text": [
            "0% [████] 100% | ETA: 00:00:00\n",
            "Total time elapsed: 00:00:07\n"
          ]
        },
        {
          "output_type": "stream",
          "name": "stdout",
          "text": [
            "Finished Epoch 80 || Run Time:    6.3 | Load Time:    1.2 || F1: 100.00 | Prec: 100.00 | Rec: 100.00 || Ex/s:  42.88\n",
            "\n",
            "===>  EVAL Epoch 80\n"
          ]
        },
        {
          "output_type": "stream",
          "name": "stderr",
          "text": [
            "0% [█] 100% | ETA: 00:00:00\n",
            "Total time elapsed: 00:00:00\n"
          ]
        },
        {
          "output_type": "stream",
          "name": "stdout",
          "text": [
            "Finished Epoch 80 || Run Time:    1.0 | Load Time:    0.3 || F1:  83.87 | Prec:  74.29 | Rec:  96.30 || Ex/s:  82.96\n",
            "\n",
            "---------------------\n",
            "\n",
            "===>  TRAIN Epoch 81\n"
          ]
        },
        {
          "output_type": "stream",
          "name": "stderr",
          "text": [
            "0% [████] 100% | ETA: 00:00:00\n",
            "Total time elapsed: 00:00:05\n"
          ]
        },
        {
          "output_type": "stream",
          "name": "stdout",
          "text": [
            "Finished Epoch 81 || Run Time:    5.1 | Load Time:    1.0 || F1: 100.00 | Prec: 100.00 | Rec: 100.00 || Ex/s:  53.25\n",
            "\n",
            "===>  EVAL Epoch 81\n"
          ]
        },
        {
          "output_type": "stream",
          "name": "stderr",
          "text": [
            "0% [█] 100% | ETA: 00:00:00\n",
            "Total time elapsed: 00:00:01\n"
          ]
        },
        {
          "output_type": "stream",
          "name": "stdout",
          "text": [
            "Finished Epoch 81 || Run Time:    1.2 | Load Time:    0.4 || F1:  83.87 | Prec:  74.29 | Rec:  96.30 || Ex/s:  66.63\n",
            "\n",
            "---------------------\n",
            "\n",
            "===>  TRAIN Epoch 82\n"
          ]
        },
        {
          "output_type": "stream",
          "name": "stderr",
          "text": [
            "0% [████] 100% | ETA: 00:00:00\n",
            "Total time elapsed: 00:00:06\n"
          ]
        },
        {
          "output_type": "stream",
          "name": "stdout",
          "text": [
            "Finished Epoch 82 || Run Time:    5.6 | Load Time:    1.0 || F1: 100.00 | Prec: 100.00 | Rec: 100.00 || Ex/s:  48.29\n",
            "\n",
            "===>  EVAL Epoch 82\n"
          ]
        },
        {
          "output_type": "stream",
          "name": "stderr",
          "text": [
            "0% [█] 100% | ETA: 00:00:00\n",
            "Total time elapsed: 00:00:00\n"
          ]
        },
        {
          "output_type": "stream",
          "name": "stdout",
          "text": [
            "Finished Epoch 82 || Run Time:    1.0 | Load Time:    0.3 || F1:  83.87 | Prec:  74.29 | Rec:  96.30 || Ex/s:  81.78\n",
            "\n",
            "---------------------\n",
            "\n",
            "===>  TRAIN Epoch 83\n"
          ]
        },
        {
          "output_type": "stream",
          "name": "stderr",
          "text": [
            "0% [████] 100% | ETA: 00:00:00\n",
            "Total time elapsed: 00:00:07\n"
          ]
        },
        {
          "output_type": "stream",
          "name": "stdout",
          "text": [
            "Finished Epoch 83 || Run Time:    6.3 | Load Time:    1.2 || F1: 100.00 | Prec: 100.00 | Rec: 100.00 || Ex/s:  42.73\n",
            "\n",
            "===>  EVAL Epoch 83\n"
          ]
        },
        {
          "output_type": "stream",
          "name": "stderr",
          "text": [
            "0% [█] 100% | ETA: 00:00:00\n",
            "Total time elapsed: 00:00:00\n"
          ]
        },
        {
          "output_type": "stream",
          "name": "stdout",
          "text": [
            "Finished Epoch 83 || Run Time:    1.0 | Load Time:    0.3 || F1:  83.87 | Prec:  74.29 | Rec:  96.30 || Ex/s:  82.76\n",
            "\n",
            "---------------------\n",
            "\n",
            "===>  TRAIN Epoch 84\n"
          ]
        },
        {
          "output_type": "stream",
          "name": "stderr",
          "text": [
            "0% [████] 100% | ETA: 00:00:00\n",
            "Total time elapsed: 00:00:05\n"
          ]
        },
        {
          "output_type": "stream",
          "name": "stdout",
          "text": [
            "Finished Epoch 84 || Run Time:    5.1 | Load Time:    1.0 || F1: 100.00 | Prec: 100.00 | Rec: 100.00 || Ex/s:  52.80\n",
            "\n",
            "===>  EVAL Epoch 84\n"
          ]
        },
        {
          "output_type": "stream",
          "name": "stderr",
          "text": [
            "0% [█] 100% | ETA: 00:00:00\n",
            "Total time elapsed: 00:00:00\n"
          ]
        },
        {
          "output_type": "stream",
          "name": "stdout",
          "text": [
            "Finished Epoch 84 || Run Time:    1.0 | Load Time:    0.3 || F1:  83.87 | Prec:  74.29 | Rec:  96.30 || Ex/s:  83.63\n",
            "\n",
            "---------------------\n",
            "\n",
            "===>  TRAIN Epoch 85\n"
          ]
        },
        {
          "output_type": "stream",
          "name": "stderr",
          "text": [
            "0% [████] 100% | ETA: 00:00:00\n",
            "Total time elapsed: 00:00:06\n"
          ]
        },
        {
          "output_type": "stream",
          "name": "stdout",
          "text": [
            "Finished Epoch 85 || Run Time:    5.6 | Load Time:    1.1 || F1: 100.00 | Prec: 100.00 | Rec: 100.00 || Ex/s:  48.08\n",
            "\n",
            "===>  EVAL Epoch 85\n"
          ]
        },
        {
          "output_type": "stream",
          "name": "stderr",
          "text": [
            "0% [█] 100% | ETA: 00:00:00\n",
            "Total time elapsed: 00:00:00\n"
          ]
        },
        {
          "output_type": "stream",
          "name": "stdout",
          "text": [
            "Finished Epoch 85 || Run Time:    1.0 | Load Time:    0.3 || F1:  83.87 | Prec:  74.29 | Rec:  96.30 || Ex/s:  83.41\n",
            "\n",
            "---------------------\n",
            "\n",
            "===>  TRAIN Epoch 86\n"
          ]
        },
        {
          "output_type": "stream",
          "name": "stderr",
          "text": [
            "0% [████] 100% | ETA: 00:00:00\n",
            "Total time elapsed: 00:00:05\n"
          ]
        },
        {
          "output_type": "stream",
          "name": "stdout",
          "text": [
            "Finished Epoch 86 || Run Time:    5.4 | Load Time:    1.0 || F1: 100.00 | Prec: 100.00 | Rec: 100.00 || Ex/s:  49.49\n",
            "\n",
            "===>  EVAL Epoch 86\n"
          ]
        },
        {
          "output_type": "stream",
          "name": "stderr",
          "text": [
            "0% [█] 100% | ETA: 00:00:00\n",
            "Total time elapsed: 00:00:01\n"
          ]
        },
        {
          "output_type": "stream",
          "name": "stdout",
          "text": [
            "Finished Epoch 86 || Run Time:    1.2 | Load Time:    0.4 || F1:  83.87 | Prec:  74.29 | Rec:  96.30 || Ex/s:  70.76\n",
            "\n",
            "---------------------\n",
            "\n",
            "===>  TRAIN Epoch 87\n"
          ]
        },
        {
          "output_type": "stream",
          "name": "stderr",
          "text": [
            "0% [████] 100% | ETA: 00:00:00\n",
            "Total time elapsed: 00:00:05\n"
          ]
        },
        {
          "output_type": "stream",
          "name": "stdout",
          "text": [
            "Finished Epoch 87 || Run Time:    5.1 | Load Time:    1.0 || F1: 100.00 | Prec: 100.00 | Rec: 100.00 || Ex/s:  52.70\n",
            "\n",
            "===>  EVAL Epoch 87\n"
          ]
        },
        {
          "output_type": "stream",
          "name": "stderr",
          "text": [
            "0% [█] 100% | ETA: 00:00:00\n",
            "Total time elapsed: 00:00:00\n"
          ]
        },
        {
          "output_type": "stream",
          "name": "stdout",
          "text": [
            "Finished Epoch 87 || Run Time:    1.0 | Load Time:    0.3 || F1:  83.87 | Prec:  74.29 | Rec:  96.30 || Ex/s:  82.83\n",
            "\n",
            "---------------------\n",
            "\n",
            "===>  TRAIN Epoch 88\n"
          ]
        },
        {
          "output_type": "stream",
          "name": "stderr",
          "text": [
            "0% [████] 100% | ETA: 00:00:00\n",
            "Total time elapsed: 00:00:06\n"
          ]
        },
        {
          "output_type": "stream",
          "name": "stdout",
          "text": [
            "Finished Epoch 88 || Run Time:    6.0 | Load Time:    1.1 || F1: 100.00 | Prec: 100.00 | Rec: 100.00 || Ex/s:  45.14\n",
            "\n",
            "===>  EVAL Epoch 88\n"
          ]
        },
        {
          "output_type": "stream",
          "name": "stderr",
          "text": [
            "0% [█] 100% | ETA: 00:00:00\n",
            "Total time elapsed: 00:00:00\n"
          ]
        },
        {
          "output_type": "stream",
          "name": "stdout",
          "text": [
            "Finished Epoch 88 || Run Time:    1.0 | Load Time:    0.3 || F1:  83.87 | Prec:  74.29 | Rec:  96.30 || Ex/s:  83.46\n",
            "\n",
            "---------------------\n",
            "\n",
            "===>  TRAIN Epoch 89\n"
          ]
        },
        {
          "output_type": "stream",
          "name": "stderr",
          "text": [
            "0% [████] 100% | ETA: 00:00:00\n",
            "Total time elapsed: 00:00:05\n"
          ]
        },
        {
          "output_type": "stream",
          "name": "stdout",
          "text": [
            "Finished Epoch 89 || Run Time:    5.2 | Load Time:    1.0 || F1: 100.00 | Prec: 100.00 | Rec: 100.00 || Ex/s:  52.31\n",
            "\n",
            "===>  EVAL Epoch 89\n"
          ]
        },
        {
          "output_type": "stream",
          "name": "stderr",
          "text": [
            "0% [█] 100% | ETA: 00:00:00\n",
            "Total time elapsed: 00:00:01\n"
          ]
        },
        {
          "output_type": "stream",
          "name": "stdout",
          "text": [
            "Finished Epoch 89 || Run Time:    1.3 | Load Time:    0.4 || F1:  83.87 | Prec:  74.29 | Rec:  96.30 || Ex/s:  62.22\n",
            "\n",
            "---------------------\n",
            "\n",
            "===>  TRAIN Epoch 90\n"
          ]
        },
        {
          "output_type": "stream",
          "name": "stderr",
          "text": [
            "0% [████] 100% | ETA: 00:00:00\n",
            "Total time elapsed: 00:00:05\n"
          ]
        },
        {
          "output_type": "stream",
          "name": "stdout",
          "text": [
            "Finished Epoch 90 || Run Time:    5.2 | Load Time:    1.0 || F1: 100.00 | Prec: 100.00 | Rec: 100.00 || Ex/s:  51.93\n",
            "\n",
            "===>  EVAL Epoch 90\n"
          ]
        },
        {
          "output_type": "stream",
          "name": "stderr",
          "text": [
            "0% [█] 100% | ETA: 00:00:00\n",
            "Total time elapsed: 00:00:00\n"
          ]
        },
        {
          "output_type": "stream",
          "name": "stdout",
          "text": [
            "Finished Epoch 90 || Run Time:    1.0 | Load Time:    0.3 || F1:  83.87 | Prec:  74.29 | Rec:  96.30 || Ex/s:  81.53\n",
            "\n",
            "---------------------\n",
            "\n",
            "===>  TRAIN Epoch 91\n"
          ]
        },
        {
          "output_type": "stream",
          "name": "stderr",
          "text": [
            "0% [████] 100% | ETA: 00:00:00\n",
            "Total time elapsed: 00:00:06\n"
          ]
        },
        {
          "output_type": "stream",
          "name": "stdout",
          "text": [
            "Finished Epoch 91 || Run Time:    5.7 | Load Time:    1.0 || F1: 100.00 | Prec: 100.00 | Rec: 100.00 || Ex/s:  47.23\n",
            "\n",
            "===>  EVAL Epoch 91\n"
          ]
        },
        {
          "output_type": "stream",
          "name": "stderr",
          "text": [
            "0% [█] 100% | ETA: 00:00:00\n",
            "Total time elapsed: 00:00:00\n"
          ]
        },
        {
          "output_type": "stream",
          "name": "stdout",
          "text": [
            "Finished Epoch 91 || Run Time:    1.0 | Load Time:    0.3 || F1:  83.87 | Prec:  74.29 | Rec:  96.30 || Ex/s:  82.57\n",
            "\n",
            "---------------------\n",
            "\n",
            "===>  TRAIN Epoch 92\n"
          ]
        },
        {
          "output_type": "stream",
          "name": "stderr",
          "text": [
            "0% [████] 100% | ETA: 00:00:00\n",
            "Total time elapsed: 00:00:05\n"
          ]
        },
        {
          "output_type": "stream",
          "name": "stdout",
          "text": [
            "Finished Epoch 92 || Run Time:    5.1 | Load Time:    1.0 || F1: 100.00 | Prec: 100.00 | Rec: 100.00 || Ex/s:  52.49\n",
            "\n",
            "===>  EVAL Epoch 92\n"
          ]
        },
        {
          "output_type": "stream",
          "name": "stderr",
          "text": [
            "0% [█] 100% | ETA: 00:00:00\n",
            "Total time elapsed: 00:00:00\n"
          ]
        },
        {
          "output_type": "stream",
          "name": "stdout",
          "text": [
            "Finished Epoch 92 || Run Time:    1.1 | Load Time:    0.3 || F1:  83.87 | Prec:  74.29 | Rec:  96.30 || Ex/s:  75.86\n",
            "\n",
            "---------------------\n",
            "\n",
            "===>  TRAIN Epoch 93\n"
          ]
        },
        {
          "output_type": "stream",
          "name": "stderr",
          "text": [
            "0% [████] 100% | ETA: 00:00:00\n",
            "Total time elapsed: 00:00:06\n"
          ]
        },
        {
          "output_type": "stream",
          "name": "stdout",
          "text": [
            "Finished Epoch 93 || Run Time:    5.5 | Load Time:    1.0 || F1: 100.00 | Prec: 100.00 | Rec: 100.00 || Ex/s:  48.83\n",
            "\n",
            "===>  EVAL Epoch 93\n"
          ]
        },
        {
          "output_type": "stream",
          "name": "stderr",
          "text": [
            "0% [█] 100% | ETA: 00:00:00\n",
            "Total time elapsed: 00:00:00\n"
          ]
        },
        {
          "output_type": "stream",
          "name": "stdout",
          "text": [
            "Finished Epoch 93 || Run Time:    1.0 | Load Time:    0.3 || F1:  83.87 | Prec:  74.29 | Rec:  96.30 || Ex/s:  80.33\n",
            "\n",
            "---------------------\n",
            "\n",
            "===>  TRAIN Epoch 94\n"
          ]
        },
        {
          "output_type": "stream",
          "name": "stderr",
          "text": [
            "0% [████] 100% | ETA: 00:00:00\n",
            "Total time elapsed: 00:00:06\n"
          ]
        },
        {
          "output_type": "stream",
          "name": "stdout",
          "text": [
            "Finished Epoch 94 || Run Time:    5.8 | Load Time:    1.0 || F1: 100.00 | Prec: 100.00 | Rec: 100.00 || Ex/s:  46.78\n",
            "\n",
            "===>  EVAL Epoch 94\n"
          ]
        },
        {
          "output_type": "stream",
          "name": "stderr",
          "text": [
            "0% [█] 100% | ETA: 00:00:00\n",
            "Total time elapsed: 00:00:00\n"
          ]
        },
        {
          "output_type": "stream",
          "name": "stdout",
          "text": [
            "Finished Epoch 94 || Run Time:    1.0 | Load Time:    0.3 || F1:  83.87 | Prec:  74.29 | Rec:  96.30 || Ex/s:  81.39\n",
            "\n",
            "---------------------\n",
            "\n",
            "===>  TRAIN Epoch 95\n"
          ]
        },
        {
          "output_type": "stream",
          "name": "stderr",
          "text": [
            "0% [████] 100% | ETA: 00:00:00\n",
            "Total time elapsed: 00:00:05\n"
          ]
        },
        {
          "output_type": "stream",
          "name": "stdout",
          "text": [
            "Finished Epoch 95 || Run Time:    5.1 | Load Time:    1.0 || F1: 100.00 | Prec: 100.00 | Rec: 100.00 || Ex/s:  53.27\n",
            "\n",
            "===>  EVAL Epoch 95\n"
          ]
        },
        {
          "output_type": "stream",
          "name": "stderr",
          "text": [
            "0% [█] 100% | ETA: 00:00:00\n",
            "Total time elapsed: 00:00:00\n"
          ]
        },
        {
          "output_type": "stream",
          "name": "stdout",
          "text": [
            "Finished Epoch 95 || Run Time:    1.0 | Load Time:    0.3 || F1:  83.87 | Prec:  74.29 | Rec:  96.30 || Ex/s:  82.12\n",
            "\n",
            "---------------------\n",
            "\n",
            "===>  TRAIN Epoch 96\n"
          ]
        },
        {
          "output_type": "stream",
          "name": "stderr",
          "text": [
            "0% [████] 100% | ETA: 00:00:00\n",
            "Total time elapsed: 00:00:06\n"
          ]
        },
        {
          "output_type": "stream",
          "name": "stdout",
          "text": [
            "Finished Epoch 96 || Run Time:    5.6 | Load Time:    1.1 || F1: 100.00 | Prec: 100.00 | Rec: 100.00 || Ex/s:  47.79\n",
            "\n",
            "===>  EVAL Epoch 96\n"
          ]
        },
        {
          "output_type": "stream",
          "name": "stderr",
          "text": [
            "0% [█] 100% | ETA: 00:00:00\n",
            "Total time elapsed: 00:00:00\n"
          ]
        },
        {
          "output_type": "stream",
          "name": "stdout",
          "text": [
            "Finished Epoch 96 || Run Time:    1.0 | Load Time:    0.3 || F1:  83.87 | Prec:  74.29 | Rec:  96.30 || Ex/s:  82.50\n",
            "\n",
            "---------------------\n",
            "\n",
            "===>  TRAIN Epoch 97\n"
          ]
        },
        {
          "output_type": "stream",
          "name": "stderr",
          "text": [
            "0% [████] 100% | ETA: 00:00:00\n",
            "Total time elapsed: 00:00:05\n"
          ]
        },
        {
          "output_type": "stream",
          "name": "stdout",
          "text": [
            "Finished Epoch 97 || Run Time:    5.5 | Load Time:    1.0 || F1: 100.00 | Prec: 100.00 | Rec: 100.00 || Ex/s:  49.48\n",
            "\n",
            "===>  EVAL Epoch 97\n"
          ]
        },
        {
          "output_type": "stream",
          "name": "stderr",
          "text": [
            "0% [█] 100% | ETA: 00:00:00\n",
            "Total time elapsed: 00:00:01\n"
          ]
        },
        {
          "output_type": "stream",
          "name": "stdout",
          "text": [
            "Finished Epoch 97 || Run Time:    1.2 | Load Time:    0.4 || F1:  83.87 | Prec:  74.29 | Rec:  96.30 || Ex/s:  67.86\n",
            "\n",
            "---------------------\n",
            "\n",
            "===>  TRAIN Epoch 98\n"
          ]
        },
        {
          "output_type": "stream",
          "name": "stderr",
          "text": [
            "0% [████] 100% | ETA: 00:00:00\n",
            "Total time elapsed: 00:00:05\n"
          ]
        },
        {
          "output_type": "stream",
          "name": "stdout",
          "text": [
            "Finished Epoch 98 || Run Time:    5.1 | Load Time:    1.0 || F1: 100.00 | Prec: 100.00 | Rec: 100.00 || Ex/s:  52.86\n",
            "\n",
            "===>  EVAL Epoch 98\n"
          ]
        },
        {
          "output_type": "stream",
          "name": "stderr",
          "text": [
            "0% [█] 100% | ETA: 00:00:00\n",
            "Total time elapsed: 00:00:00\n"
          ]
        },
        {
          "output_type": "stream",
          "name": "stdout",
          "text": [
            "Finished Epoch 98 || Run Time:    1.0 | Load Time:    0.3 || F1:  83.87 | Prec:  74.29 | Rec:  96.30 || Ex/s:  81.93\n",
            "\n",
            "---------------------\n",
            "\n",
            "===>  TRAIN Epoch 99\n"
          ]
        },
        {
          "output_type": "stream",
          "name": "stderr",
          "text": [
            "0% [████] 100% | ETA: 00:00:00\n",
            "Total time elapsed: 00:00:06\n"
          ]
        },
        {
          "output_type": "stream",
          "name": "stdout",
          "text": [
            "Finished Epoch 99 || Run Time:    5.6 | Load Time:    1.1 || F1: 100.00 | Prec: 100.00 | Rec: 100.00 || Ex/s:  48.34\n",
            "\n",
            "===>  EVAL Epoch 99\n"
          ]
        },
        {
          "output_type": "stream",
          "name": "stderr",
          "text": [
            "0% [█] 100% | ETA: 00:00:00\n",
            "Total time elapsed: 00:00:00\n"
          ]
        },
        {
          "output_type": "stream",
          "name": "stdout",
          "text": [
            "Finished Epoch 99 || Run Time:    1.0 | Load Time:    0.3 || F1:  83.87 | Prec:  74.29 | Rec:  96.30 || Ex/s:  82.37\n",
            "\n",
            "---------------------\n",
            "\n",
            "===>  TRAIN Epoch 100\n"
          ]
        },
        {
          "output_type": "stream",
          "name": "stderr",
          "text": [
            "0% [████] 100% | ETA: 00:00:00\n",
            "Total time elapsed: 00:00:05\n"
          ]
        },
        {
          "output_type": "stream",
          "name": "stdout",
          "text": [
            "Finished Epoch 100 || Run Time:    5.2 | Load Time:    0.9 || F1: 100.00 | Prec: 100.00 | Rec: 100.00 || Ex/s:  51.81\n",
            "\n",
            "===>  EVAL Epoch 100\n"
          ]
        },
        {
          "output_type": "stream",
          "name": "stderr",
          "text": [
            "0% [█] 100% | ETA: 00:00:00\n",
            "Total time elapsed: 00:00:01\n"
          ]
        },
        {
          "output_type": "stream",
          "name": "stdout",
          "text": [
            "Finished Epoch 100 || Run Time:    1.2 | Load Time:    0.4 || F1:  83.87 | Prec:  74.29 | Rec:  96.30 || Ex/s:  66.87\n",
            "\n",
            "---------------------\n",
            "\n",
            "Loading best model...\n",
            "Training done.\n"
          ]
        },
        {
          "output_type": "execute_result",
          "data": {
            "text/plain": [
              "tensor(92.8571, device='cuda:0')"
            ]
          },
          "metadata": {},
          "execution_count": 52
        }
      ]
    },
    {
      "cell_type": "markdown",
      "source": [
        "## Observe predictions on labeled data (i.e. validation data)"
      ],
      "metadata": {
        "id": "-dTKmaOV65FP"
      }
    },
    {
      "cell_type": "code",
      "source": [
        "valid_predictions = hybrid_model.run_prediction(validation, output_attributes=True)\n",
        "valid_predictions.head()"
      ],
      "metadata": {
        "colab": {
          "base_uri": "https://localhost:8080/",
          "height": 647
        },
        "id": "cHNBlS8X64XN",
        "outputId": "e2a03198-5a1d-4f70-f98a-02968e814786"
      },
      "execution_count": null,
      "outputs": [
        {
          "output_type": "stream",
          "name": "stdout",
          "text": [
            "===>  PREDICT Epoch 5\n"
          ]
        },
        {
          "output_type": "stream",
          "name": "stderr",
          "text": [
            "/usr/local/lib/python3.10/dist-packages/torch/nn/modules/module.py:1334: UserWarning: Using non-full backward hooks on a Module that does not take as input a single Tensor or a tuple of Tensors is deprecated and will be removed in future versions. This hook will be missing some of the grad_input. Please use register_full_backward_hook to get the documented behavior.\n",
            "  warnings.warn(\"Using non-full backward hooks on a Module that does not take as input a \"\n",
            "/usr/local/lib/python3.10/dist-packages/torch/nn/modules/module.py:1359: UserWarning: Using a non-full backward hook when the forward contains multiple autograd Nodes is deprecated and will be removed in future versions. This hook will be missing some grad_input. Please use register_full_backward_hook to get the documented behavior.\n",
            "  warnings.warn(\"Using a non-full backward hook when the forward contains multiple autograd Nodes \"\n",
            "/usr/local/lib/python3.10/dist-packages/torch/nn/modules/module.py:1324: UserWarning: Using non-full backward hooks on a Module that does not return a single Tensor or a tuple of Tensors is deprecated and will be removed in future versions. This hook will be missing some of the grad_output. Please use register_full_backward_hook to get the documented behavior.\n",
            "  warnings.warn(\"Using non-full backward hooks on a Module that does not return a \"\n"
          ]
        },
        {
          "output_type": "stream",
          "name": "stdout",
          "text": [
            "Finished Epoch 5 || Run Time:    0.7 | Load Time:    0.3 || F1:  89.80 | Prec:  88.00 | Rec:  91.67 || Ex/s: 105.33\n",
            "\n"
          ]
        },
        {
          "output_type": "execute_result",
          "data": {
            "text/plain": [
              "     match_score  label                                     left_Song_Name  \\\n",
              "id                                                                           \n",
              "299     0.264045      0       Blame ( feat . John Newman ) [ BURNS Remix ]   \n",
              "48      0.979243      1                                         Afire Love   \n",
              "34      0.101687      0  Lifted ( feat . Emeli Sand ' © & Professor Gre...   \n",
              "215     0.980736      1                             Jack Daniels and Jesus   \n",
              "376     0.108701      0             Turn Around ( 5,4,3,2,1 ) [ AK Remix ]   \n",
              "\n",
              "    left_Artist_Name                                left_Album_Name  \\\n",
              "id                                                                    \n",
              "299    Calvin Harris  Blame ( Remixes ) [ feat . John Newman ] - EP   \n",
              "48        Ed Sheeran                                              x   \n",
              "34       Naughty Boy                Hotel Cabana ( Deluxe Version )   \n",
              "215       Chase Rice                               Ignite the Night   \n",
              "376         Flo Rida          Turn Around ( 5,4,3,2,1 ) [ Remixes ]   \n",
              "\n",
              "                                            left_Genre left_Price  \\\n",
              "id                                                                  \n",
              "299                                      Dance , Music     $ 1.29   \n",
              "48   Singer/Songwriter , Music , Pop , Rock , Conte...     $ 1.29   \n",
              "34   Pop , Music , Rock , R&B / Soul , Contemporary...     $ 1.29   \n",
              "215  Country , Music , Urban Cowboy , Contemporary ...     $ 1.29   \n",
              "376  Dance,Music,Hip-Hop / Rap , Dirty South , Rap ...     $ 1.29   \n",
              "\n",
              "                                        left_CopyRight left_Time  \\\n",
              "id                                                                 \n",
              "299           2014 Sony Music Entertainment UK Limited      4:17   \n",
              "48   2014 Asylum Records UK , a Warner Music UK Com...      5:14   \n",
              "34   2013 Naughty Boy Recordings Ltd under exclusiv...      4:15   \n",
              "215                          2014 Dack Janiels Records      3:55   \n",
              "376  2011 Atlantic Recording Corporation for the Un...      5:09   \n",
              "\n",
              "    left_Released                       right_Song_Name  \\\n",
              "id                                                        \n",
              "299     10-Nov-14           Pray to God ( R3hab Remix )   \n",
              "48      20-Jun-14                            Afire Love   \n",
              "34       6-May-14  Never Been The Same [ feat . Thabo ]   \n",
              "215     19-Aug-14                Jack Daniels and Jesus   \n",
              "376     19-Apr-11      Good Feeling ( Jaywalker Remix )   \n",
              "\n",
              "             right_Artist_Name  \\\n",
              "id                               \n",
              "299  Calvin Harris feat . HAIM   \n",
              "48                  Ed Sheeran   \n",
              "34                 Naughty Boy   \n",
              "215                 Chase Rice   \n",
              "376                   Flo Rida   \n",
              "\n",
              "                                    right_Album_Name         right_Genre  \\\n",
              "id                                                                         \n",
              "299                          Pray to God ( Remixes )  Dance & Electronic   \n",
              "48                                                 x                 Pop   \n",
              "34      Hotel Cabana ( Deluxe Version ) [ Explicit ]                 Pop   \n",
              "215  Ignite the Night ( Party Edition ) [ Explicit ]             Country   \n",
              "376                         Good Feeling ( Remixes )  Dance & Electronic   \n",
              "\n",
              "    right_Price                                    right_CopyRight right_Time  \\\n",
              "id                                                                              \n",
              "299      $ 1.29  ( C ) 2015 Third Pardee Records , LLC under ex...       4:31   \n",
              "48       $ 1.29                 ( C ) 2014 mau5trap Recordings Ltd       5:14   \n",
              "34       $ 1.29  ( C ) 2014 Naughty Boy Recordings Ltd under ex...       3:29   \n",
              "215      $ 0.89  ( C ) 2014 Dack Janiels Records , under exclus...       3:55   \n",
              "376      $ 1.29  ( C ) 2009 MPL Tours Inc. under exclusive lice...       4:51   \n",
              "\n",
              "          right_Released  \n",
              "id                        \n",
              "299  September 25 , 2015  \n",
              "48        June 20 , 2014  \n",
              "34          May 6 , 2014  \n",
              "215     August 19 , 2014  \n",
              "376   November 15 , 2011  "
            ],
            "text/html": [
              "\n",
              "  <div id=\"df-6c3f576e-801a-47d6-be78-b548ca9f744b\" class=\"colab-df-container\">\n",
              "    <div>\n",
              "<style scoped>\n",
              "    .dataframe tbody tr th:only-of-type {\n",
              "        vertical-align: middle;\n",
              "    }\n",
              "\n",
              "    .dataframe tbody tr th {\n",
              "        vertical-align: top;\n",
              "    }\n",
              "\n",
              "    .dataframe thead th {\n",
              "        text-align: right;\n",
              "    }\n",
              "</style>\n",
              "<table border=\"1\" class=\"dataframe\">\n",
              "  <thead>\n",
              "    <tr style=\"text-align: right;\">\n",
              "      <th></th>\n",
              "      <th>match_score</th>\n",
              "      <th>label</th>\n",
              "      <th>left_Song_Name</th>\n",
              "      <th>left_Artist_Name</th>\n",
              "      <th>left_Album_Name</th>\n",
              "      <th>left_Genre</th>\n",
              "      <th>left_Price</th>\n",
              "      <th>left_CopyRight</th>\n",
              "      <th>left_Time</th>\n",
              "      <th>left_Released</th>\n",
              "      <th>right_Song_Name</th>\n",
              "      <th>right_Artist_Name</th>\n",
              "      <th>right_Album_Name</th>\n",
              "      <th>right_Genre</th>\n",
              "      <th>right_Price</th>\n",
              "      <th>right_CopyRight</th>\n",
              "      <th>right_Time</th>\n",
              "      <th>right_Released</th>\n",
              "    </tr>\n",
              "    <tr>\n",
              "      <th>id</th>\n",
              "      <th></th>\n",
              "      <th></th>\n",
              "      <th></th>\n",
              "      <th></th>\n",
              "      <th></th>\n",
              "      <th></th>\n",
              "      <th></th>\n",
              "      <th></th>\n",
              "      <th></th>\n",
              "      <th></th>\n",
              "      <th></th>\n",
              "      <th></th>\n",
              "      <th></th>\n",
              "      <th></th>\n",
              "      <th></th>\n",
              "      <th></th>\n",
              "      <th></th>\n",
              "      <th></th>\n",
              "    </tr>\n",
              "  </thead>\n",
              "  <tbody>\n",
              "    <tr>\n",
              "      <th>299</th>\n",
              "      <td>0.264045</td>\n",
              "      <td>0</td>\n",
              "      <td>Blame ( feat . John Newman ) [ BURNS Remix ]</td>\n",
              "      <td>Calvin Harris</td>\n",
              "      <td>Blame ( Remixes ) [ feat . John Newman ] - EP</td>\n",
              "      <td>Dance , Music</td>\n",
              "      <td>$ 1.29</td>\n",
              "      <td>2014 Sony Music Entertainment UK Limited</td>\n",
              "      <td>4:17</td>\n",
              "      <td>10-Nov-14</td>\n",
              "      <td>Pray to God ( R3hab Remix )</td>\n",
              "      <td>Calvin Harris feat . HAIM</td>\n",
              "      <td>Pray to God ( Remixes )</td>\n",
              "      <td>Dance &amp; Electronic</td>\n",
              "      <td>$ 1.29</td>\n",
              "      <td>( C ) 2015 Third Pardee Records , LLC under ex...</td>\n",
              "      <td>4:31</td>\n",
              "      <td>September 25 , 2015</td>\n",
              "    </tr>\n",
              "    <tr>\n",
              "      <th>48</th>\n",
              "      <td>0.979243</td>\n",
              "      <td>1</td>\n",
              "      <td>Afire Love</td>\n",
              "      <td>Ed Sheeran</td>\n",
              "      <td>x</td>\n",
              "      <td>Singer/Songwriter , Music , Pop , Rock , Conte...</td>\n",
              "      <td>$ 1.29</td>\n",
              "      <td>2014 Asylum Records UK , a Warner Music UK Com...</td>\n",
              "      <td>5:14</td>\n",
              "      <td>20-Jun-14</td>\n",
              "      <td>Afire Love</td>\n",
              "      <td>Ed Sheeran</td>\n",
              "      <td>x</td>\n",
              "      <td>Pop</td>\n",
              "      <td>$ 1.29</td>\n",
              "      <td>( C ) 2014 mau5trap Recordings Ltd</td>\n",
              "      <td>5:14</td>\n",
              "      <td>June 20 , 2014</td>\n",
              "    </tr>\n",
              "    <tr>\n",
              "      <th>34</th>\n",
              "      <td>0.101687</td>\n",
              "      <td>0</td>\n",
              "      <td>Lifted ( feat . Emeli Sand ' © &amp; Professor Gre...</td>\n",
              "      <td>Naughty Boy</td>\n",
              "      <td>Hotel Cabana ( Deluxe Version )</td>\n",
              "      <td>Pop , Music , Rock , R&amp;B / Soul , Contemporary...</td>\n",
              "      <td>$ 1.29</td>\n",
              "      <td>2013 Naughty Boy Recordings Ltd under exclusiv...</td>\n",
              "      <td>4:15</td>\n",
              "      <td>6-May-14</td>\n",
              "      <td>Never Been The Same [ feat . Thabo ]</td>\n",
              "      <td>Naughty Boy</td>\n",
              "      <td>Hotel Cabana ( Deluxe Version ) [ Explicit ]</td>\n",
              "      <td>Pop</td>\n",
              "      <td>$ 1.29</td>\n",
              "      <td>( C ) 2014 Naughty Boy Recordings Ltd under ex...</td>\n",
              "      <td>3:29</td>\n",
              "      <td>May 6 , 2014</td>\n",
              "    </tr>\n",
              "    <tr>\n",
              "      <th>215</th>\n",
              "      <td>0.980736</td>\n",
              "      <td>1</td>\n",
              "      <td>Jack Daniels and Jesus</td>\n",
              "      <td>Chase Rice</td>\n",
              "      <td>Ignite the Night</td>\n",
              "      <td>Country , Music , Urban Cowboy , Contemporary ...</td>\n",
              "      <td>$ 1.29</td>\n",
              "      <td>2014 Dack Janiels Records</td>\n",
              "      <td>3:55</td>\n",
              "      <td>19-Aug-14</td>\n",
              "      <td>Jack Daniels and Jesus</td>\n",
              "      <td>Chase Rice</td>\n",
              "      <td>Ignite the Night ( Party Edition ) [ Explicit ]</td>\n",
              "      <td>Country</td>\n",
              "      <td>$ 0.89</td>\n",
              "      <td>( C ) 2014 Dack Janiels Records , under exclus...</td>\n",
              "      <td>3:55</td>\n",
              "      <td>August 19 , 2014</td>\n",
              "    </tr>\n",
              "    <tr>\n",
              "      <th>376</th>\n",
              "      <td>0.108701</td>\n",
              "      <td>0</td>\n",
              "      <td>Turn Around ( 5,4,3,2,1 ) [ AK Remix ]</td>\n",
              "      <td>Flo Rida</td>\n",
              "      <td>Turn Around ( 5,4,3,2,1 ) [ Remixes ]</td>\n",
              "      <td>Dance,Music,Hip-Hop / Rap , Dirty South , Rap ...</td>\n",
              "      <td>$ 1.29</td>\n",
              "      <td>2011 Atlantic Recording Corporation for the Un...</td>\n",
              "      <td>5:09</td>\n",
              "      <td>19-Apr-11</td>\n",
              "      <td>Good Feeling ( Jaywalker Remix )</td>\n",
              "      <td>Flo Rida</td>\n",
              "      <td>Good Feeling ( Remixes )</td>\n",
              "      <td>Dance &amp; Electronic</td>\n",
              "      <td>$ 1.29</td>\n",
              "      <td>( C ) 2009 MPL Tours Inc. under exclusive lice...</td>\n",
              "      <td>4:51</td>\n",
              "      <td>November 15 , 2011</td>\n",
              "    </tr>\n",
              "  </tbody>\n",
              "</table>\n",
              "</div>\n",
              "    <div class=\"colab-df-buttons\">\n",
              "\n",
              "  <div class=\"colab-df-container\">\n",
              "    <button class=\"colab-df-convert\" onclick=\"convertToInteractive('df-6c3f576e-801a-47d6-be78-b548ca9f744b')\"\n",
              "            title=\"Convert this dataframe to an interactive table.\"\n",
              "            style=\"display:none;\">\n",
              "\n",
              "  <svg xmlns=\"http://www.w3.org/2000/svg\" height=\"24px\" viewBox=\"0 -960 960 960\">\n",
              "    <path d=\"M120-120v-720h720v720H120Zm60-500h600v-160H180v160Zm220 220h160v-160H400v160Zm0 220h160v-160H400v160ZM180-400h160v-160H180v160Zm440 0h160v-160H620v160ZM180-180h160v-160H180v160Zm440 0h160v-160H620v160Z\"/>\n",
              "  </svg>\n",
              "    </button>\n",
              "\n",
              "  <style>\n",
              "    .colab-df-container {\n",
              "      display:flex;\n",
              "      gap: 12px;\n",
              "    }\n",
              "\n",
              "    .colab-df-convert {\n",
              "      background-color: #E8F0FE;\n",
              "      border: none;\n",
              "      border-radius: 50%;\n",
              "      cursor: pointer;\n",
              "      display: none;\n",
              "      fill: #1967D2;\n",
              "      height: 32px;\n",
              "      padding: 0 0 0 0;\n",
              "      width: 32px;\n",
              "    }\n",
              "\n",
              "    .colab-df-convert:hover {\n",
              "      background-color: #E2EBFA;\n",
              "      box-shadow: 0px 1px 2px rgba(60, 64, 67, 0.3), 0px 1px 3px 1px rgba(60, 64, 67, 0.15);\n",
              "      fill: #174EA6;\n",
              "    }\n",
              "\n",
              "    .colab-df-buttons div {\n",
              "      margin-bottom: 4px;\n",
              "    }\n",
              "\n",
              "    [theme=dark] .colab-df-convert {\n",
              "      background-color: #3B4455;\n",
              "      fill: #D2E3FC;\n",
              "    }\n",
              "\n",
              "    [theme=dark] .colab-df-convert:hover {\n",
              "      background-color: #434B5C;\n",
              "      box-shadow: 0px 1px 3px 1px rgba(0, 0, 0, 0.15);\n",
              "      filter: drop-shadow(0px 1px 2px rgba(0, 0, 0, 0.3));\n",
              "      fill: #FFFFFF;\n",
              "    }\n",
              "  </style>\n",
              "\n",
              "    <script>\n",
              "      const buttonEl =\n",
              "        document.querySelector('#df-6c3f576e-801a-47d6-be78-b548ca9f744b button.colab-df-convert');\n",
              "      buttonEl.style.display =\n",
              "        google.colab.kernel.accessAllowed ? 'block' : 'none';\n",
              "\n",
              "      async function convertToInteractive(key) {\n",
              "        const element = document.querySelector('#df-6c3f576e-801a-47d6-be78-b548ca9f744b');\n",
              "        const dataTable =\n",
              "          await google.colab.kernel.invokeFunction('convertToInteractive',\n",
              "                                                    [key], {});\n",
              "        if (!dataTable) return;\n",
              "\n",
              "        const docLinkHtml = 'Like what you see? Visit the ' +\n",
              "          '<a target=\"_blank\" href=https://colab.research.google.com/notebooks/data_table.ipynb>data table notebook</a>'\n",
              "          + ' to learn more about interactive tables.';\n",
              "        element.innerHTML = '';\n",
              "        dataTable['output_type'] = 'display_data';\n",
              "        await google.colab.output.renderOutput(dataTable, element);\n",
              "        const docLink = document.createElement('div');\n",
              "        docLink.innerHTML = docLinkHtml;\n",
              "        element.appendChild(docLink);\n",
              "      }\n",
              "    </script>\n",
              "  </div>\n",
              "\n",
              "\n",
              "<div id=\"df-22ffec41-d744-483b-a837-e3db55318fc4\">\n",
              "  <button class=\"colab-df-quickchart\" onclick=\"quickchart('df-22ffec41-d744-483b-a837-e3db55318fc4')\"\n",
              "            title=\"Suggest charts\"\n",
              "            style=\"display:none;\">\n",
              "\n",
              "<svg xmlns=\"http://www.w3.org/2000/svg\" height=\"24px\"viewBox=\"0 0 24 24\"\n",
              "     width=\"24px\">\n",
              "    <g>\n",
              "        <path d=\"M19 3H5c-1.1 0-2 .9-2 2v14c0 1.1.9 2 2 2h14c1.1 0 2-.9 2-2V5c0-1.1-.9-2-2-2zM9 17H7v-7h2v7zm4 0h-2V7h2v10zm4 0h-2v-4h2v4z\"/>\n",
              "    </g>\n",
              "</svg>\n",
              "  </button>\n",
              "\n",
              "<style>\n",
              "  .colab-df-quickchart {\n",
              "      --bg-color: #E8F0FE;\n",
              "      --fill-color: #1967D2;\n",
              "      --hover-bg-color: #E2EBFA;\n",
              "      --hover-fill-color: #174EA6;\n",
              "      --disabled-fill-color: #AAA;\n",
              "      --disabled-bg-color: #DDD;\n",
              "  }\n",
              "\n",
              "  [theme=dark] .colab-df-quickchart {\n",
              "      --bg-color: #3B4455;\n",
              "      --fill-color: #D2E3FC;\n",
              "      --hover-bg-color: #434B5C;\n",
              "      --hover-fill-color: #FFFFFF;\n",
              "      --disabled-bg-color: #3B4455;\n",
              "      --disabled-fill-color: #666;\n",
              "  }\n",
              "\n",
              "  .colab-df-quickchart {\n",
              "    background-color: var(--bg-color);\n",
              "    border: none;\n",
              "    border-radius: 50%;\n",
              "    cursor: pointer;\n",
              "    display: none;\n",
              "    fill: var(--fill-color);\n",
              "    height: 32px;\n",
              "    padding: 0;\n",
              "    width: 32px;\n",
              "  }\n",
              "\n",
              "  .colab-df-quickchart:hover {\n",
              "    background-color: var(--hover-bg-color);\n",
              "    box-shadow: 0 1px 2px rgba(60, 64, 67, 0.3), 0 1px 3px 1px rgba(60, 64, 67, 0.15);\n",
              "    fill: var(--button-hover-fill-color);\n",
              "  }\n",
              "\n",
              "  .colab-df-quickchart-complete:disabled,\n",
              "  .colab-df-quickchart-complete:disabled:hover {\n",
              "    background-color: var(--disabled-bg-color);\n",
              "    fill: var(--disabled-fill-color);\n",
              "    box-shadow: none;\n",
              "  }\n",
              "\n",
              "  .colab-df-spinner {\n",
              "    border: 2px solid var(--fill-color);\n",
              "    border-color: transparent;\n",
              "    border-bottom-color: var(--fill-color);\n",
              "    animation:\n",
              "      spin 1s steps(1) infinite;\n",
              "  }\n",
              "\n",
              "  @keyframes spin {\n",
              "    0% {\n",
              "      border-color: transparent;\n",
              "      border-bottom-color: var(--fill-color);\n",
              "      border-left-color: var(--fill-color);\n",
              "    }\n",
              "    20% {\n",
              "      border-color: transparent;\n",
              "      border-left-color: var(--fill-color);\n",
              "      border-top-color: var(--fill-color);\n",
              "    }\n",
              "    30% {\n",
              "      border-color: transparent;\n",
              "      border-left-color: var(--fill-color);\n",
              "      border-top-color: var(--fill-color);\n",
              "      border-right-color: var(--fill-color);\n",
              "    }\n",
              "    40% {\n",
              "      border-color: transparent;\n",
              "      border-right-color: var(--fill-color);\n",
              "      border-top-color: var(--fill-color);\n",
              "    }\n",
              "    60% {\n",
              "      border-color: transparent;\n",
              "      border-right-color: var(--fill-color);\n",
              "    }\n",
              "    80% {\n",
              "      border-color: transparent;\n",
              "      border-right-color: var(--fill-color);\n",
              "      border-bottom-color: var(--fill-color);\n",
              "    }\n",
              "    90% {\n",
              "      border-color: transparent;\n",
              "      border-bottom-color: var(--fill-color);\n",
              "    }\n",
              "  }\n",
              "</style>\n",
              "\n",
              "  <script>\n",
              "    async function quickchart(key) {\n",
              "      const quickchartButtonEl =\n",
              "        document.querySelector('#' + key + ' button');\n",
              "      quickchartButtonEl.disabled = true;  // To prevent multiple clicks.\n",
              "      quickchartButtonEl.classList.add('colab-df-spinner');\n",
              "      try {\n",
              "        const charts = await google.colab.kernel.invokeFunction(\n",
              "            'suggestCharts', [key], {});\n",
              "      } catch (error) {\n",
              "        console.error('Error during call to suggestCharts:', error);\n",
              "      }\n",
              "      quickchartButtonEl.classList.remove('colab-df-spinner');\n",
              "      quickchartButtonEl.classList.add('colab-df-quickchart-complete');\n",
              "    }\n",
              "    (() => {\n",
              "      let quickchartButtonEl =\n",
              "        document.querySelector('#df-22ffec41-d744-483b-a837-e3db55318fc4 button');\n",
              "      quickchartButtonEl.style.display =\n",
              "        google.colab.kernel.accessAllowed ? 'block' : 'none';\n",
              "    })();\n",
              "  </script>\n",
              "</div>\n",
              "    </div>\n",
              "  </div>\n"
            ]
          },
          "metadata": {},
          "execution_count": 46
        }
      ]
    },
    {
      "cell_type": "markdown",
      "source": [
        "# 4. Apply model to new data"
      ],
      "metadata": {
        "id": "nvRVDxNW4K2V"
      }
    },
    {
      "cell_type": "code",
      "source": [
        "sif_model.run_eval(test)"
      ],
      "metadata": {
        "colab": {
          "base_uri": "https://localhost:8080/"
        },
        "id": "fxmpWMxJ4VOI",
        "outputId": "fe528c4a-2b13-420f-97e5-4f53ba7ebffd"
      },
      "execution_count": null,
      "outputs": [
        {
          "output_type": "stream",
          "name": "stdout",
          "text": [
            "===>  EVAL Epoch 3\n",
            "Finished Epoch 3 || Run Time:    0.1 | Load Time:    0.4 || F1:  91.53 | Prec:  84.38 | Rec: 100.00 || Ex/s: 214.63\n",
            "\n"
          ]
        },
        {
          "output_type": "execute_result",
          "data": {
            "text/plain": [
              "tensor(91.5254, device='cuda:0')"
            ]
          },
          "metadata": {},
          "execution_count": 28
        }
      ]
    },
    {
      "cell_type": "code",
      "source": [
        "rnn_model.run_eval(test)"
      ],
      "metadata": {
        "colab": {
          "base_uri": "https://localhost:8080/"
        },
        "id": "AwN0poqc_V86",
        "outputId": "7f4cac69-55b6-457d-8259-1bac3ecdbc60"
      },
      "execution_count": null,
      "outputs": [
        {
          "output_type": "stream",
          "name": "stdout",
          "text": [
            "===>  EVAL Epoch 1\n",
            "Finished Epoch 1 || Run Time:    0.2 | Load Time:    0.4 || F1:  88.89 | Prec:  88.89 | Rec:  88.89 || Ex/s: 207.96\n",
            "\n"
          ]
        },
        {
          "output_type": "execute_result",
          "data": {
            "text/plain": [
              "tensor(88.8889, device='cuda:0')"
            ]
          },
          "metadata": {},
          "execution_count": 47
        }
      ]
    },
    {
      "cell_type": "code",
      "source": [
        "attention_model.run_eval(test)"
      ],
      "metadata": {
        "colab": {
          "base_uri": "https://localhost:8080/"
        },
        "id": "k1VqTDys6FbX",
        "outputId": "25fdab00-7b2d-4098-f3fa-584e9fd45ce6"
      },
      "execution_count": null,
      "outputs": [
        {
          "output_type": "stream",
          "name": "stdout",
          "text": [
            "===>  EVAL Epoch 6\n",
            "Finished Epoch 6 || Run Time:    0.4 | Load Time:    0.3 || F1:  88.00 | Prec:  95.65 | Rec:  81.48 || Ex/s: 146.40\n",
            "\n"
          ]
        },
        {
          "output_type": "execute_result",
          "data": {
            "text/plain": [
              "tensor(88., device='cuda:0')"
            ]
          },
          "metadata": {},
          "execution_count": 50
        }
      ]
    },
    {
      "cell_type": "code",
      "source": [
        "hybrid_model.run_eval(test)"
      ],
      "metadata": {
        "colab": {
          "base_uri": "https://localhost:8080/"
        },
        "id": "0wrczJfp6Zsn",
        "outputId": "752ab50f-5983-4577-f104-592d3663ee43"
      },
      "execution_count": null,
      "outputs": [
        {
          "output_type": "stream",
          "name": "stdout",
          "text": [
            "===>  EVAL Epoch 5\n",
            "Finished Epoch 5 || Run Time:    0.6 | Load Time:    0.3 || F1:  90.57 | Prec:  92.31 | Rec:  88.89 || Ex/s: 114.93\n",
            "\n"
          ]
        },
        {
          "output_type": "execute_result",
          "data": {
            "text/plain": [
              "tensor(90.5660, device='cuda:0')"
            ]
          },
          "metadata": {},
          "execution_count": 54
        }
      ]
    }
  ]
}